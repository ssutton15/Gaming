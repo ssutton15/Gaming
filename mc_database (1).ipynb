{
 "cells": [
  {
   "cell_type": "markdown",
   "id": "7af67e75-c9ca-4472-8389-0e4dba9786f6",
   "metadata": {},
   "source": [
    "# Marvel Champions Card DF"
   ]
  },
  {
   "cell_type": "markdown",
   "id": "779bfd29-c3fe-4593-88fe-ed6b96d1a9dc",
   "metadata": {},
   "source": [
    "#### under 'pack', download the hero.json files you want and drag them into the directory in jupyter\n",
    "[link to github with the JSON files](https://github.com/zzorba/marvelsdb-json-data/tree/master/pack)"
   ]
  },
  {
   "cell_type": "code",
   "execution_count": 121,
   "id": "5268f1d1-3932-4159-a17a-4f8bcf7b2d17",
   "metadata": {},
   "outputs": [],
   "source": [
    "import numpy as np\n",
    "import pandas as pd\n",
    "import json\n",
    "import os"
   ]
  },
  {
   "cell_type": "code",
   "execution_count": 123,
   "id": "30940232-1d9a-4dc2-a1fb-cab81fd1d48b",
   "metadata": {},
   "outputs": [
    {
     "data": {
      "text/plain": [
       "'/Users/sheldonsutton/Marvel Champions'"
      ]
     },
     "execution_count": 123,
     "metadata": {},
     "output_type": "execute_result"
    }
   ],
   "source": [
    "#get current directory\n",
    "os.getcwd()"
   ]
  },
  {
   "cell_type": "markdown",
   "id": "7f5333b8-3ec0-4edd-996e-946313f9b82a",
   "metadata": {
    "tags": []
   },
   "source": [
    "# Single JSON Example"
   ]
  },
  {
   "cell_type": "code",
   "execution_count": 231,
   "id": "eb2bf2ef-45f4-4a19-8202-8de867019068",
   "metadata": {},
   "outputs": [],
   "source": [
    "with open('Marvel Champions/cap.json') as file:\n",
    "    data = json.load(file)"
   ]
  },
  {
   "cell_type": "code",
   "execution_count": 232,
   "id": "fc75c73b-bd0d-4feb-bbd2-183580c4f052",
   "metadata": {},
   "outputs": [],
   "source": [
    "df = pd.DataFrame(data)"
   ]
  },
  {
   "cell_type": "code",
   "execution_count": 233,
   "id": "d138696b-3068-46c6-aef4-fe8cdbc7a158",
   "metadata": {},
   "outputs": [
    {
     "data": {
      "text/plain": [
       "0    Captain America\n",
       "Name: name, dtype: object"
      ]
     },
     "execution_count": 233,
     "metadata": {},
     "output_type": "execute_result"
    }
   ],
   "source": [
    "#query to find out the set\n",
    "df.query(\"type_code == 'hero'\")['name']"
   ]
  },
  {
   "cell_type": "code",
   "execution_count": 234,
   "id": "3d774925-0d17-42bd-bce6-cc3b7b3aae2b",
   "metadata": {},
   "outputs": [
    {
     "data": {
      "text/plain": [
       "Index(['attack', 'back_link', 'code', 'deck_limit', 'defense', 'faction_code',\n",
       "       'flavor', 'hand_size', 'health', 'is_unique', 'meta', 'name',\n",
       "       'octgn_id', 'pack_code', 'position', 'quantity', 'set_code', 'text',\n",
       "       'thwart', 'traits', 'type_code', 'hidden', 'recover', 'attack_cost',\n",
       "       'cost', 'resource_mental', 'set_position', 'subname', 'thwart_cost',\n",
       "       'resource_physical', 'resource_energy', 'resource_wild',\n",
       "       'duplicate_of'],\n",
       "      dtype='object')"
      ]
     },
     "execution_count": 234,
     "metadata": {},
     "output_type": "execute_result"
    }
   ],
   "source": [
    "df.columns"
   ]
  },
  {
   "cell_type": "markdown",
   "id": "2d3bac66-c50b-4f39-93ce-28e4c2b2ef8d",
   "metadata": {
    "tags": []
   },
   "source": [
    "## Combine the 4 resources into 1 column"
   ]
  },
  {
   "cell_type": "code",
   "execution_count": 235,
   "id": "3dc3614d-aab2-47da-85ca-d2f329e8eee1",
   "metadata": {},
   "outputs": [],
   "source": [
    "# Columns to combine\n",
    "columns_to_combine = ['resource_mental', 'resource_physical',\n",
    "       'resource_energy', 'resource_wild']\n",
    "\n",
    "# Combine values into a new column\n",
    "df['resource_combined'] = df[columns_to_combine].sum(axis=1)"
   ]
  },
  {
   "cell_type": "code",
   "execution_count": 236,
   "id": "992e9d6d-8cf9-4f51-91ca-627be78a8fc1",
   "metadata": {},
   "outputs": [],
   "source": [
    "#things to change\n",
    "\n",
    "#remove columns\n",
    "col_remove = ['back_link', 'code','is_unique','meta', 'octgn_id', 'pack_code', \n",
    "              'position', 'quantity','hidden','set_position', 'duplicate_of',\n",
    "              'subname','thwart_cost','attack_cost','resource_mental', 'resource_physical',\n",
    "              'resource_energy', 'resource_wild'\n",
    "             ]\n",
    "#reorder\n",
    "desired_order = ['name','type_code','cost','resource_combined','set_code','text','faction_code',\n",
    "                 'traits','health','attack','thwart','defense','recover','deck_limit','hand_size','flavor']"
   ]
  },
  {
   "cell_type": "code",
   "execution_count": 237,
   "id": "27594b51-885c-4c5e-8f6c-0051f0a2561e",
   "metadata": {
    "collapsed": true,
    "jupyter": {
     "outputs_hidden": true
    },
    "tags": []
   },
   "outputs": [
    {
     "data": {
      "text/html": [
       "<div>\n",
       "<style scoped>\n",
       "    .dataframe tbody tr th:only-of-type {\n",
       "        vertical-align: middle;\n",
       "    }\n",
       "\n",
       "    .dataframe tbody tr th {\n",
       "        vertical-align: top;\n",
       "    }\n",
       "\n",
       "    .dataframe thead th {\n",
       "        text-align: right;\n",
       "    }\n",
       "</style>\n",
       "<table border=\"1\" class=\"dataframe\">\n",
       "  <thead>\n",
       "    <tr style=\"text-align: right;\">\n",
       "      <th></th>\n",
       "      <th>name</th>\n",
       "      <th>type_code</th>\n",
       "      <th>cost</th>\n",
       "      <th>resource_combined</th>\n",
       "      <th>set_code</th>\n",
       "      <th>text</th>\n",
       "      <th>faction_code</th>\n",
       "      <th>traits</th>\n",
       "      <th>health</th>\n",
       "      <th>attack</th>\n",
       "      <th>thwart</th>\n",
       "      <th>defense</th>\n",
       "      <th>recover</th>\n",
       "      <th>deck_limit</th>\n",
       "      <th>hand_size</th>\n",
       "      <th>flavor</th>\n",
       "    </tr>\n",
       "  </thead>\n",
       "  <tbody>\n",
       "    <tr>\n",
       "      <th>0</th>\n",
       "      <td>Captain America</td>\n",
       "      <td>hero</td>\n",
       "      <td>NaN</td>\n",
       "      <td>0.0</td>\n",
       "      <td>captain_america</td>\n",
       "      <td>\"I Can Do This All Day!\" — &lt;b&gt;Action&lt;/b&gt;: Disc...</td>\n",
       "      <td>hero</td>\n",
       "      <td>Avenger. Soldier.</td>\n",
       "      <td>11.0</td>\n",
       "      <td>2.0</td>\n",
       "      <td>2.0</td>\n",
       "      <td>2.0</td>\n",
       "      <td>NaN</td>\n",
       "      <td>1.0</td>\n",
       "      <td>5.0</td>\n",
       "      <td>\"My duty to my country comes first, no matter ...</td>\n",
       "    </tr>\n",
       "    <tr>\n",
       "      <th>1</th>\n",
       "      <td>Steve Rogers</td>\n",
       "      <td>alter_ego</td>\n",
       "      <td>NaN</td>\n",
       "      <td>0.0</td>\n",
       "      <td>captain_america</td>\n",
       "      <td>Living Legend — Reduce the cost of the first a...</td>\n",
       "      <td>hero</td>\n",
       "      <td>S.H.I.E.L.D. Soldier.</td>\n",
       "      <td>11.0</td>\n",
       "      <td>NaN</td>\n",
       "      <td>NaN</td>\n",
       "      <td>NaN</td>\n",
       "      <td>3.0</td>\n",
       "      <td>1.0</td>\n",
       "      <td>6.0</td>\n",
       "      <td>NaN</td>\n",
       "    </tr>\n",
       "    <tr>\n",
       "      <th>2</th>\n",
       "      <td>Agent 13</td>\n",
       "      <td>ally</td>\n",
       "      <td>3.0</td>\n",
       "      <td>1.0</td>\n",
       "      <td>captain_america</td>\n",
       "      <td>&lt;b&gt;Response&lt;/b&gt;: After Agent 13 enters play, r...</td>\n",
       "      <td>hero</td>\n",
       "      <td>S.H.I.E.L.D.</td>\n",
       "      <td>3.0</td>\n",
       "      <td>1.0</td>\n",
       "      <td>2.0</td>\n",
       "      <td>NaN</td>\n",
       "      <td>NaN</td>\n",
       "      <td>1.0</td>\n",
       "      <td>NaN</td>\n",
       "      <td>\"Cap, you said we'd fight as a team! I want to...</td>\n",
       "    </tr>\n",
       "    <tr>\n",
       "      <th>3</th>\n",
       "      <td>Fearless Determination</td>\n",
       "      <td>event</td>\n",
       "      <td>0.0</td>\n",
       "      <td>1.0</td>\n",
       "      <td>captain_america</td>\n",
       "      <td>&lt;b&gt;Hero Action&lt;/b&gt;: Captain America gets +1 TH...</td>\n",
       "      <td>hero</td>\n",
       "      <td>Superpower.</td>\n",
       "      <td>NaN</td>\n",
       "      <td>NaN</td>\n",
       "      <td>NaN</td>\n",
       "      <td>NaN</td>\n",
       "      <td>NaN</td>\n",
       "      <td>2.0</td>\n",
       "      <td>NaN</td>\n",
       "      <td>\"No one dies on my watch.\" — Captain America</td>\n",
       "    </tr>\n",
       "    <tr>\n",
       "      <th>4</th>\n",
       "      <td>Heroic Strike</td>\n",
       "      <td>event</td>\n",
       "      <td>3.0</td>\n",
       "      <td>1.0</td>\n",
       "      <td>captain_america</td>\n",
       "      <td>&lt;b&gt;Hero Action&lt;/b&gt; &lt;i&gt;(attack)&lt;/i&gt;: Deal 6 dam...</td>\n",
       "      <td>hero</td>\n",
       "      <td>Attack.</td>\n",
       "      <td>NaN</td>\n",
       "      <td>NaN</td>\n",
       "      <td>NaN</td>\n",
       "      <td>NaN</td>\n",
       "      <td>NaN</td>\n",
       "      <td>3.0</td>\n",
       "      <td>NaN</td>\n",
       "      <td>\"No, you move.\" — Captain America</td>\n",
       "    </tr>\n",
       "  </tbody>\n",
       "</table>\n",
       "</div>"
      ],
      "text/plain": [
       "                     name  type_code  cost  resource_combined  \\\n",
       "0         Captain America       hero   NaN                0.0   \n",
       "1            Steve Rogers  alter_ego   NaN                0.0   \n",
       "2                Agent 13       ally   3.0                1.0   \n",
       "3  Fearless Determination      event   0.0                1.0   \n",
       "4           Heroic Strike      event   3.0                1.0   \n",
       "\n",
       "          set_code                                               text  \\\n",
       "0  captain_america  \"I Can Do This All Day!\" — <b>Action</b>: Disc...   \n",
       "1  captain_america  Living Legend — Reduce the cost of the first a...   \n",
       "2  captain_america  <b>Response</b>: After Agent 13 enters play, r...   \n",
       "3  captain_america  <b>Hero Action</b>: Captain America gets +1 TH...   \n",
       "4  captain_america  <b>Hero Action</b> <i>(attack)</i>: Deal 6 dam...   \n",
       "\n",
       "  faction_code                 traits  health  attack  thwart  defense  \\\n",
       "0         hero      Avenger. Soldier.    11.0     2.0     2.0      2.0   \n",
       "1         hero  S.H.I.E.L.D. Soldier.    11.0     NaN     NaN      NaN   \n",
       "2         hero           S.H.I.E.L.D.     3.0     1.0     2.0      NaN   \n",
       "3         hero            Superpower.     NaN     NaN     NaN      NaN   \n",
       "4         hero                Attack.     NaN     NaN     NaN      NaN   \n",
       "\n",
       "   recover  deck_limit  hand_size  \\\n",
       "0      NaN         1.0        5.0   \n",
       "1      3.0         1.0        6.0   \n",
       "2      NaN         1.0        NaN   \n",
       "3      NaN         2.0        NaN   \n",
       "4      NaN         3.0        NaN   \n",
       "\n",
       "                                              flavor  \n",
       "0  \"My duty to my country comes first, no matter ...  \n",
       "1                                                NaN  \n",
       "2  \"Cap, you said we'd fight as a team! I want to...  \n",
       "3       \"No one dies on my watch.\" — Captain America  \n",
       "4                  \"No, you move.\" — Captain America  "
      ]
     },
     "execution_count": 237,
     "metadata": {},
     "output_type": "execute_result"
    }
   ],
   "source": [
    "#change the things\n",
    "df = df.drop(col_remove, axis=1) #remove unwanted columns\n",
    "df = df[desired_order] #reorder as desired\n",
    "df = df.dropna(subset=['name']) #drop any card names coming up as NaN\n",
    "df = df.reset_index(drop=True) #drop the old index numbers = true\n",
    "df.head()"
   ]
  },
  {
   "cell_type": "code",
   "execution_count": 238,
   "id": "6c045d34-a473-431f-ad50-b58d46335cbe",
   "metadata": {},
   "outputs": [
    {
     "data": {
      "text/plain": [
       "(23, 16)"
      ]
     },
     "execution_count": 238,
     "metadata": {},
     "output_type": "execute_result"
    }
   ],
   "source": [
    "df.shape"
   ]
  },
  {
   "cell_type": "markdown",
   "id": "0f10d18e-b898-424e-9cd1-98b74a3e5f70",
   "metadata": {},
   "source": [
    "# Multiple JSON Files into single DF"
   ]
  },
  {
   "cell_type": "code",
   "execution_count": 116,
   "id": "ac223e15-74b0-4c58-9399-dbed2065400a",
   "metadata": {},
   "outputs": [],
   "source": [
    "#Make a list of all JSON in the specified directory\n",
    "import glob\n",
    "directory_path = '/Users/sheldonsutton/Marvel Champions/*.json'\n",
    "file_list = glob.glob(directory_path)\n",
    "dfs = []"
   ]
  },
  {
   "cell_type": "code",
   "execution_count": 73,
   "id": "77602c3b-8754-4044-913e-3eb1636be7ff",
   "metadata": {
    "tags": []
   },
   "outputs": [
    {
     "name": "stdout",
     "output_type": "stream",
     "text": [
      "Number of JSON files: 34\n"
     ]
    },
    {
     "data": {
      "text/plain": [
       "['/Users/sheldonsutton/Marvel Champions/trors.json',\n",
       " '/Users/sheldonsutton/Marvel Champions/valk.json',\n",
       " '/Users/sheldonsutton/Marvel Champions/phoenix.json',\n",
       " '/Users/sheldonsutton/Marvel Champions/warm.json',\n",
       " '/Users/sheldonsutton/Marvel Champions/gmw.json',\n",
       " '/Users/sheldonsutton/Marvel Champions/drs.json',\n",
       " '/Users/sheldonsutton/Marvel Champions/sm.json',\n",
       " '/Users/sheldonsutton/Marvel Champions/cyclops.json',\n",
       " '/Users/sheldonsutton/Marvel Champions/gam.json',\n",
       " '/Users/sheldonsutton/Marvel Champions/nebu.json',\n",
       " '/Users/sheldonsutton/Marvel Champions/vision.json',\n",
       " '/Users/sheldonsutton/Marvel Champions/wsp.json',\n",
       " '/Users/sheldonsutton/Marvel Champions/gambit.json',\n",
       " '/Users/sheldonsutton/Marvel Champions/qsv.json',\n",
       " '/Users/sheldonsutton/Marvel Champions/ironheart.json',\n",
       " '/Users/sheldonsutton/Marvel Champions/mut_gen.json',\n",
       " '/Users/sheldonsutton/Marvel Champions/hlk.json',\n",
       " '/Users/sheldonsutton/Marvel Champions/vnm.json',\n",
       " '/Users/sheldonsutton/Marvel Champions/wolv.json',\n",
       " '/Users/sheldonsutton/Marvel Champions/core.json',\n",
       " '/Users/sheldonsutton/Marvel Champions/stld.json',\n",
       " '/Users/sheldonsutton/Marvel Champions/rogue.json',\n",
       " '/Users/sheldonsutton/Marvel Champions/drax.json',\n",
       " '/Users/sheldonsutton/Marvel Champions/storm.json',\n",
       " '/Users/sheldonsutton/Marvel Champions/ant.json',\n",
       " '/Users/sheldonsutton/Marvel Champions/scw.json',\n",
       " '/Users/sheldonsutton/Marvel Champions/spdr.json',\n",
       " '/Users/sheldonsutton/Marvel Champions/thor.json',\n",
       " '/Users/sheldonsutton/Marvel Champions/cap.json',\n",
       " '/Users/sheldonsutton/Marvel Champions/spiderham.json',\n",
       " '/Users/sheldonsutton/Marvel Champions/nova.json',\n",
       " '/Users/sheldonsutton/Marvel Champions/bkw.json',\n",
       " '/Users/sheldonsutton/Marvel Champions/msm.json',\n",
       " '/Users/sheldonsutton/Marvel Champions/mts.json']"
      ]
     },
     "execution_count": 73,
     "metadata": {},
     "output_type": "execute_result"
    }
   ],
   "source": [
    "#check the file list\n",
    "print('Number of JSON files: '+ str(len(file_list)))\n",
    "file_list"
   ]
  },
  {
   "cell_type": "code",
   "execution_count": 117,
   "id": "dac42061-38ce-4548-a27a-0fd4d743bef8",
   "metadata": {},
   "outputs": [],
   "source": [
    "#read in each json and add them to a combined df\n",
    "for file in file_list:\n",
    "    df = pd.read_json(file)\n",
    "    dfs.append(df)\n",
    "combined_df = pd.concat(dfs, ignore_index=True)"
   ]
  },
  {
   "cell_type": "code",
   "execution_count": 77,
   "id": "4993d09b-40ff-453e-950e-45f463513b3c",
   "metadata": {
    "tags": []
   },
   "outputs": [
    {
     "data": {
      "text/plain": [
       "Index(['attack', 'back_link', 'code', 'deck_limit', 'defense', 'faction_code',\n",
       "       'flavor', 'hand_size', 'health', 'is_unique', 'meta', 'name',\n",
       "       'octgn_id', 'pack_code', 'position', 'quantity', 'set_code', 'text',\n",
       "       'thwart', 'traits', 'type_code', 'hidden', 'recover', 'cost',\n",
       "       'resource_wild', 'set_position', 'resource_mental', 'attack_cost',\n",
       "       'subname', 'thwart_cost', 'resource_physical', 'resource_energy',\n",
       "       'duplicate_of', 'deck_requirements', 'illustrator',\n",
       "       'scheme_acceleration', 'double_sided', 'permanent', 'base_threat',\n",
       "       'scheme_hazard', 'scheme_boost', 'boost_text', 'scheme', 'boost',\n",
       "       'scheme_crisis', 'deck_options', 'back_name', 'back_text',\n",
       "       'scheme_text', 'card_set_code', 'base_threat_fixed', 'health_per_hero'],\n",
       "      dtype='object')"
      ]
     },
     "execution_count": 77,
     "metadata": {},
     "output_type": "execute_result"
    }
   ],
   "source": [
    "combined_df.columns"
   ]
  },
  {
   "cell_type": "code",
   "execution_count": 118,
   "id": "2b1266b5-a5c6-45ad-b291-38caa00ea1f7",
   "metadata": {},
   "outputs": [
    {
     "data": {
      "text/plain": [
       "(1323, 52)"
      ]
     },
     "execution_count": 118,
     "metadata": {},
     "output_type": "execute_result"
    }
   ],
   "source": [
    "combined_df.shape"
   ]
  },
  {
   "cell_type": "markdown",
   "id": "f5cbc94f-b68f-4881-bc55-fe6c1f6d8d05",
   "metadata": {},
   "source": [
    "## Combine the 4 resources into 1 column"
   ]
  },
  {
   "cell_type": "code",
   "execution_count": 119,
   "id": "43ad7df5-71d2-4650-823d-6a45a0db9c94",
   "metadata": {},
   "outputs": [],
   "source": [
    "# Columns to combine\n",
    "columns_to_combine = ['resource_mental', 'resource_physical',\n",
    "       'resource_energy', 'resource_wild']\n",
    "\n",
    "# Combine values into a new column\n",
    "combined_df['resource_combined'] = combined_df[columns_to_combine].sum(axis=1)"
   ]
  },
  {
   "cell_type": "code",
   "execution_count": 80,
   "id": "62992398-ba40-48cf-af6a-444d2f372634",
   "metadata": {},
   "outputs": [],
   "source": [
    "#things to change\n",
    "\n",
    "#remove columns\n",
    "col_remove = ['back_link', 'code','is_unique','meta', 'octgn_id', 'pack_code', \n",
    "              'position', 'quantity','hidden','set_position', 'duplicate_of',\n",
    "              'subname','thwart_cost','attack_cost','resource_mental', 'resource_physical',\n",
    "              'resource_energy', 'resource_wild','base_threat','base_threat_fixed','boost',\n",
    "              'scheme_boost', 'health_per_hero','scheme', 'scheme_crisis', 'scheme_acceleration', \n",
    "              'card_set_code','illustrator','permanent'\n",
    "             ]\n",
    "#reorder\n",
    "desired_order = ['name','type_code','cost','resource_combined','set_code','text','faction_code',\n",
    "                 'traits','health','attack','thwart','defense','recover','deck_limit','hand_size',\n",
    "                 'double_sided','flavor']"
   ]
  },
  {
   "cell_type": "code",
   "execution_count": 120,
   "id": "0e9df266-3c16-4a06-aec5-7d9a9f7eb6db",
   "metadata": {
    "tags": []
   },
   "outputs": [
    {
     "data": {
      "text/html": [
       "<div>\n",
       "<style scoped>\n",
       "    .dataframe tbody tr th:only-of-type {\n",
       "        vertical-align: middle;\n",
       "    }\n",
       "\n",
       "    .dataframe tbody tr th {\n",
       "        vertical-align: top;\n",
       "    }\n",
       "\n",
       "    .dataframe thead th {\n",
       "        text-align: right;\n",
       "    }\n",
       "</style>\n",
       "<table border=\"1\" class=\"dataframe\">\n",
       "  <thead>\n",
       "    <tr style=\"text-align: right;\">\n",
       "      <th></th>\n",
       "      <th>name</th>\n",
       "      <th>type_code</th>\n",
       "      <th>cost</th>\n",
       "      <th>resource_combined</th>\n",
       "      <th>set_code</th>\n",
       "      <th>text</th>\n",
       "      <th>aspect</th>\n",
       "      <th>traits</th>\n",
       "      <th>health</th>\n",
       "      <th>attack</th>\n",
       "      <th>thwart</th>\n",
       "      <th>defense</th>\n",
       "      <th>recover</th>\n",
       "      <th>deck_limit</th>\n",
       "      <th>hand_size</th>\n",
       "      <th>double_sided</th>\n",
       "      <th>flavor</th>\n",
       "    </tr>\n",
       "  </thead>\n",
       "  <tbody>\n",
       "    <tr>\n",
       "      <th>0</th>\n",
       "      <td>Hawkeye</td>\n",
       "      <td>hero</td>\n",
       "      <td>NaN</td>\n",
       "      <td>0.0</td>\n",
       "      <td>hawkeye</td>\n",
       "      <td>\"Quick Draw\" — &lt;b&gt;Action&lt;/b&gt;: Exhaust Hawkeye ...</td>\n",
       "      <td>hero</td>\n",
       "      <td>Avenger.</td>\n",
       "      <td>9.0</td>\n",
       "      <td>2.0</td>\n",
       "      <td>1.0</td>\n",
       "      <td>1.0</td>\n",
       "      <td>NaN</td>\n",
       "      <td>1.0</td>\n",
       "      <td>5.0</td>\n",
       "      <td>NaN</td>\n",
       "      <td>\"I may not be the mightiest Avenger, but I'm d...</td>\n",
       "    </tr>\n",
       "    <tr>\n",
       "      <th>1</th>\n",
       "      <td>Clint Barton</td>\n",
       "      <td>alter_ego</td>\n",
       "      <td>NaN</td>\n",
       "      <td>0.0</td>\n",
       "      <td>hawkeye</td>\n",
       "      <td>Weapon of Choice — &lt;b&gt;Action&lt;/b&gt;: Spend 1 reso...</td>\n",
       "      <td>hero</td>\n",
       "      <td>S.H.I.E.L.D.</td>\n",
       "      <td>9.0</td>\n",
       "      <td>NaN</td>\n",
       "      <td>NaN</td>\n",
       "      <td>NaN</td>\n",
       "      <td>3.0</td>\n",
       "      <td>1.0</td>\n",
       "      <td>6.0</td>\n",
       "      <td>NaN</td>\n",
       "      <td>NaN</td>\n",
       "    </tr>\n",
       "    <tr>\n",
       "      <th>2</th>\n",
       "      <td>Hawkeye's Bow</td>\n",
       "      <td>upgrade</td>\n",
       "      <td>0.0</td>\n",
       "      <td>1.0</td>\n",
       "      <td>hawkeye</td>\n",
       "      <td>Restricted.\\nYour hero gets +1 ATK and each of...</td>\n",
       "      <td>hero</td>\n",
       "      <td>Weapon.</td>\n",
       "      <td>NaN</td>\n",
       "      <td>NaN</td>\n",
       "      <td>NaN</td>\n",
       "      <td>NaN</td>\n",
       "      <td>NaN</td>\n",
       "      <td>1.0</td>\n",
       "      <td>NaN</td>\n",
       "      <td>NaN</td>\n",
       "      <td>NaN</td>\n",
       "    </tr>\n",
       "    <tr>\n",
       "      <th>3</th>\n",
       "      <td>Hawkeye's Quiver</td>\n",
       "      <td>upgrade</td>\n",
       "      <td>1.0</td>\n",
       "      <td>1.0</td>\n",
       "      <td>hawkeye</td>\n",
       "      <td>You may play [[Arrow]] events attached to this...</td>\n",
       "      <td>hero</td>\n",
       "      <td>Item.</td>\n",
       "      <td>NaN</td>\n",
       "      <td>NaN</td>\n",
       "      <td>NaN</td>\n",
       "      <td>NaN</td>\n",
       "      <td>NaN</td>\n",
       "      <td>1.0</td>\n",
       "      <td>NaN</td>\n",
       "      <td>NaN</td>\n",
       "      <td>NaN</td>\n",
       "    </tr>\n",
       "    <tr>\n",
       "      <th>4</th>\n",
       "      <td>Mockingbird</td>\n",
       "      <td>ally</td>\n",
       "      <td>3.0</td>\n",
       "      <td>1.0</td>\n",
       "      <td>hawkeye</td>\n",
       "      <td>&lt;b&gt;Interrupt&lt;/b&gt;: When the villain initiates a...</td>\n",
       "      <td>hero</td>\n",
       "      <td>Avenger. S.H.I.E.L.D.</td>\n",
       "      <td>3.0</td>\n",
       "      <td>2.0</td>\n",
       "      <td>2.0</td>\n",
       "      <td>NaN</td>\n",
       "      <td>NaN</td>\n",
       "      <td>1.0</td>\n",
       "      <td>NaN</td>\n",
       "      <td>NaN</td>\n",
       "      <td>\"Is that all you got?\"</td>\n",
       "    </tr>\n",
       "    <tr>\n",
       "      <th>...</th>\n",
       "      <td>...</td>\n",
       "      <td>...</td>\n",
       "      <td>...</td>\n",
       "      <td>...</td>\n",
       "      <td>...</td>\n",
       "      <td>...</td>\n",
       "      <td>...</td>\n",
       "      <td>...</td>\n",
       "      <td>...</td>\n",
       "      <td>...</td>\n",
       "      <td>...</td>\n",
       "      <td>...</td>\n",
       "      <td>...</td>\n",
       "      <td>...</td>\n",
       "      <td>...</td>\n",
       "      <td>...</td>\n",
       "      <td>...</td>\n",
       "    </tr>\n",
       "    <tr>\n",
       "      <th>1098</th>\n",
       "      <td>Jormungand</td>\n",
       "      <td>attachment</td>\n",
       "      <td>NaN</td>\n",
       "      <td>0.0</td>\n",
       "      <td>mts_campaign</td>\n",
       "      <td>NaN</td>\n",
       "      <td>campaign</td>\n",
       "      <td>Dragon.</td>\n",
       "      <td>NaN</td>\n",
       "      <td>NaN</td>\n",
       "      <td>NaN</td>\n",
       "      <td>NaN</td>\n",
       "      <td>NaN</td>\n",
       "      <td>NaN</td>\n",
       "      <td>NaN</td>\n",
       "      <td>1.0</td>\n",
       "      <td>NaN</td>\n",
       "    </tr>\n",
       "    <tr>\n",
       "      <th>1099</th>\n",
       "      <td>Lady Sif</td>\n",
       "      <td>ally</td>\n",
       "      <td>NaN</td>\n",
       "      <td>1.0</td>\n",
       "      <td>mts_campaign</td>\n",
       "      <td>NaN</td>\n",
       "      <td>campaign</td>\n",
       "      <td>Asgard. Captive.</td>\n",
       "      <td>3.0</td>\n",
       "      <td>2.0</td>\n",
       "      <td>2.0</td>\n",
       "      <td>NaN</td>\n",
       "      <td>NaN</td>\n",
       "      <td>NaN</td>\n",
       "      <td>NaN</td>\n",
       "      <td>NaN</td>\n",
       "      <td>NaN</td>\n",
       "    </tr>\n",
       "    <tr>\n",
       "      <th>1100</th>\n",
       "      <td>Fandral</td>\n",
       "      <td>ally</td>\n",
       "      <td>NaN</td>\n",
       "      <td>1.0</td>\n",
       "      <td>mts_campaign</td>\n",
       "      <td>NaN</td>\n",
       "      <td>campaign</td>\n",
       "      <td>Asgard. Captive.</td>\n",
       "      <td>3.0</td>\n",
       "      <td>1.0</td>\n",
       "      <td>3.0</td>\n",
       "      <td>NaN</td>\n",
       "      <td>NaN</td>\n",
       "      <td>NaN</td>\n",
       "      <td>NaN</td>\n",
       "      <td>NaN</td>\n",
       "      <td>NaN</td>\n",
       "    </tr>\n",
       "    <tr>\n",
       "      <th>1101</th>\n",
       "      <td>Hogun</td>\n",
       "      <td>ally</td>\n",
       "      <td>NaN</td>\n",
       "      <td>1.0</td>\n",
       "      <td>mts_campaign</td>\n",
       "      <td>NaN</td>\n",
       "      <td>campaign</td>\n",
       "      <td>Asgard. Captive.</td>\n",
       "      <td>3.0</td>\n",
       "      <td>3.0</td>\n",
       "      <td>1.0</td>\n",
       "      <td>NaN</td>\n",
       "      <td>NaN</td>\n",
       "      <td>NaN</td>\n",
       "      <td>NaN</td>\n",
       "      <td>NaN</td>\n",
       "      <td>NaN</td>\n",
       "    </tr>\n",
       "    <tr>\n",
       "      <th>1102</th>\n",
       "      <td>Volstagg</td>\n",
       "      <td>ally</td>\n",
       "      <td>NaN</td>\n",
       "      <td>1.0</td>\n",
       "      <td>mts_campaign</td>\n",
       "      <td>NaN</td>\n",
       "      <td>campaign</td>\n",
       "      <td>Asgard. Captive.</td>\n",
       "      <td>5.0</td>\n",
       "      <td>1.0</td>\n",
       "      <td>1.0</td>\n",
       "      <td>NaN</td>\n",
       "      <td>NaN</td>\n",
       "      <td>NaN</td>\n",
       "      <td>NaN</td>\n",
       "      <td>NaN</td>\n",
       "      <td>NaN</td>\n",
       "    </tr>\n",
       "  </tbody>\n",
       "</table>\n",
       "<p>1103 rows × 17 columns</p>\n",
       "</div>"
      ],
      "text/plain": [
       "                  name   type_code cost  resource_combined      set_code  \\\n",
       "0              Hawkeye        hero  NaN                0.0       hawkeye   \n",
       "1         Clint Barton   alter_ego  NaN                0.0       hawkeye   \n",
       "2        Hawkeye's Bow     upgrade  0.0                1.0       hawkeye   \n",
       "3     Hawkeye's Quiver     upgrade  1.0                1.0       hawkeye   \n",
       "4          Mockingbird        ally  3.0                1.0       hawkeye   \n",
       "...                ...         ...  ...                ...           ...   \n",
       "1098        Jormungand  attachment  NaN                0.0  mts_campaign   \n",
       "1099          Lady Sif        ally  NaN                1.0  mts_campaign   \n",
       "1100           Fandral        ally  NaN                1.0  mts_campaign   \n",
       "1101             Hogun        ally  NaN                1.0  mts_campaign   \n",
       "1102          Volstagg        ally  NaN                1.0  mts_campaign   \n",
       "\n",
       "                                                   text    aspect  \\\n",
       "0     \"Quick Draw\" — <b>Action</b>: Exhaust Hawkeye ...      hero   \n",
       "1     Weapon of Choice — <b>Action</b>: Spend 1 reso...      hero   \n",
       "2     Restricted.\\nYour hero gets +1 ATK and each of...      hero   \n",
       "3     You may play [[Arrow]] events attached to this...      hero   \n",
       "4     <b>Interrupt</b>: When the villain initiates a...      hero   \n",
       "...                                                 ...       ...   \n",
       "1098                                                NaN  campaign   \n",
       "1099                                                NaN  campaign   \n",
       "1100                                                NaN  campaign   \n",
       "1101                                                NaN  campaign   \n",
       "1102                                                NaN  campaign   \n",
       "\n",
       "                     traits  health  attack  thwart  defense  recover  \\\n",
       "0                  Avenger.     9.0     2.0     1.0      1.0      NaN   \n",
       "1              S.H.I.E.L.D.     9.0     NaN     NaN      NaN      3.0   \n",
       "2                   Weapon.     NaN     NaN     NaN      NaN      NaN   \n",
       "3                     Item.     NaN     NaN     NaN      NaN      NaN   \n",
       "4     Avenger. S.H.I.E.L.D.     3.0     2.0     2.0      NaN      NaN   \n",
       "...                     ...     ...     ...     ...      ...      ...   \n",
       "1098                Dragon.     NaN     NaN     NaN      NaN      NaN   \n",
       "1099       Asgard. Captive.     3.0     2.0     2.0      NaN      NaN   \n",
       "1100       Asgard. Captive.     3.0     1.0     3.0      NaN      NaN   \n",
       "1101       Asgard. Captive.     3.0     3.0     1.0      NaN      NaN   \n",
       "1102       Asgard. Captive.     5.0     1.0     1.0      NaN      NaN   \n",
       "\n",
       "      deck_limit  hand_size  double_sided  \\\n",
       "0            1.0        5.0           NaN   \n",
       "1            1.0        6.0           NaN   \n",
       "2            1.0        NaN           NaN   \n",
       "3            1.0        NaN           NaN   \n",
       "4            1.0        NaN           NaN   \n",
       "...          ...        ...           ...   \n",
       "1098         NaN        NaN           1.0   \n",
       "1099         NaN        NaN           NaN   \n",
       "1100         NaN        NaN           NaN   \n",
       "1101         NaN        NaN           NaN   \n",
       "1102         NaN        NaN           NaN   \n",
       "\n",
       "                                                 flavor  \n",
       "0     \"I may not be the mightiest Avenger, but I'm d...  \n",
       "1                                                   NaN  \n",
       "2                                                   NaN  \n",
       "3                                                   NaN  \n",
       "4                                \"Is that all you got?\"  \n",
       "...                                                 ...  \n",
       "1098                                                NaN  \n",
       "1099                                                NaN  \n",
       "1100                                                NaN  \n",
       "1101                                                NaN  \n",
       "1102                                                NaN  \n",
       "\n",
       "[1103 rows x 17 columns]"
      ]
     },
     "execution_count": 120,
     "metadata": {},
     "output_type": "execute_result"
    }
   ],
   "source": [
    "#change the things\n",
    "combined_df = combined_df.drop(col_remove, axis=1) #remove unwanted columns\n",
    "combined_df = combined_df[desired_order] #reorder as desired\n",
    "combined_df = combined_df.dropna(subset=['name']) #drop card names that are NaN\n",
    "combined_df = combined_df.reset_index(drop=True) #drop the old index numbers = true\n",
    "combined_df = combined_df.rename(columns={'faction_code':'aspect'})\n",
    "combined_df"
   ]
  },
  {
   "cell_type": "code",
   "execution_count": 228,
   "id": "e06906db-2281-4f9c-abda-c9bbad7f0ee1",
   "metadata": {},
   "outputs": [],
   "source": [
    "#removed 220 rows and 35 columns"
   ]
  },
  {
   "cell_type": "markdown",
   "id": "7d0155f3-3fd1-405f-9e0e-7a9747397c9b",
   "metadata": {},
   "source": [
    "# Export the DF to a csv"
   ]
  },
  {
   "cell_type": "code",
   "execution_count": 279,
   "id": "84939e29-176e-4c9d-8a9e-47c24dcae78a",
   "metadata": {},
   "outputs": [
    {
     "name": "stdout",
     "output_type": "stream",
     "text": [
      "/Users/sheldonsutton\n"
     ]
    }
   ],
   "source": [
    "#find your current directory\n",
    "import os\n",
    "cwd = os.getcwd()\n",
    "print(cwd)"
   ]
  },
  {
   "cell_type": "code",
   "execution_count": 281,
   "id": "edd49d68-f73a-459a-9d54-dda11f067879",
   "metadata": {},
   "outputs": [],
   "source": [
    "#this assumes a folder in the root directory called 'Marvel Champions'\n",
    "#this will place a csv in that folder\n",
    "#I proveded the full path and the desired filename.csv\n",
    "combined_df.to_csv('/Users/sheldonsutton/Marvel Champions/mc_heros.csv',index=False)"
   ]
  },
  {
   "cell_type": "markdown",
   "id": "5b367a3d-a390-42b5-b939-c3628c307d4e",
   "metadata": {},
   "source": [
    "# Extra Information"
   ]
  },
  {
   "cell_type": "markdown",
   "id": "07f28cd4-02be-4779-a611-8edb56bb167d",
   "metadata": {},
   "source": [
    "## List of Heros"
   ]
  },
  {
   "cell_type": "code",
   "execution_count": 226,
   "id": "1b21a887-ede7-4245-a261-e024e88dba97",
   "metadata": {},
   "outputs": [
    {
     "name": "stdout",
     "output_type": "stream",
     "text": [
      "Adam Warlock\n",
      "Ant-Man\n",
      "Black Panther\n",
      "Black Widow\n",
      "Captain America\n",
      "Captain Marvel\n",
      "Colossus\n",
      "Cyclops\n",
      "Doctor Strange\n",
      "Drax\n",
      "Gambit\n",
      "Gamora\n",
      "Ghost-Spider\n",
      "Groot\n",
      "Hawkeye\n",
      "Hulk\n",
      "Iron Man\n",
      "Ironheart\n",
      "Ms. Marvel\n",
      "Nebula\n",
      "Nova\n",
      "Phoenix\n",
      "Quicksilver\n",
      "Rocket Raccoon\n",
      "Rogue\n",
      "SP//dr Suit\n",
      "Scarlet Witch\n",
      "Shadowcat\n",
      "She-Hulk\n",
      "Spectrum\n",
      "Spider-Ham\n",
      "Spider-Man\n",
      "Spider-Woman\n",
      "Star-Lord\n",
      "Storm\n",
      "Thor\n",
      "Valkyrie\n",
      "Venom\n",
      "Vision\n",
      "War Machine\n",
      "Wasp\n",
      "Wolverine\n"
     ]
    }
   ],
   "source": [
    "heros = combined_df.query(\"type_code == 'hero'\")['name'].unique()\n",
    "heros_sorted = sorted(heros) #sort the list alphabetically\n",
    "for item in heros_sorted:\n",
    "    print(item)"
   ]
  },
  {
   "cell_type": "markdown",
   "id": "3425192a-d7f0-4b7d-9871-15b6346a3711",
   "metadata": {},
   "source": [
    "## List of Card Sets"
   ]
  },
  {
   "cell_type": "code",
   "execution_count": 110,
   "id": "ab72dac7-6959-4fe6-acc2-1a320bd23608",
   "metadata": {},
   "outputs": [
    {
     "data": {
      "text/plain": [
       "array(['hawkeye', 'spider_woman', 'hydra_camp', 'expcamp', 'valk',\n",
       "       'phoenix', 'warm', 'groot', 'rocket', 'the_market', 'challenge',\n",
       "       'badoon_headhunter', 'doctor_strange', 'invocation',\n",
       "       'ghost_spider', 'spider_man_morales', 'bad_publicity',\n",
       "       'community_service', 'snitches_get_stitches', 'shield_tech',\n",
       "       'cyclops', 'gam', 'nebu', 'vision', 'wsp', 'gambit', 'qsv',\n",
       "       'ironheart', 'colossus', 'shadowcat', 'mut_gen_campaign',\n",
       "       'brawler', 'commander', 'defender', 'peacekeeper', 'hulk', 'vnm',\n",
       "       'wolverine', 'spider_man', 'captain_marvel', 'she_hulk',\n",
       "       'iron_man', 'black_panther', 'stld', 'rogue', 'drax', 'storm',\n",
       "       'weather', 'ant', 'scw', 'spdr', 'thor', 'captain_america',\n",
       "       'spiderham', 'nova', 'black_widow', 'ms_marvel', 'spectrum',\n",
       "       'warlock', 'mts_campaign'], dtype=object)"
      ]
     },
     "execution_count": 110,
     "metadata": {},
     "output_type": "execute_result"
    }
   ],
   "source": [
    "query_string = 'set_code' + '.notnull()'\n",
    "combined_df.query(query_string)['set_code'].unique()"
   ]
  },
  {
   "cell_type": "markdown",
   "id": "9bba4dc0-2489-4530-8c00-a094186cb5f7",
   "metadata": {},
   "source": [
    "## Sunburst"
   ]
  },
  {
   "cell_type": "code",
   "execution_count": 127,
   "id": "40fe046e-3621-4b9e-a6d0-25ff86836df8",
   "metadata": {},
   "outputs": [],
   "source": [
    "import plotly.express as px\n",
    "import warnings\n",
    "import pandas as pd\n",
    "warnings.filterwarnings(\"ignore\")"
   ]
  },
  {
   "cell_type": "code",
   "execution_count": 225,
   "id": "6d9c762a-3959-42da-b5e5-67e6e74cbd65",
   "metadata": {},
   "outputs": [
    {
     "data": {
      "text/plain": [
       "name                  object\n",
       "type_code             object\n",
       "cost                   Int64\n",
       "resource_combined    float64\n",
       "set_code              object\n",
       "text                  object\n",
       "aspect                object\n",
       "traits                object\n",
       "health               float64\n",
       "attack               float64\n",
       "thwart               float64\n",
       "defense              float64\n",
       "recover              float64\n",
       "deck_limit           float64\n",
       "hand_size            float64\n",
       "double_sided         float64\n",
       "flavor                object\n",
       "dtype: object"
      ]
     },
     "execution_count": 225,
     "metadata": {},
     "output_type": "execute_result"
    }
   ],
   "source": [
    "combined_df.dtypes"
   ]
  },
  {
   "cell_type": "code",
   "execution_count": 223,
   "id": "f365c8e4-57a0-4bee-b70c-e4c132f14388",
   "metadata": {},
   "outputs": [],
   "source": [
    "#fix dtypes for plotting\n",
    "combined_df['cost'] = pd.to_numeric(combined_df['cost'], errors='coerce').fillna(0)\n",
    "combined_df['cost'] = pd.to_numeric(combined_df['cost'], errors='coerce').astype('Int64')\n",
    "combined_df['set_code'] = combined_df['set_code'].astype(str)"
   ]
  },
  {
   "cell_type": "markdown",
   "id": "6efa2199-db86-4616-9275-34693db4b68f",
   "metadata": {},
   "source": [
    "[list of plotly colors](https://stackoverflow.com/questions/72496150/user-friendly-names-for-plotly-css-colors)"
   ]
  },
  {
   "cell_type": "code",
   "execution_count": 224,
   "id": "7674a10d-52c9-47ff-b8c9-dc4666ec0ac1",
   "metadata": {},
   "outputs": [
    {
     "data": {
      "application/vnd.plotly.v1+json": {
       "config": {
        "plotlyServerURL": "https://plot.ly"
       },
       "data": [
        {
         "branchvalues": "total",
         "customdata": [
          [
           0,
           "Max 1 per phase.\n<b>Hero Action</b>: Draw 1 card for each minion engaged with you."
          ],
          [
           0,
           "<b>Hero Action</b>: Ready your hero and draw 1 card. The villain attacks you."
          ],
          [
           3,
           "Max 1 per deck.\nPlay only if your identity has the [[champion]] trait.\n<b>Hero Action</b>: Each [[champion]] character in play cannot take damage until the end of the round."
          ],
          [
           1,
           "<b>Hero Interrupt:</b> When you reveal a card from the encounter deck, remove 1 toon counter from Spider-Ham → say \"I don't think so!\" in your best Spider-Ham voice. Cancel the effects of that card and discard it."
          ],
          [
           4,
           "<b>Interrupt</b>: When you would be defeated by an enemy attack, instead set your hit point dial to 5, ready your identity, and discard this card."
          ],
          [
           3,
           "<b>Hero Action</b> <i>(thwart)</i>: Remove threat from a scheme equal to the number of growth counters on Groot."
          ],
          [
           2,
           "<b>Hero Action</b> <i>(attack)</i>: Deal damage to an enemy equal to the number of growth counters on Groot."
          ],
          [
           0,
           "(?)"
          ],
          [
           1,
           "Play only if your identity has the [[guardian]] trait.\n<b>Hero Action</b>: Take 1 damage. Confuse the villain."
          ],
          [
           1,
           "Play only if your identity has the [[X-MEN]] trait.\n<b>Hero Action</b>: Search the top 5 cards of your deck for an [[X-MEN]] ally and put it into play. If that ally is still in play at the end of the phase, add it to your hand."
          ],
          [
           1,
           "<b>Hero Action</b>: Remove up to 4 growth counters from Groot → choose that many friendly characters. Give each of those characters a tough status card."
          ],
          [
           0,
           "Play only if your identity has the [[guardian]] trait. Max 1 per round.\n<b>Hero Action</b>: Reduce the resource cost of the next ally played this phase by 2."
          ],
          [
           1,
           "<b>Hero Response</b> <i>(thwart)</i>: After the villain attacks you, remove 1 threat from a scheme for each damage you took from the attack (to a maximum of 5)."
          ],
          [
           1,
           "<b>Alter-Ego Action:</b> Exhaust this card → search your deck and discard pile for an [[Android]] ally and add it to your hand. <i>(Shuffle.)</i>"
          ],
          [
           1,
           "<b>Alter-Ego Action</b>: Exhaust Aamir Khan → place 1 card from your discard pile on the bottom of your deck, then draw 1 card."
          ],
          [
           2,
           "Quicksilver gets +1 DEF."
          ],
          [
           0,
           "<b>Hero Action</b> <i>(attack)</i>: Deal 2 damage to an enemy."
          ],
          [
           2,
           "Max 1 per deck.\n<b>Hero Action</b>: Exhaust a [[Web-Warrior]] card you control → search your discard pile for a [[Web-Warrior]] ally and put it into play, then choose a player. That player may spend 3 resources of any type to repeat this ability."
          ],
          [
           1,
           "<b>Hero Response</b>: After you ignore the guard or patrol keyword on a minion, exhaust Acute Control → deal 2 damage to that minion."
          ],
          [
           3,
           "<b>Response:</b> After Adam Warlock attacks or thwarts, discard 1 card at random from your hand. If that card's printed resource has:\n[physical] - Remove 3 threat from a scheme.\n[energy] - Heal 3 damage from an identity\n[mental] - Deal 3 damage to an enemy\n[wild] - Choose one of the above."
          ],
          [
           0,
           "(?)"
          ],
          [
           2,
           "You get +4 hit points.\nWolverine gets +1 ATK and his basic attacks gain piercing."
          ],
          [
           0,
           "Setup.\n<b>Hero Action:</b> Discard this card and remove it from the campaign log → ready your hero and heal 5 damage from them."
          ],
          [
           1,
           "<b>Hero Action</b>: Discard Adrenaline Rush → your hero gets +1 ATK until the end of the phase."
          ],
          [
           1,
           "<b>Alter-Ego Action:</b> Exhaust Agatha Harkness → look at the top 3 cards of your deck. Add 1 of those to your hand and place the rest on the bottom of your deck in any order."
          ],
          [
           3,
           "<b>Response</b>: After Agent 13 enters play, remove 2 threat from a scheme."
          ],
          [
           4,
           "[star] <b>Response</b>: After Agent 13 attacks or thwarts, choose a [[S.H.I.E.L.D.]] support → ready that support."
          ],
          [
           3,
           "<b>Response</b>: After Agent Coulson enters play, search your deck and discard pile for a [[Preparation]] card and add it to your hand. Shuffle your deck."
          ],
          [
           0,
           "Max 2 per deck.\n<b>Hero Interrupt</b>: When you spend this card to play a [[Attack]] event, that event deals 1 additional damage."
          ],
          [
           3,
           "Play only if your identity has the [[aerial]] trait.\n<b>Hero Action</b> <i>(thwart)</i>: Remove a total of up to 5 threat from among schemes (as you choose)."
          ],
          [
           2,
           "<b>Hero Action</b>: Choose up to X enemies, where X is equal to the number of [[aerial]] characters you control → deal 3 damage to each chosen enemy."
          ],
          [
           1,
           "<b>Hero Action</b> <i>(thwart)</i>: Remove 2 threat from a scheme (4 threat instead if you are in Phased mass form)."
          ],
          [
           1,
           "<b>Hero Action:</b> Choose:\n- Ready each [[Interface]] upgrade you control.\n- Search your deck and discard pile for an [[Interface]] upgrade and add it to your hand. (Shuffle.)"
          ],
          [
           2,
           "<b>Hero Action</b> <i>(attack)</i>: Deal 3 damage to an enemy and exhaust any number of [[Avenger]] characters you control. Deal 1 additional damage to that enemy for each character exhausted this way."
          ],
          [
           1,
           "<b>Action</b>: Exhaust Alpha Flight Station, choose and discard 1 card from your hand → draw 1 card (draw 2 cards instead if you are Carol Danvers)."
          ],
          [
           1,
           "<b>Hero Action:</b> Ready Quicksilver."
          ],
          [
           1,
           "<b>Alter-Ego Action</b>: Choose up to 3 different cards in your discard pile and shuffle them into your deck."
          ],
          [
           3,
           "Reduce the cost to play Angel by 1 if your identity has the [[MUTANT]] or [[X-MEN]] trait."
          ],
          [
           0,
           "<b>Forced Response:</b> After Angela enters play under your control, search the top 10 cards of the encounter deck for a minion and put it into play engaged with you. Shuffle the encounter deck. If a minion was not put into play this way, discard Angela."
          ],
          [
           0,
           "<b>Setup</b>: Set your Touched upgrade aside.\n<i>Withdrawn</i> − <b>Forced Response</b>: After you change to this form, set Touched aside."
          ],
          [
           2,
           "<b>Alter-Ego Action</b>: Exhaust Annabelle Riggs → search the top 5 cards of your deck for a Valkyrie card and add it to your hand. Shuffle the rest back into your deck."
          ],
          [
           0,
           "(?)"
          ],
          [
           0,
           "Ant-Man gets +1 hit point for each pym counter on him.\n<b>Interrupt:</b> When Ant-Man enters play, place 1 pym counter on him (to a maximum of 4) for each resource you overpaid for Ant-Man's cost."
          ],
          [
           4,
           "While you are in [[Giant]] hero form, Ant-Man gains the [[Giant]] trait and gets +1 ATK.\nWhile you are in [[Tiny]] hero form, Ant-Man gains the [[Tiny]] trait and gets +1 THW."
          ],
          [
           3,
           "<b>Hero Response:</b> After you change to [[Giant]] hero form, heal 2 damage from your hero.\n<b>Hero Response:</b> After you change to [[Tiny]] hero form, draw 1 card."
          ],
          [
           0,
           "Your hero gets -1 THW, -1 ATK, and -1 DEF.\n<b>Alter-Ego Action:</b> Take 2 damage and spend a [wild] resource → discard this card."
          ],
          [
           1,
           "Max 1 per player.\n<b>Hero Interrupt</b>: When you engage a minion, discard this card → ready your hero."
          ],
          [
           1,
           "<b>Hero Action</b> <i>(attack)</i>: Deal 2 damage to an enemy. If that enemy has a stun status card, deal 3 additional damage to it. If that enemy has a confuse status card, deal 3 additional damage to it."
          ],
          [
           2,
           "Valkyrie gets +4 hit points and gains the [[aerial]] trait."
          ],
          [
           2,
           "<b>Hero Action</b>: Exhaust Arc Reactor → ready Iron Man."
          ],
          [
           0,
           "Unit Cost 5.\n<b>Hero Action</b>: Ready a friendly character. Draw 1 card."
          ],
          [
           2,
           "Play only if your identity has the [[X-MEN]] trait.\nToughness."
          ],
          [
           0,
           "Unit Cost 4.\n<b>Hero Interrupt</b>: When an identity would take any amount of damage, exhaust Armor Plating → prevent 1 of that damage (2 of that damage instead if you control the Milano)."
          ],
          [
           0,
           "<b>Alter-Ego Interrupt</b>: When the villain activates, change to hero form."
          ],
          [
           1,
           "Play under any player's control. Max 1 per player.\nYour hero gets +1 DEF."
          ],
          [
           1,
           "<b>Hero Action:</b> If you are in [[Tiny]] hero form, exhaust Army of Ants → deal 1 damage to an enemy."
          ],
          [
           2,
           "Alliance.\n<b>Hero Action</b> <i>(attack)</i>: Exhaust an [[avenger]] character and a [[guardian]] character → deal X damage to enemy, where X is the combined ATK of those characters. This ATK gains overkill."
          ],
          [
           3,
           "You get +1 hand size."
          ],
          [
           1,
           "Max 2 per deck. Uses (2 training counters)\n<b>Alter-Ego Action:</b> Exhaust this card and remove 1 training counter from it → choose an Aggression <i>(red)</i> event in your discard pile and shuffle it into your deck."
          ],
          [
           0,
           "<b>Action:</b> You get +1 hand size until the end of the phase."
          ],
          [
           2,
           "<b>Hero Action</b> <i>(thwart)</i>: Choose a scheme → remove 3 threat from that scheme and look at the top card of the encounter deck. For each boost icon on that card, remove 1 additional threat from the chosen scheme."
          ],
          [
           1,
           "<b>Hero Action</b>: Discard 1 stun or confuse status card from your hero."
          ],
          [
           1,
           "Attach to an [[X-MEN]] ally. Max 1 [[Training]] upgrade per ally.\nAttached ally gets +1 ATK and +2 hit points."
          ],
          [
           1,
           "<b>Hero Interrupt</b> <i>(attack)</i>: When a boost card is turned faceup, discard Attacrobatics → cancel the boost icons on that card. Deal 1 damage to the villain for each boost icon canceled this way."
          ],
          [
           0,
           "Max 1 per deck.\n<b>Hero Response</b>: After you spend this card, deal 1 damage to the villain."
          ],
          [
           1,
           "<b>Alter-Ego Action</b>: Exhaust Aunt May → heal 4 damage from Peter Parker."
          ],
          [
           1,
           "<b>Action:</b> Exhaust Aunt May & Uncle Ben and discard the top 2 cards of your deck (top 3 cards instead if you are in alter-ego form) → add each SP//dr card discarded this way to your hand."
          ],
          [
           4,
           "Max 1 per round.\n<b>Hero Action</b></i>: Ready each [[Avenger]] character you control. Until the end of the phase, each [[Avenger]] character in play gets +1 THW and +1 ATK."
          ],
          [
           4,
           "Max 1 per player.\n<b>Action</b>: Exhaust Avengers Mansion → choose a player. That player draws 1 card."
          ],
          [
           2,
           "If each of your allies has the [[Avenger]] trait, increase your ally limit by 1.\n<b>Action:</b> Exhaust Avengers Tower → reduce the cost of the next [[Avenger]] ally played this phase by 1."
          ],
          [
           0,
           null
          ],
          [
           0,
           "<b>Interrupt</b> <i>(defense)</i>: When you would take any amount of damage from an attack, prevent all of that damage."
          ],
          [
           3,
           "<b>Hero Interrupt</b> When you would take any amount of damage from the villain's attack, discard this card → prevent all of that damage. Change to alter-ego form and draw 2 cards."
          ],
          [
           0,
           "(?)"
          ],
          [
           0,
           "Victory 2. <i>(When defeated, add this card to the victory display.)</i>\nVillainous. <i>(When this minion activates, give it a boost card.)</i>"
          ],
          [
           1,
           "<b>Hero Action</b> <i>(thwart)</i>: The villain attacks you. Remove 4 threat from the main scheme."
          ],
          [
           0,
           "This card generates [wild] for each ally you control (to a maximum of 3)"
          ],
          [
           2,
           "Bruce Banner gets +2 REC.\n<b>Alter-Ego Resource</b>: Exhaust Banner's Laboratory → generate a [mental] resource."
          ],
          [
           4,
           "[star]<b>Response</b>: After Banshee thwarts, confuse a minion."
          ],
          [
           0,
           "Permanent. Setup.\nYou get +1 hit points.\nYour hero gets +1 ATK."
          ],
          [
           0,
           "Permanent. Setup.\nYou get +3 hit points.\nYour hero gets +1 DEF."
          ],
          [
           0,
           "Permanent. Setup.\nYou get +4 hit points.\nYour alter-ego gets +1 REC."
          ],
          [
           0,
           "Permanent. Setup.\nYou get +2 hit points.\nYour hero gets +1 THW."
          ],
          [
           1,
           "Enters play with 2 charge counters on it.\n<b>Action</b>: Exhaust Battery Pack → move a charge counter from this card to another [[tech]] upgrade you control."
          ],
          [
           1,
           "(?)"
          ],
          [
           4,
           "<b>Response</b>: After Beast enters play, search your deck and discard pile for a resource card and add it to your hand. <i>(Shuffle.)</i>"
          ],
          [
           2,
           "<b>Hero Action</b>: Deal 1 damage to the villain and each minion engaged with you."
          ],
          [
           3,
           "<b>Action</b>: Exhaust Beat Cop → move 1 threat from a scheme to here.\n<b>Action</b>: Exhaust and discard Beat Cop → deal 1 damage to a minion for each threat here."
          ],
          [
           2,
           "Team-Up (Gambit and Rogue). Max 1 per deck.\n<b>Hero Action</b> <i>(attack/thwart)</i>: Deal 4 damage to an enemy. Remove 4 threat from a scheme."
          ],
          [
           0,
           "Attach to a minion. Max 1 per minion.\n<b>Interrupt</b>: When a character makes a basic attack against attached minion, that character uses their THW instead of their ATK."
          ],
          [
           2,
           "<b>Hero Action:</b> <i>(thwart)</i>: Remove 3 threat from a scheme. If you paid for this card using only [mental] resources, confuse an enemy."
          ],
          [
           2,
           "<b>Hero Action</b> <i>(attack)</i>: Deal 4 damage to an enemy. If this attack defeats an enemy, you may take 2 damage → repeat this ability."
          ],
          [
           2,
           "<b>Hero Response</b>: After Wolverine takes any amount of damage from an enemy attack, draw 1 card.\n<b>Forced Response</b>: After you flip to alter-ego form, discard this card."
          ],
          [
           5,
           "<b>Response:</b> After Beta Ray Bill attacks and defeats a minion, remove 2 threat from the main scheme."
          ],
          [
           2,
           "<b>Hero Action</b> <i>(attack)</i>: Deal 4 damage to an enemy."
          ],
          [
           2,
           "Wasp gains the [[Aerial]] trait.\n<b>Interrupt:</b> When you would take any amount of damage, if you are in [[Tiny]] hero form, exhaust Bio-Synthetic Wings → prevent 1 of that damage."
          ],
          [
           1,
           "<b>Hero Resource</b>: Exhaust Biokinetic Polymer Suit → generate a [wild] resource for an event."
          ],
          [
           3,
           "<b>Response</b>: After an enemy attacks you, place 1 energy counter here.\n[star]<b>Interrupt</b>: When Bishop attacks, remove each energy counter from him → for each counter discarded this way, he gets +2 ATK for this attack (to a maximum of +6 ATK)."
          ],
          [
           2,
           "<b>Forced Response</b>: After you play Black Cat, discard the top 2 cards of your deck. Add each card with a printed [mental] resource discarded this way to your hand."
          ],
          [
           3,
           "Black Knight's basic attack gains piercing."
          ],
          [
           0,
           "Retaliate 1. <i>(After this character is attacked, deal 1 damage to the attacking character.)</i>"
          ],
          [
           4,
           "You may play the event attached to Black Panther as if it were in your hand.\n<b>Response:</b> After Black Panther enters play, choose a leadership (blue) event in your discard pile and attach it to him facedown."
          ],
          [
           0,
           null
          ],
          [
           0,
           "\"Widowmaker\" — <b>Response</b>: After you trigger the ability of a [[Preparation]] card you control, deal 1 damage to an enemy."
          ],
          [
           3,
           "<b>Interrupt</b>: When a card is revealed from the encounter deck, exhaust Black Widow and spend a [mental] resource → cancel the effects of that card and discard it. Then, reveal another card from the encounter deck."
          ],
          [
           1,
           "<b>Resource</b>: Exhaust Black Widow's Gauntlet → generate a [wild] resource for a [[Preparation]] card."
          ],
          [
           1,
           "<b>Forced Response</b>: After Blade thwarts or attacks, choose to either spend a [physical] resource from your hand or discard Blade."
          ],
          [
           3,
           "<b>Hero Action</b>: Choose a player → deal 3 damage to the villain and each minion engaged with that player. Resolve the \"<b>Special</b>\" ability of your [[WEATHER]] support."
          ],
          [
           2,
           "Max 1 per round.\n<b>Hero Action</b>: Each [[guardian]] character gets +2 THW and +2 ATK this phase. At the end of the phase, deal 1 damage to each [[guardian]] character."
          ],
          [
           3,
           "<b>Response</b>: After Blindfold enters play, look at the top 5 cards of the encounter deck. Discard 1 of those cards and put the rest back in the same order."
          ],
          [
           0,
           "Permanent.\nEach character gets -1 ATK.\n<b>Special</b>: Choose a non-[[ELITE]] minion → until the end of the round, treat that minion's text box as if it were blank <i>(except for <b>TRAITS</b></i>)."
          ],
          [
           3,
           "<b>Hero Response:</b> After Blue Marvel enters play, change energy forms"
          ],
          [
           0,
           null
          ],
          [
           4,
           "[star] Divide damage from Bombshell's attack among each enemy as evenly as possible.\n Play only if your identity has the [[champion]] trait."
          ],
          [
           1,
           "Play only if your identity has the [[guardian]] trait. Max 1 per player.\n<b>Hero Interrupt</b>: When you would take any amount of damage from an attack, exhaust Booster Boots and discard the top card of your deck → prevent 1 of that damage."
          ],
          [
           3,
           "Play under any player's control. Max 1 per player.\nEach ally you control gets +1 ATK."
          ],
          [
           1,
           "Hero form only. Hulk gets +1 ATK.\n<b>Forced Response</b>: After you change form, discard this card."
          ],
          [
           2,
           "<b>Hero Response</b> <i>(attack)</i>: After your hero makes a basic thwart, deal damage to an enemy equal to your hero's THW."
          ],
          [
           0,
           "Unit Cost 1.\n<b>Hero Action</b> <i>(thwart)</i>: Name a card type, then look at the top card of your deck. If that card is of named type, remove 3 threat from the main scheme. Place that card on the top or bottom of your deck, then draw 1 card."
          ],
          [
           4,
           "While Brawn is exhausted, he gains: \"<b>Resource</b>: Generate a [mental] resource. (Limit once per phase.)\""
          ],
          [
           3,
           "<b>Response</b>: After Brawn attacks, remove 1 threat from a scheme."
          ],
          [
           0,
           null
          ],
          [
           2,
           "Play only if your identity has the [[SPY]] or [[THIEF]] trait.\n<b>Action</b> <i>(thwart)</i>: Remove 3 threat from a scheme."
          ],
          [
           3,
           "<b>Response</b>: After Brother Voodoo enters play, search the top 5 cards of your deck for an event card and add it to your hand. Shuffle your deck."
          ],
          [
           2,
           "Play only if your identity has the [[Avenger]] trait.\n<b>Hero Action</b> <i>(attack)</i>: Deal 2 damage to the villain. Deal X additional damage to the villain (to a maximum of 3), where X is equal to the villain's stage number."
          ],
          [
           0,
           "Experimental Research — <b>Action</b>: Draw 1 card. Choose and discard 1 card from your hand. (Limit once per round.)"
          ],
          [
           0,
           "<b>Setup:</b> Set the Death Glow upgrade aside, out of play.\n\"Not this Day.\" — <b>Action</b>: Detach Death-Glow and set it aside, out of play."
          ],
          [
           1,
           "<b>Alter-Ego Action</b>: Exhaust Bruno Carrelli → attach 1 card from your hand facedown here.\n<b>Action</b>: Exhaust Bruno Carrelli → add up to 3 cards attached here to your hand."
          ],
          [
           1,
           "Your hero gets +1 ATK. Your basic attacks gain piercing. <i>(Discard any tough status cards from the target before dealing damage.)</i>\n<b>Forced Response</b>: After you make a basic attack, discard Brute Force."
          ],
          [
           2,
           "<b>Hero Response</b>: After your hero makes a basic attack, heal 1 damage from Bug."
          ],
          [
           1,
           "<b>Hero Interrupt</b> <i>(defense)</i>: When an enemy with Touched attached to it attacks, prevent all damage from that attack and gain a tough status card."
          ],
          [
           0,
           "<b>Hero Action</b>: Discard a tough status card from your hero → choose:\n• Give your hero 2 tough status cards.\n• Ready your hero."
          ],
          [
           0,
           "Unit Cost 1.\n<b>Hero Action</b> <i>(attack)</i>: Place 2 threat on the main scheme. Deal 3 damage to the villain. Draw 1 card."
          ],
          [
           2,
           "<b>Hero Action</b>: Exhaust C.I.T.T. and spend 2 resources of any type → ready a [[guardian]] character."
          ],
          [
           1,
           "<b>Hero Action</b> <i>(thwart)</i>: Exhaust Hawkeye's Bow → remove 3 threat from a scheme, ignoring any crisis icons in play."
          ],
          [
           0,
           "Unit Cost 2.\n<b>Hero Action</b>: Draw 1 card and choose a player. That player may draw 1 card, then choose and discard 1 card from their hand."
          ],
          [
           0,
           "<b>Hero Action:</b> Discard cards from the top of your deck until you discard an [[Avenger]] ally, then add that ally to your hand."
          ],
          [
           0,
           "\"I Can Do This All Day!\" — <b>Action</b>: Discard 1 card from your hand → ready Captain America. (Limit once per round.)"
          ],
          [
           6,
           "Toughness.\nReduce the cost to play Captain America by 1 for each [[avenger]] character you control."
          ],
          [
           1,
           "<b>Interrupt</b>: When Captain America would be defeated, set his hit point dial to 1 instead. Then, discard this card."
          ],
          [
           1,
           "Restricted. <i>(Max 2 restricted cards per player.)</i>\nCaptain America gets +1 DEF and gains retaliate 1."
          ],
          [
           3,
           "<b>Response:</b> After Captain Americat enters play, give someone a high five. Place 1 toon counter on your identity and shuffle 1 Spider-Ham card from your discard pile into your deck."
          ],
          [
           0,
           "Rechannel — <b>Action</b>: Spend a [energy] resource and heal 1 damage from Captain Marvel → draw 1 card. (Limit once per round.)"
          ],
          [
           5,
           "<b>Response:</b> After Captain Marvel enters play, discard the top 4 cards of your deck. If you discard a printed [energy] resource, deal 3 damage to an enemy. If you discard more than one printed [energy] resource, also stun that enemy."
          ],
          [
           4,
           "<b>Response</b>: After Captain Marvel uses a basic power, draw 1 card."
          ],
          [
           2,
           "Captain Marvel gets +1 DEF (+2 DEF instead if you have the [[Aerial]] trait)."
          ],
          [
           0,
           "Unit Cost 6.\n<b>Hero Action</b>: Exhaust Cargo Hold → heal 1 damage from a friendly character. If you control the Milano, heal 1 damage from your identity."
          ],
          [
           0,
           "Commander — <b>Action</b>: Choose a player to draw 1 card. (Limit once per round.)"
          ],
          [
           1,
           "<b>Interrupt:</b> When your identity would take any amount of damage, discard this card → wiggle your body and prevent all but 1 of that damage."
          ],
          [
           0,
           null
          ],
          [
           1,
           "Play only if your identity has the [[MUTANT]] trait.\n<b>Alter-Ego Action</b>: Exhaust Cerebro → search the top 5 cards of your deck for an [[X-MEN]] ally (search your whole deck instead if you control a [[PSIONIC]] character) and add that ally to your hand. <i>(Shuffle.)</i>"
          ],
          [
           2,
           "<b>Hero Action</b>: Exhaust Champions Mobile Bunker → choose an identity with the [[champion]] trait. The player who controls that identity may draw 2 cards, then discard 2 cards from their hand."
          ],
          [
           0,
           "Attach to a side scheme. Max 1 per scheme.\n<b>Interrupt:</b> When attached side scheme is defeated, search your deck and discard pile for an ally and add it to your hand. Shuffle your deck."
          ],
          [
           0,
           "<b>Hero Action:</b> Play a card from your hand, ignoring its resource cost. Discard cards from the top of the encounter deck equal to that card's printed resource cost."
          ],
          [
           2,
           "<b>Hero Action</b> <i>(attack)</i>: Deal 4 damage to an enemy. For this attack, If Gambit's <i>\"Throw de Card\"</i> ability removed at least:\n• 1 counter, this attack gains ranged.\n• 2 counters, this attack also gains piercing.\n• 3 counters, this attack also gains overkill."
          ],
          [
           4,
           "Retaliate 1. Toughness."
          ],
          [
           0,
           "<b>Response</b> (<i>thwart</i>): After your hero attacks and defeats an enemy, remove 2 threat from a scheme."
          ],
          [
           0,
           "<b>Hero Action</b>: Search the encounter deck and discard pile for a minion and put it into play engaged with you → draw 2 cards."
          ],
          [
           1,
           "<b>Hero Action:</b> Discard Civic Duty → your hero gets +1 THW until the end of the phase."
          ],
          [
           1,
           "Attach to a friendly character. Max 1 per character.\n<b>Hero Resource:</b> Exhaust this card and deal 1 damage to attached character → generate a [wild] resource."
          ],
          [
           2,
           "<b>Interrupt</b>: When Clea is defeated, shuffle her into her owner's deck."
          ],
          [
           0,
           "Permanent.\nEach character gains stalwart.\n<b>Special</b>: Draw 1 card."
          ],
          [
           1,
           "<b>Hero Action</b> <i>(thwart)</i>: Remove 2 threat from a scheme. If this removes the last threat on that scheme, draw 1 card."
          ],
          [
           0,
           "Weapon of Choice — <b>Action</b>: Spend 1 resource of any type → search your deck and discard pile for Hawkeye's Bow and add it to your hand. Shuffle your deck. (Limit once per phase)."
          ],
          [
           2,
           "You gain the [[Aerial]] trait.\n<b>Hero Action</b>: Exhaust Cloak of Levitation → ready Doctor Strange."
          ],
          [
           2,
           "<b>Hero Action</b> <i>(Attack)</i>: Deal 3 damage to an enemy. If this is the first card you have played this round, return this card to your hand."
          ],
          [
           0,
           "Unit Cost 3.\n<b>Hero Interrupt</b>: When a boost card is turned faceup, cancel that card's <b>\"Boost\"</b> ability and all of its boost icons <i>(</i>[boost]<i>)</i>, then discard it. Draw 1 card."
          ],
          [
           3,
           "<b>Hero Action</b>: Exhaust Cloud 9 → choose a player. Until the end of the phase, each [[Aerial]] character that player controls gets +1 THW."
          ],
          [
           0,
           "Colossus can have 1 additional tough status card.\n<i>Steel Skin</i> - <b>Response</b>: After you change to this form, give Colossus a tough status card."
          ],
          [
           4,
           "Reduce the cost to play Colossus by 1 if your identity has the [[MUTANT]] or [[X-MEN]] trait.\nToughness."
          ],
          [
           0,
           "<b>Alter-Ego Action</b>: Choose one:\nShuffle up to 2 [[technique]] upgrades from your discard pile into your deck.\nDiscard cards from the top of your deck until you discard a [[technique]] upgrade. Put that upgrade into play, then resolve its \"Special\" ability."
          ],
          [
           2,
           "Play under any player's control. Max 1 per player.\nYour hero gets +1 ATK."
          ],
          [
           1,
           "Max 1 per player.\n<b>Response</b>: After an ally thwarts and defeats a side scheme, exhaust Command Center → deal 2 damage to an enemy."
          ],
          [
           2,
           "Uses (3 command counters).\n<b>Action</b>: Exhaust Command Team and remove 1 command counter from it → ready an ally."
          ],
          [
           1,
           "Attach to a [[guardian]] ally. Max 1 per ally.\nAttached ally gets +1 THW and +1 hit point."
          ],
          [
           0,
           null
          ],
          [
           0,
           null
          ],
          [
           0,
           null
          ],
          [
           3,
           "<b>Hero Action</b> <i>(attack)</i>: Confuse an enemy. If you paid for this card using a [physical] resource, deal 3 damage to that enemy."
          ],
          [
           1,
           "<b>Alter-Ego Action</b>: Exhaust Conditioning Room → return the bottommost [[attack]] or [[thwart]] event from your discard pile to your hand. Heal 1 damage from Gamora."
          ],
          [
           0,
           "Connection to the Worldmind does not count toward your hand size."
          ],
          [
           2,
           "<b>Hero Action</b>: Heal 3 damage from Spider-Woman and give her a tough status card."
          ],
          [
           0,
           "Unit Cost 1.\n<b>Hero Action</b> <i>(attack)</i>: Discard the top 4 cards of your deck. For each different resource type discarded this way, deal 1 damage to an enemy. Draw 1 card."
          ],
          [
           0,
           "Attach to a minion. Max 1 per minion.\nEach ally takes -1 consequential damage ([consequential]) when attacking attached minion."
          ],
          [
           3,
           "Alliance. <i>(The players can pay this card's costs as a group.)</i>\n<b>Hero Action</b>: Choose an [[avenger]] character and a [[guardian]] character → ready each of those characters."
          ],
          [
           2,
           "<b>Hero Action</b> <i>(thwart)</i>: Remove 3 threat from a scheme and discard up to 4 cards from the top of your deck → remove 1 additional threat from that scheme for each different aspect discarded this way (Aggression, Justice, Leadership and Protection)"
          ],
          [
           2,
           "Captain Marvel gains the [[Aerial]] trait.\n<b>Hero Interrupt</b> (<i>defense</i>): When Captain Marvel would take damage, discard Cosmic Flight → prevent 3 of that damage."
          ],
          [
           1,
           "<b>Forced Interrupt</b>: When you reveal a treachery card, cancel its \"<b>When Revealed</b>\" effects and discard it. Then, discard Cosmic Ward"
          ],
          [
           0,
           null
          ],
          [
           2,
           "<b>Interrupt</b>: When Cosmo attacks or thwarts, name a card type, then discard the top card of the deck. If that card is of the named type, Cosmo does not take consequential damage (the damage under THW or ATK) for this use."
          ],
          [
           0,
           "<b>Response</b> (<i>attack</i>): After your hero defends against an enemy attack, deal damage to that enemy equal to your hero's ATK."
          ],
          [
           1,
           "Max 1 per player.\n<b>Hero Response</b> <i>(attack)</i>: After you take damage from an enemy attack, discard Counterattack → deal an equal amount of damage to that enemy."
          ],
          [
           2,
           "Max 1 per player.\n<b>Interrupt</b>: When any amount of threat would be placed on the main scheme, discard Counterintelligence → prevent 3 of that threat."
          ],
          [
           0,
           null
          ],
          [
           0,
           null
          ],
          [
           3,
           "<b>Action</b> <i>(thwart)</i>: Remove 4 threat from a scheme. Confuse the villain."
          ],
          [
           0,
           "Unit Cost 2.\n<b>Hero Action</b>: Draw 1 card and remove a status card from any character. If the status card type removed this way was:\n- Tough - Deal 3 damage to an enemy.\n- Stun - Remove 3 threat from a scheme.\n- Confuse - Heal 3 damage from an identity."
          ],
          [
           2,
           "<b>Alter-Ego Action</b> <i>(thwart)</i>: Remove 3 threat from a scheme. If this removes the last threat from that scheme, confuse the villain."
          ],
          [
           1,
           "Play under any player's control. Max 1 per player.\n<b>Alter-Ego Action</b>: Exhaust Crew Quarters → heal 1 damage from an alter-ego."
          ],
          [
           2,
           "<b>Special</b>: Stun an enemy and deal 7 damage to it. Place this card in the [[Invocation]] deck discard pile."
          ],
          [
           3,
           "<b>Hero Action</b> <i>(thwart)</i>: Remove 6 threat from the main scheme. If you paid for this card using a [mental] resource, this thwart ignores the crisis icon ([crisis])."
          ],
          [
           2,
           "<b>Hero Action</b> (<i>thwart</i>): Remove 2 threat from a scheme. Then, if you have the [[Aerial]] trait, remove 2 threat from a different scheme."
          ],
          [
           1,
           "<b>Hero Interrupt</b> <i>(attack/defense/thwart)</i>: When you would take any amount of damage, prevent 3 of that damage. Deal 1 damage to an enemy. Remove 1 threat from a scheme."
          ],
          [
           1,
           "You can only spend [physical] resources to pay for this card.\n<b>Hero Action</b> <i>(attack)</i>: Deal damage to an enemy equal to your ATK."
          ],
          [
           1,
           "While Nebula is in hero form, her attacks gain piercing and overkill.\n<b>Special</b> <i>(thwart)</i>: Remove 3 threat from a scheme."
          ],
          [
           2,
           "You get +3 hit points.\nWhile in hero form, Rocket Raccoon gets +1 ATK."
          ],
          [
           0,
           "<i>Optic Blast</i> - <b>Action</b> <i>(attack)</i>: Spend one resource of any type → deal 3 damage to an enemy with an upgrade attached. (Limit once per round)."
          ],
          [
           3,
           "<b>Response</b>: After Cyclops enters play, place 2 power counters on Phoenix Force.\n<b>Response</b>: When Cyclops leaves play, remove 2 power counters from Phoenix Force."
          ],
          [
           1,
           "<b>Hero Response</b>: After Drax makes a basic attack, draw 1 card."
          ],
          [
           3,
           "<b>Hero Action</b>: Make the following 3 attacks in order:\n- Deal 1 damage to an enemy.\n- Deal 2 damage to an enemy.\n- Deal 3 damage to an enemy."
          ],
          [
           2,
           "<b>Alter-Ego Response</b>: After an [[X-MEN]] ally enters play, exhaust Danger Room → search your deck and discard pile for a [[TRAINING]] upgrade and attach it to that ally. Any player whose alter-ego has the [[MUTANT]] trait may trigger this ability."
          ],
          [
           1,
           "Attach to an [[X-MEN]] ally. Max 1 [[TRAINING]] upgrade per ally.\nAttached ally gets +1 THW, +1 ATK, and +1 hit point."
          ],
          [
           4,
           "<b>Response</b>: After Daredevil thwarts, deal 1 damage to an enemy."
          ],
          [
           2,
           "<b>Response:</b> After Daredevil defends against an attack, move 1 damage from him to the attacking enemy."
          ],
          [
           0,
           "<b>Hero Action</b> Deal yourself 1 facedown encounter card → ready your hero and draw 1 card."
          ],
          [
           1,
           "Team-Up (Gamora and Nebula). Max 1 per deck.\n<b>Hero Action</b>: Draw 3 cards."
          ],
          [
           1,
           "Play under any player's control.\nMax 1 per player.\nWhile your hero's remaining hit points are equal to or greater than your hero's starting hit points, your hero gains retaliate 1."
          ],
          [
           4,
           "<b>Response</b>: After Dazzler enters play, confuse an enemy."
          ],
          [
           0,
           "Surge.\n<b>When Revealed</b>: Exhaust your identity. If you cannot, place 2 threat on the main scheme."
          ],
          [
           1,
           "Attach to an enemy.\n<b>Forced Interrupt</b>: When attached enemy is defeated, set this card aside, out of play. If Valkyrie defeated that enemy, ready her."
          ],
          [
           2,
           "<b>Hero Action</b> <i>(attack)</i>: Deal 4 damage to an enemy (7 damage instead if you have played a [[thwart]] event this turn)."
          ],
          [
           0,
           "<b>Hero Action</b> <i>(thwart)</i>: Discard cards from the top of the encounter deck until you discard a minion. Put that minion into play engaged with you → remove 3 threat from a scheme."
          ],
          [
           1,
           "<b>Hero Response</b>: After your hero uses a basic power, discard Defense Mechanism → resolve Spider-Man's <i>\"Spider Camouflage\"</i> ability."
          ],
          [
           0,
           "Max 2 per deck.\n<b>Hero Interrupt</b>: When you spend this card to play a [[Defense]] event, draw 1 card."
          ],
          [
           0,
           null
          ],
          [
           2,
           "Max 1 per player.\n<b>Hero Interrupt</b>: When you would take any amount of damage, discard Defensive Stance → prevent 3 of that damage."
          ],
          [
           1,
           "Max 2 per deck. Uses (2 training counters).\n<b>Alter-Ego Action</b>: Exhaust this card and remove 1 training counter from this → choose a Protection (green) event in your discard pile and shuffle it into your deck."
          ],
          [
           0,
           "<b>Hero Interrupt</b> <i>(defense)</i>: When a boost card on an enemy attacking you would be turned faceup, discard it instead."
          ],
          [
           2,
           "<b>Hero Interrupt</b>: When an identity would take any amount of damage from an attack, prevent up to 5 of that damage. Discard cards from the top of your deck equal to the amount prevented this way."
          ],
          [
           1,
           "Max 1 per player.\n<b>Hero Action</b>: Exhaust Deft Focus → reduce the resource cost of the next [[superpower]] card you play this turn by 1."
          ],
          [
           1,
           "Unit Cost 3.\n<b>Hero Action</b> <i>(attack)</i>: Deal 5 damage to an enemy and discard the top card of the encounter deck? Take 1 damage for each boost icon <i>(</i>[boost]<i>)</i> discarded this way."
          ],
          [
           1,
           "<b>Hero Response:</b> After you change mass form, discard this card → add a Vision event from your discard pile to your hand."
          ],
          [
           1,
           "<b>Hero Interrupt</b> <i>(defense)</i>: When your hero defends against an attack, it gets +2 DEF for that attack. If you take no damage from that attack, ready your hero."
          ],
          [
           0,
           "Max 1 per deck.\n<b>Hero Response</b>: After you spend this card, remove 1 threat from the main scheme."
          ],
          [
           0,
           null
          ],
          [
           4,
           "Play only if your identity has the [[aerial]] trait.\n<b>Hero Action</b> <i>(attack)</i>: Deal 7 damage to an enemy. Deal 1 damage to each other enemy."
          ],
          [
           0,
           "<i>Spell Mastery</i> — <b>Action</b>: Exhaust Doctor Strange and pay the cost of the top card of the [[Invocation]] deck → resolve the \"<b>Special</b>\" ability on that card."
          ],
          [
           1,
           "Max 1 per round.\n<b>Action</b>: Change your form. If you paid for this card using a [physical] resource, ready your identity."
          ],
          [
           2,
           "<b>Hero Action</b>: Choose two of the following (you may choose the same option twice):\n- Deal 2 damage to an enemy.\n- Remove 2 threat from a scheme."
          ],
          [
           1,
           "Play under any player's control. Max 1 per player.\nYour alter-ego gets +2 REC."
          ],
          [
           1,
           "Restricted.\nValkyrie gets +1 ATK (+2 ATK instead while attacking the enemy with Death-Glow attached)."
          ],
          [
           0,
           "(?)"
          ],
          [
           3,
           "Play only if your identity has the [[guardian]] trait.\nDrax cannot attack minions."
          ],
          [
           1,
           "Restricted (Max 2 restricted cards per player.)\nWhile in hero form, Drax gets +1 ATK."
          ],
          [
           1,
           "Restricted (Max 2 restricted cards per player.)\nWhile in hero form, Drax gains retaliate 1."
          ],
          [
           3,
           "<b>Hero Action</b> <i>(attack)</i>: Deal 4 damage to an enemy. If you paid for this card using only [physical] resources, stun that enemy and draw 1 card."
          ],
          [
           5,
           "<b>Interrupt</b>: When you use one of Dum Dum Dugan's basic powers, exhaust up to 3 [[S.H.I.E.L.D.]] cards you control. For each card exhausted this way, Dum Dum Dugan gets +1 to that power for this use."
          ],
          [
           3,
           "[star] <b>Interrupt</b>: When Dust attacks a minion, she attacks each minion in play. Dust takes +1 consequential damage ([consequential]) after this attack."
          ],
          [
           0,
           "<b>Hero Action</b>: Exhaust an [[avenger]] character you control → ready another [[avenger]] character you control."
          ],
          [
           0,
           "Max 2 per deck.\n<b>Interrupt</b>: When you spend this card to play an ally, that ally gets +1 THW and +1 ATK until the end of the phase."
          ],
          [
           0,
           "<b>Hero Action:</b> Discard Ejection Protocol → exhaust each [[Interface]] upgrade you control, set your hit point dial to 6, give your identity a tough status card, and flip to alter-ego form."
          ],
          [
           2,
           "<b>Hero Action</b> <i>(attack)</i>: Exhaust Hawkeye's Bow → stun an enemy and deal 3 damage to it (5 damage instead if it is already stunned)."
          ],
          [
           1,
           "Player under any player's control.\nMax 1 per player.\n<b>Response</b>: After you defend against an attack, deal 1 damage to the attacking character."
          ],
          [
           3,
           "Restricted.\n<b>Hero Action</b> <i>(attack)</i>: Exhaust Element Gun and spend 1 resource of any type → deal 3 damage to an enemy. This attack gains piercing."
          ],
          [
           2,
           "<b>Hero Interrupt</b>: When you play an [[Attack]] event, exhaust Embiggen! → increase the amount of damage that event deals by 2."
          ],
          [
           0,
           "<b>Interrupt</b> (<i>thwart</i>): When the villain schemes, reduce the amount of threat placed on the scheme by 1."
          ],
          [
           0,
           "Setup.\n<b>Hero Action:</b> Discard this card and remove it from the campaign log → search your deck and discard pile for an ally, put it into play, and give it a tough status card."
          ],
          [
           1,
           "Play under any player's control. Max 1 per player.\nYou get +3 hit points."
          ],
          [
           0,
           null
          ],
          [
           0,
           "Max 1 per deck."
          ],
          [
           0,
           null
          ],
          [
           2,
           "Uses (3 reflection counters). <b>Interrupt:</b> When you would take any amount of damage, remove 1 reflection counter from here → prevent 1 of that damage and deal 1 damage to an enemy."
          ],
          [
           0,
           "Max 1 per player.\n<b>Action</b>: Spend X [energy] resources → put X energy counters here.\n<b>Hero Action</b> (<i>attack</i>): Discard Energy Channel → deal 2 damage to an enemy (to a maximum of 10) for each energy counter here."
          ],
          [
           2,
           "<b>Special</b>: Choose a player. Deal 1 damage to the villain and to each enemy engaged with that player (2 damage instead if this is the final step of this sequence).\n<i>(Play the \"Wakanda Forever!\" event to use this ability.)</i>"
          ],
          [
           2,
           "<b>Hero Resource:</b> Exhaust Energy Duplication → generate the printed resource on your faceup energy form upgrade."
          ],
          [
           1,
           "Attach to a [[guardian]] ally. Max 1 per ally.\nAttached ally gets +2 ATK and gains piercing."
          ],
          [
           2,
           "<b>Hero Action</b>: Attach Touched to a character other than Rogue and deal 2 damage to that character → heal 2 damage from Rogue and ready her. You gain each of the attached character's [[TRAITS]] until the end of the round."
          ],
          [
           2,
           "Uses (3 mental counters).\n<b>Hero Resource</b>: Exhaust Enhanced Awareness and remove 1 mental counter from it → generate a [mental] resource."
          ],
          [
           2,
           "Uses (3 physical counters).\n<b>Hero Resource</b>: Exhaust Enhanced Physique and remove 1 physical counter from it → generate a [physical] resource."
          ],
          [
           2,
           "Uses (3 energy counters). <b>Hero Resource:</b> Exhaust Enhanced Reflexes and remove 1 energy counter from it → generate a [energy] resource."
          ],
          [
           1,
           "<b>Hero Interrupt</b>: When a treachery card is revealed from the encounter deck, cancel its \"<b>When Revealed</b>\" effects."
          ],
          [
           1,
           "Attach to an ally. Max 1 per ally.\nAttached ally gets +2 ATK and takes +1 consequential damage after it attacks."
          ],
          [
           1,
           "<b>Hero Interrupt</b>: When Groot makes a basic thwart, remove 1 growth counter from him and exhaust Entangling Vines → Groot gets +2 THW for that thwart."
          ],
          [
           2,
           "<b>Response:</b> After you play Eros from your hand, confuse a minion for each [mental] resource you used to pay for him."
          ],
          [
           1,
           "Play only if you control a [[Spy]] character.\n<b>Interrupt</b>: When the surge keyword on an encounter card would be resolved, discard Espionage → draw 2 cards."
          ],
          [
           2,
           "<b>Action</b>: Shuffle this card into the encounter deck (without looking)\n<b>When Revealed</b>: Draw 1 card and remove this card from the game. This effect cannot be canceled."
          ],
          [
           1,
           "While in hero form, Nebula ignores the guard keyword, the patrol keyword, and the crisis icon.\n<b>Special</b> : Choose to either sun or confuse an enemy."
          ],
          [
           2,
           "Requirement ([energy]).\n<b>Hero Action</b> <i>(thwart)</i>: Remove 1[per_hero] threat from each side scheme. Deal 1 damage to the villain for each side scheme defeated this way."
          ],
          [
           2,
           "Play only if your identity has the [[aerial]] trait.\n<b>Hero Action</b>: Ready your hero and remove 2 threat from the main scheme."
          ],
          [
           0,
           "While your identity has the [[Civilian]] trait, this card can be spent for any player and gains the text: \"<b>Response</b>: After you spend this card for a player, heal 1 damage from that player's identity.\""
          ],
          [
           0,
           "<b>Hero Interrupt</b> <i>(defense)</i>: When your hero defends against an attack, it gets +3 DEF for that attack."
          ],
          [
           1,
           "<b>Resource</b>: Exhaust Expert Marksman → generate a [wild] resource for an [[Arrow]] event."
          ],
          [
           1,
           "Attach to an enemy. Max 1 per enemy.\nTemporary.\nIncrease the amount of damage attached enemy takes from each attack by 1."
          ],
          [
           1,
           "<b>Hero Action</b>: Exhaust Hawkeye's Bow and choose a player → deal 3 damage to the villain and each minion engaged with that player."
          ],
          [
           4,
           "(?)"
          ],
          [
           0,
           null
          ],
          [
           1,
           "Team-Up (Colossus and Wolverine). Max 1 per deck.\n<b>Hero Action</b> <i>(attack)</i>: Deal X damage to an enemy, where X is the total ATK of Colossus and Wolverine. This attack gains overkill and piercing."
          ],
          [
           0,
           "<b>Hero Action</b>: Captain America gets +1 THW until the end of the phase. Draw 1 card."
          ],
          [
           0,
           null
          ],
          [
           1,
           "<b>Alter-Ego Action</b>: Exhaust Fertile Ground → place 1 growth counter on Groot (to a maximum of 10) and draw 1 card."
          ],
          [
           1,
           "Uses (3 backup counters).\n<b>Hero Interrupt</b>: When a [[S.H.I.E.L.D.]] ally would take any amount of consequential damage, exhaust Field Agent and remove 1 backup counter from it → prevent 1 of that damage."
          ],
          [
           1,
           "You take the first turn during the player phase. <i>(When your turn is done, play proceeds in player order, starting with the first player. You do not take another turn.)</i>\nEach Cyclops upgrade attached to a minion loses the temporary keyword."
          ],
          [
           2,
           "<b>Hero Action</b> <i>(attack)</i>: Deal 2 damage to the villain (5 damage instead if your hero's remaining hit points are equal to or greater than your hero's starting hit points)."
          ],
          [
           0,
           null
          ],
          [
           0,
           null
          ],
          [
           2,
           "<b>Hero Resource</b>: Exhaust Finesse → generate a [wild] resource for an aspect card."
          ],
          [
           1,
           "<b>Action</b>: Heal 2 damage from any character."
          ],
          [
           1,
           "<b>Hero Action</b> <i>(Attack)</i>: Deal 2 damage to the villain.\n<b>Hero Interrupt</b> <i>(Attack)</i>: When a minion initiates an attack, deal 2 damage to that minion."
          ],
          [
           1,
           "<b>Hero Interrupt</b> <i>(defense)</i>: When the villain attacks you, the villain and each minion engaged with you get -3 ATK while attacking you this phase. If Blizzard is in play, resolve its \"<b>Special</b>\" ability."
          ],
          [
           0,
           "You can control 1 additional upgrade that has the restricted keyword.\n<i>Armed and Ready</i> - <b>Setup</b>: Discard cards from the top of your deck until you discard a [[weapon]] upgrade, then add that card to your hand."
          ],
          [
           2,
           "<b>Response</b>: After the enemy with Death-Glow is defeated, discard Flight of the Valkyrior → remove 5 threat from a scheme."
          ],
          [
           1,
           "Team-Up (Groot and Rocket Raccoon).\nMax 1 per deck\n<b>Hero Action</b>: Place 2 growth counters on Groot (to a maximum of 10) and ready him, or place 2 charge counters on a Rocket Raccoon upgrade and ready that upgrade."
          ],
          [
           2,
           "Play under any player's control. Max 1 per player.\n<b>Response:</b> After you play a [[Defense]] card, deal 1 damage to the attacking enemy."
          ],
          [
           1,
           "<b>Hero Response</b>: After you play an [[Attack]] event, exhaust this card → your hero gets +1 ATK until the end of the phase. (Max 1 per [[Attack]] event.)"
          ],
          [
           2,
           "<b>Hero Action</b> <i>(thwart)</i>: Remove 3 threat from a scheme and place 1 progress counter on Ironheart (2 progress counters instead if this thwart removes the last threat from that scheme)."
          ],
          [
           3,
           "<b>Hero Action</b>: Exhaust Focused Rage and take 1 damage → draw 1 card."
          ],
          [
           0,
           "<b>Interrupt</b>: When a boost card is turned faceup during a scheme activation, cancel its boost icons."
          ],
          [
           2,
           "<b>Hero Interrupt</b>: When your hero's attack deals any amount of excess damage, increase that amount by 1."
          ],
          [
           1,
           "Attach to a side scheme. Max 1 per scheme.\n<b>Response</b>: When attached scheme is defeated, deal 4 damage to an enemy."
          ],
          [
           1,
           "<b>Alter-Ego Action</b>: Search your deck and discard pile for a card with the [[Asgard]] trait and add it to your hand. Shuffle your deck."
          ],
          [
           2,
           "<b>Hero Action</b> (<i>thwart</i>): Remove 3 threat from a scheme (4 threat instead if you paid for this card using a [mental] resource)."
          ],
          [
           3,
           "Uses (6 energy counters). Max 1 per player.\n<b>Forced Interrupt:</b> When you would take any amount of damage, remove that many energy counters from here. For each energy counter removed this way, prevent 1 of that damage."
          ],
          [
           1,
           "<b>Hero Interrupt</b>: When a friendly character would take any amount of damage from an attack, prevent 3 of that damage. If you paid for this card using a [wild] resource, deal 3 damage to an enemy."
          ],
          [
           2,
           "<b>Response</b>: After Forge enters play, search your deck and discard pile for an [[X-MEN]] or [[X-FORCE]] support and add it to your hand. <i>(Shuffle.)</i>"
          ],
          [
           0,
           null
          ],
          [
           2,
           "<b>Hero Action</b> <i>(thwart)</i>: Remove 3 threat from a scheme (5 threat instead if you have played an [[attack]] event this turn)."
          ],
          [
           3,
           "<b>Hero Response:</b> After you ready Quicksilver, ready this card.\n<b>Resource:</b> Exhaust Friction Resistance → generate a [physical] resource."
          ],
          [
           0,
           null
          ],
          [
           0,
           "<b>Action</b>: Place 2 growth counters on Groot (to a maximum of 10)."
          ],
          [
           0,
           "Surge.\nHinder 3[per_hero]. <i>(When revealed, place 3[per_hero] threat here.)</i>"
          ],
          [
           2,
           "<b>Hero Action</b> <i>(attack)</i>: Remove 4 ammo counters from War Machine and choose an enemy → deal 8 damage to that enemy. This attack gains overkill."
          ],
          [
           1,
           "<b>Hero Interrupt</b>: When you use your <i>\"Optic Blast\"</i> ability, exhaust Cyclops → this attack deals 8 additional damage and gains overkill."
          ],
          [
           2,
           "<b>Hero Action</b> <i>(attack)</i>: Exhaust a [[weapon]] upgrade you control → deal 5 damage to an enemy."
          ],
          [
           0,
           "(?)"
          ],
          [
           0,
           "<i>Charge de Card</i> − <b>Action</b>: Place 1 charge counter here. (Limit once per round).\n<i>Throw de Card</i> − <b>Interrupt</b>: When you play an [[ATTACK]] event, remove up to 3 charge counters from here → that event deal +1 damage for each counter removed."
          ],
          [
           3,
           "Gambit enters play with 3 charge counters on him.\n[star]<b>Interrupt</b>: When Gambit attacks, remove 1 charge counter from him → deal 1 damage to an enemy."
          ],
          [
           1,
           "<b>Hero Response</b>: After Gambit defends against an attack and takes no damage, exhaust Gambit's Guild Armor → ready Gambit."
          ],
          [
           1,
           "<b>Hero Interrupt</b>: When an enemy attacks, exhaust Gambit's Staff → deal 1 damage to that enemy."
          ],
          [
           0,
           "<b>Hero Action</b>: Choose an ally with a [[TRAINING]] upgrade attached → ready that ally and heal 1 damage from it."
          ],
          [
           0,
           "Energy form. Permanent.\nSpectrum gets +2 ATK.\n<b>Hero Response:</b> After you change to this form, deal 1 damage to an enemy."
          ],
          [
           3,
           "<b>Hero Action</b> <i>(attack)</i>: Change to Gamma energy form and deal 7 damage to an enemy. If you were already in Gamma energy form, this attack gains overkill."
          ],
          [
           4,
           "<b>Hero Action</b> (<i>attack</i>): Deal X damage to an enemy (to a maximum of 15). X is the amount of damage you have sustained."
          ],
          [
           0,
           "(?)"
          ],
          [
           3,
           "Play only if your identity has the [[guardian]] trait.\n<b>Hero Response</b>: After Gamora attacks or thwarts, discard cards from the top of your deck until you discard an event, then add that card to your hand."
          ],
          [
           3,
           "<b>Response:</b> After you play Gamora, choose a [[technique]] upgrade you control, then resolve its \"Special\" ability."
          ],
          [
           3,
           "Restricted.\n<b>Response</b>: After you play an [[attack]] event, deal 1 damage to an enemy."
          ],
          [
           2,
           "<b>Action</b>: Exhaust Ganke Lee → draw 1 card. If you are in hero form, choose and discard 1 card from your hand."
          ],
          [
           0,
           "Attach to a minion.\nAttached minion gets +2 hit points and gains patrol.\n<b>Interrupt</b>: When attached minion is defeated, remove 4 threat from the main scheme."
          ],
          [
           2,
           "<b>Resource</b>: Exhaust Gauntlet Gun → generate a [wild] resource for a War Machine event and place 1 ammo counter on War Machine."
          ],
          [
           0,
           "Max 1 per deck."
          ],
          [
           3,
           "[star] Gentle takes +1 consequential damage ([consequential]) after he attacks the villain."
          ],
          [
           1,
           "Events attached to George Stacy may be played as if they were in your hand.\n<b>Action</b>: Exhaust George Stacy → attach 1 event from your hand facedown here (to a maximum of 3)."
          ],
          [
           1,
           "<b>Hero Interrupt</b>: When a treachery card is revealed from the encounter deck, cancel its \"<b>When Revealed</b>\" effects. The villain attacks you instead."
          ],
          [
           0,
           "<b>Hero Action</b> <i>(attack)</i>: Deal 1 damage to a minion. If you have the [[Aerial]] trait, engage that enemy."
          ],
          [
           0,
           "<b>Action</b>: Ready an ally."
          ],
          [
           2,
           "<b>Hero Response</b> <i>(attack)</i>: After Ghost-Spider uses a basic power, deal 6 damage to an enemy. (Max 1 per basic power use.)"
          ],
          [
           0,
           "<i>Dizzying Reflexes</i> - <b>Response:</b> After you resolve an \"<b>Interrupt</b>\" or \"<b>Response</b>\" ability on an event, ready Ghost-Spider. (Limit once per phase.)"
          ],
          [
           3,
           "Play only if you control a [[Web-Warrior]] card.\n<b>Interrupt</b>: When Ghost-Spider leaves play, search your deck for an identity-specific event and add it to your hand. <i>(Shuffle.)</i>"
          ],
          [
           2,
           "<b>Hero Action</b> <i>(thwart)</i>: Remove 3 threat from a scheme (remove a total of 4 threat divided among schemes as you choose instead if you are in [[Giant]] hero form)."
          ],
          [
           3,
           "Play only if you are in [[Giant]] hero form.\n<b>Hero Action</b> <i>(attack)</i>: Deal 1 damage to each minion. Deal 8 damage to an enemy."
          ],
          [
           1,
           "<b>Hero Response:</b> After you change to [[Giant]] hero form, you get +1 ATK until the end of this turn."
          ],
          [
           5,
           "Giant-Man gets +2 ATK while he has 3 or more remaining hit points."
          ],
          [
           0,
           "<b>Action</b>: Exhaust 1 [[S.H.I.E.L.D.]] card you control → look at the top 4 cards of a player deck or the encounter deck. Discard any number of those, and put the others on the top and/or bottom of that deck in any order."
          ],
          [
           2,
           "Requirement ([energy]). <i>(While paying for this card, spend the listed resources.)</i>\n<b>Hero Action</b> <i>(attack)</i>: Exhaust your hero → deal damage to an enemy equal to the total of your hero's THW, ATK, and DEF values."
          ],
          [
           0,
           "<b>Hero Action</b>: Discard an ally your control → deal damage to an enemy equal to that ally's printed cost."
          ],
          [
           2,
           "<b>Hero Resource</b>: Exhaust God of Thunder → generate a [energy] resource."
          ],
          [
           0,
           "Play only if your identity has the [[asgard]] trait.\n<b>Action</b>: Heal 2 damage from your identity. You may discard a status card from your identity."
          ],
          [
           3,
           "Restricted.\n<b>Hero Interrupt</b>: When your hero makes a basic attack against a unique enemy, exhaust Godslayer → your hero gets +2 ATK for that attack."
          ],
          [
           2,
           "<b>Hero Action</b> <i>(thwart)</i>: Remove 3 threat from a scheme. If Rogue has:\n• [[AERIAL]], remove 2 additional threat.\n• Retaliate, confuse an enemy.\n• Stalwart, draw 1 card."
          ],
          [
           4,
           "<b>Action</b>: Goliath gets +4 ATK until the end of the phase. At the end of the phase, discard Goliath. (Max once per phase.)"
          ],
          [
           2,
           "<b>Hero Action</b>: Exhaust Government Liaison → play a [[S.H.I.E.L.D.]] card from your hand, reducing its resource cost by 1."
          ],
          [
           0,
           "Unit Cost 7.\n<b>Hero Action</b>: Draw up to your maximum hand size. Remove this card from the game."
          ],
          [
           0,
           "Unit Cost 2.\n<b>Hero Action</b>: Deal 1 damage to an enemy and stun it. Stun your hero. Draw 1 card."
          ],
          [
           2,
           "<b>Hero Interrupt</b>: When you reveal a treachery, discard Grappling Hook → cancel the effects of that treachery and discard it."
          ],
          [
           2,
           "<b>Hero Interrupt</b> <i>(defense)</i>: When the villain initiates an attack against you, cancel that attack. If you paid for this card using only [physical] resources, stun the villain."
          ],
          [
           0,
           "<b>Hero Interrupt</b>: When any amount of threat would be placed on a scheme, you take it as damage instead."
          ],
          [
           0,
           "(?)"
          ],
          [
           3,
           "Play only if your identity has the [[guardian]] trait.\n<b>Response</b>: After Groot defends against an attack, heal 2 damage from him."
          ],
          [
           2,
           "<b>Hero Action</b>: Deal 1 damage to each enemy."
          ],
          [
           0,
           null
          ],
          [
           2,
           "Play under any player's control. Max 1 [[team]] card per player.\nIf each of your characters has the [[guardian]] trait, this card gains: \"<b>Response</b>: After you play an upgrade on an ally, draw 1 card.\""
          ],
          [
           0,
           "(?)"
          ],
          [
           2,
           "<b>Hero Action</b> <i>(thwart)</i>: Remove 2 threat from a scheme. Remove 2 additional threat from that scheme for each facedown encounter card in front of you."
          ],
          [
           0,
           "<b>Action:</b> Choose to either shuffle Ticket to the Multiverse from your discard pile into your deck or ready George Stacy. (Limit once per round.)"
          ],
          [
           0,
           null
          ],
          [
           2,
           "<b>Response:</b> After you defeat a minion, place 1 glory counter here.\n<b>Alter-Ego Action:</b> Exhaust Hall of Heroes and remove 3 glory counters from it → draw 3 cards."
          ],
          [
           0,
           "<b>Hero Action</b> <i>(thwart)</i>: Remove 1 threat from a scheme for each toon counter on Spider-Ham."
          ],
          [
           3,
           "<b>Hero Action</b> <i>(attack)</i>: Exhaust Mjolnir → deal 8 damage to an enemy and return Mjolnir to your hand. This attack gains overkill."
          ],
          [
           2,
           "Restricted. Uses (3 charge counters).\n<b>Hero Interrupt</b>: When your hero makes a basic attack, exhaust Hand Cannon and remove 1 charge counter from it → your hero gets +2 ATK for that attack. That attack gains overkill."
          ],
          [
           1,
           "Max 1 per player.\n<b>Response</b>: After an ally defends against an attack and is not defeated, exhaust this card → ready that ally."
          ],
          [
           3,
           "<b>Hero Action</b> <i>(attack)</i>: Deal 4 damage to an enemy. If that enemy is defeated by this attack, give your hero a tough status card."
          ],
          [
           1,
           "<b>Hero Response</b>: After your hero defends against an attack and takes no damage, exhaust Hard to Ignore → remove 1 threat from the main scheme."
          ],
          [
           3,
           "<b>Hero Action</b>(attack): Deal 7 damage to an enemy. If that enemy has Death-Glow attached, this attack gains overkill."
          ],
          [
           4,
           "[star] <b>Forced Interrupt</b>: When Havok attacks, discard the top card of the encounter deck. For each boost icon ([boost]) discarded this way, Havok gets +1 ATK for this attack and takes +1 consequential damage ([consequential])."
          ],
          [
           0,
           "\"Quick Draw\" — <b>Action</b>: Exhaust Hawkeye → ready Hawkeye's bow."
          ],
          [
           "(?)",
           "(?)"
          ],
          [
           0,
           "Restricted.\nYour hero gets +1 ATK and each of your [[Arrow]] attacks gain ranged."
          ],
          [
           1,
           "You may play [[Arrow]] events attached to this card as if they were in your hand.\n<b>Hero Action</b>: Exhaust Hawkeye's Quiver → search the top 5 cards of your deck for an [[Arrow]] event and attach it faceup to this card."
          ],
          [
           2,
           "<b>Hero Action</b> (<i>attack</i>): Deal 3 damage to an enemy."
          ],
          [
           0,
           "Surge. Patrol. <i>(While this minion is engaged with you, you cannot thwart the main scheme.)</i>"
          ],
          [
           0,
           "Unit Cost 4.\n<b>Hero Action</b>: Exhaust Heavy Cannon → deal 1 damage to each enemy. If you control the Milano, deal 1 additional damage to the villain."
          ],
          [
           1,
           "While your identity has the [[Aerial]] trait, reduce the amount of damage you take from each enemy attack by 1.\n<b>Forced Interrupt</b>: When your turn begins, discard this card."
          ],
          [
           5,
           "<b>Response:</b> After Heimdall enters play, look at the top 3 cards of the encounter deck. Discard 1 of them and put the others back in any order."
          ],
          [
           3,
           "Max 1 per player.\n<b>Action</b>: Exhaust Helicarrier → choose a player. Reduce the resource cost of the next card that player plays this phase by 1."
          ],
          [
           3,
           "<b>Action</b>: Return Hellcat to your hand."
          ],
          [
           0,
           null
          ],
          [
           6,
           "Reduce the cost to play Hercules by 1 for each minion engaged with you."
          ],
          [
           0,
           null
          ],
          [
           2,
           "Play under any player's control. Max 1 per player.\nYour hero gets +1 THW."
          ],
          [
           3,
           "<b>Hero Action</b> <i>(attack)</i>: Deal 6 damage to an enemy. If you paid for this card using a [physical] resource, stun that enemy."
          ],
          [
           2,
           "<b>Hero Action</b>: Discard the top 3 cards of the encounter deck. For each card discarded this way that has boost icons equal to:\n- 0, deal 2 damage to an enemy.\n- 1, remove 2 threat from a scheme.\n- 2, draw 1 card.\n- 3+, place a status card on a character."
          ],
          [
           3,
           "<b>Hero Action</b> <i>(attack/thwart)</i>: Deal 2 damage to an enemy. Remove 2 threat from a scheme."
          ],
          [
           2,
           "Play only if you are in [[Tiny]] hero form.\n<b>Hero Action</b> <i>(thwart)</i>: Remove 2 threat from a scheme. Remove 1 additional threat from that scheme for each Army of Ants support you control."
          ],
          [
           0,
           null
          ],
          [
           1,
           "<b>Hero Action:</b> Remove 1 toon counter from Spider-Ham → loudly read this card's flavor text. Choose to either deal 5 damage to a minion or remove 5 threat from a side scheme."
          ],
          [
           0,
           "<b>Action</b>: Exhaust up to 3 [[S.H.I.E.L.D.]] cards you control and choose a scheme → remove 2 threat from that scheme for each card exhausted this way."
          ],
          [
           3,
           "Requirement ([mental][mental]). Max 1 per player.\n<b>Interrupt</b>: When you play an Aggression [[Attack]] event, if you paid for that event using a [mental] resource, increase the amount of damage that event deals by its printed cost."
          ],
          [
           0,
           "Play only if your identity has the [[Avenger]] trait.\nAttach to a friendly character.\nAttached character gets +1 hit point and gains the [[Avenger]] trait."
          ],
          [
           0,
           "Play only if your identity has the [[guardian]] trait.\nAttach to a friendly character. Max 1 per character.\nAttached character gets +1 hit point and gains the [[guardian]] trait."
          ],
          [
           0,
           "Play only if your identity has the [[X-MEN]] trait.\nAttach to a friendly character. Max 1 per character.\nAttached character gets +1 hit point and gains the [[X-MEN]] trait."
          ],
          [
           3,
           "<b>Hero Action:</b> Exhaust Host Spider → ready SP//dr Suit."
          ],
          [
           2,
           "Spider-Ham gets +1 ATK.\n<b>Hero Interrupt:</b> When Spider-Ham makes a basic attack, exhaust Huge Wooden Hammer and remove 1 toon counter from Spider-Ham → Spider-Ham gets +2 ATK for that attack. That attack gains overkill."
          ],
          [
           0,
           "\"Enraged\" — <b>Forced Interrupt</b>: When your turn ends, discard your hand."
          ],
          [
           2,
           "<b>Forced Response</b>: After Hulk attacks, discard the top card of your deck. If that card's printed resource has:\n[physical] - Deal 2 damage to an enemy.\n[energy] - Deal 1 damage to each character.\n[mental] - Discard Hulk.\n[wild] - All of the above."
          ],
          [
           3,
           "<b>Hero Interrupt</b>: When you make a basic attack, you get +10 ATK for that attack. If you paid for this card using only [physical] resources, that attack gains overkill."
          ],
          [
           0,
           "Permanent.\nEach character gains retaliate 1.\n<b>Special</b>: Remove 2 threat from a scheme."
          ],
          [
           2,
           "Quicksilver gets +1 THW."
          ],
          [
           1,
           "Unit Cost 4.\n<b>Hero Action</b>: Exhaust Hyper Thrusters → remove 1 threat from each scheme. If you control the Milano, remove 1 additional threat from the main scheme."
          ],
          [
           1,
           "<b>Hero Response</b>: After you make a basic thwart (using your THW), ready Rocket Raccoon. Rocket Raccoon gets +1 THW while in hero form until the end of the phase."
          ],
          [
           3,
           "Iceman enters play with 3 freeze counters on him.\n<b>Response</b>: After a minion enters play, remove 1 freeze counter from Iceman → stun that minion."
          ],
          [
           1,
           "<b>Special</b>: Confuse the villain and remove 4 threat from a scheme. Place this card in the [[Invocation]] deck discard pile."
          ],
          [
           3,
           "You get +4 hit points.\nHulk gains retaliate 1."
          ],
          [
           0,
           null
          ],
          [
           2,
           "<b>Hero Action</b> <i>(thwart)</i>: Remove 3 threat from the main scheme. If this is the first card you have played this round, return this card to your hand."
          ],
          [
           0,
           "Permanent. Setup.\nYou get +1 hit points.\nYour hero gets +1 ATK.\n<b>Hero Response:</b> After you defeat a minion, exhaust this card → draw 1 card."
          ],
          [
           0,
           "Permanent. Setup.\nYou get +3 hit points.\nYour hero gets +1 DEF.\n<b>Hero Response:</b> After you defend against an attack, exhaust this card → draw 1 card."
          ],
          [
           0,
           "Permanent. Setup.\nYou get +4 hit points.\nYour alter-ego gets +1 REC.\n<b>Response:</b> After you use your REC, exhaust this card → draw 1 card."
          ],
          [
           0,
           "Permanent. Setup.\nYou get +2 hit points.\nYour hero gets +1 THW.\n<b>Response:</b> After you defeat a side scheme, exhaust this card → draw 1 card."
          ],
          [
           0,
           null
          ],
          [
           0,
           "Unit Cost 1.\n<b>Hero Interrupt</b>: When an identity would take any amount of damage from an attack, prevent 2 of that damage. Draw 1 card."
          ],
          [
           1,
           "Unit Cost 3.\n<b>Hero Action</b> <i>(thwart)</i>: Take 2 damage. Remove 5 threat from a scheme."
          ],
          [
           2,
           "<b>Action</b>: Shuffle this card into the encounter deck (without looking)\n<b>When Revealed</b>: Deal 2 damage to the villain and remove this card from the game. This effect cannot be canceled."
          ],
          [
           1,
           "<b>Hero Action</b> <i>(thwart)</i>: Remove a total of 3 threat from among schemes in play."
          ],
          [
           1,
           "<b>Response</b>: After your hero defends, discard indomitable → ready your hero."
          ],
          [
           2,
           "Play only if your identity has the [[Genius]] trait. Max 1 per player.\n<b>Resource</b>: Exhaust Ingenuity → generate a [mental] resource."
          ],
          [
           0,
           "Max 1 per deck.\n<b>Hero Response</b>: After you spend this card, heal 1 damage from an ally you control."
          ],
          [
           1,
           "Attach to an ally. Max 1 per ally.\nAttached ally gets +1 THW and +1 ATK."
          ],
          [
           1,
           "Play only if your identity has the [[Avenger]] trait.\n<b>Hero Action</b>: Heal 1 damage from an ally and ready it."
          ],
          [
           0,
           "Mass form. Permanent.\nVision cannot attack or defend.\nReduce the amount of damage Vision takes from each attack by 2."
          ],
          [
           1,
           "<b>Hero Response</b>: After you ignore the crisis icon ([crisis]) on a scheme, exhaust Intangible Interference → remove 2 threat from that scheme."
          ],
          [
           1,
           "Max 1 per player.\n<b>Response</b>: After you defeat a minion, exhaust Interrogation Room → remove 1 threat from a scheme."
          ],
          [
           1,
           "<b>Hero Action</b> <i>(thwart)</i>: Remove X threat from a scheme, where X is equal to your ATK."
          ],
          [
           3,
           "<b>Hero Action</b> <i>(attack)</i>: Deal 6 damage to a minion. For each point of excess damage dealt by this attack, remove 1 threat from the main scheme."
          ],
          [
           3,
           "<b>Hero Action</b>: Give your hero a tough status card."
          ],
          [
           4,
           "Iron First enters play with 2 mystic counters on him.\n<b>Response</b>: When Iron Fist attacks an enemy, remove 1 mystic counter from him → stun that enemy and deal 1 damage to it."
          ],
          [
           0,
           "You get +1 hand size for each [[Tech]] upgrade you control (to a maximum hand size of 7)."
          ],
          [
           4,
           "Reduce the cost to play each upgrade on Iron Man by 1."
          ],
          [
           3,
           "<b>Response:</b> After Iron Man enters play, search your deck and discard pile for a [[tech]] upgrade and add it to your hand. Shuffle your deck."
          ],
          [
           2,
           "Colossus gets +1 THW.\n<b>Response</b>: After a tough status card is discarded from Colossus, draw 1 card."
          ],
          [
           0,
           "(?)"
          ],
          [
           2,
           "<b>Response</b>: After you play Ironheart from your hand, draw 1 card."
          ],
          [
           4,
           "<b>Response:</b> After Jack Flag thwarts, place 1 ammo counter on him.\n<b>Hero Action</b>: Exhaust Jack Flag and remove 1 ammo counter from him → deal 2 damage to an enemy."
          ],
          [
           0,
           "<b>Action</b>: Choose a War Machine card in your discard pile and shuffle it into your deck.\n<b>Forced Response</b>: After you change to this form, discard each ammo counter from your identity."
          ],
          [
           1,
           "Restricted.\n<b>Response:</b> After your hero attacks an enemy, spend a [physical] resource → deal 2 damage to an enemy."
          ],
          [
           0,
           "<b>Setup</b>: Put your Phoenix Force upgrade into play, [[RESTRAINED]] side faceup. Place 4 power counters on it.\n[star]<b>Response</b>: After you make a basic recovery, place 1 power counter on Phoenix Force."
          ],
          [
           2,
           "<b>Alter-Ego Action</b>: Exhaust Jefferson Davis → remove 1 threat from the scheme with the least threat."
          ],
          [
           0,
           "\"I Object!\" — <b>Interrupt</b>: When threat would be placed on a scheme, prevent 1 of that threat. (Limit once per round.)"
          ],
          [
           2,
           "<b>Alter-Ego Action</b>: Exhaust Jesse Alexander → shuffle 1 copy of Connection to the Worldmind from your discard pile into your deck. Draw 1 card."
          ],
          [
           0,
           "Double Agent — Choose two aspects instead of one during deck-building. You must include an equal number of cards from those aspects in your deck.\n<b>Action:</b>: Look at the top card of any deck. (Limit once per round.)"
          ],
          [
           1,
           "<b>Alter-Ego Action</b>: Exhaust Jessica Drew's Apartment → search the top 5 cards of your deck for an aspect card and add it to your hand. Shuffle your deck."
          ],
          [
           3,
           "Jessica Jones gets +1 THW for each side scheme in play."
          ],
          [
           2,
           "Star-Lord gains the [[aerial]] trait.\n<b>Hero Interrupt</b>: When Star-Lord would take any amount of damage, exhaust Jet Boots → prevent 1 of that damage for each facedown encounter card in front of you."
          ],
          [
           3,
           "You may play the event attached to Jocasta as if it were in your hand.\n<b>Response:</b> After Jocasta enters play, choose a [[Defense]] event in your discard pile and attach it to her facedown."
          ],
          [
           4,
           "Alliance. <i>(The players can pay this card's costs as a group.)</i>\n<b>Hero Action:</b> As a group, the players put a total of 1 [[Avenger]] ally and 1 [[Guardian]] ally into play from their hand(s)."
          ],
          [
           0,
           null
          ],
          [
           2,
           "<b>Response</b>: After Jubilee enters play, choose an enemy. Until the end of the phase, while Wolverine or Jubilee is making a basic attack against that enemy, they get +2 ATK for that attack."
          ],
          [
           2,
           "Uses (3 judo counters). Max 1 per player.\n<b>Interrupt</b>: When you defend against an enemy attack, remove 1 judo counter from here → that enemy gets -2 ATK for that attack."
          ],
          [
           1,
           "<b>Hero Interrupt</b> <i>(defense)</i>: When you would take any amount of damage, prevent 2 of that damage. If you paid for this card using a [energy] resource, remove 2 threat from the main scheme."
          ],
          [
           1,
           "Play only if Vision is in Intangible mass form.\n<b>Hero Action</b> <i>(thwart)</i>: Remove 3 threat from a scheme, ignoring the patrol keyword and the crisis icon ([crisis])."
          ],
          [
           1,
           "Play under any player's control. Max 1 per player.\n<b>Hero Response</b>: After you thwart and remove the last threat from a scheme, discard Justice Served → ready your hero."
          ],
          [
           2,
           "<b>Response</b>: After Kaluu enters play, search the top 5 cards of your deck for an event → add that event to your hand. Shuffle your deck."
          ],
          [
           0,
           "Teen Spirit — <b>Action</b>: Discard cards from the top of your deck until you discard a Ms. Marvel card, then add that card to your hand. (Limit once per round.)"
          ],
          [
           4,
           "<b>Response</b>: After you play Karma from your hand, choose a non-[[ELITE]] minion. While Karma is in play, take control of that minion and treat it as a [[CONTROLLED]] ally with a blank text box. Its THW is equal to its printed SCH and it takes 2 consequential damage after it thwarts or attacks."
          ],
          [
           2,
           "<b>Hero Action</b> <i>(attack)</i>: Deal 4 damage to an enemy and discard up to 4 cards from the top of your deck → deal 1 additional damage to that enemy for each different aspect discarded this way (Aggression, Justice, Leadership and Protection)"
          ],
          [
           2,
           "<b>Resource</b>: Exhaust Karmic Staff → generate a [wild] resource"
          ],
          [
           1,
           "<b>Resource</b>: Exhaust Keen Instincts → generate a [wild] resource for an [[attack]] or [[thwart]] event."
          ],
          [
           0,
           "<b>Setup</b>: Put your mass form upgrade into play, Solid side faceup.\n<i>Phase Control</i> - <b>Action</b>: Flip your mass form upgrade. (Limit once per round.)"
          ],
          [
           1,
           "<b>Alter-Ego Action</b>: Exhaust Kitty's Room → if you are in:\n• Solid mass form, heal 2 damage from Kitty Pryde.\n• Phased mass form, draw 1 card."
          ],
          [
           3,
           "Reduce the cost to play this card by 1 for each vengeance counter on Draw.\n<b>Hero Interrupt</b>: When you make a basic attack, you get +5 ATK for that attack. That attack gains overkill and piercing."
          ],
          [
           2,
           "Play only if your identity has the [[guardian]] trait.\nIncrease your ally limit by 1.\n<b>Response</b>: After a player plays a [[guardian]] ally, exhaust Knowhere → that player draws 1 card."
          ],
          [
           0,
           "(?)"
          ],
          [
           0,
           null
          ],
          [
           4,
           "<b>Response</b>: After Lady Sif enters play, ready Thor or Odinson."
          ],
          [
           4,
           "<b>Response:</b> After Lady Spider thwarts and removes threat from a scheme, if you control another [[Web-Warrior]] card, remove an equal amount of threat from a different scheme."
          ],
          [
           1,
           "Attach to a [[guardian]] ally. Max 1 per ally.\nAttached ally gets +1 ATK and its attacks gain overkill."
          ],
          [
           0,
           "Setup.\n<b>Hero Action:</b> Discard this card and remove it from the campaign log → deal 5 damage to the villain and each enemy engaged with you."
          ],
          [
           0,
           null
          ],
          [
           1,
           "<b>Hero Response</b>: After Groot uses a basic power, remove 2 growth counters from him and exhaust Lashing Vines → ready Groot."
          ],
          [
           0,
           "<b>Hero Interrupt</b>: When an ally you control attacks, it gets +3 ATK for that attack. After that attack resolves, discard that ally."
          ],
          [
           1,
           "<b>Hero Response</b> <i>(thwart)</i>: After you change form, remove 3 threat from a scheme (4 threat instead if you paid for this card using a [mental] resource)."
          ],
          [
           2,
           "<b>Hero Action</b>: Choose a player. Each character that player controls gets +1 THW and +1 ATK until the end of the phase."
          ],
          [
           3,
           "Each [[guardian]] character you control gets +1 THW."
          ],
          [
           1,
           "Uses (3 leadership counters). Max 1 per player.\n<b>Interrupt</b>: When an ally makes a basic thwart or basic attack action, remove 1 leadership counter from here → that ally gets +1 THW and +1 ATK for that action."
          ],
          [
           1,
           "Max 2 per deck. Uses (2 training counters).\n<b>Alter-ego Action</b>: Exhaust this card and remove 1 training counter from it → choose a leadership (blue) event in you discard pile and shuffle it into your deck."
          ],
          [
           0,
           "<b>Hero Interrupt</b>: When your hero makes a basic attack, discard the top card of the encounter deck → reduce your hero's ATK for that attack by the number of printed boost icons on that card. If that attack still deals damage, ready your hero."
          ],
          [
           0,
           "<b>Alter-Ego Action</b> (<i>thwart</i>): Choose and discard up to 5 cards from your hand → remove 1 threat from a scheme for each card discarded this way."
          ],
          [
           0,
           "<b>Hero Action</b>: Choose up to X [[technique]] upgrades you control. Resolve each of their \"Special\" abilities (in the order of your choice)."
          ],
          [
           1,
           "Max 1 per player.\n<b>Hero Response</b> <i>(attack)</i>: After a minion engages you, discard Lie in Wait → deal 3 damage to that minion."
          ],
          [
           3,
           "<b>Hero Action</b> <i>(attack)</i>: Deal 8 damage to an enemy. If Thunderstorm is in play, resolve its \"<b>Special</b>\" ability."
          ],
          [
           1,
           "<b>Hero Action</b>: Spend X [energy] resources → deal X damages to the villain and each minion engaged with you. This attack ignores tough statuses card if you have the [[Aerial]] trait."
          ],
          [
           2,
           "Double the number of [wild] resources generated while paying for this card.\n<b>Hero Action</b> <i>(thwart)</i>: Remove 3 threat from a scheme."
          ],
          [
           1,
           "Play only if your identity has at least 14 printed hit points.\n<b>Hero Action:</b> Ready your hero."
          ],
          [
           0,
           "Spend this card only in hero form."
          ],
          [
           2,
           "<b>Action</b>: Shuffle this card into the encounter deck (without looking)\n<b>When Revealed</b>: Remove 2 threat from the main scheme and remove this card from the game. This effect cannot be canceled."
          ],
          [
           0,
           "<b>Action</b> Search your deck for a [[weapon]] upgrade and add it to your hand. Shuffle your deck."
          ],
          [
           2,
           "<b>Response</b>: After Lockheed enters play, if you are in:\n• Solid mass form, deal 2 damage to an enemy.\n• Phased mass form, remove 2 threat from a scheme."
          ],
          [
           4,
           "You may play Lockjaw from your discard pile during your turn (paying his resource cost)."
          ],
          [
           0,
           "<i>Snikt!</i> - <b>Setup</b>: Search your deck and discard pile for the Wolverine's Claws upgrade and put it into play."
          ],
          [
           1,
           "<b>Alter-Ego Action</b>: Exhaust Logan's Cabin → shuffle 1 Wolverine card from you discard pile into your deck."
          ],
          [
           4,
           "Play only if your identity has the [[X-MEN]] trait.\n[star] <b>Response</b>: After Longshot attacks a non-[[ELITE]] minion, discard the top card of the encounter deck. If that card has a star icon ([star]) in the boost area, defeat the attacked minion."
          ],
          [
           0,
           "<b>Hero Action</b> <i>(thwart)</i>: Discard cards from the top of the encounter deck until you discard a minion. Put that minion into play engaged with you → remove 3 threat from the main scheme."
          ],
          [
           4,
           "Toughness. <i>(This character enters play with a tough status card.)</i>"
          ],
          [
           3,
           "<b>Hero Action</b> <i>(attack)</i>: Deal 8 damage to an enemy. If you exhausted Wolverine's Claws to play this card, this attack gains overkill."
          ],
          [
           2,
           "<b>Interrupt:</b> When Machine Man attacks or thwarts, spend up to 3 resources of any type → Machine Man gets +1 THW and +1 ATK for each resource spent this way."
          ],
          [
           0,
           "<b>Hero Interrupt</b>: When you make a basic attack, discard a tough status card from your hero → you get +6 ATK for that attack. That attack gains overkill."
          ],
          [
           1,
           "Play only if your identity has the Mystic trait. Max 1 per deck.\n<b>Hero Action</b> <i>(attack)</i>: Choose an enemy and discard up to 5 cards from the top of your deck → deal 1 damage to that enemy for each card discarded this way."
          ],
          [
           3,
           "<b>Hero Action</b> <i>(attack)</i>: Deal 5 damage to an enemy and discard the top card of your deck. If that card's printed resource has:\n[physical] - Stun that enemy.\n[energy] - Deal 2 damage to that enemy.\n[mental] - Confuse that enemy.\n[wild] - All of the above."
          ],
          [
           1,
           "<b>Hero Interrupt:</b> When a friendly character would take any amount of damage, discard Magic Shield → prevent 3 of that damage."
          ],
          [
           1,
           "Play under any player's control.\nYour hero gets +1 THW, +1 ATK, and +1 DEF.\n<b>Forced Interrupt</b>: When the round ends, discard Magical Enhancements."
          ],
          [
           3,
           "<b>Response</b>: After you play Magik from your hand, spend a [mental] resource → choose a non-[[Elite]] minion engaged with an [[X-MEN]] hero. Shuffle that minion into the encounter deck."
          ],
          [
           0,
           "Victory 1.\nThe first player controls Magneto. He does not count against your ally limit.\n[star] <b>Response</b>: After Magneto attacks and defeats a [[SENTINEL]] minion, heal 1 damage from Magneto."
          ],
          [
           0,
           null
          ],
          [
           0,
           "Attach to Magneto.\nPermanent."
          ],
          [
           2,
           "<b>Interrupt</b>: When Major Victory is defeated, choose a friendly Guardian character → ready that character."
          ],
          [
           0,
           "<b>Action</b>: Pay the printed cost of an ally in any player's discard pile → put that ally into play under your control."
          ],
          [
           1,
           "<b>Hero Interrupt:</b> When your hero makes a basic thwart, it gets +2 THW for that thwart. After that thwart ends, if your hero removed all threat from a scheme that way, heal 2 damage from your hero."
          ],
          [
           2,
           "<b>Action:</b> Exhaust Mantis and deal 1 damage to her → heal 3 damage from an identity."
          ],
          [
           2,
           "<b>Response</b>: After Maria Hill enters play, each player draws 1 card."
          ],
          [
           3,
           "You get +6 hit points."
          ],
          [
           1,
           "<b>Hero Action</b> (<i>thwart</i>): Exhaust Mark V Helmet → remove 1 threat from a scheme (from each scheme instead if you have the [[Aerial]] trait)."
          ],
          [
           0,
           "Attach to a minion. Max 1 per minion.\nAttacks against attached minion gain overkill."
          ],
          [
           0,
           "Your hand size is reduced by 1.\n<b>Alter-Ego Action:</b> Deal yourself an encounter card and spend a [energy] resource → discard this card."
          ],
          [
           2,
           "Play under any player's control.\nMax 1 per player.\n<b>Resource</b>: Exhaust Martial Prowess → generate a [physical] resource for an [[Attack]] event."
          ],
          [
           3,
           "Reduce the cost to play Martinex by 1 if your identity has the Guardian trait."
          ],
          [
           4,
           "<b>Response:</b> After Martyr takes consequential damage from performing an attack, if that attack defeated an enemy, give her a tough status card."
          ],
          [
           2,
           "<b>Interrupt</b>: When Marvel Boy attacks, spend a [physics] resource → this attack gains piercing and ranged"
          ],
          [
           3,
           "[star]<b>Interrupt</b>: When Marvel Girl attacks a minion, remove X threat from the main scheme, where X is that minion's printed SCH."
          ],
          [
           3,
           "<b>Hero Action</b>: Exhaust 3 allies you control that shares a Trait with your hero → deal X damage to an enemy, where X is the total ATK of those allies and your hero."
          ],
          [
           1,
           "Play only if Vision is in Dense mass form.\n<b>Hero Interrupt</b> <i>(defense)</i>: When Vision defends, prevent all damage from that attack. Stun the attacking enemy after that attack resolves."
          ],
          [
           1,
           "<b>Hero Action</b>: Pay the printed cost of the top card of the [[Invocation]] deck → resolve its \"<b>Special</b>\" ability. Then, place it back on top of the [[Invocation]] deck faceup."
          ],
          [
           2,
           "Max 1 per phase.\n<b>Hero Action:</b> You get +2 THW, +2 ATK, and +2 DEF until the end of the round."
          ],
          [
           0,
           "(?)"
          ],
          [
           1,
           "Max 1 per player.\n<b>Response</b>: After an ally is defeated by consequential damage, exhaust Med Lab → place it here. (Limit 1 ally at a time.)\n<b>Alter-Ego Action</b>: Exhaust Med Lab → play the ally here as if it was in your hand. It enters play exhausted."
          ],
          [
           3,
           "Uses (3 medical counters). <i>(Enters play with 3 counters. When those are gone, discard this card.)</i>\n<b>Action</b>: Exhaust Med Team and remove 1 medical counter from it → heal 2 damage from a friendly character."
          ],
          [
           0,
           "<b>Forced Response:</b> At the end of your turn, take 1 damage if you are in hero form.\n<b>Alter-Ego Action:</b> Discard the top 5 cards of your deck and spend a [physical] resource → discard this card."
          ],
          [
           0,
           "<b>Alter-Ego Action:</b> Exhaust your alter-ego → play a card from your hand, reducing its resource cost by 3."
          ],
          [
           3,
           "<b>Hero Action</b> <i>(attack)</i>: Deal 3 damage to an enemy. Deal 3 damage to another enemy."
          ],
          [
           2,
           "Hero form only. Attach to a non-[[ELITE]] minion.\nAttached minion cannot activate.\n<b>Forced Response</b>: After you flip to alter-ego form, discard this card."
          ],
          [
           0,
           null
          ],
          [
           0,
           "Permanent.\nThe first player controls Metro P.D."
          ],
          [
           3,
           "Play under any player's control. Max 1 Team per player.\nIf each of your characters has the Avengers trait, each ally you control gets +1 THW and +1 ATK."
          ],
          [
           0,
           "<b>Response</b>: After you change to this form, shuffle 1 Spider-Man card from your discard pile into your deck."
          ],
          [
           4,
           "Attach to a non-[[ELITE]] minion.\nTake control of attached minion and treat it as a [[CONTROLLED]] ally with a blank text box. Its THW is equal to its printed SCH and it takes 1 consequential damage after it thwarts or attacks."
          ],
          [
           3,
           "<b>Response</b>: After Mirage enters play, choose an enemy whose SCH is less than Mirage's THW → stun that enemy."
          ],
          [
           1,
           "<b>Hero Action</b> <i>(attack)</i>: Exhaust Missile Launcher and remove 1 ammo counter from War Machine → deal 2 damage to an enemy. This attack gains ranged."
          ],
          [
           1,
           "Attach to an [[X-MEN]] ally. Max 1 [[TRAINING]] upgrade per ally.\nAttached ally gets +1 THW point and +2 hit points."
          ],
          [
           1,
           "Restricted. <i>(Max 2 restricted cards per player.)</i>\nThor gets +1 ATK and gains the [[Aerial]] trait."
          ],
          [
           3,
           "<b>Interrupt</b>: When the villain initiates an attack against you, spend 1 resource of any type and return Mockingbird to your hand → prevent all damage from this attack."
          ],
          [
           3,
           "<b>Response</b>: After Mockingbird enters play, stun an enemy."
          ],
          [
           2,
           "Play only if your identity has the [[MUTANT]] trait.\n<b>Response</b>: After a [[MUTANT]] alter-ego changes into hero form, exhaust Moira MacTaggert → that hero's controller draws 1 card."
          ],
          [
           0,
           "<b>Hero Interrupt</b>: When you spend this card, place 1 charge counter on Gambit."
          ],
          [
           3,
           "<b>Hero Action</b> <i>(attack)</i>: Deal 5 damage to an enemy and discard the top 2 cards of the encounter deck. For each boost icon discarded this way, deal 1 additional damage to that enemy."
          ],
          [
           0,
           "<b>Hero Response:</b> After you attack and defeat an enemy, heal 1 damage from your hero for each point of excess damage dealt to that enemy by that attack."
          ],
          [
           2,
           "<b>Hero Action</b> <i>(attack)</i>: Heal 2 damage from your hero → deal 2 damage to an enemy."
          ],
          [
           3,
           "<b>Response</b>: After Monica Chang enters play, search your deck, hand and discard pile for a copy of Surveillance Team support and put it into play. Place 1 snoop counter on each Surveillance Team you control."
          ],
          [
           0,
           "<b>Setup:</b> Put all 3 energy form upgrades into play, facedown.\n<i>Power Down</i> - <b>Forced Response:</b> After you change to this form, turn all your energy upgrades facedown."
          ],
          [
           3,
           "Play only if your identity has the [[champion]] or [[genius]] trait.\n<b>Response</b>: After you play Moon Girl from your hand, draw 1 card for each [mental] resource used to pay for her."
          ],
          [
           3,
           "<b>Action:</b> Exhaust and discard Moondragon → choose a minion. That minion attacks another enemy of your choice."
          ],
          [
           1,
           "<b>Hero Action</b>: Choose a hero. Until the end of the round, that hero gets +1 THW, +1 ATK, and +1 DEF"
          ],
          [
           1,
           "Unit Cost 6.\n<b>Hero Action</b>: Exhaust Mounted Laser → deal 2 damage to an enemy (3 damage instead if you control the Milano)."
          ],
          [
           0,
           "<b>Hero Response:</b> After you change form, your hero gets +1 THW, +1 ATK, +1 DEF until the end of the round."
          ],
          [
           0,
           "\"Morphogenetics\" — <b>Response</b>: After you play an [[Attack]], [[Thwart]], or [[Defense]] event, exhaust Ms. Marvel → return that event to your hand."
          ],
          [
           3,
           "<b>Hero Response</b>: After you play an event, exhaust Ms. Marvel and deal 1 damage to her → return that event to your hand."
          ],
          [
           3,
           "Restricted.\n<b>Hero Action</b>: Exhaust Multi-Gun → choose one of the following:\nDeal 2 damage to an enemy\nChoose a player. Deal 1 damage to each minion engaged with that player.\nRemove 2 threat from a scheme."
          ],
          [
           4,
           "<b>Response</b>: After Multiple Man enters play, search your deck and hand for a copy of Multiple Man and put it into play. Shuffle your deck if it was searched this way."
          ],
          [
           1,
           "<b>Hero Action</b> <i>(thwart)</i>: Remove 2 threat from a scheme. If you paid for this card using a [mental] resource, remove 2 threat from a different scheme."
          ],
          [
           2,
           "<b>Alter-Ego Action</b>: Exhaust Munitions Bunker → Place 2 ammo counters here.\n<b>Hero Action</b>: Exhaust Munitions Bunker → move each ammo counter here to War Machine."
          ],
          [
           3,
           "Play only if your identity has the [[Avenger]] trait.\n<b>Hero Action:</b> Give up to X friendly characters a tough status card (to a maximum of 3 characters), where X is equal to the villain's stage number."
          ],
          [
           0,
           "Play only if your identity has the [[MUTANT]] trait.\n<b>Alter-Ego Action</b>: Choose up to 2 identity-specific cards in your discard pile and shuffle them into your deck. If X-Mansion is in play, draw 1 card."
          ],
          [
           1,
           "Play only if your identity has the [[X-MEN]] trait.\n<b>Hero Action</b> <i>(thwart)</i>: Exhaust your hero and any number of [[X-MEN]] allies → remove X threat from among schemes in play, where X is the total THW of those characters."
          ],
          [
           1,
           "Play only if your identity has the [[X-MEN]] trait.\n<b>Hero Interrupt</b> <i>(defense)</i>: When an enemy attacks, put an [[X-MEN]] ally into play from your hand. Exhaust it and declare it the defender for this attack."
          ],
          [
           2,
           "<b>Hero Response</b>: After you resolve Adam Warlock's \"Battle Mage\" ability, draw 1 card."
          ],
          [
           1,
           "<b>Alter-Ego Action</b>: Search your deck and discard pile for a Doctor Strange card and add it to your hand. Shuffle your deck."
          ],
          [
           0,
           "G.I.R.L. — <b>Action:</b> Shuffle up to 2 cards with a printed [mental] resource from your discard pile into your deck. (Limit once per round.)"
          ],
          [
           1,
           "<b>Alter-Ego Action</b>: Exhaust Nakia Bahadir → reduce the cost of the next card you play this phase by 1."
          ],
          [
           0,
           "Mission Prep — <b>Response</b>: After you play a [[Preparation]] card, draw 1 card. (Limit once per phase.)"
          ],
          [
           0,
           "<b>Hero Interrupt</b> <i>(defense)</i>: When you defend against an attack, place 1 charge counter on Gambit → for each charge counter on Gambit, you get +1 DEF for that attack."
          ],
          [
           2,
           "Unit Cost 6.\n<b>Hero Action</b>: Exhaust Navigation Column, choose and discard 1 card from your hand (discard the top card of your deck instead if you control the Milano) → draw 1 card."
          ],
          [
           2,
           "<b>Response:</b> After Nebula enters play, search your deck for an [[attack] or [[thwart]] event and add it to your hand. Shuffle your deck."
          ],
          [
           0,
           "(?)"
          ],
          [
           2,
           "<b>Resource</b>: Exhaust Nebula's Ship → generate a [wild] resource."
          ],
          [
           2,
           "Play under any player's control.\nMax 1 per player.\n<b>Resource</b>: Exhaust Nerves of Steel → generate a [energy] resource for a [[Defense]] event."
          ],
          [
           1,
           "<b>Hero Interrupt</b> <i>(defense)</i>: When you defend against an attack, you get +2 DEF for this attack. If you take no damage from this attack, stun the attacking enemy."
          ],
          [
           3,
           "<b>Hero Action</b>: Choose X different options, where X is equal to Ironheart's [[version]] number:\n• Search your deck for an Ironheart card and add it to your hand. <i>(Shuffle.)</i>\n• Give Ironheart a tough status card.\n• Ready Ironheart."
          ],
          [
           4,
           "<b>Forced Response</b>: After Nick Fury enters play, choose one: remove 2 threat from a scheme, draw 3 cards, or deal 4 damage to an enemy. At the end of the round, if Nick Fury is still in play, discard him."
          ],
          [
           3,
           "<b>Interrupt</b>: When an [[X-MEN]] character would take any amount of damage from an enemy attack, spend a [energy] resource and return Nightcrawler to your hand → prevent all of that damage."
          ],
          [
           2,
           "Requirement ([physical]).\n<b>Hero Action</b> <i>(attack)</i>: Deal 4 damage to an enemy. For each point of excess damage dealt to that enemy by this attack, discard the top card of your deck and add each Aggression (red) card discarded this way to your hand."
          ],
          [
           0,
           null
          ],
          [
           1,
           "<b>Hero Interrupt</b> <i>(defense)</i>: When your hero defends against an attack, it gets +2 DEF for that attack. If you take no damage from that attack, remove 2 threat from a scheme."
          ],
          [
           4,
           "<b>Interrupt</b>: When an enemy initiates an attack against you, spend a [energy] resource → deal 2 damage to that enemy."
          ],
          [
           0,
           "<b>Response</b>: After you use one of Nova's basic powers (THW, ATK, or DEF), ready Supernova Helmet."
          ],
          [
           5,
           "<b>Response:</b> After you play Nova Prime from your hand, defeat a non-[[elite]] minion."
          ],
          [
           0,
           "Worthy — <b>Action</b>: Search your deck and discard pile for the Mjolnir upgrade and add it to your hand. Shuffle your deck. (Limit once per round)."
          ],
          [
           0,
           null
          ],
          [
           0,
           "Surge.\n<b>When Revealed</b>: Choose to either take 2 damage or discard 1 card at random from your hand."
          ],
          [
           0,
           "Max 1 per round.\n<b>Hero Action</b>: Search the encounter deck for a side scheme. Reveal that side scheme → draw 3 cards (shuffle the encounter deck)."
          ],
          [
           1,
           "<b>Hero Action</b> <i>(attack)</i>: Deal 2 damage to an enemy. If this attack defeats that enemy, deal 2 damage to an enemy."
          ],
          [
           1,
           "<b>Response</b>: After you make a basic attack <i>(using your ATK)</i>, ready She-Hulk."
          ],
          [
           0,
           "Unit Cost 5.\n<b>Hero Interrupt</b>: When a card is revealed from the encounter deck, cancel the effects of that card and discard it."
          ],
          [
           0,
           null
          ],
          [
           2,
           "Uses (3 operative counters). Max 1 per player.\n<b>Interrupt</b>: When you thwart, remove 1 operative counter from here → that thwart removes 1 additional threat."
          ],
          [
           1,
           "Team-Up (Quicksilver and Scarlet Witch). Max 1 per deck.\n<b>Hero Interrupt</b>: When a treachery card is revealed from the encounter deck, cancel its \"<b>When Revealed</b>\" effects, then deal 2 damage to the villain."
          ],
          [
           2,
           "Uses (2 steel counters).\n<b>Hero Response</b>: After a tough status card is discarded from Colossus, exhaust this card and remove 1 steel counter from it → give Colossus a tough status card."
          ],
          [
           2,
           "Spider-Ham gets +1 THW.\n<b>Hero Action:</b> Exhaust Organic Webbing and remove 1 toon counter from Spider-Ham → ready Spider-Ham. He gains the [[Aerial]] trait until the end of the phase."
          ],
          [
           0,
           "Ororo Munroe begins the game with a [[WEATHER]] deck. (See insert.)\n<i>\"I feel a storm coming...\"</i> — <b>Setup</b>: Choose a support from the [[WEATHER]] deck and put it into play."
          ],
          [
           1,
           "<b>Alter-Ego Action</b>: Exhaust Ororo's Garden → heal 2 damage from your identity."
          ],
          [
           2,
           "<b>Hero Action</b> <i>(attack)</i>: Deal 3 damage to an enemy (5 damage instead if that enemy has the guard or patrol keyword)."
          ],
          [
           0,
           "Attach to a scheme. Max 1 per scheme.\n<b>Hero Interrupt:</b> When any amount of threat is removed from attached scheme by a thwart, discard this card → remove an equal amount of threat from a different scheme."
          ],
          [
           2,
           "<b>Special</b> (<i>attack</i>): Deal 2 damage to an enemy (4 damage instead if this is the final step of this sequence).\n<i>(Play the \"Wakanda Forever!\" event to use this ability.)</i>"
          ],
          [
           0,
           "<b>Alter-Ego Action</b>:\n- If George Stacy is in play, attach 1 event from your hand or discard pile facedown to George Stacy.\n- If George Stacy is not in play, search your deck and discard pile for him and add him to your hand. <i>(Shuffle.)</i>"
          ],
          [
           0,
           "<b>Hero Interrupt</b> <i>(defense)</i>: When you would take any amount of damage, prevent X of that damage, where X is equal to double your ATK."
          ],
          [
           3,
           "Restricted. Enters play with 2 charge counters on it.\n<b>Hero Action</b> <i>(attack)</i>: Exhaust Particle Cannon and remove 1 charge counter from it → deal 4 damage to an enemy. This attack gains overkill and ranged."
          ],
          [
           0,
           "Max 2 per deck.\n<b>Interrupt</b>: When you spend this card to play a [[THWART]] event, that event removes 1 additional threat."
          ],
          [
           3,
           "<b>Hero Response</b>: After Patriot enters play, choose a [[champion]] character → that character gets +1 to each of its basic powers until the end of the round."
          ],
          [
           0,
           "<b>Hero Response</b> <i>(attack)</i>: After the villain attacks you, deal X damage to the villain, where X is equal to your ATK."
          ],
          [
           0,
           "<i>Psychogenetic Compatibility</i> — <b>Setup:</b> Put SP//dr Suit into play, [[Inactive]] side faceup.\n<i>Maintenance</i> — <b>Alter-Ego Action:</b> Exhaust SP//dr Suit → draw 2 cards."
          ],
          [
           3,
           "<b>Resource</b>: Exhaust Pepper Potts → generate the resources of the top card in your discard pile."
          ],
          [
           1,
           "<b>Hero Response</b>: After you change form, give your hero a tough status card."
          ],
          [
           0,
           "Scientist — <b>Resource</b>: Generate a [mental] resource. (Limit once per round.)"
          ],
          [
           0,
           "<i>Cartoon Power</i> — <b>Response:</b> After you make a basic recovery, place 1 toon counter on Peter Porker."
          ],
          [
           0,
           "<b>Setup:</b> Search your deck and discard pile for a copy of the Element Gun upgrade and add it to your hand.\nSmooth Talker — <b>Action:</b> Choose a card in your hand. Swap that card with the top card of your deck. (Limit once per round.)"
          ],
          [
           0,
           "<b>Hero Action:</b> Stick your tongue out at the villain. The villain attacks you. Draw 3 cards."
          ],
          [
           2,
           "<b>Hero Response</b> <i>(thwart)</i>: After Ghost-Spider uses a basic power, remove 5 threat from a scheme. (Max 1 per basic power use.)"
          ],
          [
           2,
           "Play only if Vision is in Intangible mass form.\n<b>Hero Action:</b> Confuse an enemy. Choose an attachment on that enemy with the text \"<b>Hero Action</b>\" or \"<b>Hero Response</b>\" and discard that attachment."
          ],
          [
           3,
           "<b>Hero Action</b> <i>(attack)</i>: Deal 6 damage to an enemy. If you are in Phased mass form, you may discard an attachment with the text \"<b>Hero Action</b>\" or \"<b>Hero Response</b>\" from that enemy."
          ],
          [
           0,
           "Mass form. Permanent.\nWhile Shadowcat is defending, she cannot take damage.\n<b>Forced Response</b>: After you attack or defend in Phased mass form, flip this card."
          ],
          [
           3,
           "Hero form only. Attach to an enemy. Max 1 per enemy.\n<b>Forced Interrupt</b>: When attached enemy would attack, discard this card insted. Then, confuse that enemy."
          ],
          [
           2,
           "<b>Hero Action</b>: Stun and confuse an enemy."
          ],
          [
           3,
           "<b>Response</b>: After Phoenix enters play, choose a Cyclops card in your discard pile and add it to your hand."
          ],
          [
           0,
           "<i>Psionic Bond</i> — <b>Hero Resource</b>: Remove 1 power counter from Phoenix Force → generate a [wild] resource. (Limit once per phase.)"
          ],
          [
           1,
           "<b>Hero Action</b>: Choose:\n• Remove 1 power counter from Phoenix Force → ready Phoenix.\n• Place 2 power counters on Phoenix Force."
          ],
          [
           0,
           "(?)"
          ],
          [
           2,
           "Phoenix gains the [[AERIAL]] trait.\nWhile you have the [[RESTRAINED]] trait, you gain steady.\nWhile you have the [[UNLEASHED]] trait, you gain retaliate 1."
          ],
          [
           0,
           "Energy form. Permanent.\nSpectrum gets +2 THW.\n<b>Hero Response:</b> After you change to this form, remove 1 threat from a scheme."
          ],
          [
           2,
           "<b>Hero Action</b> <i>(attack)</i>: Deal 4 damage to an enemy and place 1 progress counter on Ironheart (2 progress counters instead if this attack defeats that enemy)."
          ],
          [
           2,
           "You get +2 hit points.\n<b>Hero Action</b>: Exhaust Photon Blasters → deal damage to an enemy equal to Ironheart's [[Version]] number."
          ],
          [
           2,
           "<b>Hero Action</b> <i>(thwart)</i>: Change to Photon energy form and remove 4 threat from a scheme. If you were already in Photon energy form, ignore crisis icon for this thwart."
          ],
          [
           3,
           "<b>Hero Action</b> (<i>attack</i>): Deal 5 damage to an enemy. If you paid for this card using a [energy] resource, draw 1 card."
          ],
          [
           2,
           "<b>Hero Action</b> <i>(attack)</i>: Deal 3 damage to an enemy. This attack gains piercing."
          ],
          [
           0,
           "Superpowered Siblings — <b>Action:</b> Discard 2 cards from your hand → draw 2 cards (draw 3 cards instead if Wanda Maximoff is in play). (Limit once per round.)"
          ],
          [
           0,
           "Attach to a minion. Max 1 per minion.\nAttached minion gets -2 ATK."
          ],
          [
           2,
           "Play only if your identity has the [[champion]] trait.\n<b>Hero Interrupt</b>: When a player card would be placed into a discard pile from play, exhaust Pinpoint → shuffle that card into its owner's deck instead."
          ],
          [
           3,
           "<b>Hero Action</b> <i>(attack)</i>: Deal 7 damage to an enemy. If you are in [[Tiny]] hero form, this attack deals 1 additional damage to that enemy and gains overkill."
          ],
          [
           0,
           "<b>Setup</b>: Search your deck for a copy of Organic Steel and add it to your hand.\n<i>Aspiring Artist</i> - <b>Response</b>: After you change to this form, shuffle a Colossus card from your discard pile into your deck."
          ],
          [
           1,
           "<b>Alter-Ego Action</b>: Exhaust Piotr's Studio → discard cards from your deck until you discard a Colossus card. Add that card to your hand."
          ],
          [
           2,
           "Toughness.\nWhile Pip the Troll is in your hand, he gains \"<b>Interrupt</b>: When a player is attacked, spend[energy][mental] resources → put Pip the Troll into play under that player's controller.\""
          ],
          [
           2,
           "<b>Hero Interrupt</b>: When a card is revealed from the encounter deck, deal damage to the villain equal to 1 more than the boost icons <i>([boost])</i> on that card. Cancel that card's \"<b>When Revealed</b>\" effects."
          ],
          [
           1,
           "Play only if your identity has the [[Aerial]] trait.\n<b>Hero Response</b> <i>(attack)</i>: After your hero attacks, deal 4 damage to an enemy."
          ],
          [
           2,
           "<b>Hero Action</b>: Deal 2 damage to the villain (5 damage instead if there is no threat on the main scheme)."
          ],
          [
           2,
           "<b>Response</b>: After you play Pixie from your hand, add an [[X-MEN]] ally from your discard pile to your hand."
          ],
          [
           1,
           "Play under any player's control. Max 1 per player.\n<b>Hero Action</b>: Exhaust Plan B and discard 1 random card from your hand → deal 2 damage to an enemy."
          ],
          [
           0,
           "<b>Action</b>: Search the top 4 cards of your deck (top 7 cards instead if you are in alter-ego form) for an [[attack]] event and add that card to your hand. Shuffle your deck."
          ],
          [
           2,
           "Restricted.\nUses (3 charge counters).\n<b>Hero Action</b>: Exhaust Plasma Pistol and remove 1 charge counter from it → deal 1 damage to an enemy."
          ],
          [
           3,
           "<b>Response</b>: After Polaris enters play, give an [[X-MEN]] character a tough status card."
          ],
          [
           2,
           "Double the number of [wild] resources generated while paying for this card.\n<b>Hero Action</b> <i>(attack)</i>: Deal 4 damage to an enemy."
          ],
          [
           1,
           "Attach to an [[Avenger]] ally. Max 1 per ally.\n<b>Response:</b> After attached ally attacks or thwarts, deal 1 damage to an enemy."
          ],
          [
           3,
           "Power Man enters play with 2 chi counters on him.\n<b>Action</b>: Discard any number of chi counters from Power Man → he gets +2 ATK for each chi counter discarded this way until the end of the phase."
          ],
          [
           0,
           "Unit Cost 7.\n<b>Hero Action</b>: Deal 5 damage to the villain and remove 5 threat from the main scheme. Remove this card from the game."
          ],
          [
           1,
           "<b>Hero Response</b>: After your hero uses a basic power, discard Power Within → resolve Spider-Man's <i>\"Venom Blast\"</i> ability."
          ],
          [
           2,
           "<b>Hero Action</b> (<i>attack</i>): Exhaust Powered Gauntlets → deal 1 damage to an enemy (2 damage instead if you have the [[Aerial]] trait)."
          ],
          [
           2,
           "<b>Hero Interrupt</b> <i>(attack/defense)</i>: When an enemy initiates an attack, deal 4 damage to that enemy."
          ],
          [
           0,
           "Attach to an enemy. Max 1 per enemy.\nTemporary.\nAttached enemy gets -1 ATK."
          ],
          [
           1,
           "<b>Hero Action</b> <i>(attack)</i>: Deal 2 damage to an enemy. If this attack defeats that enemy, heal 2 damage from your hero."
          ],
          [
           1,
           "<b>Hero Interrupt</b> <i>(defense)</i>: When a boost card is turned face up while the villain attacks, cancel all boost icons ([boost]) on that card. Then deal 1 damage to the villain for each boost icon cancelled this way."
          ],
          [
           0,
           "Max 1 per deck.\n<b>Hero Response</b>: After you spend this card, heal 1 damage from your hero."
          ],
          [
           1,
           "<b>Hero Action</b> <i>(attack)</i>: Deal 2 damage to an enemy. If that enemy is stunned or confused, draw 1 card."
          ],
          [
           0,
           "Attach to an enemy. Max 1 per enemy.\nTemporary.\n<b>Interrupt</b>: When attached enemy is defeated, the player who defeated it draws 2 cards."
          ],
          [
           4,
           "Alliance.\n<b>Hero Action</b> <i>(thwart)</i>: Exhaust an [[avenger]] character and a [[guardian]] character → remove X threat from each scheme, where X is equal to the combined THW of those characters."
          ],
          [
           3,
           "<b>Forced Response</b>: After Professor X enters play, choose one: confuse the villain, stun a minion, or ready an [[X-MEN]] character. At the end of the round, if Professor X is still in play, discard him."
          ],
          [
           1,
           "<b>Alter-Ego Action</b>: Exhaust Project Rebirth 2.0 → choose to either draw 1 card or heal 3 damage from Flash Thompson."
          ],
          [
           0,
           null
          ],
          [
           2,
           "You get +2 hit points.\n<b>Hero Action</b>: Exhaust Propulsion Jets → remove threat from a scheme equal to Ironheart's [[Version]] number."
          ],
          [
           1,
           "Attach to an [[X-MEN]] ally. Max 1 [[Training]] upgrade per ally.\nAttached ally gets +3 hit points."
          ],
          [
           1,
           "<b>Hero Interrupt</b>: When a treachery is revealed from the encounter deck, cancel all of its effects and discard it."
          ],
          [
           4,
           "<b>Interrupt:</b> When Protector would take any amount of damage, spend a [mental] resource → reduce that amount by 1. (Limit once per round.)"
          ],
          [
           2,
           "Play only if your identity has the [[PSIONIC]] trait.\n<b>Hero Action</b> <i>(attack)</i>: Deal 3 damage to an enemy. Confuse that enemy."
          ],
          [
           2,
           "<b>Hero Action</b>: Deal 4 damage to the villain. If you have the [[UNLEASHED]] trait, deal 4 damage to each minion engaged with you."
          ],
          [
           0,
           "Play only if your identity has the [[PSIONIC]] trait.\n<b>Hero Action</b>: Ready an ally. That ally gets +2 THW and +2 ATK for its next basic thwart or attack action this phase."
          ],
          [
           2,
           "<b>Hero Interrupt:</b> When SP//dr Suit makes a basic thwart, exhaust Psychic Link → it gets +2 THW for that thwart."
          ],
          [
           3,
           "Play only if your identity has the [[PSIONIC]] trait.\n<b>Interrupt</b> <i>(thwart)</i>: When the villain schemes, this activation removes threat instead of placing it."
          ],
          [
           2,
           "Play only if your identity has the [[PSIONIC]] trait.\n<b>Hero Interrupt</b> <i>(defense)</i>: When an enemy attacks you, choose a different enemy → damage from that attack is dealt to the chosen enemy instead of you."
          ],
          [
           2,
           "Team-Up (Cyclops and Phoenix). Max 1 per deck.\n<b>Hero Action</b>: Ready Cyclops and Phoenix. Choose to either return a Cyclops card from your discard pile to your hand or place 2 power counters on Phoenix Force."
          ],
          [
           4,
           "Psylocke enters play with 2 psionic counters on her.\n[star] <b>Interrupt</b>: When Psylocke attacks an enemy, remove 1 psionic counter from her → confuse that enemy and deal 1 damage to it."
          ],
          [
           0,
           null
          ],
          [
           0,
           "Energy form. Permanent.\nSpectrum gets +2 DEF.\n<b>Hero Response:</b> After you change to this form, heal 1 damage from Spectrum."
          ],
          [
           1,
           "<b>Hero Interrupt</b> <i>(defense)</i>: When Spectrum defends, change to Pulsar energy form and ready Spectrum. If you were already in Pulsar energy form, she gains retaliate 1 until the end of the phase."
          ],
          [
           2,
           "<b>Hero Action</b> <i>(attack)</i>: Discard Pulse Grenade and choose an enemy → discard the top 2 cards of the encounter deck. Deal 1 damage to the chosen enemy for each boost icon discarded this way."
          ],
          [
           3,
           "Requirement ([mental]). <i>(While paying for this card, spend the listed resources.)</i>\n<b>Hero Action</b> <i>(thwart)</i>: Exhaust your hero → remove threat from a scheme equal to the total of your hero's THW, ATK, and DEF values."
          ],
          [
           0,
           "<b>Hero Response:</b> After you spend this card, heal 2 damage from your hero if you are in [[Giant]] hero form or draw 1 card if you are in [[Tiny]] hero form."
          ],
          [
           0,
           "<b>Hero Response</b>: After you spend this card, heal 2 damage from your hero if you are in [[Giant]] hero form or draw 1 card if you are in [[Tiny]] hero form."
          ],
          [
           2,
           "<b>Response</b>: After a minion schemes, exhaust Quake → deal 2 damage to that minion."
          ],
          [
           1,
           "<b>Action</b>: Choose a card in your discard pile → add that card to your hand"
          ],
          [
           3,
           "<b>Response</b>: After Quasar enters play, remove 1 threat from each scheme in play."
          ],
          [
           0,
           "<b>Hero Interrupt</b> <i>(defense)</i>: When an enemy attacks, if you are in:\n• Solid mass form, change to Phased mass form.\n• Phased mass form, draw 2 cards."
          ],
          [
           2,
           "<b>Hero Action</b> <i>(attack)</i>: Deal damage to an enemy equal to your ATK."
          ],
          [
           0,
           "Super Speed — <b>Response:</b> After you use one of Quicksilver's basic powers <em>(THW, ATK, or DEF),</em> ready him. (Limit once per phase.)"
          ],
          [
           4,
           "<b>Action:</b> Ready Quicksilver. (Limit once per phase.)"
          ],
          [
           3,
           "Play only if your identity has the [[Avenger]] trait.\n<b>Resource</b>: Exhaust Quincarrier → generate a [wild] resource."
          ],
          [
           1,
           "<b>Response:</b> After your turn begins, place 1 time counter on Quinjet.\n<b>Action:</b> Put an [[Avenger]] ally from your hand into play with printed cost equal to or less than the number of time counters on Quinjet. Then, discard Quinjet."
          ],
          [
           3,
           "Requirement ([mental][mental]). Uses (3 research counters).\n<b>Hero Action</b>: Exhaust R&D Facility and remove 1 research counter from it → choose a friendly character in play. That character gets +1 THW and +1 ATK until the end of the phase."
          ],
          [
           2,
           "<b>Hero Action</b> <i>(thwart)</i>: Remove 3 threat from a scheme. If you paid for this card using a resource generated by SP//dr Suit's <i>\"Sync Ratio\"</i> ability, remove 3 threat from a scheme."
          ],
          [
           1,
           "<b>Hero Interrupt</b>: When you use one of your hero's basic powers (THW, ATK, or DEF), change to your [[Giant]] hero form and get +2 to that power for this use."
          ],
          [
           2,
           "Max 1 per player.\n<b>Hero Response</b>: After an ally you control is defeated, discard Rapid Response → put that ally into play from your discard pile and deal 1 damage to it."
          ],
          [
           0,
           null
          ],
          [
           1,
           "Unit Cost 4.\n<b>Hero Action</b>: Exhaust Reactor Core and discard the top 2 cards of your deck (the top card instead if you control the Milano) → reduce the resource cost of the next event you play this turn by 1."
          ],
          [
           1,
           "<b>Hero Action</b>: Give an ally you control a tough status card."
          ],
          [
           1,
           "Play under any player's control. Max 1 per player.\n<b>Hero Response</b>: After you change form, discard this card → ready your hero."
          ],
          [
           1,
           "<b>Action:</b> Ready a friendly [[Android]] character and heal 1 damage from it."
          ],
          [
           2,
           "<b>Alter-Ego Action</b>: Heal damage from your alter-ego equal to your REC."
          ],
          [
           3,
           "<b>Interrupt</b>: When Red Dagger is defeated, spend 2 resources of different types → deal 2 damage to an enemy and return Red Dagger to your hand."
          ],
          [
           2,
           "While you are in [[Giant]] hero form, you gain retaliate 1.\nWhile you are in [[Tiny]] hero form, your basic attacks gain piercing. <i>(Discard any tough status cards from the target before dealing damage.)</i>"
          ],
          [
           1,
           "<b>Action</b>: Choose:\n• Heal 4 damage from your identity.\n• Discard each stunned and confused status card from your identity."
          ],
          [
           1,
           "<b>Interrupt</b>: When an ally is defeated by an enemy attack, return it to its owner's hand instead of discarding it.\n<b>Forced Interrupt</b>: When the round ends, discard this card."
          ],
          [
           2,
           "Quicksilver gets +1 ATK."
          ],
          [
           1,
           "Attach to an ally. Max 1 per ally.\nAttached ally gets +2 hit points."
          ],
          [
           2,
           "<b>Hero Action</b> (<i>attack</i>): Deal 5 damage to a minion. If you paid for this card using a [physical] resource, this attack gains overkill. <i>(Excess damage from this attack is dealt to the villain.)</i>"
          ],
          [
           1,
           "<b>Hero Action</b>: Ready each [[tech]] upgrade you control."
          ],
          [
           0,
           "<i>Thief Extraordinaire</i> − <b>Action</b> <i>(thwart)</i>: Exhaust Remy LeBeau and look at the top 2 cards of the encounter deck. Discard 1 of those cards → remove threat from a scheme equal to the number of boost icons ([boost]) on that card."
          ],
          [
           1,
           "<b>Hero Action</b> <i>(attack)</i>: Remove 1 ammo counter from War Machine → deal 4 damage to an enemy."
          ],
          [
           1,
           "<b>Hero Action</b> (<i>attack</i>): Deal 1 damage to an enemy and discard the top 5 cards of your deck. For each printed [energy] resource discarded this way, deal 2 additional damage to that enemy."
          ],
          [
           0,
           "<b>Hero Action:</b> Discard a [[Tech]] upgrade you control → ready your hero and choose THW, ATK, or DEF. Until the end of the round, your hero gets +X to the chosen power, where X is equal to that upgrade's printed cost."
          ],
          [
           0,
           null
          ],
          [
           0,
           null
          ],
          [
           0,
           "<b>Hero Action:</b> Change to your other hero form. Draw 1 card."
          ],
          [
           1,
           "<b>Resource</b>: Discard Resourceful → generate a [wild] resource."
          ],
          [
           0,
           null
          ],
          [
           0,
           null
          ],
          [
           0,
           "<b>Hero Action</b> <i>(attack)</i>: Discard cards from the top of the encounter deck until you discard a treachery. Reveal that treachery → deal 5 damage to the villain."
          ],
          [
           2,
           "<b>Hero Action</b> <i>(attack)</i>: Deal 3 damage to an enemy. Deal 3 damage to an enemy with an upgrade attached."
          ],
          [
           0,
           "(?)"
          ],
          [
           3,
           "<b>Interrupt</b>: When you would be defeated, remove this card from the game → ready your identity and restore it to its printed hit point value instead. Remove each power counter from Phoenix Force."
          ],
          [
           1,
           "You get +1 hit point.\n<b>Hero Action</b>: Exhaust Rocket Boots and spend a [mental] resource → gain the [[Aerial]] trait until the end of the phase."
          ],
          [
           3,
           "Restricted. Enters play with 2 charge counters on it.\n<b>Hero Action</b>: Exhaust Rocket Launcher and remove 1 charge counter from it → choose a player. Deal 2 damage to the villain and each minion engaged with that player."
          ],
          [
           3,
           "Play only if your identity has the [[guardian]] trait.\n<b>Interrupt</b>: When Rocket Raccoon attacks a minion, he gets +3 ATK for that attack. That attack gains overkill."
          ],
          [
           0,
           "(?)"
          ],
          [
           1,
           "Restricted. Enters play with 3 charge counters on it.\n<b>Hero Action</b> <i>(attack)</i>: Exhaust Rocket's Pistol and remove 1 charge counter from it → deal 2 damage to an enemy."
          ],
          [
           4,
           "Retaliate 1."
          ],
          [
           4,
           "Reduce the cost to play Rogue by 1 for each charge counter on your identity.\nToughness."
          ],
          [
           0,
           "<i>Skin Contact</i> − <b>Action</b>: Attach Touched to another character. You gain each of the attached character's [[TRAITS]] until the end of the round. (Limit once per round.)\n<b>Forced Response</b>: After the player phase begins, find Touched and set it aside."
          ],
          [
           1,
           "While Touched is attached to a friendly character, Rogue gets +1 THW.\nWhile Touched is attached to a enemy character, Rogue gets +1 ATK."
          ],
          [
           3,
           "Ronin gets +1 THW and +1 ATK while an upgrade is attached to them."
          ],
          [
           1,
           "<b>Alter-Ego Action</b>: Exhaust Ronnie Williams → choose:\n• Heal 2 damage from Riri Williams.\n• Place 1 progress counter on Riri Williams."
          ],
          [
           2,
           "<b>Hero Action</b> <i>(attack)</i>: Deal 5 damage to an enemy. If this attack defeats that enemy, place 1 growth counter on Groot (to a maximum of 10)."
          ],
          [
           3,
           "<b>Hero Action</b> <i>(attack)</i>: Place 1 charge counter on Gambit. Deal 0 damage to an enemy. Deal 0 damage to an enemy. Deal 0 damage to an enemy."
          ],
          [
           0,
           null
          ],
          [
           2,
           "<b>Hero Resource</b>: Exhaust this card → generate a [energy] resource for your <i>\"Optic Blast\"</i> ability. That attack gains piercing and ranged."
          ],
          [
           3,
           "<b>Hero Action</b>: Ready Venom and each [[weapon]] upgrade you control."
          ],
          [
           2,
           "Play only if your identity has the [[Avenger]] trait.\n<b>Hero Action</b> <i>(thwart)</i>: Remove 2 threat from the main scheme. Remove X additional threat from the main scheme (to a maximum of 3), where X is equal to the villain's stage number."
          ],
          [
           2,
           "Play only if you control a [[Web-Warrior]] card.\n<b>When Defeated:</b> Add SP//dr to your hand if she was defeated by taking excess consequential damage."
          ],
          [
           0,
           "Permanent. This card's printed text box cannot be treated as if it were blank.\n<i>Suit Up!</i> — <b>Forced Interrupt:</b> When you flip to this side, flip SP//dr Suit to its [[Active]] side. Attach this card to SP//dr Suit, moving all counters on this cards or cards attached to this card to SP//dr Suit."
          ],
          [
           1,
           "<b>Hero Action:</b> Exhaust SP//dr Command and an [[Interface]] upgrade → draw 1 card.\n<b>Hero Action:</b> Exhaust SP//dr Command, choose and discard 1 card from your hand → ready an [[Interface]] upgrade."
          ],
          [
           0,
           "(?)"
          ],
          [
           1,
           "<b>Alter-Ego Action</b>: Exhaust Safe House #29 and choose a [[Preparation]] card in your discard pile → add that card to your hand."
          ],
          [
           0,
           "Unit Cost 5.\n<b>Hero Action</b>: Give up to 2 friendly characters each a tough status card. Draw 1 card."
          ],
          [
           0,
           "<b>Response</b>: After you spend this card, put a [[tech]] upgrade from your discard pile on top of your deck."
          ],
          [
           0,
           "<b>Alter-Ego Action</b>: Spend 1 resource of any type → search your deck and discard pile for Supernova Helmet. Add it to your hand (put it into play instead if you paid for this ability using a [wild] resource)."
          ],
          [
           1,
           "<b>Alter-Ego Action</b>: Exhaust Sanctum Sanctorum → shuffle a [[Spell]] card from your discard pile into your deck and draw 1 card."
          ],
          [
           2,
           "<b>Hero Action</b> <i>(attack)</i>: Deal 5 damage to an enemy. If you paid for this card using only [energy] resources, this attack gains overkill."
          ],
          [
           1,
           "<b>Hero Action</b>: Discard an ally your control → remove threat from a scheme equal to that ally's printed cost."
          ],
          [
           0,
           null
          ],
          [
           1,
           "<b>Hero Action:</b> <i>(attack)</i>: Deal 3 damage to a confused enemy."
          ],
          [
           4,
           "Play only if you control a [[Web-Warrior]] card.\n<b>Interrupt:</b> When you would reveal an encounter card, name a card type, then look at that card. If that card is of the named type, deal 1 damage to Scarlet Spider and draw 1 card."
          ],
          [
           3,
           "<b>Interrupt:</b> When you use one of Scarlet Witch's basic powers, discard the top card of the encounter deck. For each boost icon discarded this way, Scarlet Witch gets +1 to that power for this use."
          ],
          [
           0,
           "<i>Chaos Control</i> — <b>Interrupt:</b> When boost icons on an encounter card would be counted, discard the top card of the encounter deck and count the number of boost icons on that card instead. (Limit once per phase.)"
          ],
          [
           2,
           "<b>Interrupt:</b> When boost icons on an encounter card are counted, exhaust Scarlet Witch's Crest → increase or decrease the number of boost icons on that card by 1 for this count."
          ],
          [
           2,
           "<b>Hero Action</b>: Until the end of the turn, heal 2 damage from Rocket Raccoon each time you deal any amount of damage to an enemy."
          ],
          [
           3,
           "<b>Hero Action</b>: Remove 3 ammo counters from War Machine → deal 3 damage to each enemy in play."
          ],
          [
           0,
           "Time to Unwind — <b>Response:</b> After you change to this form, heal 1 damage from Scott Lang."
          ],
          [
           0,
           "You may include [[X-MEN]] allies from any aspect in your deck.\n<i>Constant Training</i> - <b>Action</b>: Search your deck for a [[TACTIC]] upgrade and add it to your hand. (Limit once per round)."
          ],
          [
           3,
           "<b>Action</b>: Heal 4 damage from an identity (5 damage instead if you paid for this card using a [mental] resource)."
          ],
          [
           3,
           "Reduce the cost to play Sector Scan by X, where X is equal to Ironheart's [[version]] number.\n<b>Hero Action</b>: Until the end of the round, you may look at the top card of the encounter deck at any time."
          ],
          [
           0,
           null
          ],
          [
           0,
           null
          ],
          [
           1,
           "<b>Hero Action</b>: Ready Spider-Woman. She gains [[aerial]] until the end of the round."
          ],
          [
           2,
           "Play under any player's control.\nMax 1 per player.\n<b>Resource:</b> Exhaust Sense of Justice → generate a [mental] resource for a [[Thwart]] event."
          ],
          [
           4,
           "<b>Forced Response</b>: After Sentry enters play under your control, deal yourself 1 encounter card."
          ],
          [
           1,
           "<b>Alter-Ego Action:</b> Exhaust Serval Industries → shuffle 2 Quicksilver cards from your discard pile into your deck."
          ],
          [
           0,
           "<b>Hero Action</b> <i>(thwart)</i>: Remove 1 threat from a scheme."
          ],
          [
           1,
           "<b>Special</b>: Give up to 3 characters each a tough status card. Place this card in the [[Invocation]] deck discard pile."
          ],
          [
           2,
           "Team-Up (Colossus and Shadowcat).\nMax 1 per deck.\n<b>Hero Interrupt</b> <i>(attack/defense)</i>: When an enemy attacks, prevent all damage from that attack and deal 4 damage to the attacking enemy."
          ],
          [
           3,
           "Shadowcat ignores the guard and patrol keywords, and any crisis icons ([crisis]) in play."
          ],
          [
           0,
           "<i>Selective Intangibility</i> - While you are in Phased mass form, Shadowcat ignores the guard and patrol keywords, and any crisis icons ([crisis]) in play."
          ],
          [
           2,
           "<b>Hero Action</b> <i>(attack)</i>: Deal 3 damage to an enemy. Ready your hero."
          ],
          [
           1,
           "<b>Hero Response</b>: After a [[guardian]] character takes any amount of damage from an attack, give that character a tough status card."
          ],
          [
           0,
           null
          ],
          [
           4,
           "She-Hulk gets +1 ATK for each damage token here."
          ],
          [
           0,
           "\"Do You Even Lift?\" — <b>Response</b>: After you change to this form, deal 2 damage to an enemy."
          ],
          [
           0,
           "<b>Interrupt</b> <i>(defense)</i>: When you would take any amount of damage, exhaust Captain America's Shield → prevent all of that damage."
          ],
          [
           0,
           "Play only if your identity has the Mystic trait. Max 1 per deck.\n<b>Hero Interrupt</b> <i>(defense)</i>: When you would take any amount of damage from an attack, discard that many cards from the top of your deck → prevent all damage from this attack."
          ],
          [
           0,
           "<b>Hero Action</b> <i>(attack)</i>: Discard X cards from your hand, then return Captain America's Shield from play to your hand → deal 4 damage to X enemies."
          ],
          [
           1,
           "<b>Hero Interrupt</b>: When the enemy with Death-Glow attached attacks, declare Valkyrie the defender without exhausting her. She gets +2 DEF for this attack."
          ],
          [
           0,
           null
          ],
          [
           0,
           null
          ],
          [
           2,
           "<b>Hero Action</b> <i>(attack)</i>: Exhaust Shoulder Cannon → deal 1 damage to an enemy. You may remove 1 ammo from War Machine to ready shoulder cannon."
          ],
          [
           2,
           "<b>Hero Interrupt</b>: When you play a [[Thwart]] event, exhaust Shrink → increase the amount of threat that event removes by 2."
          ],
          [
           2,
           "<b>Response</b>: After Shuri enters play, search your deck for an upgrade and add it to your hand. Shuffle your deck."
          ],
          [
           0,
           "Play under any player's control.\nMax 1 per player.\nYou can control 1 additional [[weapon]] upgrade that has the restricted keyword."
          ],
          [
           1,
           "<b>Hero Interrupt</b> <i>(defense)</i>: When you would take any amount of damage, prevent 3 of that damage. If you paid for this card using [energy] resource, deal 1 damage to that enemy."
          ],
          [
           1,
           "Attach to an ally. Max 1 per ally.\nAttached ally gets +1 ATK and its attacks gain ranged."
          ],
          [
           2,
           "<b>Response</b>: After you play Silk from your hand, if you control another [[Web-Warrior]] card, search the encounter deck for a treachery and discard it. <i>(Shuffle.)</i>"
          ],
          [
           0,
           "Play under any player's control. Max 1 per player.\n<b>Hero Response</b>: After a side scheme is defeated, exhaust Skilled Investigator → draw 1 card."
          ],
          [
           0,
           "<b>Interrupt</b>: When your hero makes a basic attack, it gets +2 ATK for that attack."
          ],
          [
           1,
           "Attach to an [[Avenger]] ally. Max 1 per ally.\nAttached ally gains [[Aerial]].\n<b>Action</b>: Exhaust Sky Cycle → ready attached ally."
          ],
          [
           3,
           "<b>Response</b>: After you play a [[S.H.I.E.L.D.]] card, exhaust Sky-Destroyer → deal 2 damage to an enemy."
          ],
          [
           3,
           "<b>Hero Action</b>: Make the following 2 attacks in order:\n• Deal 3 damage to an enemy.\n• Deal 3 damage to an enemy."
          ],
          [
           3,
           "Play only if you control an Element Gun.\n<b>Hero Action</b> <i>(attack)</i>: Deal 5 damage to an enemy. Deal 2 additional damage to that enemy for each facedown encounter card in front of you."
          ],
          [
           1,
           "<b>Hero Action</b> <i>(thwart)</i>: Exhaust your hero → remove threat from a scheme equal to your hero's ATK."
          ],
          [
           0,
           null
          ],
          [
           1,
           "<b>Action</b>: Choose an ally in your hand that shares a [[trait]] with your identity → put that ally into play. If that ally is still in play at the end of the phase, discard it."
          ],
          [
           2,
           "<b>Hero Action</b> <i>(thwart)</i>: Remove 3 threat from a scheme."
          ],
          [
           0,
           null
          ],
          [
           4,
           "<b>Response</b>: After Snowguard enters play, place up to 3 shift counters here. While the shift counters here are equal to (X), she gets:\n(1) +3 ATK and her attacks gain overkill.\n(2) +3 THW and gains the [[Aerial]] trait.\n(3) +5 hit points and gains retaliate 1."
          ],
          [
           3,
           "<b>Hero Action</b> <i>(attack)</i>: If Vision is in Dense mass form, deal 7 damage to an enemy.\n<b>Hero Action</b> <i>(thwart)</i>: If Vision is in Intangible mass form, remove 5 threat from a scheme."
          ],
          [
           2,
           "Vision gains the [[Aerial]] trait.\n<b>Resource:</b> Exhaust Solar Gem → generate a [wild] resource."
          ],
          [
           0,
           "Mass form. Permanent.\n<b>Hero Resource</b>: Exhaust this card → generate a [physical] resource for an [[attack]] or [[defense]] event.\n<b>Response</b>: After you attack or defend in Solid mass form, flip this card."
          ],
          [
           2,
           "<b>Hero Action</b> <i>(attack)</i>: Exhaust Hawkeye's Bow → confuse an enemy and deal 3 damage to it (5 damage instead if it is already confused)"
          ],
          [
           3,
           "Restricted. Uses (2 charge counters).\n<b>Hero Action</b>: Exhaust Sonic Rifle and remove 1 charge counter from it → confuse an enemy (deal 3 damage to that enemy instead if it is already confused)."
          ],
          [
           1,
           "Team-Up (Phoenix and Storm). Max 1 per deck.\n<b>Hero Action</b>: Ready Phoenix and Storm. Heal 2 damage from each of them."
          ],
          [
           1,
           "<b>Response</b>: After your deck runs out of cards, place 1 soul counter here.\n<b>Alter-Ego Action</b>: Exhaust Soul World and remove 1 soul counter from it → heal all damage from your identity."
          ],
          [
           3,
           "<b>Hero Action</b> <i>(attack)</i>: Deal 6 damage to an enemy. If Rogue has:\n• [[AERIAL]], this attack deals 2 additional damage.\n• Retaliate, stun that enemy.\n• Stalwart, draw 1 card."
          ],
          [
           0,
           "<i>Energy Transformation</i> - <b>Forced Response:</b> After you change to this form, choose a facedown energy form upgrade → flip that card faceup to change to that energy form."
          ],
          [
           4,
           "<b>Response</b>: After Speed thwarts, ready him. (Limit once per round.)"
          ],
          [
           0,
           "<b>Hero Action:</b> Stun X Enemies."
          ],
          [
           0,
           "<b>Hero Action:</b> Change energy forms and draw 1 card."
          ],
          [
           1,
           "<b>Hero Interrupt:</b> When SP//dr Suit defends against an attack, exhaust Speed-Metal Alloy → it gets +2 DEF for that defense."
          ],
          [
           2,
           "<b>Response</b>: After you play Spider-Girl from your hand, stun and confuse a minion."
          ],
          [
           3,
           "Play only if you control a [[Web-Warrior]] card.\n[star]<b>Forced Response:</b> After Spider-Ham attacks of thwarts, discard the top card of the encounter deck. For each boost icon ([boost]) discarded this way, deal 1 damage to Spider-Ham."
          ],
          [
           0,
           "Each toon counter on Spider-Ham can be spent as if it were a [wild] resource.\n<i>Spider-Nonsense</i> — <b>Response:</b> After Spider-Ham takes any amount of damage, place 1 toon counter on him."
          ],
          [
           "(?)",
           "(?)"
          ],
          [
           "(?)",
           "(?)"
          ],
          [
           4,
           "<b>Response</b>: After you play Spider-Man from your hand, stun and confuse an enemy if you control at least 3 [[Web-Warrior]] cards."
          ],
          [
           0,
           "Spider-Sense — <b>Interrupt</b>: When the villain initiates an attack against you, draw 1 card."
          ],
          [
           0,
           "<i>Venom Blast</i> - <b>Special</b>: Deal 2 damage to an enemy. Stun that enemy.\n<i>Spider Camouflage</i> - <b>Special</b>: Give Spider-Man a tough status card. Confuse an enemy."
          ],
          [
           3,
           "X is equal to the number of facedown cards attached to Spider-Man Noir.\n<b>Response:</b> After you resolve a treachery, if you control another [[Web-Warrior]] card, attach that treachery facedown here (to a maximum of 3)."
          ],
          [
           2,
           "<b>Hero Interrupt</b>: When the villain initiates an attack agaist you, draw 1 card."
          ],
          [
           1,
           "<b>Interrupt:</b> When you would reveal an encounter card, deal 1 damage to a [[Web-Warrior]] character you control → if that card is a treachery, cancel its <b>\"When Revealed\"</b> effects and discard Spider-Tingle."
          ],
          [
           1,
           "Attach to a minion.\n<b>Forced Interrupt</b>: When attached minion is defeated, remove 3 threat from a scheme."
          ],
          [
           3,
           "<b>Interrupt</b>: When Spider-UK defends against an attack, deal damage to the attacking enemy equal to the number of [[Web-Warrior]] cards you control."
          ],
          [
           3,
           "<b>Response</b>: After Spider-Woman enters play, confuse the villain."
          ],
          [
           3,
           "Reduce the cost to play Spider-Woman by 1 for each confused enemy in play."
          ],
          [
           0,
           "\"Superhuman Agility\" — <b>Interrupt</b>: When you play an aspect card, Spider-Woman gets +1 THW, +1 ATK, and +1 DEF until the end of the round. (limit once per round for each aspect.)"
          ],
          [
           0,
           "Play only if your identity has the [[Mystic]] trait.\n<b>Action</b>: Draw 2 cards. Choose and discard 1 card from your hand."
          ],
          [
           3,
           "<b>Action</b>: Change your form <i>(flip your identity card)</i>. Then, draw up to your printed hand size."
          ],
          [
           1,
           "Play only if you control a [[Spy]] character.\n<b>Interrupt</b>: When you reveal an encounter card, discard Spycraft → cancel the effects of that card and discard it. Then, reveal another card from the encounter deck."
          ],
          [
           2,
           "<b>Response</b>: After Squirrel Girl enters play, deal 1 damage to each enemy."
          ],
          [
           4,
           "Alliance.\n<b>Hero Interrupt</b>: When a friendly character would take any amount of damage from an attack, exhaust an [[avenger]] character and a [[guardian]] character → prevent all of that damage. Deal that much damage to the attacking enemy."
          ],
          [
           2,
           "[star] Star-Lord's attacks gain ranged.\n <b>Forced Response</b>: After Star-Lord enters play under your control, deal yourself 1 facedown encounter card."
          ],
          [
           0,
           "Each ally you control gains the [[guardian]] trait.\n\"What could go wrong?\" — <b>Interrupt:</b> When you play a card from your hand, deal yourself 1 facedown encounter card → reduce the cost to play that card by 3. (Limit once per round.)"
          ],
          [
           1,
           "While you are in hero form, you get +1 hand size for each facedown encounter card in front of you (to a maximum of +3 hand size)"
          ],
          [
           2,
           "<b>Interrupt</b>: When Starhawk takes damage exactly equal to his remaining hit points, return him to your hand."
          ],
          [
           2,
           "<b>Alter-Ego Action</b>: Exhaust Stark Tower → choose a player. That player returns the topmost [[Tech]] upgrade in their discard pile to their hand."
          ],
          [
           3,
           "<b>Hero Action</b> <i>(attack)</i>: Deal 4 damage to an enemy. If that enemy is defeated by this attack, remove 2 threat from a scheme."
          ],
          [
           2,
           "<b>Hero Action</b>: Deal 5 damage to an enemy. You may discard a tough status card from your hero → stun and confuse that enemy."
          ],
          [
           0,
           "Stephen Strange begins the game with an [[Invocation]] deck. (See insert.)\n<i>Natural Talent</i> — <b>Action</b>: Discard the top card of the [[Invocation]] deck. (Limit once per phase.)"
          ],
          [
           0,
           "Living Legend — Reduce the cost of the first ally played each round by 1.\n<b>Setup</b>: Search your deck and discard pile for the Captain America's Shield upgrade and add it to your hand. Shuffle your deck."
          ],
          [
           1,
           "<b>Alter-Ego Action</b>: Exhaust Steve's Apartment → draw 1 card and heal 1 damage from Steve Rogers."
          ],
          [
           1,
           "Play only if your identity has the [[Avenger]] trait.\nStinger does not count against your ally limit."
          ],
          [
           5,
           "Reduce the cost to play Storm by 1 if your identity has the [[MUTANT]] or [[X-MEN]] trait.\n[star]<b>Interrupt</b>: When Storm thwarts a scheme, move 2 threat from that scheme to another scheme."
          ],
          [
           0,
           "<i>Weather Control</i> — <b>Action</b>: Swap your [[WEATHER]] support in play with a support of your choice from the [[WEATHER]] deck. Resolve the \"<b>Special</b>\" ability on your [[WEATHER]] support in play. (Limit once per round)."
          ],
          [
           3,
           "Storm gets +1 DEF and gains the [[AERIAL]] trait.\n<b>Hero Response</b>: After you resolve the  \"<b>Special</b>\" ability on your [[WEATHER]] support, exhaust Storm's Cape → ready Storm."
          ],
          [
           2,
           "Storm gets +1 THW.\n<b>Hero Resource</b>: Exhaust Storm's Crown → generate the printed resource on your [[WEATHER]] support."
          ],
          [
           0,
           "Max 1 per deck."
          ],
          [
           0,
           "<b>Action</b>: Exhaust any number of allies you control → draw 1 card for each ally exhausted this way."
          ],
          [
           0,
           "<b>Response</b>: After you spend this card, place 1 progress counter on your identity and draw 1 card."
          ],
          [
           3,
           "<b>Hero Action</b> <i>(thwart)</i>: Remove 3 threat from a scheme (5 threat instead if you paid for this card using only [physical] resources)."
          ],
          [
           1,
           "<b>Hero Interrupt</b>: When an enemy initiates an attack, that enemy gets -3 ATK for that attack."
          ],
          [
           0,
           null
          ],
          [
           2,
           "Play only if your identity has the Mystic trait. Max 1 per deck.\n<b>Hero Action</b>: Discard cards from the top of your deck until you discard an ally → put that ally into play under your control."
          ],
          [
           2,
           "<b>Response</b>: After you play Sunfire from your hand, spend a [energy] resource → choose an attachment with the text \"<b>Hero Action</b>\" or \"<b>Hero Response</b>\" and discard it."
          ],
          [
           2,
           "<b>Resource</b>: Exhaust Super-Soldier Serum → generate a [physical] resource."
          ],
          [
           2,
           "Play only if Vision is in Dense mass form.\n<b>Hero Action</b> <i>(attack)</i>: Deal 5 damage to an enemy. This attack gains piercing."
          ],
          [
           1,
           "<b>Alter-Ego Action</b> (<i>thwart</i>): Exhaust Superhuman Law Division and spend a [mental] resource → remove 2 threat from a scheme."
          ],
          [
           2,
           "She-Hulk gets +2 ATK.\n<b>Forced Response</b>: After She-Hulk attacks, discard Superhuman Strength → stun the attacked enemy."
          ],
          [
           1,
           "Nova gains the [[Aerial]] trait.\n<b>Hero Resource</b>: Exhaust Supernova Helmet → generate a [wild] resource."
          ],
          [
           0,
           "<b>Hero Action</b>: If Touched is attached to a friendly character, search its owner's discard pile for an event that belong's to the same classification as that character <i>(identity-specific, aspect, or basic)</i> → add that event to your hand."
          ],
          [
           2,
           "<b>Hero Action</b> (<i>attack</i>): Deal 4 damage to an enemy (8 damage instead if you have the [[Aerial]] trait)."
          ],
          [
           0,
           "Unit Cost 5.\n<b>Hero Action</b>: Reduce the resource cost of the next card played this phase by 3."
          ],
          [
           0,
           null
          ],
          [
           1,
           "<b>Hero Response</b> <i>(attack)</i>: After you change form, deal 3 damage to an enemy (4 damage instead if you paid for this card using [physical] resource)."
          ],
          [
           0,
           null
          ],
          [
           0,
           null
          ],
          [
           2,
           "Uses (3 snoop counters). <i>(Enters play with 3 counters. When those are gone, discard this card)</i>\n<b>Action</b>: Exhaust Surveillance Team and remove 1 snoop counter from it → remove 1 threat from a scheme."
          ],
          [
           0,
           null
          ],
          [
           0,
           null
          ],
          [
           1,
           "(?)"
          ],
          [
           1,
           "<b>Hero Action</b> <i>(attack)</i>: The villain schemes. Deal 4 damage to the villain."
          ],
          [
           2,
           "<b>Hero Action</b> <i>(thwart)</i>: Remove 4 threat from a scheme. If you paid for this card using a [mental] resource, resolve Spider-Man's <i>\"Spider Camouflage\"</i> ability."
          ],
          [
           3,
           "<b>Hero Action</b> <i>(attack)</i>: Deal 8 damage to an enemy."
          ],
          [
           3,
           "<b>Hero Action</b> <i>(attack)</i>: Deal 6 damage to an enemy. Confuse that enemy."
          ],
          [
           4,
           "Max 1 per deck.\nYour identity gets +1 to each of its basic powers, +1 hand size, and +10 hit points."
          ],
          [
           3,
           "Black Widow gets +1 DEF.\n<b>Hero Response</b>: After you trigger the ability of a [[Preparation]] card you control, exhaust Synth-Suit → ready Black Widow."
          ],
          [
           0,
           null
          ],
          [
           0,
           "Foresight — <b>Setup</b>: Search your deck for a [[Black Panther]] upgrade and add it to your hand. Shuffle your deck."
          ],
          [
           3,
           "Uses (3 attack counters). <i>(Enters play with 3 counters. When those are gone, discard this card)</i>\n<b>Action</b>: Exhaust Tac Team and remove 1 attack counter from it → deal 2 damage to an enemy."
          ],
          [
           3,
           "<b>Hero Action</b> <i>(attack)</i>: Stun an enemy. If you paid for this card using a [physical] resource, deal 3 damage to that enemy."
          ],
          [
           2,
           "<b>Hero Action</b> <i>(thwart)</i>: Remove 3 threat from a scheme. Choose a [[TACTIC]] card in your discard pile and add it to your hand."
          ],
          [
           2,
           "<b>Special</b> (<i>thwart</i>): Remove 1 threat from a scheme (2 threat instead if this is the final step of this sequence).\n<i>(Play the \"Wakanda Forever!\" event to use this ability.)</i>"
          ],
          [
           0,
           "Setup.\n<b>Hero Action:</b> Discard this card and remove it from the campaign log → draw 5 cards."
          ],
          [
           0,
           "Unit Cost 3.\n<b>Hero Action</b>: Look at the top 2[per_hero] cards of the encounter deck. Discard any number of those, then place the rest on the top and/or bottom of the encounter deck in any order. Draw 1 card."
          ],
          [
           1,
           "Max 1 per player.\n<b>Hero Response</b>: After a boost card is turned faceup, discard Target Acquired → cancel that card's boost ability."
          ],
          [
           0,
           "<b>Interrupt</b>: When an ally with a [[weapon]] attachment upgrade makes an attack, discard Target Practice → that ally gets +2 ATK for that attack."
          ],
          [
           1,
           "<b>Hero Action</b> <i>(thwart)</i>: Remove 1 ammo counter from War Machine → remove 3 threat from a scheme."
          ],
          [
           2,
           "Unit Cost 6.\n<b>Hero Action</b>: Exhaust Targeting Screen → remove 2 threat from a scheme (3 threat instead if you control the Milano)."
          ],
          [
           1,
           "Play only if your identity has the [[X-MEN]] trait.\n<b>Hero Action</b> <i>(attack)</i>: Exhaust your hero and any number of [[X-MEN]] allies → deal X damage among enemies in play, where X is the total ATK of the characters you exhausted this way."
          ],
          [
           2,
           "Play under any player's control. Max 1 per player.\nEach ally you control gets +1 hit point."
          ],
          [
           2,
           "<b>Hero Action</b>: Exhaust Team-Building Exercise → play a card from your hand that shares a trait with your hero, reducing its resource cost by 1."
          ],
          [
           0,
           "<b>Hero Interrupt</b> When you use your basic thwart power <i>(THW)</i> or basic attack power <i>(ATK)</i>, exhaust an ally you control → add that ally's matching power to your hero's power for this use."
          ],
          [
           3,
           "<b>Hero Action</b> <i>(attack)</i>: Deal 7 damage to an enemy. If you have the [[UNLEASHED]] trait, this attack deals 2 additional damage and gains overkill."
          ],
          [
           2,
           "Attach to a friendly character.\n<b>Forced Interrupt</b>: When attached character would take damage from an enemy attack, place that damage here instead. Then, if there is at least 5 damage here, discard Telekinetic Shield."
          ],
          [
           2,
           "<b>Hero Action</b> <i>(thwart)</i>: Remove 4 threat from a scheme. If you have the [[UNLEASHED]] trait, stun and confuse an enemy."
          ],
          [
           2,
           "<b>Hero Action</b>: Spend a [physical] resource and discard this card → ready your hero."
          ],
          [
           0,
           "<b>Hero Interrupt</b> <i>(defense)</i>: When your hero defends against an attack, use its ATK instead of its DEF for this attack."
          ],
          [
           1,
           "Play only if your identity has the [[asgard]] trait.\n<b>Action</b>: Exhaust The Bifrost → search your deck for an [[asgard]] ally and play it <i>(paying its cost)</i>. Shuffle your deck."
          ],
          [
           2,
           "<b>Alter-Ego Action:</b> Exhaust The Daily Beagle → place 1 toon counter on Peter Porker."
          ],
          [
           2,
           "<b>Hero Resource</b>: Exhaust The Eye of Agamotto → generate a [wild] resource."
          ],
          [
           2,
           "<b>Action</b>: Shuffle this card into the encounter deck (without looking)\n<b>When Revealed</b>: Heal 2 damage from your identity and remove this card from the game. This effect cannot be canceled."
          ],
          [
           2,
           "<b>Alter-Ego Action</b>: Exhaust The Golden City → draw 2 cards."
          ],
          [
           2,
           "Play only if your identity has the [[champion]] trait.\n<b>Hero Response</b>: After The Locust enters play, add 1 Aggression (red) event from your discard pile to your hand."
          ],
          [
           1,
           "Uses (3 medical counters).\n<b>Action</b>: Exhaust The Night Nurse and remove 1 medical counter from her → heal 1 damage from a hero and discard 1 status card from it."
          ],
          [
           0,
           "Max 2 per deck.\nDouble the number of resources this card generates when paying for a Basic (gray) card."
          ],
          [
           0,
           "Max 2 per deck.\nDouble the number of resources this card generates while paying for a Aggression <i>(red)</i> card."
          ],
          [
           0,
           "Max 2 per deck.\nDouble the number of resources this card generates while paying for a Justice <i>(yellow)</i> card."
          ],
          [
           0,
           "Max 2 per deck.\nDouble the number of resources this card generates while paying for a Leadership <i>(blue)</i> card."
          ],
          [
           0,
           "Max 2 per deck.\nDouble the number of resources this card generates while paying for a Protection <i>(green)</i> card."
          ],
          [
           2,
           "Play only if you have the [[Mystic]] trait.\nYou get +1 hand size while in hero form."
          ],
          [
           1,
           "<b>Alter-Ego Response</b>: After you resolve your <i>\"Thief Extraordinaire\"</i> ability, exhaust The Thieves Guild → remove 1 threat from a scheme. If this removes the last threat from that scheme, draw 1 card."
          ],
          [
           1,
           "Increase your ally limit by 1. <i>(This allows you to control more than 3 allies.)</i>"
          ],
          [
           3,
           "<b>Resource</b>: Exhaust The X-Jet → generate a [wild] resource for a player whose identity has the [[X-MEN]] trait."
          ],
          [
           "(?)",
           "(?)"
          ],
          [
           0,
           "\"Have at thee!\" — <b>Response</b>: After you engage a minion, draw 2 cards. (Limit once per phase.)"
          ],
          [
           2,
           "You get +5 hit points."
          ],
          [
           2,
           "<b>Response</b>: After Throg enters play, give him a tough status card if you are engaged with a minion."
          ],
          [
           1,
           "While in hero form, Rocket Raccoon gets +1 THW and gains the [[aerial]] trait."
          ],
          [
           3,
           "<b>Hero Action</b>: Choose up to 3 different enemies. Deal 3 damage to each of them."
          ],
          [
           0,
           "Permanent.\nEach character gets +1 ATK.\n<b>Special</b>: Deal 2 damage to an enemy."
          ],
          [
           2,
           "<b>Hero Action:</b> Deal 1 damage to a [[Web-Warrior]] character you control → place a total of 2 stun status cards on up to 2 enemies."
          ],
          [
           3,
           "<b>Action</b>: Remove Ticket to the Multiverse from the game → discard your hand, shuffle your discard pile into your deck, draw up to your hand size, and ready each Ghost-Spider card you control."
          ],
          [
           3,
           "<b>Response</b>: After Tigra attacks and defeats a minion, heal 1 damage from her."
          ],
          [
           2,
           "Colossus gets +1 ATK.\n<b>Hero Resource</b>: Exhaust this card → generate a [physical] resource for each tough status card on Colossus."
          ],
          [
           2,
           "<b>Hero Action</b> <i>(thwart)</i>: Remove 2 threat from a scheme."
          ],
          [
           1,
           "<b>Hero Action</b> <i>(attack)</i>: Choose an enemy. That enemy attacks you. Deal 5 damage to that enemy."
          ],
          [
           0,
           "Futurist — <b>Action</b>: Look at the top 3 cards of your deck. Add 1 to your hand and discard the others. (Limit once per round.)"
          ],
          [
           2,
           "<b>Action</b>: Exhaust Tony Stark A.I. → look at the top 2 cards of your deck. Add 1 to your hand and discard the other."
          ],
          [
           2,
           "<b>Hero Interrupt</b>: When Drax would be defeated, instead set his hit point dial to 4, change him to alter-ego form, and remove this card from the game."
          ],
          [
           2,
           "<b>Hero Action</b> <i>(thwart)</i>: Remove 3 threat from among schemes in play. If Hurricane is in play, resolve its \"<b>Special</b>\" ability."
          ],
          [
           0,
           "If Touched is attached to a:\nMinion − Rogue's attacks gain overkill.\nVillain − Rogue gains retaliate 1.\nAlly − Rogue gains the [[AERIAL]] trait.\nHero − Rogue gains stalwart."
          ],
          [
           2,
           "<b>Hero Action</b> <i>(thwart)</i>: Remove 3 threat from a scheme. If this removes the last threat from that scheme, draw 2 cards."
          ],
          [
           0,
           "Unit Cost 7.\n<b>Hero Action</b>: Choose a player. That player may add up to 3 cards from their discard pile to their hand. Remove this card from the game."
          ],
          [
           0,
           "Unit Cost 7.\n<b>Hero Action</b>: Ready up to 3 characters. Remove this card from the game."
          ],
          [
           1,
           "<b>Response</b> <i>(thwart)</i>: After your hero defends against an enemy attack, remove threat from a scheme equal to your hero's THW."
          ],
          [
           0,
           "<b>Response</b> <i>(attack)</i>: After your hero thwarts and removes all threat from a scheme, deal 3 damage to an enemy."
          ],
          [
           3,
           "Team-Up (Iron Man and War Machine). Max 1 per deck.\n<b>Hero Action</b>: Search your deck for a [[tech]] upgrade and put it into play. Shuffle your deck. Ready Iron Man and War Machine."
          ],
          [
           3,
           "Retaliate 1."
          ],
          [
           3,
           "Play under any player's control. Max 1 [[TEAM]] card per player.\nEach of your [[X-MEN]] allies gets +1 hit point. If each of your characters has the [[X-MEN]] trait, each of your [[X-MEN]] allies costs 1 fewer resource to play."
          ],
          [
           2,
           "Attach to the main scheme. Max 1 per scheme.\nIncrease the target threat value of attached scheme by 4."
          ],
          [
           1,
           "Play under any player's control. Max 1 per player.\n<b>Response</b>: After you defend against an attack and take no damage, exhaust Unflappable → draw 1 card."
          ],
          [
           0,
           "Play only if your identity has the [[Avenger]] trait.\n<b>Hero Action:</b> Heal 1 damage from up to X friendly characters (to a maximum of 3 characters), where X is equal to the villain's stage number."
          ],
          [
           1,
           "Max 1 per round.\n<b>Hero Action</b>: Until the end of the round, each time Nova defeats an enemy or removes the last threat from a scheme, ready Nova and draw 1 card."
          ],
          [
           1,
           "Play only if your identity has at least 14 printed hit points.\nYour identity gains steady."
          ],
          [
           2,
           "<b>Hero Action</b>: Ready Hulk. If you paid for this card using only [physical] resources, draw 1 card."
          ],
          [
           1,
           "While in hero form, Nebula gets +1 THW, +1 ATK, and gains stalwart.\n<b>Special</b> : Give Nebula a tough status card."
          ],
          [
           3,
           "War Machine gains the [[aerial]] trait.\n<b>Hero Response</b>: After you change to hero form, exhaust Upgraded Chassis → give War Machine a tough status card."
          ],
          [
           3,
           "<b>Hero Action</b> (<i>attack</i>): Deal 5 damage to an enemy."
          ],
          [
           2,
           "If each of your allies has the [[X-MEN]] trait, increase your ally limit by 1.\n<b>Response:</b> After an [[X-MEN]] ally enters play, exhaust Utopia → ready an [[X-MEN]] character."
          ],
          [
           4,
           "[star] VEN#m gets +1 THW and +1 ATK for each sym counter on her.\n<b>Hero Response:</b> After VEN#m enters play, place 1 sym counter on her for each resource generated by SP//dr Suit's \"Sync Ratio\" ability to pay for her."
          ],
          [
           2,
           "<b>Response</b>: After Valkyrie attacks and defeats the enemy that has Death-Glow attached, exhaust Valhalla → draw 1 card and heal 1 damage from Valkyrie."
          ],
          [
           3,
           "<b>Response:</b> After Valkyrie enters play, deal 2 damage to a minion (3 damage instead if you paid for this card using a [energy] resource)."
          ],
          [
           0,
           "Death Perception — <b>Hero Action</b>: Play the set-aside Death-Glow upgrade as if it were in your hand."
          ],
          [
           1,
           "Restricted.\nValkyrie gets +1 DEF (+2 DEF instead while defending against the enemy with Death Glow attached)."
          ],
          [
           0,
           "<b>Special</b>: Choose a status card in play. Replace that status card with a different status card. Place this card in the [[Invocation]] deck discard pile."
          ],
          [
           4,
           "<b>Response</b>: After you reveal an encounter card, deal 1 damage to Venom → deal damage to an enemy equal to the number of icons <i>([star] and [boost])</i> in that card's boost area."
          ],
          [
           4,
           "While there is no threat on the main scheme, reduce all consequential damage Venom takes by 1."
          ],
          [
           0,
           "You can control 1 additional upgrade that has the restricted keyword.\n<i>Symbiotic Bond</i> - <b>Resource</b>: Take 1 damage → generate a [wild] resource. (Limit once per phase)"
          ],
          [
           2,
           "<b>Hero Action</b> <i>(attack)</i>: Deal 5 damage to an enemy."
          ],
          [
           1,
           "Restricted.\n<b>Hero Interrupt</b>: When you use one of Venom's basic powers, exhaust Venom's Pistol → Venom gets +1 to that power for this use."
          ],
          [
           0,
           null
          ],
          [
           2,
           "<b>Hero Action</b> <i>(attack)</i>: Exhaust Hawkeye's Bow → deal 6 damage to an enemy. This attack gains piercing."
          ],
          [
           2,
           "<b>Special</b> (<i>attack</i>): Move 1 damage from your hero to an enemy (2 damage instead if this is the final step of this sequence).\n<i>(Play the \"Wakanda Forever!\" event to use this ability.)</i>"
          ],
          [
           2,
           "Reduce the amount of damage Victor Mancha takes from each attack by 1."
          ],
          [
           1,
           "Max 2 per deck. Uses (2 training counters).\n<b>Alter-Ego Action</b>: Exhaust this card and remove 1 training counter from it → choose a justice (yellow) event in your discard pile and shuffle it into your deck."
          ],
          [
           1,
           "<b>Hero Interrupt</b>: When Groot defends against an attack, remove 1 growth counter from him and exhaust Vine Shield → Groot gets +3 DEF for that attack."
          ],
          [
           1,
           "<b>Hero Interrupt</b>: When Groot makes a basic attack, remove 1 growth counter from him and exhaust Vine Spikes → Groot gets +2 ATK for that attack."
          ],
          [
           4,
           "<b>Action</b>: Spend a [energy] resource → choose THW or ATK. Until the end of the phase, Vision gets +2 to the chosen power. (Limit once per round.)"
          ],
          [
           0,
           "(?)"
          ],
          [
           2,
           "While you are in Dense mass form, you gain retaliate 1.\nWhile you are in Intangible mass form, you gain stalwart."
          ],
          [
           0,
           "<b>Alter-Ego Action</b>: Return a Valkyrie card from your discard pile to your hand."
          ],
          [
           2,
           "<b>Hero Response</b>: After Vivian enters play, choose an attachment, non-[[Elite]] minion, or non-permanent side scheme. Until the end of the round, treat that card's printed text box as if it were blank (except for [[Traits]])."
          ],
          [
           2,
           "While you are in Intangible mass form, Vivian gets +2 THW.\nWhile you are in Dense mass form, Vivian gets +2 ATK."
          ],
          [
           0,
           null
          ],
          [
           1,
           "<b>Hero Action</b>: Resolve the \"<b>Special</b>\" ability on each [[Black Panther]] upgrade you control in any order. <i>(Resolving each ability is a step in a sequence.)</i>"
          ],
          [
           0,
           "<i>Superpowered Siblings</i> — <b>Action:</b> Discard 2 cards from your hand → draw 2 cards (draw 3 cards instead if Pietro Maximoff is in play). (Limit once per round.)"
          ],
          [
           0,
           null
          ],
          [
           4,
           "<b>Action</b>: Exhaust War Machine and deal 2 damage to him → deal 1 damage to each enemy."
          ],
          [
           4,
           "Toughness.\nWar Machine's basic attack gains ranged."
          ],
          [
           0,
           "<i>Locked and Loaded</i> - <b>Response</b>: After you change to this form, place 5 ammo counters on War Machine."
          ],
          [
           1,
           "Max 1 per player.\n<b>Response</b>: After an ally attacks and defeats a minion, exhaust War Room → remove 1 threat from a scheme."
          ],
          [
           3,
           "<b>Action:</b> Spend a [mental] resource → heal up to 2 damage from Warlock."
          ],
          [
           2,
           "<b>Hero Response</b>: After you resolve Adam Warlock's \"Battle Mage\" ability, exhaust Warlock's Cape → ready Adam Warlock's"
          ],
          [
           0,
           "<b>Interrupt</b> <i>(defense)</i>: When a hero would take any amount of damage, reduce that amount by 1."
          ],
          [
           1,
           "<b>Hero Interrupt:</b> When an encounter card is revealed from the encounter deck, cancel all of its effects and discard it. Discard cards from the top of the encounter deck equal to the number of boost icons on that card."
          ],
          [
           2,
           "Uses (3 warrior counters). Max 1 per player.\n<b>Interrupt</b>: When your hero attacks, remove 1 counter from here → that attacks deals 1 additional damage."
          ],
          [
           1,
           "Attach to a character with \"Spider\" in its title. Max 1 per character.\nAttached character gains the [[Web-Warrior]] trait.\n<b>Response:</b> After a [[Web-Warrior]] ally leaves play, attached character gets +1 ATK until the end of the phase."
          ],
          [
           3,
           "<b>Hero Response:</b> After Wasp enters play, deal 2 damage to an enemy if you are in [[Giant]] hero form or remove 2 threat from a scheme if you are in [[Tiny]] hero form."
          ],
          [
           0,
           "Wasp gets +1 hit point for each pym counter on her.\n<b>Interrupt:</b> When Wasp enters play, place 1 pym counter on her (to a maximum of 3) for each [energy] resource you overpaid for Wasp's cost."
          ],
          [
           2,
           "Play only if your identity has the [[champion]] trait.\nWasp ignores the guard keyword, patrol keyword, and crisis icon ([crisis])."
          ],
          [
           0,
           "(?)"
          ],
          [
           2,
           "<b>Hero Action</b> <i>(attack)</i>: If you are in [[Giant]] hero form, deal a total of 4 damage divided among enemies you choose.\n<b>Hero Action</b> <i>(attack)</i>: If you are in [[Tiny]] hero form, deal 5 damage to an enemy."
          ],
          [
           2,
           "While you are in [[Giant]] hero form, you get +1 THW.\nWhile you are in [[Tiny]] hero form, you get +1 ATK."
          ],
          [
           0,
           null
          ],
          [
           1,
           "Play only if your identity has the [[MUTANT]] trait.\n<b>Alter-Ego Action</b>: Exhaust Weapon X and take 1 damage → discard cards from your deck until you discard an identity-specific card, then add that card to your hand."
          ],
          [
           1,
           "While in hero form, Nebula gains retaliate 1.\n<b>Special</b> <i>(attack)</i>: Deal 4 damage to an enemy."
          ],
          [
           0,
           "<b>Hero Action</b>:  Swap your [[WEATHER]] support in play with a support of your choice from the [[WEATHER]] deck. Resolve the \"<b>Special</b>\" ability on your [[WEATHER]] support in play."
          ],
          [
           2,
           "Requirement ([mental]). <i>(While paying for this card, spend the listed resources.)</i>\n<b>Hero Interrupt</b>: When an enemy would activate, cancel that activation. If a minion's activation was cancelled this way, deal 4 damage to that minion."
          ],
          [
           3,
           "Ignore this card's resource cost if your identity has the [[Web-Warrior]] trait.\n<b>Response</b>: After a [[Web-Warrior]] ally leaves play, choose a player → that player draws 1 card."
          ],
          [
           2,
           "<b>Hero Response</b>: After you resolve an \"<b>Interrupt</b>\" or \"<b>Response</b>\" ability on an event, exhaust Web-Bracelet → draw 1 card. (Max 1 per event.)"
          ],
          [
           2,
           "<b>Hero Interrupt:</b> When SP/dr Suit makes a basic attack, exhaust Web-Fluid Compressor → it gets +2 ATK for that attack."
          ],
          [
           1,
           "Uses (3 web counters). <i>(Enters play with 3 counters. When those are gone, discard this card)</i>\n<b>Hero Resource</b>: Exhaust Web-Shooter and remove 1 web counter from it → generate a [wild] resource."
          ],
          [
           1,
           "Uses (3 web counters). <i>(Enters play with 3 counters. When those are gone, discard this card)</i>\n<b>Hero Resource</b>: Exhaust Web-Shooter and remove 1 web counter from it → generate a [wild] resource."
          ],
          [
           2,
           "<b>Hero Action</b> <i>(attack)</i>: Deal 4 damage to an enemy. If you paid for this card using a [energy] resource, resolve Spider-Man's <i>\"Venom Blast\"</i> ability."
          ],
          [
           2,
           "<b>Hero Action</b> <i>(attack)</i>: Deal 5 damage to an enemy. If you paid for this card using a resource generated by SP//dr Suit's <i>\"Sync Ratio\"</i> ability, stun that enemy."
          ],
          [
           4,
           "Hero form only. Attach to an enemy. Max 1 per enemy.\n<b>Forced Interrupt</b>: When attached enemy would attack, discard Webbed Up instead. Then, stun that enemy."
          ],
          [
           2,
           "Requirement ([physical]) <i>(While paying for this card, spend the listed resources.)</i>\n<b>Hero Action</b>: Heal 2 damage from your hero → ready your hero."
          ],
          [
           2,
           "<b>Alter-Ego Action</b>: Exhaust White Hot Room → choose:\n• Place 1 power counter on Phoenix Force.\n• Heal 2 damage from Jean Grey."
          ],
          [
           3,
           "<b>Response</b>: After you play White Tiger from your hand, draw X cards (to a maximum of three), where X is equal to the villain's stage number. If the villain has no stage number, draw 1 card."
          ],
          [
           2,
           "<b>Response:</b> After Wiccan thwarts, discard the top card of the encounter deck. For each boost icon discarded this way, deal 1 damage to an enemy."
          ],
          [
           1,
           "While Nebula is in hero form, reduce the amount of damage she takes from each attack by 1.\n<b>Special</b> : Look at the top 3 cards of the encounter deck. Discard 1 and put the others back in any order."
          ],
          [
           1,
           "<b>Hero Response</b> <i>(attack)</i>: After a minion enters play, discard Widow's Bite → deal 2 damage to that minion and stun it."
          ],
          [
           0,
           "<b>Hero Interrupt</b> <i>(defense)</i>: When you would take any amount of damage, prevent 3 of that damage. Draw 1 card."
          ],
          [
           0,
           "<b>Special</b>: Draw 3 cards. Place this card in the [[Invocation]] deck discard pile."
          ],
          [
           0,
           "Unit Cost 2.\n<b>Hero Action</b>: Deal 1 damage to an enemy and confuse it. Confuse your hero. Draw 1 card."
          ],
          [
           4,
           "Reduce the cost to play Winter Soldier by 1 for each [[Preparation]] card you control."
          ],
          [
           4,
           "[star] Wolverine's attacks gain piercing.\n<b>Response</b>: After your turn begins, heal 1 damage from Wolverine."
          ],
          [
           0,
           "<i>Healing Factor</i> - <b>Response</b>: After the player phase begins, heal 2 damage."
          ],
          [
           0,
           "Permanent.\n<b>Hero Action</b>: Exhaust Wolverine's Claws, choose en [[ATTACK]] event in your hand, and take damage equal to its printed cost → play that event, ignoring its resource cost. That attack gains piercing."
          ],
          [
           2,
           "[star] As an additional cost for Wonder Man to attack, you must discard 1 card from your hand."
          ],
          [
           3,
           "<b>Action</b>: Exhaust Wong → choose to either heal 1 damage from your identity or discard the top card of the [[Invocation]] deck."
          ],
          [
           3,
           "<b>Hero Interrupt:</b> When a boost card is turned faceup, exhaust Wraith and deal 1 damage to him → cancel that card's \"Boost\" effect."
          ],
          [
           1,
           "<b>Hero Action:</b> If you are in [[Giant]] hero form, exhaust Wrist Gauntlets and spend [physical][physical] resources → stun an enemy.\n<b>Hero Action:</b> If you are in [[Tiny]] hero form, exhaust Wrist Gauntlets and spend [energy][energy] resources → confuse an enemy."
          ],
          [
           0,
           null
          ],
          [
           1,
           "Play only if your identity has the [[MUTANT]] trait. Max 1 per player\n<b>Resource</b>: Exhaust X-Gene → generate a [wild] resource for an identity-specific event."
          ],
          [
           2,
           "<b>Alter-Ego Action</b>: Exhaust X-Mansion → heal 1 damage from a [[MUTANT]] or [[X-MEN]] character. Any player whose alter-ego has the [[MUTANT]] trait may trigger this ability."
          ],
          [
           0,
           "Play only if your identity has the [[MUTANT]] trait.\n<b>Alter-Ego Action</b>: Choose up to 2 [[X-MEN]] allies in your discard pile and shuffle them into your deck. If X-Mansion is in play, draw 1 card."
          ],
          [
           1,
           "Play only if your identity has the [[Aerial]] trait.\n<b>Hero Response</b> <i>(thwart)</i>: After your hero thwarts, remove 3 threat from a scheme."
          ],
          [
           4,
           "Yondu's attacks gain ranged."
          ],
          [
           1,
           "Team-Up (Gwen Stacy and Miles Morales). Max 1 per deck.\n<b>Alter-Ego Action</b>: Heal 3 damage each from Gwen Stacy and Miles Morales."
          ],
          [
           0,
           "<b>Alter-Ego Action</b> Exhaust your alter-ego and spend a [mental] resource → discard this card."
          ],
          [
           1,
           "Play only if your identity has the Mystic trait. Max 1 per deck.\n<b>Hero Action</b> <i>(thwart)</i>: Choose a scheme and discard up to 4 cards from the top of your deck → remove 1 threat from that scheme for each card discarded this way."
          ],
          [
           "(?)",
           "(?)"
          ],
          [
           0,
           null
          ],
          [
           0,
           "(?)"
          ],
          [
           "(?)",
           "(?)"
          ],
          [
           "(?)",
           "(?)"
          ],
          [
           0,
           null
          ],
          [
           "(?)",
           "(?)"
          ],
          [
           "(?)",
           "(?)"
          ],
          [
           0,
           "(?)"
          ],
          [
           "(?)",
           "(?)"
          ],
          [
           0,
           null
          ],
          [
           0,
           null
          ],
          [
           "(?)",
           "(?)"
          ],
          [
           0,
           null
          ],
          [
           "(?)",
           "(?)"
          ],
          [
           "(?)",
           "(?)"
          ],
          [
           0,
           "(?)"
          ],
          [
           "(?)",
           "(?)"
          ],
          [
           "(?)",
           "(?)"
          ],
          [
           "(?)",
           "(?)"
          ],
          [
           "(?)",
           "(?)"
          ],
          [
           "(?)",
           "(?)"
          ],
          [
           "(?)",
           "(?)"
          ],
          [
           0,
           "(?)"
          ],
          [
           "(?)",
           "(?)"
          ],
          [
           "(?)",
           "(?)"
          ],
          [
           "(?)",
           "(?)"
          ],
          [
           "(?)",
           "(?)"
          ],
          [
           0,
           null
          ],
          [
           0,
           "(?)"
          ],
          [
           "(?)",
           "(?)"
          ],
          [
           "(?)",
           "(?)"
          ],
          [
           "(?)",
           "(?)"
          ],
          [
           "(?)",
           "(?)"
          ],
          [
           "(?)",
           "(?)"
          ],
          [
           "(?)",
           "(?)"
          ],
          [
           "(?)",
           "(?)"
          ],
          [
           0,
           null
          ],
          [
           "(?)",
           "(?)"
          ],
          [
           "(?)",
           "(?)"
          ],
          [
           "(?)",
           "(?)"
          ],
          [
           "(?)",
           "(?)"
          ],
          [
           "(?)",
           "(?)"
          ],
          [
           "(?)",
           "(?)"
          ],
          [
           "(?)",
           "(?)"
          ],
          [
           0,
           null
          ],
          [
           0,
           null
          ],
          [
           "(?)",
           "(?)"
          ],
          [
           "(?)",
           "(?)"
          ],
          [
           "(?)",
           "(?)"
          ],
          [
           "(?)",
           "(?)"
          ],
          [
           2,
           "<b>Hero Action</b> <i>(attack)</i>: Deal 5 damage to an enemy."
          ],
          [
           "(?)",
           "(?)"
          ],
          [
           1,
           "<b>Hero Action</b> <i>(thwart)</i>: Remove a total of 3 threat from among schemes in play."
          ],
          [
           2,
           "<b>Hero Action</b>: Stun and confuse an enemy."
          ],
          [
           2,
           "<b>Hero Action</b>: Heal 3 damage from Spider-Woman and give her a tough status card."
          ],
          [
           "(?)",
           "(?)"
          ],
          [
           "(?)",
           "(?)"
          ],
          [
           "(?)",
           "(?)"
          ],
          [
           "(?)",
           "(?)"
          ],
          [
           "(?)",
           "(?)"
          ],
          [
           "(?)",
           "(?)"
          ],
          [
           "(?)",
           "(?)"
          ],
          [
           "(?)",
           "(?)"
          ],
          [
           "(?)",
           "(?)"
          ],
          [
           "(?)",
           "(?)"
          ],
          [
           0,
           "(?)"
          ],
          [
           "(?)",
           "(?)"
          ],
          [
           "(?)",
           "(?)"
          ],
          [
           "(?)",
           "(?)"
          ],
          [
           "(?)",
           "(?)"
          ],
          [
           "(?)",
           "(?)"
          ],
          [
           "(?)",
           "(?)"
          ],
          [
           "(?)",
           "(?)"
          ],
          [
           "(?)",
           "(?)"
          ],
          [
           "(?)",
           "(?)"
          ]
         ],
         "domain": {
          "x": [
           0,
           1
          ],
          "y": [
           0,
           1
          ]
         },
         "hovertemplate": "labels=%{label}<br>count=%{value}<br>parent=%{parent}<br>id=%{id}<br>cost=%{customdata[0]}<br>text=%{customdata[1]}<extra></extra>",
         "ids": [
          "aggression/nan/\"Bring It!\"",
          "hero/drax/\"Fight Me, Coward!\"",
          "basic/nan/\"Go for Champions!\"",
          "hero/spiderham/\"I Don't Think So!\"",
          "hero/wolverine/\"I Got Better\"",
          "hero/groot/\"I am Groot\"",
          "hero/groot/\"I. AM. GROOT!\"",
          "campaign/challenge/\"There is No Escape\"",
          "justice/nan/\"Think Fast!\"",
          "leadership/nan/\"To Me, My X-Men!\"",
          "hero/groot/\"We Are Groot\"",
          "leadership/nan/\"Welcome Aboard\"",
          "aggression/nan/\"You'll Pay for That!\"",
          "hero/vision/616 Hickory Branch Lane",
          "hero/ms_marvel/Aamir Khan",
          "hero/qsv/Accelerated Reflex",
          "hero/gam/Acrobatic Move",
          "basic/nan/Across the Spider-Verse",
          "hero/shadowcat/Acute Control",
          "leadership/nan/Adam Warlock",
          "hero/warlock/Adam Warlock",
          "hero/wolverine/Adamantium Skeleton",
          "campaign/hydra_camp/Adrenal Stims",
          "basic/nan/Adrenaline Rush",
          "hero/scw/Agatha Harkness",
          "hero/captain_america/Agent 13",
          "basic/nan/Agent 13",
          "justice/nan/Agent Coulson",
          "aggression/nan/Aggressive Energy",
          "justice/nan/Agile Flight",
          "leadership/nan/Air Supremacy",
          "hero/shadowcat/Airwalk",
          "hero/spdr/All Systems Go!",
          "leadership/nan/All for One",
          "hero/captain_marvel/Alpha Flight Station",
          "hero/qsv/Always Be Running",
          "hero/black_panther/Ancestral Knowledge",
          "basic/nan/Angel",
          "aggression/nan/Angela",
          "hero/rogue/Anna Marie",
          "hero/valk/Annabelle Riggs",
          "hero/ant/Ant-Man",
          "leadership/nan/Ant-Man",
          "hero/wsp/Ant-Man",
          "hero/ant/Ant-Man's Helmet",
          "campaign/expcamp/Anti-Hero Propaganda",
          "protection/nan/Anticipation",
          "hero/spider_man_morales/Arachnobatics",
          "hero/valk/Aragorn",
          "hero/iron_man/Arc Reactor",
          "campaign/the_market/Ardent Resolve",
          "protection/nan/Armor",
          "campaign/the_market/Armor Plating",
          "hero/colossus/Armor Up",
          "protection/nan/Armored Vest",
          "hero/ant/Army of Ants",
          "aggression/nan/As One!",
          "hero/thor/Asgard",
          "aggression/nan/Assault Training",
          "basic/nan/Assess the Situation",
          "hero/doctor_strange/Astral Projection",
          "basic/nan/Athletic Conditioning",
          "aggression/nan/Attack Training",
          "hero/black_widow/Attacrobatics",
          "aggression/nan/Audacity",
          "hero/spider_man/Aunt May",
          "hero/spdr/Aunt May & Uncle Ben",
          "leadership/nan/Avengers Assemble!",
          "basic/nan/Avengers Mansion",
          "basic/nan/Avengers Tower",
          "campaign/community_service/Back Alley Burglary",
          "hero/spider_man/Backflip",
          "hero/stld/Bad Boy",
          "campaign/challenge/Badoon Blitz",
          "campaign/badoon_headhunter/Badoon Headhunter",
          "protection/nan/Bait and Switch",
          "leadership/nan/Band Together",
          "hero/hulk/Banner's Laboratory",
          "justice/nan/Banshee",
          "campaign/hydra_camp/Basic Attack Upgrade",
          "campaign/hydra_camp/Basic Defense Upgrade",
          "campaign/hydra_camp/Basic Recovery Upgrade",
          "campaign/hydra_camp/Basic Thwart Upgrade",
          "hero/rocket/Battery Pack",
          "aggression/nan/Battle Fury",
          "leadership/nan/Beast",
          "basic/nan/Beat 'Em Up",
          "justice/nan/Beat Cop",
          "basic/nan/Beauty and the Thief",
          "justice/nan/Befuddle",
          "hero/vnm/Behind Enemy Lines",
          "hero/wolverine/Berserker Barrage",
          "hero/wolverine/Berserker Frenzy",
          "leadership/nan/Beta Ray Bill",
          "hero/ms_marvel/Big Hands",
          "hero/wsp/Bio-Synthetic Wings",
          "hero/ms_marvel/Biokinetic Polymer Suit",
          "justice/nan/Bishop",
          "hero/spider_man/Black Cat",
          "leadership/nan/Black Knight",
          "hero/black_panther/Black Panther",
          "leadership/nan/Black Panther",
          "campaign/mts_campaign/Black Swan",
          "hero/black_widow/Black Widow",
          "protection/nan/Black Widow",
          "hero/black_widow/Black Widow's Gauntlet",
          "basic/nan/Blade",
          "hero/storm/Blast of Wind",
          "leadership/nan/Blaze of Glory",
          "justice/nan/Blindfold",
          "hero/weather/Blizzard",
          "hero/spectrum/Blue Marvel",
          "campaign/defender/Bodyguard",
          "aggression/nan/Bombshell",
          "basic/nan/Booster Boots",
          "aggression/nan/Boot Camp",
          "hero/hulk/Boundless Rage",
          "justice/nan/Brains Over Brawn",
          "campaign/the_market/Brainstorm",
          "hero/ironheart/Brawn",
          "aggression/nan/Brawn",
          "campaign/brawler/Brazen Defense",
          "justice/nan/Breaking and Entering",
          "protection/nan/Brother Voodoo",
          "aggression/nan/Browbeat",
          "hero/hulk/Bruce Banner",
          "hero/valk/Brunnhilde",
          "hero/ms_marvel/Bruno Carrelli",
          "aggression/nan/Brute Force",
          "aggression/nan/Bug",
          "hero/rogue/Bulletproof Belle",
          "hero/colossus/Bulletproof Protector",
          "campaign/the_market/By Any Means",
          "basic/nan/C.I.T.T.",
          "hero/hawkeye/Cable Arrow",
          "campaign/the_market/Calculate the Odds",
          "leadership/nan/Call for Aid",
          "hero/captain_america/Captain America",
          "leadership/nan/Captain America",
          "hero/captain_america/Captain America's Helmet",
          "hero/captain_america/Captain America's Shield",
          "hero/spiderham/Captain Americat",
          "hero/captain_marvel/Captain Marvel",
          "leadership/nan/Captain Marvel",
          "hero/spider_woman/Captain Marvel",
          "hero/captain_marvel/Captain Marvel's Helmet",
          "campaign/the_market/Cargo Hold",
          "hero/captain_marvel/Carol Danvers",
          "hero/spiderham/Cartoon Physics",
          "campaign/community_service/Cat in a Tree",
          "basic/nan/Cerebro",
          "basic/nan/Champions Mobile Bunker",
          "justice/nan/Chance Encounter",
          "hero/scw/Chaos Magic",
          "hero/gambit/Charged Card",
          "protection/nan/Charlie-27",
          "aggression/nan/Chase Them Down",
          "hero/valk/Chooser of the Slain",
          "basic/nan/Civic Duty",
          "leadership/nan/Clarity of Purpose",
          "protection/nan/Clea",
          "hero/weather/Clear Skies",
          "justice/nan/Clear the Area",
          "hero/hawkeye/Clint Barton",
          "hero/doctor_strange/Cloak of Levitation",
          "aggression/nan/Clobber",
          "campaign/the_market/Close Call",
          "leadership/nan/Cloud 9",
          "hero/colossus/Colossus",
          "basic/nan/Colossus",
          "hero/nebu/Combat Ready",
          "aggression/nan/Combat Training",
          "justice/nan/Command Center",
          "leadership/nan/Command Team",
          "leadership/nan/Comms Implant",
          "campaign/shield_tech/Compact Darts",
          "campaign/commander/Compassion",
          "campaign/peacekeeper/Compassion",
          "justice/nan/Concussive Blow",
          "hero/gam/Conditioning Room",
          "hero/nova/Connection to the Worldmind",
          "protection/spider_woman/Contaminant Immunity",
          "campaign/the_market/Contingency Plan",
          "leadership/nan/Coordinated Attack",
          "basic/nan/Cosmic Alliance",
          "hero/warlock/Cosmic Awareness",
          "hero/captain_marvel/Cosmic Flight",
          "hero/warlock/Cosmic Ward",
          "campaign/mts_campaign/Cosmo",
          "basic/nan/Cosmo",
          "protection/nan/Counter-Punch",
          "aggression/nan/Counterattack",
          "justice/nan/Counterintelligence",
          "campaign/brawler/Coup de Grâce",
          "campaign/commander/Coup de Grâce",
          "hero/black_widow/Covert Ops",
          "campaign/the_market/Creative Solution",
          "hero/gambit/Creole Charmer",
          "basic/nan/Crew Quarters",
          "hero/invocation/Crimson Bands of Cyttorak",
          "justice/nan/Crisis Averted",
          "hero/captain_marvel/Crisis Interdiction",
          "hero/gam/Crosscounter",
          "hero/hulk/Crushing Blow",
          "hero/nebu/Cutthroat Ambition",
          "hero/rocket/Cybernetic Skeleton",
          "hero/cyclops/Cyclops",
          "hero/phoenix/Cyclops",
          "hero/drax/DWI Theet Mastery",
          "hero/black_widow/Dance of Death",
          "basic/nan/Danger Room",
          "leadership/nan/Danger Room Training",
          "justice/nan/Daredevil",
          "protection/nan/Daredevil",
          "hero/stld/Daring Escape",
          "basic/nan/Daughters of Thanos",
          "protection/nan/Dauntless",
          "justice/nan/Dazzler",
          "campaign/badoon_headhunter/Dead to Rights",
          "hero/valk/Death-Glow",
          "hero/gam/Decisive Blow",
          "hero/thor/Defender of the Nine Realms",
          "hero/spider_man_morales/Defense Mechanism",
          "protection/nan/Defensive Energy",
          "campaign/mts_campaign/Defensive Protocols",
          "protection/nan/Defensive Stance",
          "protection/nan/Defensive Training",
          "protection/nan/Defiance",
          "protection/nan/Deflection",
          "basic/nan/Deft Focus",
          "campaign/the_market/Defy Danger",
          "hero/vision/Density Control",
          "protection/nan/Desperate Defense",
          "justice/nan/Determination",
          "campaign/defender/Determined Defense",
          "aggression/nan/Dive Bomb",
          "hero/doctor_strange/Doctor Strange",
          "hero/spider_man_morales/Double Life",
          "hero/qsv/Double Time",
          "basic/nan/Down Time",
          "hero/valk/Dragonfang",
          "hero/drax/Drax",
          "basic/nan/Drax",
          "hero/drax/Drax's Knife",
          "hero/drax/Drax's Other Knife",
          "aggression/nan/Drop Kick",
          "basic/nan/Dum Dum Dugan",
          "aggression/nan/Dust",
          "basic/nan/Earth's Mightiest Heroes",
          "leadership/nan/Effective Leadership",
          "hero/spdr/Ejection Protocol",
          "hero/hawkeye/Electric Arrow",
          "protection/nan/Electrostatic Armor",
          "hero/stld/Element Gun",
          "hero/ms_marvel/Embiggen!",
          "basic/nan/Emergency",
          "campaign/hydra_camp/Emergency Teleporter",
          "basic/nan/Endurance",
          "campaign/mut_gen_campaign/Enemy of My Enemy",
          "basic/nan/Energy",
          "hero/captain_marvel/Energy Absorption",
          "protection/nan/Energy Barrier",
          "hero/captain_marvel/Energy Channel",
          "hero/black_panther/Energy Daggers",
          "hero/spectrum/Energy Duplication",
          "aggression/nan/Energy Spear",
          "hero/rogue/Energy Transfer",
          "basic/nan/Enhanced Awareness",
          "basic/nan/Enhanced Physique",
          "basic/nan/Enhanced Reflexes",
          "hero/spider_man/Enhanced Spider-Sense",
          "aggression/nan/Enraged",
          "hero/groot/Entangling Vines",
          "justice/nan/Eros",
          "basic/nan/Espionage",
          "leadership/nan/Eternity",
          "hero/nebu/Evasive Maneuvering",
          "justice/nan/Even the Odds",
          "protection/nan/Ever Vigilant",
          "basic/nan/Everyday Hero",
          "protection/nan/Expert Defense",
          "hero/hawkeye/Expert Marksman",
          "hero/cyclops/Exploit Weakness",
          "hero/hawkeye/Explosive Arrow",
          "leadership/nan/Falcon",
          "campaign/mts_campaign/Fandral",
          "basic/nan/Fastball Special",
          "hero/captain_america/Fearless Determination",
          "campaign/brawler/Ferocious Attack",
          "hero/groot/Fertile Ground",
          "justice/nan/Field Agent",
          "hero/cyclops/Field Commander",
          "protection/nan/Fighting Fit",
          "campaign/mts_campaign/Find the Norn Stones",
          "campaign/mut_gen_campaign/Find the Prisoners",
          "hero/spider_woman/Finesse",
          "basic/nan/First Aid",
          "protection/nan/First Hit",
          "hero/storm/Flash Freeze",
          "hero/vnm/Flash Thompson",
          "hero/valk/Flight of the Valkyrior",
          "basic/nan/Flora and Fauna",
          "protection/nan/Flow Like Water",
          "aggression/nan/Fluid Motion",
          "hero/ironheart/Fly Over",
          "hero/she_hulk/Focused Rage",
          "justice/nan/Foiled!",
          "aggression/nan/Follow Through",
          "justice/nan/Followed",
          "hero/thor/For Asgard!",
          "justice/nan/For Justice!",
          "protection/nan/Forcefield Generator",
          "hero/nova/Forcefield Projection",
          "basic/nan/Forge",
          "campaign/peacekeeper/Fortitude",
          "hero/gam/Forward Momentum",
          "hero/qsv/Friction Resistance",
          "campaign/mut_gen_campaign/Frightened Police",
          "hero/groot/Fruition",
          "campaign/badoon_headhunter/Fugitive Recovery",
          "hero/warm/Full Auto",
          "hero/cyclops/Full Blast",
          "aggression/nan/Fusillade",
          "campaign/challenge/Gallery of Splendor",
          "hero/gambit/Gambit",
          "hero/rogue/Gambit",
          "hero/gambit/Gambit's Guild Armor",
          "hero/gambit/Gambit's Staff",
          "basic/nan/Game Time",
          "hero/spectrum/Gamma",
          "hero/spectrum/Gamma Blast",
          "hero/she_hulk/Gamma Slam",
          "hero/gam/Gamora",
          "basic/nan/Gamora",
          "hero/nebu/Gamora",
          "hero/gam/Gamora's Sword",
          "hero/spider_man_morales/Ganke Lee",
          "aggression/nan/Gatekeeper",
          "hero/warm/Gauntlet Gun",
          "basic/nan/Genius",
          "leadership/nan/Gentle",
          "hero/ghost_spider/George Stacy",
          "protection/nan/Get Behind Me!",
          "aggression/nan/Get Over Here!",
          "leadership/nan/Get Ready",
          "hero/ghost_spider/Ghost Kick",
          "hero/ghost_spider/Ghost-Spider",
          "basic/nan/Ghost-Spider",
          "hero/wsp/Giant Help",
          "hero/ant/Giant Stomp",
          "hero/ant/Giant Strength",
          "leadership/nan/Giant-Man",
          "justice/nan/Global Logistics",
          "leadership/nan/Go All Out",
          "leadership/nan/Go Down Swinging",
          "hero/thor/God of Thunder",
          "basic/nan/Godlike Stamina",
          "aggression/nan/Godslayer",
          "hero/rogue/Goin' Rogue",
          "leadership/nan/Goliath",
          "basic/nan/Government Liaison",
          "campaign/the_market/Grand Strategy",
          "campaign/the_market/Grapple",
          "hero/black_widow/Grappling Hook",
          "hero/vnm/Grasping Tendrils",
          "justice/nan/Great Responsibility",
          "hero/groot/Groot",
          "basic/nan/Groot",
          "hero/she_hulk/Ground Stomp",
          "campaign/commander/Group Assault",
          "leadership/nan/Guardians of the Galaxy",
          "campaign/challenge/Guerrilla Tactics",
          "hero/stld/Gutsy Move",
          "hero/ghost_spider/Gwen Stacy",
          "campaign/mts_campaign/Hack Sanctuary's Computer",
          "aggression/nan/Hall of Heroes",
          "hero/spiderham/Ham It Up",
          "hero/thor/Hammer Throw",
          "aggression/nan/Hand Cannon",
          "protection/nan/Hangar Bay",
          "protection/nan/Hard Knocks",
          "protection/nan/Hard to Ignore",
          "hero/valk/Have at Thee!",
          "leadership/nan/Havok",
          "hero/hawkeye/Hawkeye",
          "leadership/nan/Hawkeye",
          "hero/hawkeye/Hawkeye's Bow",
          "hero/hawkeye/Hawkeye's Quiver",
          "basic/nan/Haymaker",
          "campaign/badoon_headhunter/Headhunter's Henchman",
          "campaign/the_market/Heavy Cannon",
          "protection/nan/Height Advantage",
          "basic/nan/Heimdall",
          "basic/nan/Helicarrier",
          "hero/she_hulk/Hellcat",
          "campaign/community_service/Henchmen Heist",
          "aggression/nan/Hercules",
          "campaign/defender/Heroic Intervention",
          "justice/nan/Heroic Intuition",
          "hero/captain_america/Heroic Strike",
          "hero/scw/Hex Bolt",
          "basic/nan/Hit and Run",
          "hero/ant/Hive Mind",
          "campaign/mts_campaign/Hogun",
          "hero/spiderham/Hogwashed",
          "justice/nan/Homeland Intervention",
          "aggression/nan/Honed Technique",
          "basic/nan/Honorary Avenger",
          "basic/nan/Honorary Guardian",
          "basic/nan/Honorary X-Men",
          "hero/spdr/Host Spider",
          "hero/spiderham/Huge Wooden Hammer",
          "hero/hulk/Hulk",
          "aggression/nan/Hulk",
          "hero/hulk/Hulk Smash",
          "hero/weather/Hurricane",
          "hero/qsv/Hyper Perception",
          "campaign/the_market/Hyper Thrusters",
          "hero/rocket/I've Got a Plan",
          "protection/nan/Iceman",
          "hero/invocation/Images of Ikonn",
          "hero/hulk/Immovable Object",
          "campaign/shield_tech/Impact-Dampening Suit",
          "justice/nan/Impede",
          "campaign/hydra_camp/Improved Attack Upgrade",
          "campaign/hydra_camp/Improved Defense Upgrade",
          "campaign/hydra_camp/Improved Recovery Upgrade",
          "campaign/hydra_camp/Improved Thwart Upgrade",
          "campaign/commander/Improvisation",
          "campaign/the_market/In Defiance",
          "campaign/the_market/In Harm's Way",
          "aggression/nan/In-Betweener",
          "justice/spider_woman/Inconspicuous",
          "protection/nan/Indomitable",
          "basic/nan/Ingenuity",
          "leadership/nan/Innovation",
          "leadership/nan/Inspired",
          "leadership/nan/Inspiring Presence",
          "hero/vision/Intangible",
          "hero/shadowcat/Intangible Interference",
          "justice/nan/Interrogation Room",
          "hero/drax/Intimidation",
          "aggression/nan/Into the Fray",
          "basic/nan/Invulnerability",
          "protection/nan/Iron Fist",
          "hero/iron_man/Iron Man",
          "leadership/nan/Iron Man",
          "hero/warm/Iron Man",
          "hero/colossus/Iron Will",
          "hero/ironheart/Ironheart",
          "basic/nan/Ironheart",
          "justice/nan/Jack Flag",
          "hero/warm/James Rhodes",
          "aggression/nan/Jarnbjorn",
          "hero/phoenix/Jean Grey",
          "hero/spider_man_morales/Jefferson Davis",
          "hero/she_hulk/Jennifer Walters",
          "hero/nova/Jesse Alexander",
          "hero/spider_woman/Jessica Drew",
          "hero/spider_woman/Jessica Drew's Apartment",
          "justice/nan/Jessica Jones",
          "hero/stld/Jet Boots",
          "protection/nan/Jocasta",
          "leadership/nan/Joining Forces",
          "campaign/mts_campaign/Jormungand",
          "hero/wolverine/Jubilee",
          "protection/nan/Judoka Skill",
          "protection/nan/Jump Flip",
          "hero/vision/Just Passing Through",
          "justice/nan/Justice Served",
          "leadership/nan/Kaluu",
          "hero/ms_marvel/Kamala Khan",
          "protection/nan/Karma",
          "hero/warlock/Karmic Blast",
          "hero/warlock/Karmic Staff",
          "hero/gam/Keen Instincts",
          "hero/shadowcat/Kitty Pride",
          "hero/shadowcat/Kitty's Room",
          "hero/drax/Knife Leap",
          "basic/nan/Knowhere",
          "campaign/challenge/Kree Supremacy",
          "campaign/mts_campaign/Lady Sif",
          "hero/thor/Lady Sif",
          "justice/nan/Lady Spider",
          "leadership/nan/Laser Blaster",
          "campaign/hydra_camp/Laser Cannon",
          "campaign/shield_tech/Laser Googles",
          "hero/groot/Lashing Vines",
          "leadership/nan/Last Stand",
          "justice/nan/Lay Down the Law",
          "leadership/nan/Lead from the Front",
          "hero/stld/Leader of the Guardians",
          "leadership/nan/Leadership Skill",
          "leadership/nan/Leadership Training",
          "protection/nan/Leading Blow",
          "hero/she_hulk/Legal Practice",
          "hero/nebu/Lethal Intent",
          "aggression/nan/Lie in Wait",
          "hero/storm/Lightning Bolt",
          "hero/thor/Lightning Strike",
          "hero/nova/Lightspeed Flight",
          "basic/nan/Limitless Stamina",
          "hero/hulk/Limitless Strength",
          "justice/nan/Living Tribunal",
          "hero/vnm/Locked and Loaded",
          "hero/shadowcat/Lockheed",
          "basic/nan/Lockjaw",
          "hero/wolverine/Logan",
          "hero/wolverine/Logan's Cabin",
          "basic/nan/Longshot",
          "aggression/nan/Looking for Trouble",
          "protection/nan/Luke Cage",
          "hero/wolverine/Lunging Strike",
          "basic/nan/Machine Man",
          "hero/colossus/Made of Rage",
          "aggression/nan/Magic Attack",
          "hero/doctor_strange/Magic Blast",
          "hero/scw/Magic Shield",
          "hero/doctor_strange/Magical Enhancements",
          "aggression/nan/Magik",
          "campaign/mut_gen_campaign/Magneto",
          "campaign/mut_gen_campaign/Magneto's Fortress",
          "campaign/mut_gen_campaign/Magneto's Power",
          "leadership/nan/Major Victory",
          "leadership/nan/Make the Call",
          "justice/nan/Making an Entrance",
          "hero/drax/Mantis",
          "leadership/nan/Maria Hill",
          "hero/iron_man/Mark V Armor",
          "hero/iron_man/Mark V Helmet",
          "aggression/nan/Marked",
          "campaign/expcamp/Martial Law",
          "aggression/nan/Martial Prowess",
          "basic/nan/Martinex",
          "protection/nan/Martyr",
          "aggression/nan/Marvel Boy",
          "justice/nan/Marvel Girl",
          "leadership/nan/Mass Attack",
          "hero/vision/Mass Increase",
          "hero/doctor_strange/Master of the Mystic Arts",
          "hero/qsv/Maximum Velocity",
          "aggression/nan/Mean Swing",
          "leadership/nan/Med Lab",
          "protection/nan/Med Team",
          "campaign/expcamp/Medical Emergency",
          "basic/nan/Meditation",
          "aggression/nan/Melee",
          "hero/phoenix/Mental Paralysis",
          "campaign/peacekeeper/Mentorship",
          "campaign/mut_gen_campaign/Metro P.D.",
          "leadership/nan/Mighty Avengers",
          "hero/spider_man_morales/Miles Morales",
          "hero/phoenix/Mind Control",
          "leadership/nan/Mirage",
          "hero/warm/Missile Launcher",
          "justice/nan/Mission Training",
          "hero/thor/Mjolnir",
          "hero/hawkeye/Mockingbird",
          "basic/nan/Mockingbird",
          "basic/nan/Moira MacTaggert",
          "hero/gambit/Molecular Acceleration",
          "hero/scw/Molecular Decay",
          "aggression/nan/Moment of Triumph",
          "protection/nan/Momentum Shift",
          "justice/nan/Monica Chang",
          "hero/spectrum/Monica Rambeau",
          "basic/nan/Moon Girl",
          "protection/nan/Moondragon",
          "leadership/nan/Morale Boost",
          "campaign/the_market/Mounted Laser",
          "leadership/nan/Moxie",
          "hero/ms_marvel/Ms. Marvel",
          "hero/nova/Ms. Marvel",
          "hero/vnm/Multi-Gun",
          "protection/nan/Multiple Man",
          "justice/nan/Multitasking",
          "hero/warm/Munitions Bunker",
          "protection/nan/Muster Courage",
          "basic/nan/Mutant Education",
          "justice/nan/Mutant Peacekeepers",
          "protection/nan/Mutant Protectors",
          "hero/warlock/Mystic Senses",
          "hero/doctor_strange/Mystical Studies",
          "hero/wsp/Nadia Van Dyne",
          "hero/ms_marvel/Nakia Bahadir",
          "hero/black_widow/Natasha Romanoff",
          "hero/gambit/Natural Agility",
          "campaign/the_market/Navigation Column",
          "hero/gam/Nebula",
          "hero/nebu/Nebula",
          "hero/nebu/Nebula's Ship",
          "protection/nan/Nerves of Steel",
          "protection/nan/Never Back Down",
          "hero/ironheart/New and Improved",
          "basic/nan/Nick Fury",
          "protection/nan/Nightcrawler",
          "aggression/nan/No Quarter",
          "campaign/mts_campaign/Norn Stone",
          "protection/nan/Not Today!",
          "protection/nan/Nova",
          "hero/nova/Nova",
          "hero/stld/Nova Prime",
          "hero/thor/Odinson",
          "campaign/community_service/Off the Rails",
          "campaign/badoon_headhunter/On the Hunt",
          "justice/nan/One Way or Another",
          "aggression/nan/One by One",
          "hero/she_hulk/One-Two Punch",
          "campaign/the_market/Onrush",
          "campaign/mts_campaign/Open the Dungeons",
          "justice/nan/Operative Skill",
          "basic/nan/Order and Chaos",
          "hero/colossus/Organic Steel",
          "hero/spiderham/Organic Webbing",
          "hero/storm/Ororo Munroe",
          "hero/storm/Ororo's Garden",
          "aggression/nan/Outta My Way!",
          "justice/nan/Overwatch",
          "hero/black_panther/Panther Claws",
          "hero/ghost_spider/Parental Guidance",
          "hero/drax/Parry",
          "hero/rocket/Particle Cannon",
          "justice/nan/Passion for Justice",
          "leadership/nan/Patriot",
          "hero/drax/Payback",
          "hero/spdr/Peni Parker",
          "hero/iron_man/Pepper Potts",
          "protection/nan/Perseverance",
          "hero/spider_man/Peter Parker",
          "hero/spiderham/Peter Porker",
          "hero/stld/Peter Quill",
          "hero/spiderham/Petulant Pig",
          "hero/ghost_spider/Phantom Flip",
          "hero/vision/Phase Disruption",
          "hero/shadowcat/Phase Strike",
          "hero/shadowcat/Phased",
          "hero/shadowcat/Phased and Confused",
          "leadership/spider_woman/Pheromones",
          "hero/cyclops/Phoenix",
          "hero/phoenix/Phoenix",
          "hero/phoenix/Phoenix Firebird",
          "hero/phoenix/Phoenix Force",
          "hero/phoenix/Phoenix Suit",
          "hero/spectrum/Photon",
          "hero/ironheart/Photon Beam",
          "hero/ironheart/Photon Blasters",
          "hero/spectrum/Photon Speed",
          "hero/captain_marvel/Photonic Blast",
          "aggression/nan/Piercing Strike",
          "hero/qsv/Pietro Maximoff",
          "protection/nan/Pinned Down",
          "protection/nan/Pinpoint",
          "hero/wsp/Pinpoint Strike",
          "hero/colossus/Piotr Rasputin",
          "hero/colossus/Piotr's Studio",
          "hero/warlock/Pip the Troll",
          "hero/ghost_spider/Pirouette and Punch",
          "aggression/nan/Pitchback",
          "justice/nan/Pivotal Moment",
          "leadership/nan/Pixie",
          "basic/nan/Plan B",
          "aggression/nan/Plan of Attack",
          "basic/nan/Plasma Pistol",
          "protection/nan/Polaris",
          "hero/nova/Pot Shot",
          "leadership/nan/Power Gloves",
          "leadership/nan/Power Man",
          "campaign/the_market/Power Unleashed",
          "hero/spider_man_morales/Power Within",
          "hero/iron_man/Powered Gauntlets",
          "protection/nan/Powerful Punch",
          "hero/cyclops/Practiced Defense",
          "aggression/nan/Precision Strike",
          "protection/nan/Preemptive Strike",
          "protection/nan/Preservation",
          "aggression/nan/Press the Advantage",
          "hero/cyclops/Priority Target",
          "justice/nan/Problem Solvers",
          "basic/nan/Professor X",
          "hero/vnm/Project Rebirth 2.0",
          "campaign/shield_tech/Propulsion Gauntlet",
          "hero/ironheart/Propulsion Jets",
          "protection/nan/Protective Training",
          "hero/doctor_strange/Protective Ward",
          "protection/nan/Protector",
          "aggression/nan/Psychic Assault",
          "hero/phoenix/Psychic Blast",
          "leadership/nan/Psychic Kicker",
          "hero/spdr/Psychic Link",
          "justice/nan/Psychic Manipulation",
          "protection/nan/Psychic Misdirection",
          "basic/nan/Psychic Rapport",
          "aggression/nan/Psylocke",
          "campaign/bad_publicity/Public Outcry",
          "hero/spectrum/Pulsar",
          "hero/spectrum/Pulsar Shield",
          "basic/nan/Pulse Grenade",
          "leadership/nan/Push Ahead",
          "hero/ant/Pym Particles",
          "hero/wsp/Pym Particles",
          "justice/nan/Quake",
          "hero/warlock/Quantum Magic",
          "justice/nan/Quasar",
          "hero/shadowcat/Quick Shift",
          "aggression/nan/Quick Strike",
          "hero/qsv/Quicksilver",
          "hero/scw/Quicksilver",
          "basic/nan/Quincarrier",
          "leadership/nan/Quinjet",
          "leadership/nan/R&D Facility",
          "hero/spdr/Rapid Deployment",
          "hero/wsp/Rapid Growth",
          "leadership/nan/Rapid Response",
          "campaign/mut_gen_campaign/Reactive Defense",
          "campaign/the_market/Reactor Core",
          "leadership/nan/Ready for Action",
          "basic/nan/Ready to Rumble",
          "basic/nan/Reboot",
          "basic/nan/Recuperation",
          "hero/ms_marvel/Red Dagger",
          "hero/wsp/Red Room Training",
          "hero/wolverine/Regenerative Healing",
          "leadership/nan/Regroup",
          "hero/qsv/Reinforced Sinew",
          "leadership/nan/Reinforced Suit",
          "aggression/nan/Relentless Assault",
          "hero/rocket/Reload",
          "hero/gambit/Remy Lebeau",
          "hero/warm/Repulsor Beam",
          "hero/iron_man/Repulsor Blast",
          "protection/nan/Repurpose",
          "campaign/mut_gen_campaign/Rescue Captives",
          "campaign/peacekeeper/Rescue Operation",
          "hero/ant/Resize",
          "basic/nan/Resourceful",
          "campaign/shield_tech/Retinal Display",
          "campaign/mts_campaign/Retrieve Odin's Armor",
          "protection/nan/Return the Favor",
          "hero/cyclops/Ricochet Beam",
          "hero/ironheart/Riri Williams",
          "hero/phoenix/Rise from the Ashes",
          "hero/iron_man/Rocket Boots",
          "hero/rocket/Rocket Launcher",
          "basic/nan/Rocket Raccoon",
          "hero/rocket/Rocket Raccoon",
          "hero/rocket/Rocket's Pistol",
          "protection/nan/Rockslide",
          "hero/gambit/Rogue",
          "hero/rogue/Rogue",
          "hero/rogue/Rogue's Jacket",
          "leadership/nan/Ronin",
          "hero/ironheart/Ronnie Williams",
          "hero/groot/Root Stomp",
          "hero/gambit/Royal Flush",
          "campaign/community_service/Rubble Rescue",
          "hero/cyclops/Ruby Quartz Visor",
          "hero/vnm/Run and Gun",
          "justice/nan/Running Interference",
          "basic/nan/SP//dr",
          "hero/spdr/SP//dr",
          "hero/spdr/SP//dr Command",
          "hero/spdr/SP//dr Suit",
          "hero/black_widow/Safe House #29",
          "campaign/the_market/Safeguard",
          "hero/rocket/Salvage",
          "hero/nova/Sam Alexander",
          "hero/doctor_strange/Sanctum Sanctorum",
          "hero/vnm/Savage Attack",
          "leadership/nan/Save the Day",
          "campaign/mts_campaign/Save the Shawarma Place",
          "justice/nan/Scare Tactic",
          "basic/nan/Scarlet Spider",
          "hero/qsv/Scarlet Witch",
          "hero/scw/Scarlet Witch",
          "hero/scw/Scarlet Witch's Crest",
          "hero/rocket/Schadenfreude",
          "hero/warm/Scorched Earth",
          "hero/ant/Scott Lang",
          "hero/cyclops/Scott Summers",
          "protection/nan/Second Wind",
          "hero/ironheart/Sector Scan",
          "campaign/mts_campaign/Secure the Landing Pad",
          "campaign/mts_campaign/Security Breach",
          "hero/spider_woman/Self-Propelled Glide",
          "justice/nan/Sense of Justice",
          "aggression/nan/Sentry",
          "hero/qsv/Serval Industries",
          "hero/gam/Set the Pace",
          "hero/invocation/Seven Rings of Raggadorr",
          "basic/nan/Shadow and Steel",
          "hero/colossus/Shadowcat",
          "hero/shadowcat/Shadowcat",
          "hero/shadowcat/Shadowcat Surprise",
          "protection/nan/Shake it Off",
          "campaign/mts_campaign/Shawarma",
          "aggression/nan/She-Hulk",
          "hero/she_hulk/She-Hulk",
          "hero/captain_america/Shield Block",
          "protection/nan/Shield Spell",
          "hero/captain_america/Shield Toss",
          "hero/valk/Shieldmaiden",
          "campaign/shield_tech/Shock Knuckles",
          "campaign/commander/Shock and Awe",
          "hero/warm/Shoulder Cannon",
          "hero/ms_marvel/Shrink",
          "hero/black_panther/Shuri",
          "basic/nan/Side Holster",
          "protection/nan/Side Step",
          "basic/nan/Sidearm",
          "protection/nan/Silk",
          "justice/nan/Skilled Investigator",
          "aggression/nan/Skilled Strike",
          "leadership/nan/Sky Cycle",
          "basic/nan/Sky-Destroyer",
          "hero/wolverine/Slice and Dice",
          "hero/stld/Sliding Shot",
          "aggression/nan/Smash the Problem",
          "campaign/bad_publicity/Smear Campaign",
          "leadership/nan/Sneak Attack",
          "hero/ms_marvel/Sneak By",
          "campaign/snitches_get_stitches/Snitches Get Stitches",
          "basic/nan/Snowguard",
          "hero/vision/Solar Beam",
          "hero/vision/Solar Gem",
          "hero/shadowcat/Solid",
          "hero/hawkeye/Sonic Arrow",
          "justice/nan/Sonic Rifle",
          "basic/nan/Soul Sisters",
          "hero/warlock/Soul World",
          "hero/rogue/Southern Cross",
          "hero/spectrum/Spectrum",
          "justice/nan/Speed",
          "hero/qsv/Speed Cyclone",
          "hero/spectrum/Speed of Light",
          "hero/spdr/Speed-Metal Alloy",
          "aggression/nan/Spider-Girl",
          "basic/nan/Spider-Ham",
          "hero/spiderham/Spider-Ham",
          "basic/nan/Spider-Man",
          "justice/nan/Spider-Man",
          "protection/nan/Spider-Man",
          "hero/spider_man/Spider-Man",
          "hero/spider_man_morales/Spider-Man",
          "protection/nan/Spider-Man Noir",
          "hero/vnm/Spider-Sense",
          "protection/nan/Spider-Tingle",
          "hero/spider_man/Spider-Tracer",
          "protection/nan/Spider-UK",
          "hero/captain_marvel/Spider-Woman",
          "justice/nan/Spider-Woman",
          "hero/spider_woman/Spider-Woman",
          "basic/nan/Spiritual Meditation",
          "hero/she_hulk/Split Personality",
          "justice/nan/Spycraft",
          "leadership/nan/Squirrel Girl",
          "protection/nan/Stand Together",
          "basic/nan/Star-Lord",
          "hero/stld/Star-Lord",
          "hero/stld/Star-Lord's Helmet",
          "protection/nan/Starhawk",
          "hero/iron_man/Stark Tower",
          "justice/nan/Stealth Strike",
          "hero/colossus/Steel Fist",
          "hero/doctor_strange/Stephen Strange",
          "hero/captain_america/Steve Rogers",
          "hero/captain_america/Steve's Apartment",
          "leadership/nan/Stinger",
          "basic/nan/Storm",
          "hero/storm/Storm",
          "hero/storm/Storm's Cape",
          "hero/storm/Storm's Crown",
          "basic/nan/Strength",
          "leadership/nan/Strength In Numbers",
          "hero/ironheart/Stroke of Genius",
          "hero/hulk/Sub-Orbital Leap",
          "protection/nan/Subdue",
          "campaign/mts_campaign/Summoned Back",
          "leadership/nan/Summoning Spell",
          "aggression/nan/Sunfire",
          "hero/captain_america/Super-Soldier Serum",
          "hero/vision/Superdense Strike",
          "hero/she_hulk/Superhuman Law Division",
          "hero/she_hulk/Superhuman Strength",
          "hero/nova/Supernova Helmet",
          "hero/rogue/Superpower Adaptation",
          "hero/iron_man/Supersonic Punch",
          "campaign/the_market/Sure Gamble",
          "campaign/mut_gen_campaign/Surprise Attack",
          "aggression/nan/Surprise Attack",
          "campaign/defender/Surprise!",
          "campaign/peacekeeper/Surprise!",
          "justice/nan/Surveillance Team",
          "campaign/brawler/Swagger",
          "campaign/defender/Swagger",
          "basic/nan/Swarm Tactics",
          "justice/nan/Swift Retribution",
          "hero/spider_man_morales/Swing In",
          "hero/spider_man/Swinging Web Kick",
          "hero/spiderham/Swinging Web Pig",
          "basic/nan/Symbiote Suit",
          "hero/black_widow/Synth-Suit",
          "campaign/mts_campaign/System Shock",
          "hero/black_panther/T'Challa",
          "aggression/nan/Tac Team",
          "protection/nan/Tackle",
          "hero/cyclops/Tactical Brilliance",
          "hero/black_panther/Tactical Genius",
          "campaign/hydra_camp/Tactical Scanner",
          "campaign/the_market/Take the Fight to Them",
          "basic/nan/Target Acquired",
          "leadership/nan/Target Practice",
          "hero/warm/Targeted Strike",
          "campaign/the_market/Targeting Screen",
          "aggression/nan/Team Strike",
          "leadership/nan/Team Training",
          "basic/nan/Team-Building Exercise",
          "leadership/nan/Teamwork",
          "hero/phoenix/Telekinetic Attack",
          "hero/phoenix/Telekinetic Shield",
          "hero/phoenix/Telepathic Trickery",
          "basic/nan/Tenacity",
          "aggression/nan/The Best Defense…",
          "basic/nan/The Bifrost",
          "hero/spiderham/The Daily Beagle",
          "hero/doctor_strange/The Eye of Agamotto",
          "protection/nan/The Gardener",
          "hero/black_panther/The Golden City",
          "aggression/nan/The Locust",
          "protection/nan/The Night Nurse",
          "basic/nan/The Power in All of Us",
          "aggression/nan/The Power of Aggression",
          "justice/nan/The Power of Justice",
          "leadership/nan/The Power of Leadership",
          "protection/nan/The Power of Protection",
          "basic/nan/The Sorcerer Supreme",
          "hero/gambit/The Thieves Guild",
          "leadership/nan/The Triskelion",
          "basic/nan/The X-Jet",
          "aggression/nan/Thor",
          "hero/thor/Thor",
          "hero/thor/Thor's Helmet",
          "aggression/nan/Throg",
          "hero/rocket/Thruster Boots",
          "hero/hulk/Thunderclap",
          "hero/weather/Thunderstorm",
          "protection/nan/Thwip! Thwip!",
          "hero/ghost_spider/Ticket to the Multiverse",
          "aggression/nan/Tigra",
          "hero/colossus/Titanium Muscles",
          "basic/nan/To the Rescue!",
          "aggression/nan/Toe to Toe",
          "hero/iron_man/Tony Stark",
          "hero/ironheart/Tony Stark A.I.",
          "hero/drax/Too Stubborn to Die",
          "hero/storm/Torrential Rain",
          "hero/rogue/Touched",
          "hero/wolverine/Track by Scent",
          "campaign/the_market/Tried and True",
          "campaign/the_market/Triple Threat",
          "protection/nan/True Grit",
          "justice/nan/Turn the Tide",
          "basic/nan/Two Against the World",
          "leadership/nan/U.S. Agent",
          "leadership/nan/Uncanny X-Men",
          "justice/nan/Under Surveillance",
          "protection/nan/Unflappable",
          "leadership/nan/United We Stand",
          "hero/nova/Unleash Nova Force",
          "basic/nan/Unshakable",
          "hero/hulk/Unstoppable Force",
          "hero/nebu/Unyielding Persistence",
          "hero/warm/Upgraded Chassis",
          "aggression/nan/Uppercut",
          "basic/nan/Utopia",
          "hero/spdr/VEN#m",
          "hero/valk/Valhalla",
          "aggression/nan/Valkyrie",
          "hero/valk/Valkyrie",
          "hero/valk/Valkyrie's Spear",
          "hero/invocation/Vapors of Valtorr",
          "basic/nan/Venom",
          "justice/nan/Venom",
          "hero/vnm/Venom",
          "aggression/spider_woman/Venom Blast",
          "hero/vnm/Venom's Pistol",
          "hero/black_panther/Vibranium",
          "hero/hawkeye/Vibranium Arrow",
          "hero/black_panther/Vibranium Suit",
          "protection/nan/Victor Mancha",
          "justice/nan/Vigilante Training",
          "hero/groot/Vine Shield",
          "hero/groot/Vine Spikes",
          "leadership/nan/Vision",
          "hero/vision/Vision",
          "hero/vision/Vision's Cape",
          "hero/valk/Visit Valhalla",
          "basic/nan/Vivian",
          "hero/vision/Vivian",
          "campaign/mts_campaign/Volstagg",
          "hero/black_panther/Wakanda Forever!",
          "hero/scw/Wanda Maximoff",
          "campaign/brawler/War Cry",
          "hero/iron_man/War Machine",
          "basic/nan/War Machine",
          "hero/warm/War Machine",
          "aggression/nan/War Room",
          "protection/nan/Warlock",
          "hero/warlock/Warlock's Cape",
          "basic/nan/Warning",
          "hero/scw/Warp Reality",
          "aggression/nan/Warrior Skill",
          "basic/nan/Warrior of the Great Web",
          "hero/ant/Wasp",
          "aggression/nan/Wasp",
          "justice/nan/Wasp",
          "hero/wsp/Wasp",
          "hero/wsp/Wasp Sting",
          "hero/wsp/Wasp's Helmet",
          "campaign/shield_tech/Wave Bracers",
          "basic/nan/Weapon X",
          "hero/nebu/Weapons Master",
          "hero/storm/Weather Goddess",
          "hero/ghost_spider/Web Binding",
          "basic/nan/Web of Life and Destiny",
          "hero/ghost_spider/Web-Bracelet",
          "hero/spdr/Web-Fluid Compressor",
          "hero/spider_man/Web-Shooter",
          "hero/spider_man_morales/Web-Shooter",
          "hero/spider_man_morales/Web-Shot",
          "hero/spdr/Web-Trap",
          "hero/spider_man/Webbed Up",
          "protection/nan/What Doesn't Kill Me",
          "hero/phoenix/White Hot Room",
          "leadership/nan/White Tiger",
          "justice/nan/Wiccan",
          "hero/nebu/Wide Stance",
          "hero/black_widow/Widow's Bite",
          "hero/ms_marvel/Wiggle Room",
          "hero/invocation/Winds of Watoomb",
          "campaign/the_market/Wing It",
          "hero/black_widow/Winter Soldier",
          "aggression/nan/Wolverine",
          "hero/wolverine/Wolverine",
          "hero/wolverine/Wolverine's Claws",
          "leadership/nan/Wonder Man",
          "hero/doctor_strange/Wong",
          "justice/nan/Wraith",
          "hero/ant/Wrist Gauntlets",
          "campaign/shield_tech/Wrist Navigators",
          "basic/nan/X-Gene",
          "basic/nan/X-Mansion",
          "basic/nan/X-Men Instruction",
          "justice/nan/Yaw and Roll",
          "leadership/nan/Yondu",
          "basic/nan/Young Love",
          "campaign/expcamp/Zola's Algorithm",
          "justice/nan/Zone of Silence",
          "hero/ant",
          "campaign/bad_publicity",
          "campaign/badoon_headhunter",
          "hero/black_panther",
          "hero/black_widow",
          "campaign/brawler",
          "hero/captain_america",
          "hero/captain_marvel",
          "campaign/challenge",
          "hero/colossus",
          "campaign/commander",
          "campaign/community_service",
          "hero/cyclops",
          "campaign/defender",
          "hero/doctor_strange",
          "hero/drax",
          "campaign/expcamp",
          "hero/gam",
          "hero/gambit",
          "hero/ghost_spider",
          "hero/groot",
          "hero/hawkeye",
          "hero/hulk",
          "campaign/hydra_camp",
          "hero/invocation",
          "hero/iron_man",
          "hero/ironheart",
          "hero/ms_marvel",
          "campaign/mts_campaign",
          "campaign/mut_gen_campaign",
          "aggression/nan",
          "basic/nan",
          "justice/nan",
          "leadership/nan",
          "protection/nan",
          "hero/nebu",
          "hero/nova",
          "campaign/peacekeeper",
          "hero/phoenix",
          "hero/qsv",
          "hero/rocket",
          "hero/rogue",
          "hero/scw",
          "hero/shadowcat",
          "hero/she_hulk",
          "campaign/shield_tech",
          "campaign/snitches_get_stitches",
          "hero/spdr",
          "hero/spectrum",
          "hero/spider_man",
          "hero/spider_man_morales",
          "aggression/spider_woman",
          "hero/spider_woman",
          "justice/spider_woman",
          "leadership/spider_woman",
          "protection/spider_woman",
          "hero/spiderham",
          "hero/stld",
          "hero/storm",
          "campaign/the_market",
          "hero/thor",
          "hero/valk",
          "hero/vision",
          "hero/vnm",
          "hero/warlock",
          "hero/warm",
          "hero/weather",
          "hero/wolverine",
          "hero/wsp",
          "aggression",
          "basic",
          "campaign",
          "hero",
          "justice",
          "leadership",
          "protection"
         ],
         "labels": [
          "\"Bring It!\"",
          "\"Fight Me, Coward!\"",
          "\"Go for Champions!\"",
          "\"I Don't Think So!\"",
          "\"I Got Better\"",
          "\"I am Groot\"",
          "\"I. AM. GROOT!\"",
          "\"There is No Escape\"",
          "\"Think Fast!\"",
          "\"To Me, My X-Men!\"",
          "\"We Are Groot\"",
          "\"Welcome Aboard\"",
          "\"You'll Pay for That!\"",
          "616 Hickory Branch Lane",
          "Aamir Khan",
          "Accelerated Reflex",
          "Acrobatic Move",
          "Across the Spider-Verse",
          "Acute Control",
          "Adam Warlock",
          "Adam Warlock",
          "Adamantium Skeleton",
          "Adrenal Stims",
          "Adrenaline Rush",
          "Agatha Harkness",
          "Agent 13",
          "Agent 13",
          "Agent Coulson",
          "Aggressive Energy",
          "Agile Flight",
          "Air Supremacy",
          "Airwalk",
          "All Systems Go!",
          "All for One",
          "Alpha Flight Station",
          "Always Be Running",
          "Ancestral Knowledge",
          "Angel",
          "Angela",
          "Anna Marie",
          "Annabelle Riggs",
          "Ant-Man",
          "Ant-Man",
          "Ant-Man",
          "Ant-Man's Helmet",
          "Anti-Hero Propaganda",
          "Anticipation",
          "Arachnobatics",
          "Aragorn",
          "Arc Reactor",
          "Ardent Resolve",
          "Armor",
          "Armor Plating",
          "Armor Up",
          "Armored Vest",
          "Army of Ants",
          "As One!",
          "Asgard",
          "Assault Training",
          "Assess the Situation",
          "Astral Projection",
          "Athletic Conditioning",
          "Attack Training",
          "Attacrobatics",
          "Audacity",
          "Aunt May",
          "Aunt May & Uncle Ben",
          "Avengers Assemble!",
          "Avengers Mansion",
          "Avengers Tower",
          "Back Alley Burglary",
          "Backflip",
          "Bad Boy",
          "Badoon Blitz",
          "Badoon Headhunter",
          "Bait and Switch",
          "Band Together",
          "Banner's Laboratory",
          "Banshee",
          "Basic Attack Upgrade",
          "Basic Defense Upgrade",
          "Basic Recovery Upgrade",
          "Basic Thwart Upgrade",
          "Battery Pack",
          "Battle Fury",
          "Beast",
          "Beat 'Em Up",
          "Beat Cop",
          "Beauty and the Thief",
          "Befuddle",
          "Behind Enemy Lines",
          "Berserker Barrage",
          "Berserker Frenzy",
          "Beta Ray Bill",
          "Big Hands",
          "Bio-Synthetic Wings",
          "Biokinetic Polymer Suit",
          "Bishop",
          "Black Cat",
          "Black Knight",
          "Black Panther",
          "Black Panther",
          "Black Swan",
          "Black Widow",
          "Black Widow",
          "Black Widow's Gauntlet",
          "Blade",
          "Blast of Wind",
          "Blaze of Glory",
          "Blindfold",
          "Blizzard",
          "Blue Marvel",
          "Bodyguard",
          "Bombshell",
          "Booster Boots",
          "Boot Camp",
          "Boundless Rage",
          "Brains Over Brawn",
          "Brainstorm",
          "Brawn",
          "Brawn",
          "Brazen Defense",
          "Breaking and Entering",
          "Brother Voodoo",
          "Browbeat",
          "Bruce Banner",
          "Brunnhilde",
          "Bruno Carrelli",
          "Brute Force",
          "Bug",
          "Bulletproof Belle",
          "Bulletproof Protector",
          "By Any Means",
          "C.I.T.T.",
          "Cable Arrow",
          "Calculate the Odds",
          "Call for Aid",
          "Captain America",
          "Captain America",
          "Captain America's Helmet",
          "Captain America's Shield",
          "Captain Americat",
          "Captain Marvel",
          "Captain Marvel",
          "Captain Marvel",
          "Captain Marvel's Helmet",
          "Cargo Hold",
          "Carol Danvers",
          "Cartoon Physics",
          "Cat in a Tree",
          "Cerebro",
          "Champions Mobile Bunker",
          "Chance Encounter",
          "Chaos Magic",
          "Charged Card",
          "Charlie-27",
          "Chase Them Down",
          "Chooser of the Slain",
          "Civic Duty",
          "Clarity of Purpose",
          "Clea",
          "Clear Skies",
          "Clear the Area",
          "Clint Barton",
          "Cloak of Levitation",
          "Clobber",
          "Close Call",
          "Cloud 9",
          "Colossus",
          "Colossus",
          "Combat Ready",
          "Combat Training",
          "Command Center",
          "Command Team",
          "Comms Implant",
          "Compact Darts",
          "Compassion",
          "Compassion",
          "Concussive Blow",
          "Conditioning Room",
          "Connection to the Worldmind",
          "Contaminant Immunity",
          "Contingency Plan",
          "Coordinated Attack",
          "Cosmic Alliance",
          "Cosmic Awareness",
          "Cosmic Flight",
          "Cosmic Ward",
          "Cosmo",
          "Cosmo",
          "Counter-Punch",
          "Counterattack",
          "Counterintelligence",
          "Coup de Grâce",
          "Coup de Grâce",
          "Covert Ops",
          "Creative Solution",
          "Creole Charmer",
          "Crew Quarters",
          "Crimson Bands of Cyttorak",
          "Crisis Averted",
          "Crisis Interdiction",
          "Crosscounter",
          "Crushing Blow",
          "Cutthroat Ambition",
          "Cybernetic Skeleton",
          "Cyclops",
          "Cyclops",
          "DWI Theet Mastery",
          "Dance of Death",
          "Danger Room",
          "Danger Room Training",
          "Daredevil",
          "Daredevil",
          "Daring Escape",
          "Daughters of Thanos",
          "Dauntless",
          "Dazzler",
          "Dead to Rights",
          "Death-Glow",
          "Decisive Blow",
          "Defender of the Nine Realms",
          "Defense Mechanism",
          "Defensive Energy",
          "Defensive Protocols",
          "Defensive Stance",
          "Defensive Training",
          "Defiance",
          "Deflection",
          "Deft Focus",
          "Defy Danger",
          "Density Control",
          "Desperate Defense",
          "Determination",
          "Determined Defense",
          "Dive Bomb",
          "Doctor Strange",
          "Double Life",
          "Double Time",
          "Down Time",
          "Dragonfang",
          "Drax",
          "Drax",
          "Drax's Knife",
          "Drax's Other Knife",
          "Drop Kick",
          "Dum Dum Dugan",
          "Dust",
          "Earth's Mightiest Heroes",
          "Effective Leadership",
          "Ejection Protocol",
          "Electric Arrow",
          "Electrostatic Armor",
          "Element Gun",
          "Embiggen!",
          "Emergency",
          "Emergency Teleporter",
          "Endurance",
          "Enemy of My Enemy",
          "Energy",
          "Energy Absorption",
          "Energy Barrier",
          "Energy Channel",
          "Energy Daggers",
          "Energy Duplication",
          "Energy Spear",
          "Energy Transfer",
          "Enhanced Awareness",
          "Enhanced Physique",
          "Enhanced Reflexes",
          "Enhanced Spider-Sense",
          "Enraged",
          "Entangling Vines",
          "Eros",
          "Espionage",
          "Eternity",
          "Evasive Maneuvering",
          "Even the Odds",
          "Ever Vigilant",
          "Everyday Hero",
          "Expert Defense",
          "Expert Marksman",
          "Exploit Weakness",
          "Explosive Arrow",
          "Falcon",
          "Fandral",
          "Fastball Special",
          "Fearless Determination",
          "Ferocious Attack",
          "Fertile Ground",
          "Field Agent",
          "Field Commander",
          "Fighting Fit",
          "Find the Norn Stones",
          "Find the Prisoners",
          "Finesse",
          "First Aid",
          "First Hit",
          "Flash Freeze",
          "Flash Thompson",
          "Flight of the Valkyrior",
          "Flora and Fauna",
          "Flow Like Water",
          "Fluid Motion",
          "Fly Over",
          "Focused Rage",
          "Foiled!",
          "Follow Through",
          "Followed",
          "For Asgard!",
          "For Justice!",
          "Forcefield Generator",
          "Forcefield Projection",
          "Forge",
          "Fortitude",
          "Forward Momentum",
          "Friction Resistance",
          "Frightened Police",
          "Fruition",
          "Fugitive Recovery",
          "Full Auto",
          "Full Blast",
          "Fusillade",
          "Gallery of Splendor",
          "Gambit",
          "Gambit",
          "Gambit's Guild Armor",
          "Gambit's Staff",
          "Game Time",
          "Gamma",
          "Gamma Blast",
          "Gamma Slam",
          "Gamora",
          "Gamora",
          "Gamora",
          "Gamora's Sword",
          "Ganke Lee",
          "Gatekeeper",
          "Gauntlet Gun",
          "Genius",
          "Gentle",
          "George Stacy",
          "Get Behind Me!",
          "Get Over Here!",
          "Get Ready",
          "Ghost Kick",
          "Ghost-Spider",
          "Ghost-Spider",
          "Giant Help",
          "Giant Stomp",
          "Giant Strength",
          "Giant-Man",
          "Global Logistics",
          "Go All Out",
          "Go Down Swinging",
          "God of Thunder",
          "Godlike Stamina",
          "Godslayer",
          "Goin' Rogue",
          "Goliath",
          "Government Liaison",
          "Grand Strategy",
          "Grapple",
          "Grappling Hook",
          "Grasping Tendrils",
          "Great Responsibility",
          "Groot",
          "Groot",
          "Ground Stomp",
          "Group Assault",
          "Guardians of the Galaxy",
          "Guerrilla Tactics",
          "Gutsy Move",
          "Gwen Stacy",
          "Hack Sanctuary's Computer",
          "Hall of Heroes",
          "Ham It Up",
          "Hammer Throw",
          "Hand Cannon",
          "Hangar Bay",
          "Hard Knocks",
          "Hard to Ignore",
          "Have at Thee!",
          "Havok",
          "Hawkeye",
          "Hawkeye",
          "Hawkeye's Bow",
          "Hawkeye's Quiver",
          "Haymaker",
          "Headhunter's Henchman",
          "Heavy Cannon",
          "Height Advantage",
          "Heimdall",
          "Helicarrier",
          "Hellcat",
          "Henchmen Heist",
          "Hercules",
          "Heroic Intervention",
          "Heroic Intuition",
          "Heroic Strike",
          "Hex Bolt",
          "Hit and Run",
          "Hive Mind",
          "Hogun",
          "Hogwashed",
          "Homeland Intervention",
          "Honed Technique",
          "Honorary Avenger",
          "Honorary Guardian",
          "Honorary X-Men",
          "Host Spider",
          "Huge Wooden Hammer",
          "Hulk",
          "Hulk",
          "Hulk Smash",
          "Hurricane",
          "Hyper Perception",
          "Hyper Thrusters",
          "I've Got a Plan",
          "Iceman",
          "Images of Ikonn",
          "Immovable Object",
          "Impact-Dampening Suit",
          "Impede",
          "Improved Attack Upgrade",
          "Improved Defense Upgrade",
          "Improved Recovery Upgrade",
          "Improved Thwart Upgrade",
          "Improvisation",
          "In Defiance",
          "In Harm's Way",
          "In-Betweener",
          "Inconspicuous",
          "Indomitable",
          "Ingenuity",
          "Innovation",
          "Inspired",
          "Inspiring Presence",
          "Intangible",
          "Intangible Interference",
          "Interrogation Room",
          "Intimidation",
          "Into the Fray",
          "Invulnerability",
          "Iron Fist",
          "Iron Man",
          "Iron Man",
          "Iron Man",
          "Iron Will",
          "Ironheart",
          "Ironheart",
          "Jack Flag",
          "James Rhodes",
          "Jarnbjorn",
          "Jean Grey",
          "Jefferson Davis",
          "Jennifer Walters",
          "Jesse Alexander",
          "Jessica Drew",
          "Jessica Drew's Apartment",
          "Jessica Jones",
          "Jet Boots",
          "Jocasta",
          "Joining Forces",
          "Jormungand",
          "Jubilee",
          "Judoka Skill",
          "Jump Flip",
          "Just Passing Through",
          "Justice Served",
          "Kaluu",
          "Kamala Khan",
          "Karma",
          "Karmic Blast",
          "Karmic Staff",
          "Keen Instincts",
          "Kitty Pride",
          "Kitty's Room",
          "Knife Leap",
          "Knowhere",
          "Kree Supremacy",
          "Lady Sif",
          "Lady Sif",
          "Lady Spider",
          "Laser Blaster",
          "Laser Cannon",
          "Laser Googles",
          "Lashing Vines",
          "Last Stand",
          "Lay Down the Law",
          "Lead from the Front",
          "Leader of the Guardians",
          "Leadership Skill",
          "Leadership Training",
          "Leading Blow",
          "Legal Practice",
          "Lethal Intent",
          "Lie in Wait",
          "Lightning Bolt",
          "Lightning Strike",
          "Lightspeed Flight",
          "Limitless Stamina",
          "Limitless Strength",
          "Living Tribunal",
          "Locked and Loaded",
          "Lockheed",
          "Lockjaw",
          "Logan",
          "Logan's Cabin",
          "Longshot",
          "Looking for Trouble",
          "Luke Cage",
          "Lunging Strike",
          "Machine Man",
          "Made of Rage",
          "Magic Attack",
          "Magic Blast",
          "Magic Shield",
          "Magical Enhancements",
          "Magik",
          "Magneto",
          "Magneto's Fortress",
          "Magneto's Power",
          "Major Victory",
          "Make the Call",
          "Making an Entrance",
          "Mantis",
          "Maria Hill",
          "Mark V Armor",
          "Mark V Helmet",
          "Marked",
          "Martial Law",
          "Martial Prowess",
          "Martinex",
          "Martyr",
          "Marvel Boy",
          "Marvel Girl",
          "Mass Attack",
          "Mass Increase",
          "Master of the Mystic Arts",
          "Maximum Velocity",
          "Mean Swing",
          "Med Lab",
          "Med Team",
          "Medical Emergency",
          "Meditation",
          "Melee",
          "Mental Paralysis",
          "Mentorship",
          "Metro P.D.",
          "Mighty Avengers",
          "Miles Morales",
          "Mind Control",
          "Mirage",
          "Missile Launcher",
          "Mission Training",
          "Mjolnir",
          "Mockingbird",
          "Mockingbird",
          "Moira MacTaggert",
          "Molecular Acceleration",
          "Molecular Decay",
          "Moment of Triumph",
          "Momentum Shift",
          "Monica Chang",
          "Monica Rambeau",
          "Moon Girl",
          "Moondragon",
          "Morale Boost",
          "Mounted Laser",
          "Moxie",
          "Ms. Marvel",
          "Ms. Marvel",
          "Multi-Gun",
          "Multiple Man",
          "Multitasking",
          "Munitions Bunker",
          "Muster Courage",
          "Mutant Education",
          "Mutant Peacekeepers",
          "Mutant Protectors",
          "Mystic Senses",
          "Mystical Studies",
          "Nadia Van Dyne",
          "Nakia Bahadir",
          "Natasha Romanoff",
          "Natural Agility",
          "Navigation Column",
          "Nebula",
          "Nebula",
          "Nebula's Ship",
          "Nerves of Steel",
          "Never Back Down",
          "New and Improved",
          "Nick Fury",
          "Nightcrawler",
          "No Quarter",
          "Norn Stone",
          "Not Today!",
          "Nova",
          "Nova",
          "Nova Prime",
          "Odinson",
          "Off the Rails",
          "On the Hunt",
          "One Way or Another",
          "One by One",
          "One-Two Punch",
          "Onrush",
          "Open the Dungeons",
          "Operative Skill",
          "Order and Chaos",
          "Organic Steel",
          "Organic Webbing",
          "Ororo Munroe",
          "Ororo's Garden",
          "Outta My Way!",
          "Overwatch",
          "Panther Claws",
          "Parental Guidance",
          "Parry",
          "Particle Cannon",
          "Passion for Justice",
          "Patriot",
          "Payback",
          "Peni Parker",
          "Pepper Potts",
          "Perseverance",
          "Peter Parker",
          "Peter Porker",
          "Peter Quill",
          "Petulant Pig",
          "Phantom Flip",
          "Phase Disruption",
          "Phase Strike",
          "Phased",
          "Phased and Confused",
          "Pheromones",
          "Phoenix",
          "Phoenix",
          "Phoenix Firebird",
          "Phoenix Force",
          "Phoenix Suit",
          "Photon",
          "Photon Beam",
          "Photon Blasters",
          "Photon Speed",
          "Photonic Blast",
          "Piercing Strike",
          "Pietro Maximoff",
          "Pinned Down",
          "Pinpoint",
          "Pinpoint Strike",
          "Piotr Rasputin",
          "Piotr's Studio",
          "Pip the Troll",
          "Pirouette and Punch",
          "Pitchback",
          "Pivotal Moment",
          "Pixie",
          "Plan B",
          "Plan of Attack",
          "Plasma Pistol",
          "Polaris",
          "Pot Shot",
          "Power Gloves",
          "Power Man",
          "Power Unleashed",
          "Power Within",
          "Powered Gauntlets",
          "Powerful Punch",
          "Practiced Defense",
          "Precision Strike",
          "Preemptive Strike",
          "Preservation",
          "Press the Advantage",
          "Priority Target",
          "Problem Solvers",
          "Professor X",
          "Project Rebirth 2.0",
          "Propulsion Gauntlet",
          "Propulsion Jets",
          "Protective Training",
          "Protective Ward",
          "Protector",
          "Psychic Assault",
          "Psychic Blast",
          "Psychic Kicker",
          "Psychic Link",
          "Psychic Manipulation",
          "Psychic Misdirection",
          "Psychic Rapport",
          "Psylocke",
          "Public Outcry",
          "Pulsar",
          "Pulsar Shield",
          "Pulse Grenade",
          "Push Ahead",
          "Pym Particles",
          "Pym Particles",
          "Quake",
          "Quantum Magic",
          "Quasar",
          "Quick Shift",
          "Quick Strike",
          "Quicksilver",
          "Quicksilver",
          "Quincarrier",
          "Quinjet",
          "R&D Facility",
          "Rapid Deployment",
          "Rapid Growth",
          "Rapid Response",
          "Reactive Defense",
          "Reactor Core",
          "Ready for Action",
          "Ready to Rumble",
          "Reboot",
          "Recuperation",
          "Red Dagger",
          "Red Room Training",
          "Regenerative Healing",
          "Regroup",
          "Reinforced Sinew",
          "Reinforced Suit",
          "Relentless Assault",
          "Reload",
          "Remy Lebeau",
          "Repulsor Beam",
          "Repulsor Blast",
          "Repurpose",
          "Rescue Captives",
          "Rescue Operation",
          "Resize",
          "Resourceful",
          "Retinal Display",
          "Retrieve Odin's Armor",
          "Return the Favor",
          "Ricochet Beam",
          "Riri Williams",
          "Rise from the Ashes",
          "Rocket Boots",
          "Rocket Launcher",
          "Rocket Raccoon",
          "Rocket Raccoon",
          "Rocket's Pistol",
          "Rockslide",
          "Rogue",
          "Rogue",
          "Rogue's Jacket",
          "Ronin",
          "Ronnie Williams",
          "Root Stomp",
          "Royal Flush",
          "Rubble Rescue",
          "Ruby Quartz Visor",
          "Run and Gun",
          "Running Interference",
          "SP//dr",
          "SP//dr",
          "SP//dr Command",
          "SP//dr Suit",
          "Safe House #29",
          "Safeguard",
          "Salvage",
          "Sam Alexander",
          "Sanctum Sanctorum",
          "Savage Attack",
          "Save the Day",
          "Save the Shawarma Place",
          "Scare Tactic",
          "Scarlet Spider",
          "Scarlet Witch",
          "Scarlet Witch",
          "Scarlet Witch's Crest",
          "Schadenfreude",
          "Scorched Earth",
          "Scott Lang",
          "Scott Summers",
          "Second Wind",
          "Sector Scan",
          "Secure the Landing Pad",
          "Security Breach",
          "Self-Propelled Glide",
          "Sense of Justice",
          "Sentry",
          "Serval Industries",
          "Set the Pace",
          "Seven Rings of Raggadorr",
          "Shadow and Steel",
          "Shadowcat",
          "Shadowcat",
          "Shadowcat Surprise",
          "Shake it Off",
          "Shawarma",
          "She-Hulk",
          "She-Hulk",
          "Shield Block",
          "Shield Spell",
          "Shield Toss",
          "Shieldmaiden",
          "Shock Knuckles",
          "Shock and Awe",
          "Shoulder Cannon",
          "Shrink",
          "Shuri",
          "Side Holster",
          "Side Step",
          "Sidearm",
          "Silk",
          "Skilled Investigator",
          "Skilled Strike",
          "Sky Cycle",
          "Sky-Destroyer",
          "Slice and Dice",
          "Sliding Shot",
          "Smash the Problem",
          "Smear Campaign",
          "Sneak Attack",
          "Sneak By",
          "Snitches Get Stitches",
          "Snowguard",
          "Solar Beam",
          "Solar Gem",
          "Solid",
          "Sonic Arrow",
          "Sonic Rifle",
          "Soul Sisters",
          "Soul World",
          "Southern Cross",
          "Spectrum",
          "Speed",
          "Speed Cyclone",
          "Speed of Light",
          "Speed-Metal Alloy",
          "Spider-Girl",
          "Spider-Ham",
          "Spider-Ham",
          "Spider-Man",
          "Spider-Man",
          "Spider-Man",
          "Spider-Man",
          "Spider-Man",
          "Spider-Man Noir",
          "Spider-Sense",
          "Spider-Tingle",
          "Spider-Tracer",
          "Spider-UK",
          "Spider-Woman",
          "Spider-Woman",
          "Spider-Woman",
          "Spiritual Meditation",
          "Split Personality",
          "Spycraft",
          "Squirrel Girl",
          "Stand Together",
          "Star-Lord",
          "Star-Lord",
          "Star-Lord's Helmet",
          "Starhawk",
          "Stark Tower",
          "Stealth Strike",
          "Steel Fist",
          "Stephen Strange",
          "Steve Rogers",
          "Steve's Apartment",
          "Stinger",
          "Storm",
          "Storm",
          "Storm's Cape",
          "Storm's Crown",
          "Strength",
          "Strength In Numbers",
          "Stroke of Genius",
          "Sub-Orbital Leap",
          "Subdue",
          "Summoned Back",
          "Summoning Spell",
          "Sunfire",
          "Super-Soldier Serum",
          "Superdense Strike",
          "Superhuman Law Division",
          "Superhuman Strength",
          "Supernova Helmet",
          "Superpower Adaptation",
          "Supersonic Punch",
          "Sure Gamble",
          "Surprise Attack",
          "Surprise Attack",
          "Surprise!",
          "Surprise!",
          "Surveillance Team",
          "Swagger",
          "Swagger",
          "Swarm Tactics",
          "Swift Retribution",
          "Swing In",
          "Swinging Web Kick",
          "Swinging Web Pig",
          "Symbiote Suit",
          "Synth-Suit",
          "System Shock",
          "T'Challa",
          "Tac Team",
          "Tackle",
          "Tactical Brilliance",
          "Tactical Genius",
          "Tactical Scanner",
          "Take the Fight to Them",
          "Target Acquired",
          "Target Practice",
          "Targeted Strike",
          "Targeting Screen",
          "Team Strike",
          "Team Training",
          "Team-Building Exercise",
          "Teamwork",
          "Telekinetic Attack",
          "Telekinetic Shield",
          "Telepathic Trickery",
          "Tenacity",
          "The Best Defense…",
          "The Bifrost",
          "The Daily Beagle",
          "The Eye of Agamotto",
          "The Gardener",
          "The Golden City",
          "The Locust",
          "The Night Nurse",
          "The Power in All of Us",
          "The Power of Aggression",
          "The Power of Justice",
          "The Power of Leadership",
          "The Power of Protection",
          "The Sorcerer Supreme",
          "The Thieves Guild",
          "The Triskelion",
          "The X-Jet",
          "Thor",
          "Thor",
          "Thor's Helmet",
          "Throg",
          "Thruster Boots",
          "Thunderclap",
          "Thunderstorm",
          "Thwip! Thwip!",
          "Ticket to the Multiverse",
          "Tigra",
          "Titanium Muscles",
          "To the Rescue!",
          "Toe to Toe",
          "Tony Stark",
          "Tony Stark A.I.",
          "Too Stubborn to Die",
          "Torrential Rain",
          "Touched",
          "Track by Scent",
          "Tried and True",
          "Triple Threat",
          "True Grit",
          "Turn the Tide",
          "Two Against the World",
          "U.S. Agent",
          "Uncanny X-Men",
          "Under Surveillance",
          "Unflappable",
          "United We Stand",
          "Unleash Nova Force",
          "Unshakable",
          "Unstoppable Force",
          "Unyielding Persistence",
          "Upgraded Chassis",
          "Uppercut",
          "Utopia",
          "VEN#m",
          "Valhalla",
          "Valkyrie",
          "Valkyrie",
          "Valkyrie's Spear",
          "Vapors of Valtorr",
          "Venom",
          "Venom",
          "Venom",
          "Venom Blast",
          "Venom's Pistol",
          "Vibranium",
          "Vibranium Arrow",
          "Vibranium Suit",
          "Victor Mancha",
          "Vigilante Training",
          "Vine Shield",
          "Vine Spikes",
          "Vision",
          "Vision",
          "Vision's Cape",
          "Visit Valhalla",
          "Vivian",
          "Vivian",
          "Volstagg",
          "Wakanda Forever!",
          "Wanda Maximoff",
          "War Cry",
          "War Machine",
          "War Machine",
          "War Machine",
          "War Room",
          "Warlock",
          "Warlock's Cape",
          "Warning",
          "Warp Reality",
          "Warrior Skill",
          "Warrior of the Great Web",
          "Wasp",
          "Wasp",
          "Wasp",
          "Wasp",
          "Wasp Sting",
          "Wasp's Helmet",
          "Wave Bracers",
          "Weapon X",
          "Weapons Master",
          "Weather Goddess",
          "Web Binding",
          "Web of Life and Destiny",
          "Web-Bracelet",
          "Web-Fluid Compressor",
          "Web-Shooter",
          "Web-Shooter",
          "Web-Shot",
          "Web-Trap",
          "Webbed Up",
          "What Doesn't Kill Me",
          "White Hot Room",
          "White Tiger",
          "Wiccan",
          "Wide Stance",
          "Widow's Bite",
          "Wiggle Room",
          "Winds of Watoomb",
          "Wing It",
          "Winter Soldier",
          "Wolverine",
          "Wolverine",
          "Wolverine's Claws",
          "Wonder Man",
          "Wong",
          "Wraith",
          "Wrist Gauntlets",
          "Wrist Navigators",
          "X-Gene",
          "X-Mansion",
          "X-Men Instruction",
          "Yaw and Roll",
          "Yondu",
          "Young Love",
          "Zola's Algorithm",
          "Zone of Silence",
          "ant",
          "bad_publicity",
          "badoon_headhunter",
          "black_panther",
          "black_widow",
          "brawler",
          "captain_america",
          "captain_marvel",
          "challenge",
          "colossus",
          "commander",
          "community_service",
          "cyclops",
          "defender",
          "doctor_strange",
          "drax",
          "expcamp",
          "gam",
          "gambit",
          "ghost_spider",
          "groot",
          "hawkeye",
          "hulk",
          "hydra_camp",
          "invocation",
          "iron_man",
          "ironheart",
          "ms_marvel",
          "mts_campaign",
          "mut_gen_campaign",
          "nan",
          "nan",
          "nan",
          "nan",
          "nan",
          "nebu",
          "nova",
          "peacekeeper",
          "phoenix",
          "qsv",
          "rocket",
          "rogue",
          "scw",
          "shadowcat",
          "she_hulk",
          "shield_tech",
          "snitches_get_stitches",
          "spdr",
          "spectrum",
          "spider_man",
          "spider_man_morales",
          "spider_woman",
          "spider_woman",
          "spider_woman",
          "spider_woman",
          "spider_woman",
          "spiderham",
          "stld",
          "storm",
          "the_market",
          "thor",
          "valk",
          "vision",
          "vnm",
          "warlock",
          "warm",
          "weather",
          "wolverine",
          "wsp",
          "aggression",
          "basic",
          "campaign",
          "hero",
          "justice",
          "leadership",
          "protection"
         ],
         "level": "931bf2",
         "maxdepth": 3,
         "name": "",
         "parents": [
          "aggression/nan",
          "hero/drax",
          "basic/nan",
          "hero/spiderham",
          "hero/wolverine",
          "hero/groot",
          "hero/groot",
          "campaign/challenge",
          "justice/nan",
          "leadership/nan",
          "hero/groot",
          "leadership/nan",
          "aggression/nan",
          "hero/vision",
          "hero/ms_marvel",
          "hero/qsv",
          "hero/gam",
          "basic/nan",
          "hero/shadowcat",
          "leadership/nan",
          "hero/warlock",
          "hero/wolverine",
          "campaign/hydra_camp",
          "basic/nan",
          "hero/scw",
          "hero/captain_america",
          "basic/nan",
          "justice/nan",
          "aggression/nan",
          "justice/nan",
          "leadership/nan",
          "hero/shadowcat",
          "hero/spdr",
          "leadership/nan",
          "hero/captain_marvel",
          "hero/qsv",
          "hero/black_panther",
          "basic/nan",
          "aggression/nan",
          "hero/rogue",
          "hero/valk",
          "hero/ant",
          "leadership/nan",
          "hero/wsp",
          "hero/ant",
          "campaign/expcamp",
          "protection/nan",
          "hero/spider_man_morales",
          "hero/valk",
          "hero/iron_man",
          "campaign/the_market",
          "protection/nan",
          "campaign/the_market",
          "hero/colossus",
          "protection/nan",
          "hero/ant",
          "aggression/nan",
          "hero/thor",
          "aggression/nan",
          "basic/nan",
          "hero/doctor_strange",
          "basic/nan",
          "aggression/nan",
          "hero/black_widow",
          "aggression/nan",
          "hero/spider_man",
          "hero/spdr",
          "leadership/nan",
          "basic/nan",
          "basic/nan",
          "campaign/community_service",
          "hero/spider_man",
          "hero/stld",
          "campaign/challenge",
          "campaign/badoon_headhunter",
          "protection/nan",
          "leadership/nan",
          "hero/hulk",
          "justice/nan",
          "campaign/hydra_camp",
          "campaign/hydra_camp",
          "campaign/hydra_camp",
          "campaign/hydra_camp",
          "hero/rocket",
          "aggression/nan",
          "leadership/nan",
          "basic/nan",
          "justice/nan",
          "basic/nan",
          "justice/nan",
          "hero/vnm",
          "hero/wolverine",
          "hero/wolverine",
          "leadership/nan",
          "hero/ms_marvel",
          "hero/wsp",
          "hero/ms_marvel",
          "justice/nan",
          "hero/spider_man",
          "leadership/nan",
          "hero/black_panther",
          "leadership/nan",
          "campaign/mts_campaign",
          "hero/black_widow",
          "protection/nan",
          "hero/black_widow",
          "basic/nan",
          "hero/storm",
          "leadership/nan",
          "justice/nan",
          "hero/weather",
          "hero/spectrum",
          "campaign/defender",
          "aggression/nan",
          "basic/nan",
          "aggression/nan",
          "hero/hulk",
          "justice/nan",
          "campaign/the_market",
          "hero/ironheart",
          "aggression/nan",
          "campaign/brawler",
          "justice/nan",
          "protection/nan",
          "aggression/nan",
          "hero/hulk",
          "hero/valk",
          "hero/ms_marvel",
          "aggression/nan",
          "aggression/nan",
          "hero/rogue",
          "hero/colossus",
          "campaign/the_market",
          "basic/nan",
          "hero/hawkeye",
          "campaign/the_market",
          "leadership/nan",
          "hero/captain_america",
          "leadership/nan",
          "hero/captain_america",
          "hero/captain_america",
          "hero/spiderham",
          "hero/captain_marvel",
          "leadership/nan",
          "hero/spider_woman",
          "hero/captain_marvel",
          "campaign/the_market",
          "hero/captain_marvel",
          "hero/spiderham",
          "campaign/community_service",
          "basic/nan",
          "basic/nan",
          "justice/nan",
          "hero/scw",
          "hero/gambit",
          "protection/nan",
          "aggression/nan",
          "hero/valk",
          "basic/nan",
          "leadership/nan",
          "protection/nan",
          "hero/weather",
          "justice/nan",
          "hero/hawkeye",
          "hero/doctor_strange",
          "aggression/nan",
          "campaign/the_market",
          "leadership/nan",
          "hero/colossus",
          "basic/nan",
          "hero/nebu",
          "aggression/nan",
          "justice/nan",
          "leadership/nan",
          "leadership/nan",
          "campaign/shield_tech",
          "campaign/commander",
          "campaign/peacekeeper",
          "justice/nan",
          "hero/gam",
          "hero/nova",
          "protection/spider_woman",
          "campaign/the_market",
          "leadership/nan",
          "basic/nan",
          "hero/warlock",
          "hero/captain_marvel",
          "hero/warlock",
          "campaign/mts_campaign",
          "basic/nan",
          "protection/nan",
          "aggression/nan",
          "justice/nan",
          "campaign/brawler",
          "campaign/commander",
          "hero/black_widow",
          "campaign/the_market",
          "hero/gambit",
          "basic/nan",
          "hero/invocation",
          "justice/nan",
          "hero/captain_marvel",
          "hero/gam",
          "hero/hulk",
          "hero/nebu",
          "hero/rocket",
          "hero/cyclops",
          "hero/phoenix",
          "hero/drax",
          "hero/black_widow",
          "basic/nan",
          "leadership/nan",
          "justice/nan",
          "protection/nan",
          "hero/stld",
          "basic/nan",
          "protection/nan",
          "justice/nan",
          "campaign/badoon_headhunter",
          "hero/valk",
          "hero/gam",
          "hero/thor",
          "hero/spider_man_morales",
          "protection/nan",
          "campaign/mts_campaign",
          "protection/nan",
          "protection/nan",
          "protection/nan",
          "protection/nan",
          "basic/nan",
          "campaign/the_market",
          "hero/vision",
          "protection/nan",
          "justice/nan",
          "campaign/defender",
          "aggression/nan",
          "hero/doctor_strange",
          "hero/spider_man_morales",
          "hero/qsv",
          "basic/nan",
          "hero/valk",
          "hero/drax",
          "basic/nan",
          "hero/drax",
          "hero/drax",
          "aggression/nan",
          "basic/nan",
          "aggression/nan",
          "basic/nan",
          "leadership/nan",
          "hero/spdr",
          "hero/hawkeye",
          "protection/nan",
          "hero/stld",
          "hero/ms_marvel",
          "basic/nan",
          "campaign/hydra_camp",
          "basic/nan",
          "campaign/mut_gen_campaign",
          "basic/nan",
          "hero/captain_marvel",
          "protection/nan",
          "hero/captain_marvel",
          "hero/black_panther",
          "hero/spectrum",
          "aggression/nan",
          "hero/rogue",
          "basic/nan",
          "basic/nan",
          "basic/nan",
          "hero/spider_man",
          "aggression/nan",
          "hero/groot",
          "justice/nan",
          "basic/nan",
          "leadership/nan",
          "hero/nebu",
          "justice/nan",
          "protection/nan",
          "basic/nan",
          "protection/nan",
          "hero/hawkeye",
          "hero/cyclops",
          "hero/hawkeye",
          "leadership/nan",
          "campaign/mts_campaign",
          "basic/nan",
          "hero/captain_america",
          "campaign/brawler",
          "hero/groot",
          "justice/nan",
          "hero/cyclops",
          "protection/nan",
          "campaign/mts_campaign",
          "campaign/mut_gen_campaign",
          "hero/spider_woman",
          "basic/nan",
          "protection/nan",
          "hero/storm",
          "hero/vnm",
          "hero/valk",
          "basic/nan",
          "protection/nan",
          "aggression/nan",
          "hero/ironheart",
          "hero/she_hulk",
          "justice/nan",
          "aggression/nan",
          "justice/nan",
          "hero/thor",
          "justice/nan",
          "protection/nan",
          "hero/nova",
          "basic/nan",
          "campaign/peacekeeper",
          "hero/gam",
          "hero/qsv",
          "campaign/mut_gen_campaign",
          "hero/groot",
          "campaign/badoon_headhunter",
          "hero/warm",
          "hero/cyclops",
          "aggression/nan",
          "campaign/challenge",
          "hero/gambit",
          "hero/rogue",
          "hero/gambit",
          "hero/gambit",
          "basic/nan",
          "hero/spectrum",
          "hero/spectrum",
          "hero/she_hulk",
          "hero/gam",
          "basic/nan",
          "hero/nebu",
          "hero/gam",
          "hero/spider_man_morales",
          "aggression/nan",
          "hero/warm",
          "basic/nan",
          "leadership/nan",
          "hero/ghost_spider",
          "protection/nan",
          "aggression/nan",
          "leadership/nan",
          "hero/ghost_spider",
          "hero/ghost_spider",
          "basic/nan",
          "hero/wsp",
          "hero/ant",
          "hero/ant",
          "leadership/nan",
          "justice/nan",
          "leadership/nan",
          "leadership/nan",
          "hero/thor",
          "basic/nan",
          "aggression/nan",
          "hero/rogue",
          "leadership/nan",
          "basic/nan",
          "campaign/the_market",
          "campaign/the_market",
          "hero/black_widow",
          "hero/vnm",
          "justice/nan",
          "hero/groot",
          "basic/nan",
          "hero/she_hulk",
          "campaign/commander",
          "leadership/nan",
          "campaign/challenge",
          "hero/stld",
          "hero/ghost_spider",
          "campaign/mts_campaign",
          "aggression/nan",
          "hero/spiderham",
          "hero/thor",
          "aggression/nan",
          "protection/nan",
          "protection/nan",
          "protection/nan",
          "hero/valk",
          "leadership/nan",
          "hero/hawkeye",
          "leadership/nan",
          "hero/hawkeye",
          "hero/hawkeye",
          "basic/nan",
          "campaign/badoon_headhunter",
          "campaign/the_market",
          "protection/nan",
          "basic/nan",
          "basic/nan",
          "hero/she_hulk",
          "campaign/community_service",
          "aggression/nan",
          "campaign/defender",
          "justice/nan",
          "hero/captain_america",
          "hero/scw",
          "basic/nan",
          "hero/ant",
          "campaign/mts_campaign",
          "hero/spiderham",
          "justice/nan",
          "aggression/nan",
          "basic/nan",
          "basic/nan",
          "basic/nan",
          "hero/spdr",
          "hero/spiderham",
          "hero/hulk",
          "aggression/nan",
          "hero/hulk",
          "hero/weather",
          "hero/qsv",
          "campaign/the_market",
          "hero/rocket",
          "protection/nan",
          "hero/invocation",
          "hero/hulk",
          "campaign/shield_tech",
          "justice/nan",
          "campaign/hydra_camp",
          "campaign/hydra_camp",
          "campaign/hydra_camp",
          "campaign/hydra_camp",
          "campaign/commander",
          "campaign/the_market",
          "campaign/the_market",
          "aggression/nan",
          "justice/spider_woman",
          "protection/nan",
          "basic/nan",
          "leadership/nan",
          "leadership/nan",
          "leadership/nan",
          "hero/vision",
          "hero/shadowcat",
          "justice/nan",
          "hero/drax",
          "aggression/nan",
          "basic/nan",
          "protection/nan",
          "hero/iron_man",
          "leadership/nan",
          "hero/warm",
          "hero/colossus",
          "hero/ironheart",
          "basic/nan",
          "justice/nan",
          "hero/warm",
          "aggression/nan",
          "hero/phoenix",
          "hero/spider_man_morales",
          "hero/she_hulk",
          "hero/nova",
          "hero/spider_woman",
          "hero/spider_woman",
          "justice/nan",
          "hero/stld",
          "protection/nan",
          "leadership/nan",
          "campaign/mts_campaign",
          "hero/wolverine",
          "protection/nan",
          "protection/nan",
          "hero/vision",
          "justice/nan",
          "leadership/nan",
          "hero/ms_marvel",
          "protection/nan",
          "hero/warlock",
          "hero/warlock",
          "hero/gam",
          "hero/shadowcat",
          "hero/shadowcat",
          "hero/drax",
          "basic/nan",
          "campaign/challenge",
          "campaign/mts_campaign",
          "hero/thor",
          "justice/nan",
          "leadership/nan",
          "campaign/hydra_camp",
          "campaign/shield_tech",
          "hero/groot",
          "leadership/nan",
          "justice/nan",
          "leadership/nan",
          "hero/stld",
          "leadership/nan",
          "leadership/nan",
          "protection/nan",
          "hero/she_hulk",
          "hero/nebu",
          "aggression/nan",
          "hero/storm",
          "hero/thor",
          "hero/nova",
          "basic/nan",
          "hero/hulk",
          "justice/nan",
          "hero/vnm",
          "hero/shadowcat",
          "basic/nan",
          "hero/wolverine",
          "hero/wolverine",
          "basic/nan",
          "aggression/nan",
          "protection/nan",
          "hero/wolverine",
          "basic/nan",
          "hero/colossus",
          "aggression/nan",
          "hero/doctor_strange",
          "hero/scw",
          "hero/doctor_strange",
          "aggression/nan",
          "campaign/mut_gen_campaign",
          "campaign/mut_gen_campaign",
          "campaign/mut_gen_campaign",
          "leadership/nan",
          "leadership/nan",
          "justice/nan",
          "hero/drax",
          "leadership/nan",
          "hero/iron_man",
          "hero/iron_man",
          "aggression/nan",
          "campaign/expcamp",
          "aggression/nan",
          "basic/nan",
          "protection/nan",
          "aggression/nan",
          "justice/nan",
          "leadership/nan",
          "hero/vision",
          "hero/doctor_strange",
          "hero/qsv",
          "aggression/nan",
          "leadership/nan",
          "protection/nan",
          "campaign/expcamp",
          "basic/nan",
          "aggression/nan",
          "hero/phoenix",
          "campaign/peacekeeper",
          "campaign/mut_gen_campaign",
          "leadership/nan",
          "hero/spider_man_morales",
          "hero/phoenix",
          "leadership/nan",
          "hero/warm",
          "justice/nan",
          "hero/thor",
          "hero/hawkeye",
          "basic/nan",
          "basic/nan",
          "hero/gambit",
          "hero/scw",
          "aggression/nan",
          "protection/nan",
          "justice/nan",
          "hero/spectrum",
          "basic/nan",
          "protection/nan",
          "leadership/nan",
          "campaign/the_market",
          "leadership/nan",
          "hero/ms_marvel",
          "hero/nova",
          "hero/vnm",
          "protection/nan",
          "justice/nan",
          "hero/warm",
          "protection/nan",
          "basic/nan",
          "justice/nan",
          "protection/nan",
          "hero/warlock",
          "hero/doctor_strange",
          "hero/wsp",
          "hero/ms_marvel",
          "hero/black_widow",
          "hero/gambit",
          "campaign/the_market",
          "hero/gam",
          "hero/nebu",
          "hero/nebu",
          "protection/nan",
          "protection/nan",
          "hero/ironheart",
          "basic/nan",
          "protection/nan",
          "aggression/nan",
          "campaign/mts_campaign",
          "protection/nan",
          "protection/nan",
          "hero/nova",
          "hero/stld",
          "hero/thor",
          "campaign/community_service",
          "campaign/badoon_headhunter",
          "justice/nan",
          "aggression/nan",
          "hero/she_hulk",
          "campaign/the_market",
          "campaign/mts_campaign",
          "justice/nan",
          "basic/nan",
          "hero/colossus",
          "hero/spiderham",
          "hero/storm",
          "hero/storm",
          "aggression/nan",
          "justice/nan",
          "hero/black_panther",
          "hero/ghost_spider",
          "hero/drax",
          "hero/rocket",
          "justice/nan",
          "leadership/nan",
          "hero/drax",
          "hero/spdr",
          "hero/iron_man",
          "protection/nan",
          "hero/spider_man",
          "hero/spiderham",
          "hero/stld",
          "hero/spiderham",
          "hero/ghost_spider",
          "hero/vision",
          "hero/shadowcat",
          "hero/shadowcat",
          "hero/shadowcat",
          "leadership/spider_woman",
          "hero/cyclops",
          "hero/phoenix",
          "hero/phoenix",
          "hero/phoenix",
          "hero/phoenix",
          "hero/spectrum",
          "hero/ironheart",
          "hero/ironheart",
          "hero/spectrum",
          "hero/captain_marvel",
          "aggression/nan",
          "hero/qsv",
          "protection/nan",
          "protection/nan",
          "hero/wsp",
          "hero/colossus",
          "hero/colossus",
          "hero/warlock",
          "hero/ghost_spider",
          "aggression/nan",
          "justice/nan",
          "leadership/nan",
          "basic/nan",
          "aggression/nan",
          "basic/nan",
          "protection/nan",
          "hero/nova",
          "leadership/nan",
          "leadership/nan",
          "campaign/the_market",
          "hero/spider_man_morales",
          "hero/iron_man",
          "protection/nan",
          "hero/cyclops",
          "aggression/nan",
          "protection/nan",
          "protection/nan",
          "aggression/nan",
          "hero/cyclops",
          "justice/nan",
          "basic/nan",
          "hero/vnm",
          "campaign/shield_tech",
          "hero/ironheart",
          "protection/nan",
          "hero/doctor_strange",
          "protection/nan",
          "aggression/nan",
          "hero/phoenix",
          "leadership/nan",
          "hero/spdr",
          "justice/nan",
          "protection/nan",
          "basic/nan",
          "aggression/nan",
          "campaign/bad_publicity",
          "hero/spectrum",
          "hero/spectrum",
          "basic/nan",
          "leadership/nan",
          "hero/ant",
          "hero/wsp",
          "justice/nan",
          "hero/warlock",
          "justice/nan",
          "hero/shadowcat",
          "aggression/nan",
          "hero/qsv",
          "hero/scw",
          "basic/nan",
          "leadership/nan",
          "leadership/nan",
          "hero/spdr",
          "hero/wsp",
          "leadership/nan",
          "campaign/mut_gen_campaign",
          "campaign/the_market",
          "leadership/nan",
          "basic/nan",
          "basic/nan",
          "basic/nan",
          "hero/ms_marvel",
          "hero/wsp",
          "hero/wolverine",
          "leadership/nan",
          "hero/qsv",
          "leadership/nan",
          "aggression/nan",
          "hero/rocket",
          "hero/gambit",
          "hero/warm",
          "hero/iron_man",
          "protection/nan",
          "campaign/mut_gen_campaign",
          "campaign/peacekeeper",
          "hero/ant",
          "basic/nan",
          "campaign/shield_tech",
          "campaign/mts_campaign",
          "protection/nan",
          "hero/cyclops",
          "hero/ironheart",
          "hero/phoenix",
          "hero/iron_man",
          "hero/rocket",
          "basic/nan",
          "hero/rocket",
          "hero/rocket",
          "protection/nan",
          "hero/gambit",
          "hero/rogue",
          "hero/rogue",
          "leadership/nan",
          "hero/ironheart",
          "hero/groot",
          "hero/gambit",
          "campaign/community_service",
          "hero/cyclops",
          "hero/vnm",
          "justice/nan",
          "basic/nan",
          "hero/spdr",
          "hero/spdr",
          "hero/spdr",
          "hero/black_widow",
          "campaign/the_market",
          "hero/rocket",
          "hero/nova",
          "hero/doctor_strange",
          "hero/vnm",
          "leadership/nan",
          "campaign/mts_campaign",
          "justice/nan",
          "basic/nan",
          "hero/qsv",
          "hero/scw",
          "hero/scw",
          "hero/rocket",
          "hero/warm",
          "hero/ant",
          "hero/cyclops",
          "protection/nan",
          "hero/ironheart",
          "campaign/mts_campaign",
          "campaign/mts_campaign",
          "hero/spider_woman",
          "justice/nan",
          "aggression/nan",
          "hero/qsv",
          "hero/gam",
          "hero/invocation",
          "basic/nan",
          "hero/colossus",
          "hero/shadowcat",
          "hero/shadowcat",
          "protection/nan",
          "campaign/mts_campaign",
          "aggression/nan",
          "hero/she_hulk",
          "hero/captain_america",
          "protection/nan",
          "hero/captain_america",
          "hero/valk",
          "campaign/shield_tech",
          "campaign/commander",
          "hero/warm",
          "hero/ms_marvel",
          "hero/black_panther",
          "basic/nan",
          "protection/nan",
          "basic/nan",
          "protection/nan",
          "justice/nan",
          "aggression/nan",
          "leadership/nan",
          "basic/nan",
          "hero/wolverine",
          "hero/stld",
          "aggression/nan",
          "campaign/bad_publicity",
          "leadership/nan",
          "hero/ms_marvel",
          "campaign/snitches_get_stitches",
          "basic/nan",
          "hero/vision",
          "hero/vision",
          "hero/shadowcat",
          "hero/hawkeye",
          "justice/nan",
          "basic/nan",
          "hero/warlock",
          "hero/rogue",
          "hero/spectrum",
          "justice/nan",
          "hero/qsv",
          "hero/spectrum",
          "hero/spdr",
          "aggression/nan",
          "basic/nan",
          "hero/spiderham",
          "basic/nan",
          "justice/nan",
          "protection/nan",
          "hero/spider_man",
          "hero/spider_man_morales",
          "protection/nan",
          "hero/vnm",
          "protection/nan",
          "hero/spider_man",
          "protection/nan",
          "hero/captain_marvel",
          "justice/nan",
          "hero/spider_woman",
          "basic/nan",
          "hero/she_hulk",
          "justice/nan",
          "leadership/nan",
          "protection/nan",
          "basic/nan",
          "hero/stld",
          "hero/stld",
          "protection/nan",
          "hero/iron_man",
          "justice/nan",
          "hero/colossus",
          "hero/doctor_strange",
          "hero/captain_america",
          "hero/captain_america",
          "leadership/nan",
          "basic/nan",
          "hero/storm",
          "hero/storm",
          "hero/storm",
          "basic/nan",
          "leadership/nan",
          "hero/ironheart",
          "hero/hulk",
          "protection/nan",
          "campaign/mts_campaign",
          "leadership/nan",
          "aggression/nan",
          "hero/captain_america",
          "hero/vision",
          "hero/she_hulk",
          "hero/she_hulk",
          "hero/nova",
          "hero/rogue",
          "hero/iron_man",
          "campaign/the_market",
          "campaign/mut_gen_campaign",
          "aggression/nan",
          "campaign/defender",
          "campaign/peacekeeper",
          "justice/nan",
          "campaign/brawler",
          "campaign/defender",
          "basic/nan",
          "justice/nan",
          "hero/spider_man_morales",
          "hero/spider_man",
          "hero/spiderham",
          "basic/nan",
          "hero/black_widow",
          "campaign/mts_campaign",
          "hero/black_panther",
          "aggression/nan",
          "protection/nan",
          "hero/cyclops",
          "hero/black_panther",
          "campaign/hydra_camp",
          "campaign/the_market",
          "basic/nan",
          "leadership/nan",
          "hero/warm",
          "campaign/the_market",
          "aggression/nan",
          "leadership/nan",
          "basic/nan",
          "leadership/nan",
          "hero/phoenix",
          "hero/phoenix",
          "hero/phoenix",
          "basic/nan",
          "aggression/nan",
          "basic/nan",
          "hero/spiderham",
          "hero/doctor_strange",
          "protection/nan",
          "hero/black_panther",
          "aggression/nan",
          "protection/nan",
          "basic/nan",
          "aggression/nan",
          "justice/nan",
          "leadership/nan",
          "protection/nan",
          "basic/nan",
          "hero/gambit",
          "leadership/nan",
          "basic/nan",
          "aggression/nan",
          "hero/thor",
          "hero/thor",
          "aggression/nan",
          "hero/rocket",
          "hero/hulk",
          "hero/weather",
          "protection/nan",
          "hero/ghost_spider",
          "aggression/nan",
          "hero/colossus",
          "basic/nan",
          "aggression/nan",
          "hero/iron_man",
          "hero/ironheart",
          "hero/drax",
          "hero/storm",
          "hero/rogue",
          "hero/wolverine",
          "campaign/the_market",
          "campaign/the_market",
          "protection/nan",
          "justice/nan",
          "basic/nan",
          "leadership/nan",
          "leadership/nan",
          "justice/nan",
          "protection/nan",
          "leadership/nan",
          "hero/nova",
          "basic/nan",
          "hero/hulk",
          "hero/nebu",
          "hero/warm",
          "aggression/nan",
          "basic/nan",
          "hero/spdr",
          "hero/valk",
          "aggression/nan",
          "hero/valk",
          "hero/valk",
          "hero/invocation",
          "basic/nan",
          "justice/nan",
          "hero/vnm",
          "aggression/spider_woman",
          "hero/vnm",
          "hero/black_panther",
          "hero/hawkeye",
          "hero/black_panther",
          "protection/nan",
          "justice/nan",
          "hero/groot",
          "hero/groot",
          "leadership/nan",
          "hero/vision",
          "hero/vision",
          "hero/valk",
          "basic/nan",
          "hero/vision",
          "campaign/mts_campaign",
          "hero/black_panther",
          "hero/scw",
          "campaign/brawler",
          "hero/iron_man",
          "basic/nan",
          "hero/warm",
          "aggression/nan",
          "protection/nan",
          "hero/warlock",
          "basic/nan",
          "hero/scw",
          "aggression/nan",
          "basic/nan",
          "hero/ant",
          "aggression/nan",
          "justice/nan",
          "hero/wsp",
          "hero/wsp",
          "hero/wsp",
          "campaign/shield_tech",
          "basic/nan",
          "hero/nebu",
          "hero/storm",
          "hero/ghost_spider",
          "basic/nan",
          "hero/ghost_spider",
          "hero/spdr",
          "hero/spider_man",
          "hero/spider_man_morales",
          "hero/spider_man_morales",
          "hero/spdr",
          "hero/spider_man",
          "protection/nan",
          "hero/phoenix",
          "leadership/nan",
          "justice/nan",
          "hero/nebu",
          "hero/black_widow",
          "hero/ms_marvel",
          "hero/invocation",
          "campaign/the_market",
          "hero/black_widow",
          "aggression/nan",
          "hero/wolverine",
          "hero/wolverine",
          "leadership/nan",
          "hero/doctor_strange",
          "justice/nan",
          "hero/ant",
          "campaign/shield_tech",
          "basic/nan",
          "basic/nan",
          "basic/nan",
          "justice/nan",
          "leadership/nan",
          "basic/nan",
          "campaign/expcamp",
          "justice/nan",
          "hero",
          "campaign",
          "campaign",
          "hero",
          "hero",
          "campaign",
          "hero",
          "hero",
          "campaign",
          "hero",
          "campaign",
          "campaign",
          "hero",
          "campaign",
          "hero",
          "hero",
          "campaign",
          "hero",
          "hero",
          "hero",
          "hero",
          "hero",
          "hero",
          "campaign",
          "hero",
          "hero",
          "hero",
          "hero",
          "campaign",
          "campaign",
          "aggression",
          "basic",
          "justice",
          "leadership",
          "protection",
          "hero",
          "hero",
          "campaign",
          "hero",
          "hero",
          "hero",
          "hero",
          "hero",
          "hero",
          "hero",
          "campaign",
          "campaign",
          "hero",
          "hero",
          "hero",
          "hero",
          "aggression",
          "hero",
          "justice",
          "leadership",
          "protection",
          "hero",
          "hero",
          "hero",
          "campaign",
          "hero",
          "hero",
          "hero",
          "hero",
          "hero",
          "hero",
          "hero",
          "hero",
          "hero",
          "",
          "",
          "",
          "",
          "",
          "",
          ""
         ],
         "type": "sunburst",
         "values": [
          1,
          1,
          1,
          1,
          1,
          1,
          1,
          2,
          1,
          1,
          1,
          1,
          1,
          1,
          1,
          1,
          1,
          1,
          1,
          1,
          2,
          1,
          1,
          1,
          1,
          1,
          1,
          1,
          1,
          1,
          1,
          1,
          1,
          1,
          1,
          1,
          1,
          1,
          1,
          1,
          1,
          2,
          1,
          1,
          1,
          1,
          1,
          1,
          1,
          1,
          1,
          1,
          1,
          1,
          1,
          1,
          1,
          1,
          1,
          1,
          1,
          1,
          1,
          1,
          1,
          1,
          1,
          1,
          1,
          1,
          1,
          1,
          1,
          2,
          1,
          1,
          1,
          1,
          1,
          1,
          1,
          1,
          1,
          1,
          2,
          1,
          1,
          1,
          1,
          1,
          1,
          1,
          1,
          1,
          1,
          1,
          1,
          1,
          1,
          1,
          1,
          1,
          1,
          1,
          1,
          1,
          1,
          1,
          1,
          1,
          1,
          1,
          1,
          1,
          1,
          1,
          1,
          1,
          1,
          1,
          1,
          1,
          1,
          1,
          1,
          1,
          1,
          1,
          1,
          1,
          1,
          1,
          1,
          1,
          1,
          1,
          1,
          1,
          1,
          1,
          1,
          1,
          1,
          1,
          1,
          1,
          1,
          1,
          1,
          1,
          1,
          1,
          1,
          1,
          1,
          1,
          1,
          1,
          1,
          1,
          1,
          1,
          1,
          1,
          1,
          1,
          1,
          1,
          1,
          1,
          1,
          1,
          1,
          1,
          1,
          2,
          1,
          1,
          1,
          1,
          1,
          1,
          1,
          1,
          1,
          1,
          1,
          1,
          1,
          1,
          1,
          1,
          1,
          1,
          1,
          1,
          1,
          1,
          1,
          1,
          1,
          1,
          1,
          1,
          1,
          1,
          1,
          1,
          1,
          1,
          1,
          1,
          1,
          1,
          1,
          1,
          1,
          1,
          1,
          1,
          1,
          1,
          1,
          1,
          1,
          1,
          1,
          1,
          1,
          1,
          1,
          1,
          1,
          1,
          1,
          1,
          1,
          1,
          1,
          1,
          1,
          2,
          1,
          1,
          1,
          1,
          1,
          1,
          1,
          1,
          1,
          1,
          1,
          1,
          1,
          1,
          1,
          2,
          1,
          1,
          1,
          1,
          1,
          1,
          1,
          1,
          1,
          1,
          1,
          1,
          1,
          1,
          1,
          1,
          1,
          1,
          1,
          1,
          1,
          1,
          1,
          1,
          1,
          1,
          2,
          1,
          1,
          1,
          1,
          1,
          1,
          1,
          1,
          1,
          1,
          1,
          1,
          1,
          1,
          1,
          1,
          1,
          1,
          1,
          1,
          1,
          1,
          1,
          1,
          1,
          1,
          1,
          1,
          1,
          1,
          1,
          1,
          1,
          1,
          1,
          1,
          1,
          1,
          2,
          1,
          1,
          1,
          1,
          1,
          1,
          1,
          1,
          2,
          1,
          1,
          1,
          1,
          1,
          1,
          1,
          1,
          1,
          1,
          1,
          1,
          1,
          1,
          1,
          1,
          1,
          1,
          1,
          1,
          1,
          1,
          1,
          1,
          1,
          1,
          1,
          1,
          1,
          1,
          1,
          1,
          1,
          2,
          1,
          1,
          1,
          1,
          2,
          1,
          1,
          1,
          1,
          1,
          1,
          1,
          1,
          1,
          1,
          1,
          1,
          1,
          2,
          1,
          1,
          1,
          1,
          1,
          1,
          1,
          1,
          1,
          1,
          1,
          1,
          1,
          1,
          1,
          1,
          1,
          1,
          1,
          1,
          1,
          1,
          1,
          1,
          1,
          1,
          1,
          1,
          1,
          1,
          1,
          1,
          1,
          1,
          1,
          1,
          2,
          1,
          1,
          1,
          1,
          1,
          1,
          1,
          1,
          1,
          1,
          1,
          1,
          1,
          1,
          1,
          1,
          1,
          1,
          1,
          1,
          1,
          1,
          1,
          1,
          1,
          1,
          3,
          1,
          1,
          1,
          1,
          1,
          1,
          1,
          1,
          1,
          1,
          1,
          1,
          1,
          1,
          1,
          1,
          1,
          1,
          1,
          1,
          1,
          1,
          1,
          1,
          1,
          1,
          1,
          1,
          1,
          1,
          2,
          1,
          1,
          1,
          1,
          1,
          2,
          1,
          1,
          1,
          1,
          1,
          1,
          1,
          1,
          1,
          1,
          1,
          1,
          1,
          1,
          1,
          1,
          1,
          1,
          1,
          1,
          1,
          1,
          1,
          1,
          1,
          1,
          1,
          1,
          1,
          1,
          1,
          1,
          1,
          1,
          1,
          1,
          1,
          1,
          1,
          1,
          1,
          1,
          1,
          1,
          1,
          1,
          1,
          1,
          1,
          1,
          1,
          1,
          1,
          1,
          2,
          1,
          1,
          1,
          1,
          1,
          1,
          1,
          1,
          1,
          1,
          1,
          1,
          1,
          1,
          1,
          1,
          1,
          1,
          1,
          1,
          1,
          1,
          1,
          1,
          1,
          1,
          1,
          1,
          1,
          1,
          1,
          1,
          1,
          1,
          1,
          1,
          1,
          1,
          1,
          1,
          1,
          1,
          1,
          1,
          1,
          1,
          1,
          2,
          1,
          1,
          1,
          1,
          1,
          1,
          1,
          2,
          1,
          1,
          1,
          1,
          1,
          1,
          1,
          1,
          1,
          1,
          1,
          1,
          1,
          1,
          1,
          1,
          1,
          1,
          1,
          1,
          1,
          1,
          1,
          1,
          1,
          1,
          1,
          1,
          1,
          2,
          1,
          1,
          1,
          1,
          1,
          1,
          1,
          1,
          1,
          1,
          1,
          1,
          1,
          2,
          1,
          1,
          1,
          1,
          1,
          1,
          1,
          1,
          1,
          1,
          1,
          1,
          1,
          1,
          1,
          1,
          1,
          1,
          1,
          1,
          1,
          1,
          1,
          1,
          1,
          1,
          1,
          1,
          1,
          1,
          1,
          1,
          1,
          1,
          1,
          1,
          1,
          1,
          2,
          1,
          1,
          1,
          1,
          1,
          1,
          1,
          1,
          1,
          1,
          1,
          1,
          2,
          1,
          1,
          1,
          1,
          1,
          1,
          1,
          1,
          1,
          1,
          1,
          1,
          1,
          1,
          1,
          1,
          1,
          1,
          1,
          1,
          1,
          1,
          2,
          1,
          1,
          1,
          1,
          1,
          1,
          1,
          1,
          1,
          1,
          1,
          1,
          1,
          1,
          1,
          1,
          1,
          1,
          2,
          1,
          1,
          1,
          3,
          1,
          1,
          1,
          1,
          2,
          1,
          1,
          1,
          1,
          1,
          1,
          1,
          1,
          1,
          1,
          1,
          1,
          1,
          1,
          1,
          1,
          2,
          1,
          1,
          1,
          1,
          1,
          1,
          1,
          1,
          1,
          1,
          1,
          1,
          1,
          1,
          1,
          1,
          1,
          1,
          1,
          1,
          1,
          1,
          1,
          1,
          1,
          1,
          1,
          1,
          1,
          1,
          1,
          1,
          1,
          1,
          1,
          1,
          1,
          1,
          1,
          2,
          1,
          1,
          1,
          1,
          1,
          1,
          1,
          1,
          1,
          1,
          1,
          1,
          1,
          1,
          1,
          1,
          1,
          1,
          1,
          1,
          1,
          1,
          1,
          1,
          1,
          1,
          1,
          1,
          1,
          1,
          1,
          1,
          1,
          1,
          1,
          1,
          4,
          2,
          1,
          1,
          1,
          1,
          1,
          1,
          1,
          1,
          1,
          1,
          1,
          1,
          1,
          1,
          1,
          1,
          1,
          1,
          1,
          1,
          1,
          1,
          1,
          1,
          1,
          1,
          1,
          1,
          1,
          1,
          1,
          1,
          1,
          1,
          1,
          1,
          1,
          1,
          1,
          1,
          1,
          1,
          1,
          1,
          1,
          1,
          1,
          1,
          1,
          1,
          1,
          1,
          1,
          1,
          2,
          1,
          1,
          1,
          1,
          1,
          1,
          1,
          1,
          1,
          1,
          1,
          1,
          1,
          1,
          1,
          1,
          1,
          1,
          1,
          1,
          1,
          1,
          1,
          1,
          1,
          1,
          1,
          1,
          1,
          1,
          1,
          1,
          1,
          1,
          1,
          1,
          1,
          1,
          1,
          1,
          1,
          1,
          1,
          2,
          1,
          1,
          1,
          1,
          1,
          1,
          1,
          1,
          1,
          1,
          1,
          1,
          1,
          1,
          1,
          1,
          1,
          1,
          1,
          1,
          1,
          1,
          1,
          1,
          1,
          1,
          1,
          1,
          1,
          1,
          1,
          1,
          1,
          1,
          1,
          1,
          1,
          1,
          1,
          1,
          1,
          1,
          1,
          1,
          1,
          1,
          1,
          1,
          1,
          1,
          1,
          1,
          1,
          1,
          2,
          1,
          1,
          1,
          1,
          1,
          4,
          1,
          1,
          1,
          1,
          1,
          1,
          1,
          1,
          1,
          1,
          1,
          1,
          1,
          1,
          1,
          2,
          1,
          1,
          2,
          1,
          1,
          1,
          1,
          1,
          1,
          1,
          1,
          1,
          1,
          1,
          1,
          1,
          1,
          1,
          1,
          1,
          1,
          1,
          1,
          1,
          1,
          1,
          1,
          1,
          1,
          1,
          1,
          1,
          2,
          1,
          1,
          1,
          1,
          1,
          1,
          1,
          1,
          12,
          3,
          5,
          14,
          11,
          5,
          11,
          10,
          10,
          11,
          5,
          5,
          11,
          5,
          12,
          12,
          4,
          11,
          11,
          10,
          12,
          11,
          11,
          12,
          5,
          12,
          16,
          12,
          20,
          10,
          85,
          125,
          75,
          88,
          87,
          11,
          10,
          5,
          15,
          12,
          12,
          10,
          10,
          13,
          11,
          16,
          1,
          15,
          11,
          10,
          11,
          1,
          6,
          1,
          1,
          1,
          12,
          11,
          10,
          28,
          11,
          13,
          13,
          11,
          11,
          12,
          4,
          13,
          12,
          86,
          125,
          134,
          505,
          76,
          89,
          88
         ]
        }
       ],
       "layout": {
        "height": 800,
        "legend": {
         "tracegroupgap": 0
        },
        "sunburstcolorway": [
         "tan",
         "orange",
         "lightgrey",
         "lightskyblue",
         "limegreen",
         "crimson",
         "gold"
        ],
        "template": {
         "data": {
          "bar": [
           {
            "error_x": {
             "color": "#2a3f5f"
            },
            "error_y": {
             "color": "#2a3f5f"
            },
            "marker": {
             "line": {
              "color": "#E5ECF6",
              "width": 0.5
             },
             "pattern": {
              "fillmode": "overlay",
              "size": 10,
              "solidity": 0.2
             }
            },
            "type": "bar"
           }
          ],
          "barpolar": [
           {
            "marker": {
             "line": {
              "color": "#E5ECF6",
              "width": 0.5
             },
             "pattern": {
              "fillmode": "overlay",
              "size": 10,
              "solidity": 0.2
             }
            },
            "type": "barpolar"
           }
          ],
          "carpet": [
           {
            "aaxis": {
             "endlinecolor": "#2a3f5f",
             "gridcolor": "white",
             "linecolor": "white",
             "minorgridcolor": "white",
             "startlinecolor": "#2a3f5f"
            },
            "baxis": {
             "endlinecolor": "#2a3f5f",
             "gridcolor": "white",
             "linecolor": "white",
             "minorgridcolor": "white",
             "startlinecolor": "#2a3f5f"
            },
            "type": "carpet"
           }
          ],
          "choropleth": [
           {
            "colorbar": {
             "outlinewidth": 0,
             "ticks": ""
            },
            "type": "choropleth"
           }
          ],
          "contour": [
           {
            "colorbar": {
             "outlinewidth": 0,
             "ticks": ""
            },
            "colorscale": [
             [
              0,
              "#0d0887"
             ],
             [
              0.1111111111111111,
              "#46039f"
             ],
             [
              0.2222222222222222,
              "#7201a8"
             ],
             [
              0.3333333333333333,
              "#9c179e"
             ],
             [
              0.4444444444444444,
              "#bd3786"
             ],
             [
              0.5555555555555556,
              "#d8576b"
             ],
             [
              0.6666666666666666,
              "#ed7953"
             ],
             [
              0.7777777777777778,
              "#fb9f3a"
             ],
             [
              0.8888888888888888,
              "#fdca26"
             ],
             [
              1,
              "#f0f921"
             ]
            ],
            "type": "contour"
           }
          ],
          "contourcarpet": [
           {
            "colorbar": {
             "outlinewidth": 0,
             "ticks": ""
            },
            "type": "contourcarpet"
           }
          ],
          "heatmap": [
           {
            "colorbar": {
             "outlinewidth": 0,
             "ticks": ""
            },
            "colorscale": [
             [
              0,
              "#0d0887"
             ],
             [
              0.1111111111111111,
              "#46039f"
             ],
             [
              0.2222222222222222,
              "#7201a8"
             ],
             [
              0.3333333333333333,
              "#9c179e"
             ],
             [
              0.4444444444444444,
              "#bd3786"
             ],
             [
              0.5555555555555556,
              "#d8576b"
             ],
             [
              0.6666666666666666,
              "#ed7953"
             ],
             [
              0.7777777777777778,
              "#fb9f3a"
             ],
             [
              0.8888888888888888,
              "#fdca26"
             ],
             [
              1,
              "#f0f921"
             ]
            ],
            "type": "heatmap"
           }
          ],
          "heatmapgl": [
           {
            "colorbar": {
             "outlinewidth": 0,
             "ticks": ""
            },
            "colorscale": [
             [
              0,
              "#0d0887"
             ],
             [
              0.1111111111111111,
              "#46039f"
             ],
             [
              0.2222222222222222,
              "#7201a8"
             ],
             [
              0.3333333333333333,
              "#9c179e"
             ],
             [
              0.4444444444444444,
              "#bd3786"
             ],
             [
              0.5555555555555556,
              "#d8576b"
             ],
             [
              0.6666666666666666,
              "#ed7953"
             ],
             [
              0.7777777777777778,
              "#fb9f3a"
             ],
             [
              0.8888888888888888,
              "#fdca26"
             ],
             [
              1,
              "#f0f921"
             ]
            ],
            "type": "heatmapgl"
           }
          ],
          "histogram": [
           {
            "marker": {
             "pattern": {
              "fillmode": "overlay",
              "size": 10,
              "solidity": 0.2
             }
            },
            "type": "histogram"
           }
          ],
          "histogram2d": [
           {
            "colorbar": {
             "outlinewidth": 0,
             "ticks": ""
            },
            "colorscale": [
             [
              0,
              "#0d0887"
             ],
             [
              0.1111111111111111,
              "#46039f"
             ],
             [
              0.2222222222222222,
              "#7201a8"
             ],
             [
              0.3333333333333333,
              "#9c179e"
             ],
             [
              0.4444444444444444,
              "#bd3786"
             ],
             [
              0.5555555555555556,
              "#d8576b"
             ],
             [
              0.6666666666666666,
              "#ed7953"
             ],
             [
              0.7777777777777778,
              "#fb9f3a"
             ],
             [
              0.8888888888888888,
              "#fdca26"
             ],
             [
              1,
              "#f0f921"
             ]
            ],
            "type": "histogram2d"
           }
          ],
          "histogram2dcontour": [
           {
            "colorbar": {
             "outlinewidth": 0,
             "ticks": ""
            },
            "colorscale": [
             [
              0,
              "#0d0887"
             ],
             [
              0.1111111111111111,
              "#46039f"
             ],
             [
              0.2222222222222222,
              "#7201a8"
             ],
             [
              0.3333333333333333,
              "#9c179e"
             ],
             [
              0.4444444444444444,
              "#bd3786"
             ],
             [
              0.5555555555555556,
              "#d8576b"
             ],
             [
              0.6666666666666666,
              "#ed7953"
             ],
             [
              0.7777777777777778,
              "#fb9f3a"
             ],
             [
              0.8888888888888888,
              "#fdca26"
             ],
             [
              1,
              "#f0f921"
             ]
            ],
            "type": "histogram2dcontour"
           }
          ],
          "mesh3d": [
           {
            "colorbar": {
             "outlinewidth": 0,
             "ticks": ""
            },
            "type": "mesh3d"
           }
          ],
          "parcoords": [
           {
            "line": {
             "colorbar": {
              "outlinewidth": 0,
              "ticks": ""
             }
            },
            "type": "parcoords"
           }
          ],
          "pie": [
           {
            "automargin": true,
            "type": "pie"
           }
          ],
          "scatter": [
           {
            "marker": {
             "colorbar": {
              "outlinewidth": 0,
              "ticks": ""
             }
            },
            "type": "scatter"
           }
          ],
          "scatter3d": [
           {
            "line": {
             "colorbar": {
              "outlinewidth": 0,
              "ticks": ""
             }
            },
            "marker": {
             "colorbar": {
              "outlinewidth": 0,
              "ticks": ""
             }
            },
            "type": "scatter3d"
           }
          ],
          "scattercarpet": [
           {
            "marker": {
             "colorbar": {
              "outlinewidth": 0,
              "ticks": ""
             }
            },
            "type": "scattercarpet"
           }
          ],
          "scattergeo": [
           {
            "marker": {
             "colorbar": {
              "outlinewidth": 0,
              "ticks": ""
             }
            },
            "type": "scattergeo"
           }
          ],
          "scattergl": [
           {
            "marker": {
             "colorbar": {
              "outlinewidth": 0,
              "ticks": ""
             }
            },
            "type": "scattergl"
           }
          ],
          "scattermapbox": [
           {
            "marker": {
             "colorbar": {
              "outlinewidth": 0,
              "ticks": ""
             }
            },
            "type": "scattermapbox"
           }
          ],
          "scatterpolar": [
           {
            "marker": {
             "colorbar": {
              "outlinewidth": 0,
              "ticks": ""
             }
            },
            "type": "scatterpolar"
           }
          ],
          "scatterpolargl": [
           {
            "marker": {
             "colorbar": {
              "outlinewidth": 0,
              "ticks": ""
             }
            },
            "type": "scatterpolargl"
           }
          ],
          "scatterternary": [
           {
            "marker": {
             "colorbar": {
              "outlinewidth": 0,
              "ticks": ""
             }
            },
            "type": "scatterternary"
           }
          ],
          "surface": [
           {
            "colorbar": {
             "outlinewidth": 0,
             "ticks": ""
            },
            "colorscale": [
             [
              0,
              "#0d0887"
             ],
             [
              0.1111111111111111,
              "#46039f"
             ],
             [
              0.2222222222222222,
              "#7201a8"
             ],
             [
              0.3333333333333333,
              "#9c179e"
             ],
             [
              0.4444444444444444,
              "#bd3786"
             ],
             [
              0.5555555555555556,
              "#d8576b"
             ],
             [
              0.6666666666666666,
              "#ed7953"
             ],
             [
              0.7777777777777778,
              "#fb9f3a"
             ],
             [
              0.8888888888888888,
              "#fdca26"
             ],
             [
              1,
              "#f0f921"
             ]
            ],
            "type": "surface"
           }
          ],
          "table": [
           {
            "cells": {
             "fill": {
              "color": "#EBF0F8"
             },
             "line": {
              "color": "white"
             }
            },
            "header": {
             "fill": {
              "color": "#C8D4E3"
             },
             "line": {
              "color": "white"
             }
            },
            "type": "table"
           }
          ]
         },
         "layout": {
          "annotationdefaults": {
           "arrowcolor": "#2a3f5f",
           "arrowhead": 0,
           "arrowwidth": 1
          },
          "autotypenumbers": "strict",
          "coloraxis": {
           "colorbar": {
            "outlinewidth": 0,
            "ticks": ""
           }
          },
          "colorscale": {
           "diverging": [
            [
             0,
             "#8e0152"
            ],
            [
             0.1,
             "#c51b7d"
            ],
            [
             0.2,
             "#de77ae"
            ],
            [
             0.3,
             "#f1b6da"
            ],
            [
             0.4,
             "#fde0ef"
            ],
            [
             0.5,
             "#f7f7f7"
            ],
            [
             0.6,
             "#e6f5d0"
            ],
            [
             0.7,
             "#b8e186"
            ],
            [
             0.8,
             "#7fbc41"
            ],
            [
             0.9,
             "#4d9221"
            ],
            [
             1,
             "#276419"
            ]
           ],
           "sequential": [
            [
             0,
             "#0d0887"
            ],
            [
             0.1111111111111111,
             "#46039f"
            ],
            [
             0.2222222222222222,
             "#7201a8"
            ],
            [
             0.3333333333333333,
             "#9c179e"
            ],
            [
             0.4444444444444444,
             "#bd3786"
            ],
            [
             0.5555555555555556,
             "#d8576b"
            ],
            [
             0.6666666666666666,
             "#ed7953"
            ],
            [
             0.7777777777777778,
             "#fb9f3a"
            ],
            [
             0.8888888888888888,
             "#fdca26"
            ],
            [
             1,
             "#f0f921"
            ]
           ],
           "sequentialminus": [
            [
             0,
             "#0d0887"
            ],
            [
             0.1111111111111111,
             "#46039f"
            ],
            [
             0.2222222222222222,
             "#7201a8"
            ],
            [
             0.3333333333333333,
             "#9c179e"
            ],
            [
             0.4444444444444444,
             "#bd3786"
            ],
            [
             0.5555555555555556,
             "#d8576b"
            ],
            [
             0.6666666666666666,
             "#ed7953"
            ],
            [
             0.7777777777777778,
             "#fb9f3a"
            ],
            [
             0.8888888888888888,
             "#fdca26"
            ],
            [
             1,
             "#f0f921"
            ]
           ]
          },
          "colorway": [
           "#636efa",
           "#EF553B",
           "#00cc96",
           "#ab63fa",
           "#FFA15A",
           "#19d3f3",
           "#FF6692",
           "#B6E880",
           "#FF97FF",
           "#FECB52"
          ],
          "font": {
           "color": "#2a3f5f"
          },
          "geo": {
           "bgcolor": "white",
           "lakecolor": "white",
           "landcolor": "#E5ECF6",
           "showlakes": true,
           "showland": true,
           "subunitcolor": "white"
          },
          "hoverlabel": {
           "align": "left"
          },
          "hovermode": "closest",
          "mapbox": {
           "style": "light"
          },
          "paper_bgcolor": "white",
          "plot_bgcolor": "#E5ECF6",
          "polar": {
           "angularaxis": {
            "gridcolor": "white",
            "linecolor": "white",
            "ticks": ""
           },
           "bgcolor": "#E5ECF6",
           "radialaxis": {
            "gridcolor": "white",
            "linecolor": "white",
            "ticks": ""
           }
          },
          "scene": {
           "xaxis": {
            "backgroundcolor": "#E5ECF6",
            "gridcolor": "white",
            "gridwidth": 2,
            "linecolor": "white",
            "showbackground": true,
            "ticks": "",
            "zerolinecolor": "white"
           },
           "yaxis": {
            "backgroundcolor": "#E5ECF6",
            "gridcolor": "white",
            "gridwidth": 2,
            "linecolor": "white",
            "showbackground": true,
            "ticks": "",
            "zerolinecolor": "white"
           },
           "zaxis": {
            "backgroundcolor": "#E5ECF6",
            "gridcolor": "white",
            "gridwidth": 2,
            "linecolor": "white",
            "showbackground": true,
            "ticks": "",
            "zerolinecolor": "white"
           }
          },
          "shapedefaults": {
           "line": {
            "color": "#2a3f5f"
           }
          },
          "ternary": {
           "aaxis": {
            "gridcolor": "white",
            "linecolor": "white",
            "ticks": ""
           },
           "baxis": {
            "gridcolor": "white",
            "linecolor": "white",
            "ticks": ""
           },
           "bgcolor": "#E5ECF6",
           "caxis": {
            "gridcolor": "white",
            "linecolor": "white",
            "ticks": ""
           }
          },
          "title": {
           "x": 0.05
          },
          "xaxis": {
           "automargin": true,
           "gridcolor": "white",
           "linecolor": "white",
           "ticks": "",
           "title": {
            "standoff": 15
           },
           "zerolinecolor": "white",
           "zerolinewidth": 2
          },
          "yaxis": {
           "automargin": true,
           "gridcolor": "white",
           "linecolor": "white",
           "ticks": "",
           "title": {
            "standoff": 15
           },
           "zerolinecolor": "white",
           "zerolinewidth": 2
          }
         }
        },
        "title": {
         "text": "Sunburst - Aspect, Set"
        },
        "width": 1000
       }
      },
      "image/png": "[encoded data removed]",
      "text/html": [
       "<div>                            <div id=\"0e4a30d7-8c4d-4cc4-9c32-0a908c0f3ddb\" class=\"plotly-graph-div\" style=\"height:800px; width:1000px;\"></div>            <script type=\"text/javascript\">                require([\"plotly\"], function(Plotly) {                    window.PLOTLYENV=window.PLOTLYENV || {};                                    if (document.getElementById(\"0e4a30d7-8c4d-4cc4-9c32-0a908c0f3ddb\")) {                    Plotly.newPlot(                        \"0e4a30d7-8c4d-4cc4-9c32-0a908c0f3ddb\",                        [{\"branchvalues\":\"total\",\"customdata\":[[0,\"Max 1 per phase.\\n<b>Hero Action</b>: Draw 1 card for each minion engaged with you.\"],[0,\"<b>Hero Action</b>: Ready your hero and draw 1 card. The villain attacks you.\"],[3,\"Max 1 per deck.\\nPlay only if your identity has the [[champion]] trait.\\n<b>Hero Action</b>: Each [[champion]] character in play cannot take damage until the end of the round.\"],[1,\"<b>Hero Interrupt:</b> When you reveal a card from the encounter deck, remove 1 toon counter from Spider-Ham \\u2192 say \\\"I don't think so!\\\" in your best Spider-Ham voice. Cancel the effects of that card and discard it.\"],[4,\"<b>Interrupt</b>: When you would be defeated by an enemy attack, instead set your hit point dial to 5, ready your identity, and discard this card.\"],[3,\"<b>Hero Action</b> <i>(thwart)</i>: Remove threat from a scheme equal to the number of growth counters on Groot.\"],[2,\"<b>Hero Action</b> <i>(attack)</i>: Deal damage to an enemy equal to the number of growth counters on Groot.\"],[0,\"(?)\"],[1,\"Play only if your identity has the [[guardian]] trait.\\n<b>Hero Action</b>: Take 1 damage. Confuse the villain.\"],[1,\"Play only if your identity has the [[X-MEN]] trait.\\n<b>Hero Action</b>: Search the top 5 cards of your deck for an [[X-MEN]] ally and put it into play. If that ally is still in play at the end of the phase, add it to your hand.\"],[1,\"<b>Hero Action</b>: Remove up to 4 growth counters from Groot \\u2192 choose that many friendly characters. Give each of those characters a tough status card.\"],[0,\"Play only if your identity has the [[guardian]] trait. Max 1 per round.\\n<b>Hero Action</b>: Reduce the resource cost of the next ally played this phase by 2.\"],[1,\"<b>Hero Response</b> <i>(thwart)</i>: After the villain attacks you, remove 1 threat from a scheme for each damage you took from the attack (to a maximum of 5).\"],[1,\"<b>Alter-Ego Action:</b> Exhaust this card \\u2192 search your deck and discard pile for an [[Android]] ally and add it to your hand. <i>(Shuffle.)</i>\"],[1,\"<b>Alter-Ego Action</b>: Exhaust Aamir Khan \\u2192 place 1 card from your discard pile on the bottom of your deck, then draw 1 card.\"],[2,\"Quicksilver gets +1 DEF.\"],[0,\"<b>Hero Action</b> <i>(attack)</i>: Deal 2 damage to an enemy.\"],[2,\"Max 1 per deck.\\n<b>Hero Action</b>: Exhaust a [[Web-Warrior]] card you control \\u2192 search your discard pile for a [[Web-Warrior]] ally and put it into play, then choose a player. That player may spend 3 resources of any type to repeat this ability.\"],[1,\"<b>Hero Response</b>: After you ignore the guard or patrol keyword on a minion, exhaust Acute Control \\u2192 deal 2 damage to that minion.\"],[3,\"<b>Response:</b> After Adam Warlock attacks or thwarts, discard 1 card at random from your hand. If that card's printed resource has:\\n[physical] - Remove 3 threat from a scheme.\\n[energy] - Heal 3 damage from an identity\\n[mental] - Deal 3 damage to an enemy\\n[wild] - Choose one of the above.\"],[0,\"(?)\"],[2,\"You get +4 hit points.\\nWolverine gets +1 ATK and his basic attacks gain piercing.\"],[0,\"Setup.\\n<b>Hero Action:</b> Discard this card and remove it from the campaign log \\u2192 ready your hero and heal 5 damage from them.\"],[1,\"<b>Hero Action</b>: Discard Adrenaline Rush \\u2192 your hero gets +1 ATK until the end of the phase.\"],[1,\"<b>Alter-Ego Action:</b> Exhaust Agatha Harkness \\u2192 look at the top 3 cards of your deck. Add 1 of those to your hand and place the rest on the bottom of your deck in any order.\"],[3,\"<b>Response</b>: After Agent 13 enters play, remove 2 threat from a scheme.\"],[4,\"[star] <b>Response</b>: After Agent 13 attacks or thwarts, choose a [[S.H.I.E.L.D.]] support \\u2192 ready that support.\"],[3,\"<b>Response</b>: After Agent Coulson enters play, search your deck and discard pile for a [[Preparation]] card and add it to your hand. Shuffle your deck.\"],[0,\"Max 2 per deck.\\n<b>Hero Interrupt</b>: When you spend this card to play a [[Attack]] event, that event deals 1 additional damage.\"],[3,\"Play only if your identity has the [[aerial]] trait.\\n<b>Hero Action</b> <i>(thwart)</i>: Remove a total of up to 5 threat from among schemes (as you choose).\"],[2,\"<b>Hero Action</b>: Choose up to X enemies, where X is equal to the number of [[aerial]] characters you control \\u2192 deal 3 damage to each chosen enemy.\"],[1,\"<b>Hero Action</b> <i>(thwart)</i>: Remove 2 threat from a scheme (4 threat instead if you are in Phased mass form).\"],[1,\"<b>Hero Action:</b> Choose:\\n- Ready each [[Interface]] upgrade you control.\\n- Search your deck and discard pile for an [[Interface]] upgrade and add it to your hand. (Shuffle.)\"],[2,\"<b>Hero Action</b> <i>(attack)</i>: Deal 3 damage to an enemy and exhaust any number of [[Avenger]] characters you control. Deal 1 additional damage to that enemy for each character exhausted this way.\"],[1,\"<b>Action</b>: Exhaust Alpha Flight Station, choose and discard 1 card from your hand \\u2192 draw 1 card (draw 2 cards instead if you are Carol Danvers).\"],[1,\"<b>Hero Action:</b> Ready Quicksilver.\"],[1,\"<b>Alter-Ego Action</b>: Choose up to 3 different cards in your discard pile and shuffle them into your deck.\"],[3,\"Reduce the cost to play Angel by 1 if your identity has the [[MUTANT]] or [[X-MEN]] trait.\"],[0,\"<b>Forced Response:</b> After Angela enters play under your control, search the top 10 cards of the encounter deck for a minion and put it into play engaged with you. Shuffle the encounter deck. If a minion was not put into play this way, discard Angela.\"],[0,\"<b>Setup</b>: Set your Touched upgrade aside.\\n<i>Withdrawn</i> \\u2212 <b>Forced Response</b>: After you change to this form, set Touched aside.\"],[2,\"<b>Alter-Ego Action</b>: Exhaust Annabelle Riggs \\u2192 search the top 5 cards of your deck for a Valkyrie card and add it to your hand. Shuffle the rest back into your deck.\"],[0,\"(?)\"],[0,\"Ant-Man gets +1 hit point for each pym counter on him.\\n<b>Interrupt:</b> When Ant-Man enters play, place 1 pym counter on him (to a maximum of 4) for each resource you overpaid for Ant-Man's cost.\"],[4,\"While you are in [[Giant]] hero form, Ant-Man gains the [[Giant]] trait and gets +1 ATK.\\nWhile you are in [[Tiny]] hero form, Ant-Man gains the [[Tiny]] trait and gets +1 THW.\"],[3,\"<b>Hero Response:</b> After you change to [[Giant]] hero form, heal 2 damage from your hero.\\n<b>Hero Response:</b> After you change to [[Tiny]] hero form, draw 1 card.\"],[0,\"Your hero gets -1 THW, -1 ATK, and -1 DEF.\\n<b>Alter-Ego Action:</b> Take 2 damage and spend a [wild] resource \\u2192 discard this card.\"],[1,\"Max 1 per player.\\n<b>Hero Interrupt</b>: When you engage a minion, discard this card \\u2192 ready your hero.\"],[1,\"<b>Hero Action</b> <i>(attack)</i>: Deal 2 damage to an enemy. If that enemy has a stun status card, deal 3 additional damage to it. If that enemy has a confuse status card, deal 3 additional damage to it.\"],[2,\"Valkyrie gets +4 hit points and gains the [[aerial]] trait.\"],[2,\"<b>Hero Action</b>: Exhaust Arc Reactor \\u2192 ready Iron Man.\"],[0,\"Unit Cost 5.\\n<b>Hero Action</b>: Ready a friendly character. Draw 1 card.\"],[2,\"Play only if your identity has the [[X-MEN]] trait.\\nToughness.\"],[0,\"Unit Cost 4.\\n<b>Hero Interrupt</b>: When an identity would take any amount of damage, exhaust Armor Plating \\u2192 prevent 1 of that damage (2 of that damage instead if you control the Milano).\"],[0,\"<b>Alter-Ego Interrupt</b>: When the villain activates, change to hero form.\"],[1,\"Play under any player's control. Max 1 per player.\\nYour hero gets +1 DEF.\"],[1,\"<b>Hero Action:</b> If you are in [[Tiny]] hero form, exhaust Army of Ants \\u2192 deal 1 damage to an enemy.\"],[2,\"Alliance.\\n<b>Hero Action</b> <i>(attack)</i>: Exhaust an [[avenger]] character and a [[guardian]] character \\u2192 deal X damage to enemy, where X is the combined ATK of those characters. This ATK gains overkill.\"],[3,\"You get +1 hand size.\"],[1,\"Max 2 per deck. Uses (2 training counters)\\n<b>Alter-Ego Action:</b> Exhaust this card and remove 1 training counter from it \\u2192 choose an Aggression <i>(red)</i> event in your discard pile and shuffle it into your deck.\"],[0,\"<b>Action:</b> You get +1 hand size until the end of the phase.\"],[2,\"<b>Hero Action</b> <i>(thwart)</i>: Choose a scheme \\u2192 remove 3 threat from that scheme and look at the top card of the encounter deck. For each boost icon on that card, remove 1 additional threat from the chosen scheme.\"],[1,\"<b>Hero Action</b>: Discard 1 stun or confuse status card from your hero.\"],[1,\"Attach to an [[X-MEN]] ally. Max 1 [[Training]] upgrade per ally.\\nAttached ally gets +1 ATK and +2 hit points.\"],[1,\"<b>Hero Interrupt</b> <i>(attack)</i>: When a boost card is turned faceup, discard Attacrobatics \\u2192 cancel the boost icons on that card. Deal 1 damage to the villain for each boost icon canceled this way.\"],[0,\"Max 1 per deck.\\n<b>Hero Response</b>: After you spend this card, deal 1 damage to the villain.\"],[1,\"<b>Alter-Ego Action</b>: Exhaust Aunt May \\u2192 heal 4 damage from Peter Parker.\"],[1,\"<b>Action:</b> Exhaust Aunt May & Uncle Ben and discard the top 2 cards of your deck (top 3 cards instead if you are in alter-ego form) \\u2192 add each SP//dr card discarded this way to your hand.\"],[4,\"Max 1 per round.\\n<b>Hero Action</b></i>: Ready each [[Avenger]] character you control. Until the end of the phase, each [[Avenger]] character in play gets +1 THW and +1 ATK.\"],[4,\"Max 1 per player.\\n<b>Action</b>: Exhaust Avengers Mansion \\u2192 choose a player. That player draws 1 card.\"],[2,\"If each of your allies has the [[Avenger]] trait, increase your ally limit by 1.\\n<b>Action:</b> Exhaust Avengers Tower \\u2192 reduce the cost of the next [[Avenger]] ally played this phase by 1.\"],[0,null],[0,\"<b>Interrupt</b> <i>(defense)</i>: When you would take any amount of damage from an attack, prevent all of that damage.\"],[3,\"<b>Hero Interrupt</b> When you would take any amount of damage from the villain's attack, discard this card \\u2192 prevent all of that damage. Change to alter-ego form and draw 2 cards.\"],[0,\"(?)\"],[0,\"Victory 2. <i>(When defeated, add this card to the victory display.)</i>\\nVillainous. <i>(When this minion activates, give it a boost card.)</i>\"],[1,\"<b>Hero Action</b> <i>(thwart)</i>: The villain attacks you. Remove 4 threat from the main scheme.\"],[0,\"This card generates [wild] for each ally you control (to a maximum of 3)\"],[2,\"Bruce Banner gets +2 REC.\\n<b>Alter-Ego Resource</b>: Exhaust Banner's Laboratory \\u2192 generate a [mental] resource.\"],[4,\"[star]<b>Response</b>: After Banshee thwarts, confuse a minion.\"],[0,\"Permanent. Setup.\\nYou get +1 hit points.\\nYour hero gets +1 ATK.\"],[0,\"Permanent. Setup.\\nYou get +3 hit points.\\nYour hero gets +1 DEF.\"],[0,\"Permanent. Setup.\\nYou get +4 hit points.\\nYour alter-ego gets +1 REC.\"],[0,\"Permanent. Setup.\\nYou get +2 hit points.\\nYour hero gets +1 THW.\"],[1,\"Enters play with 2 charge counters on it.\\n<b>Action</b>: Exhaust Battery Pack \\u2192 move a charge counter from this card to another [[tech]] upgrade you control.\"],[1,\"(?)\"],[4,\"<b>Response</b>: After Beast enters play, search your deck and discard pile for a resource card and add it to your hand. <i>(Shuffle.)</i>\"],[2,\"<b>Hero Action</b>: Deal 1 damage to the villain and each minion engaged with you.\"],[3,\"<b>Action</b>: Exhaust Beat Cop \\u2192 move 1 threat from a scheme to here.\\n<b>Action</b>: Exhaust and discard Beat Cop \\u2192 deal 1 damage to a minion for each threat here.\"],[2,\"Team-Up (Gambit and Rogue). Max 1 per deck.\\n<b>Hero Action</b> <i>(attack/thwart)</i>: Deal 4 damage to an enemy. Remove 4 threat from a scheme.\"],[0,\"Attach to a minion. Max 1 per minion.\\n<b>Interrupt</b>: When a character makes a basic attack against attached minion, that character uses their THW instead of their ATK.\"],[2,\"<b>Hero Action:</b> <i>(thwart)</i>: Remove 3 threat from a scheme. If you paid for this card using only [mental] resources, confuse an enemy.\"],[2,\"<b>Hero Action</b> <i>(attack)</i>: Deal 4 damage to an enemy. If this attack defeats an enemy, you may take 2 damage \\u2192 repeat this ability.\"],[2,\"<b>Hero Response</b>: After Wolverine takes any amount of damage from an enemy attack, draw 1 card.\\n<b>Forced Response</b>: After you flip to alter-ego form, discard this card.\"],[5,\"<b>Response:</b> After Beta Ray Bill attacks and defeats a minion, remove 2 threat from the main scheme.\"],[2,\"<b>Hero Action</b> <i>(attack)</i>: Deal 4 damage to an enemy.\"],[2,\"Wasp gains the [[Aerial]] trait.\\n<b>Interrupt:</b> When you would take any amount of damage, if you are in [[Tiny]] hero form, exhaust Bio-Synthetic Wings \\u2192 prevent 1 of that damage.\"],[1,\"<b>Hero Resource</b>: Exhaust Biokinetic Polymer Suit \\u2192 generate a [wild] resource for an event.\"],[3,\"<b>Response</b>: After an enemy attacks you, place 1 energy counter here.\\n[star]<b>Interrupt</b>: When Bishop attacks, remove each energy counter from him \\u2192 for each counter discarded this way, he gets +2 ATK for this attack (to a maximum of +6 ATK).\"],[2,\"<b>Forced Response</b>: After you play Black Cat, discard the top 2 cards of your deck. Add each card with a printed [mental] resource discarded this way to your hand.\"],[3,\"Black Knight's basic attack gains piercing.\"],[0,\"Retaliate 1. <i>(After this character is attacked, deal 1 damage to the attacking character.)</i>\"],[4,\"You may play the event attached to Black Panther as if it were in your hand.\\n<b>Response:</b> After Black Panther enters play, choose a leadership (blue) event in your discard pile and attach it to him facedown.\"],[0,null],[0,\"\\\"Widowmaker\\\" \\u2014 <b>Response</b>: After you trigger the ability of a [[Preparation]] card you control, deal 1 damage to an enemy.\"],[3,\"<b>Interrupt</b>: When a card is revealed from the encounter deck, exhaust Black Widow and spend a [mental] resource \\u2192 cancel the effects of that card and discard it. Then, reveal another card from the encounter deck.\"],[1,\"<b>Resource</b>: Exhaust Black Widow's Gauntlet \\u2192 generate a [wild] resource for a [[Preparation]] card.\"],[1,\"<b>Forced Response</b>: After Blade thwarts or attacks, choose to either spend a [physical] resource from your hand or discard Blade.\"],[3,\"<b>Hero Action</b>: Choose a player \\u2192 deal 3 damage to the villain and each minion engaged with that player. Resolve the \\\"<b>Special</b>\\\" ability of your [[WEATHER]] support.\"],[2,\"Max 1 per round.\\n<b>Hero Action</b>: Each [[guardian]] character gets +2 THW and +2 ATK this phase. At the end of the phase, deal 1 damage to each [[guardian]] character.\"],[3,\"<b>Response</b>: After Blindfold enters play, look at the top 5 cards of the encounter deck. Discard 1 of those cards and put the rest back in the same order.\"],[0,\"Permanent.\\nEach character gets -1 ATK.\\n<b>Special</b>: Choose a non-[[ELITE]] minion \\u2192 until the end of the round, treat that minion's text box as if it were blank <i>(except for <b>TRAITS</b></i>).\"],[3,\"<b>Hero Response:</b> After Blue Marvel enters play, change energy forms\"],[0,null],[4,\"[star] Divide damage from Bombshell's attack among each enemy as evenly as possible.\\n Play only if your identity has the [[champion]] trait.\"],[1,\"Play only if your identity has the [[guardian]] trait. Max 1 per player.\\n<b>Hero Interrupt</b>: When you would take any amount of damage from an attack, exhaust Booster Boots and discard the top card of your deck \\u2192 prevent 1 of that damage.\"],[3,\"Play under any player's control. Max 1 per player.\\nEach ally you control gets +1 ATK.\"],[1,\"Hero form only. Hulk gets +1 ATK.\\n<b>Forced Response</b>: After you change form, discard this card.\"],[2,\"<b>Hero Response</b> <i>(attack)</i>: After your hero makes a basic thwart, deal damage to an enemy equal to your hero's THW.\"],[0,\"Unit Cost 1.\\n<b>Hero Action</b> <i>(thwart)</i>: Name a card type, then look at the top card of your deck. If that card is of named type, remove 3 threat from the main scheme. Place that card on the top or bottom of your deck, then draw 1 card.\"],[4,\"While Brawn is exhausted, he gains: \\\"<b>Resource</b>: Generate a [mental] resource. (Limit once per phase.)\\\"\"],[3,\"<b>Response</b>: After Brawn attacks, remove 1 threat from a scheme.\"],[0,null],[2,\"Play only if your identity has the [[SPY]] or [[THIEF]] trait.\\n<b>Action</b> <i>(thwart)</i>: Remove 3 threat from a scheme.\"],[3,\"<b>Response</b>: After Brother Voodoo enters play, search the top 5 cards of your deck for an event card and add it to your hand. Shuffle your deck.\"],[2,\"Play only if your identity has the [[Avenger]] trait.\\n<b>Hero Action</b> <i>(attack)</i>: Deal 2 damage to the villain. Deal X additional damage to the villain (to a maximum of 3), where X is equal to the villain's stage number.\"],[0,\"Experimental Research \\u2014 <b>Action</b>: Draw 1 card. Choose and discard 1 card from your hand. (Limit once per round.)\"],[0,\"<b>Setup:</b> Set the Death Glow upgrade aside, out of play.\\n\\\"Not this Day.\\\" \\u2014 <b>Action</b>: Detach Death-Glow and set it aside, out of play.\"],[1,\"<b>Alter-Ego Action</b>: Exhaust Bruno Carrelli \\u2192 attach 1 card from your hand facedown here.\\n<b>Action</b>: Exhaust Bruno Carrelli \\u2192 add up to 3 cards attached here to your hand.\"],[1,\"Your hero gets +1 ATK. Your basic attacks gain piercing. <i>(Discard any tough status cards from the target before dealing damage.)</i>\\n<b>Forced Response</b>: After you make a basic attack, discard Brute Force.\"],[2,\"<b>Hero Response</b>: After your hero makes a basic attack, heal 1 damage from Bug.\"],[1,\"<b>Hero Interrupt</b> <i>(defense)</i>: When an enemy with Touched attached to it attacks, prevent all damage from that attack and gain a tough status card.\"],[0,\"<b>Hero Action</b>: Discard a tough status card from your hero \\u2192 choose:\\n\\u2022 Give your hero 2 tough status cards.\\n\\u2022 Ready your hero.\"],[0,\"Unit Cost 1.\\n<b>Hero Action</b> <i>(attack)</i>: Place 2 threat on the main scheme. Deal 3 damage to the villain. Draw 1 card.\"],[2,\"<b>Hero Action</b>: Exhaust C.I.T.T. and spend 2 resources of any type \\u2192 ready a [[guardian]] character.\"],[1,\"<b>Hero Action</b> <i>(thwart)</i>: Exhaust Hawkeye's Bow \\u2192 remove 3 threat from a scheme, ignoring any crisis icons in play.\"],[0,\"Unit Cost 2.\\n<b>Hero Action</b>: Draw 1 card and choose a player. That player may draw 1 card, then choose and discard 1 card from their hand.\"],[0,\"<b>Hero Action:</b> Discard cards from the top of your deck until you discard an [[Avenger]] ally, then add that ally to your hand.\"],[0,\"\\\"I Can Do This All Day!\\\" \\u2014 <b>Action</b>: Discard 1 card from your hand \\u2192 ready Captain America. (Limit once per round.)\"],[6,\"Toughness.\\nReduce the cost to play Captain America by 1 for each [[avenger]] character you control.\"],[1,\"<b>Interrupt</b>: When Captain America would be defeated, set his hit point dial to 1 instead. Then, discard this card.\"],[1,\"Restricted. <i>(Max 2 restricted cards per player.)</i>\\nCaptain America gets +1 DEF and gains retaliate 1.\"],[3,\"<b>Response:</b> After Captain Americat enters play, give someone a high five. Place 1 toon counter on your identity and shuffle 1 Spider-Ham card from your discard pile into your deck.\"],[0,\"Rechannel \\u2014 <b>Action</b>: Spend a [energy] resource and heal 1 damage from Captain Marvel \\u2192 draw 1 card. (Limit once per round.)\"],[5,\"<b>Response:</b> After Captain Marvel enters play, discard the top 4 cards of your deck. If you discard a printed [energy] resource, deal 3 damage to an enemy. If you discard more than one printed [energy] resource, also stun that enemy.\"],[4,\"<b>Response</b>: After Captain Marvel uses a basic power, draw 1 card.\"],[2,\"Captain Marvel gets +1 DEF (+2 DEF instead if you have the [[Aerial]] trait).\"],[0,\"Unit Cost 6.\\n<b>Hero Action</b>: Exhaust Cargo Hold \\u2192 heal 1 damage from a friendly character. If you control the Milano, heal 1 damage from your identity.\"],[0,\"Commander \\u2014 <b>Action</b>: Choose a player to draw 1 card. (Limit once per round.)\"],[1,\"<b>Interrupt:</b> When your identity would take any amount of damage, discard this card \\u2192 wiggle your body and prevent all but 1 of that damage.\"],[0,null],[1,\"Play only if your identity has the [[MUTANT]] trait.\\n<b>Alter-Ego Action</b>: Exhaust Cerebro \\u2192 search the top 5 cards of your deck for an [[X-MEN]] ally (search your whole deck instead if you control a [[PSIONIC]] character) and add that ally to your hand. <i>(Shuffle.)</i>\"],[2,\"<b>Hero Action</b>: Exhaust Champions Mobile Bunker \\u2192 choose an identity with the [[champion]] trait. The player who controls that identity may draw 2 cards, then discard 2 cards from their hand.\"],[0,\"Attach to a side scheme. Max 1 per scheme.\\n<b>Interrupt:</b> When attached side scheme is defeated, search your deck and discard pile for an ally and add it to your hand. Shuffle your deck.\"],[0,\"<b>Hero Action:</b> Play a card from your hand, ignoring its resource cost. Discard cards from the top of the encounter deck equal to that card's printed resource cost.\"],[2,\"<b>Hero Action</b> <i>(attack)</i>: Deal 4 damage to an enemy. For this attack, If Gambit's <i>\\\"Throw de Card\\\"</i> ability removed at least:\\n\\u2022 1 counter, this attack gains ranged.\\n\\u2022 2 counters, this attack also gains piercing.\\n\\u2022 3 counters, this attack also gains overkill.\"],[4,\"Retaliate 1. Toughness.\"],[0,\"<b>Response</b> (<i>thwart</i>): After your hero attacks and defeats an enemy, remove 2 threat from a scheme.\"],[0,\"<b>Hero Action</b>: Search the encounter deck and discard pile for a minion and put it into play engaged with you \\u2192 draw 2 cards.\"],[1,\"<b>Hero Action:</b> Discard Civic Duty \\u2192 your hero gets +1 THW until the end of the phase.\"],[1,\"Attach to a friendly character. Max 1 per character.\\n<b>Hero Resource:</b> Exhaust this card and deal 1 damage to attached character \\u2192 generate a [wild] resource.\"],[2,\"<b>Interrupt</b>: When Clea is defeated, shuffle her into her owner's deck.\"],[0,\"Permanent.\\nEach character gains stalwart.\\n<b>Special</b>: Draw 1 card.\"],[1,\"<b>Hero Action</b> <i>(thwart)</i>: Remove 2 threat from a scheme. If this removes the last threat on that scheme, draw 1 card.\"],[0,\"Weapon of Choice \\u2014 <b>Action</b>: Spend 1 resource of any type \\u2192 search your deck and discard pile for Hawkeye's Bow and add it to your hand. Shuffle your deck. (Limit once per phase).\"],[2,\"You gain the [[Aerial]] trait.\\n<b>Hero Action</b>: Exhaust Cloak of Levitation \\u2192 ready Doctor Strange.\"],[2,\"<b>Hero Action</b> <i>(Attack)</i>: Deal 3 damage to an enemy. If this is the first card you have played this round, return this card to your hand.\"],[0,\"Unit Cost 3.\\n<b>Hero Interrupt</b>: When a boost card is turned faceup, cancel that card's <b>\\\"Boost\\\"</b> ability and all of its boost icons <i>(</i>[boost]<i>)</i>, then discard it. Draw 1 card.\"],[3,\"<b>Hero Action</b>: Exhaust Cloud 9 \\u2192 choose a player. Until the end of the phase, each [[Aerial]] character that player controls gets +1 THW.\"],[0,\"Colossus can have 1 additional tough status card.\\n<i>Steel Skin</i> - <b>Response</b>: After you change to this form, give Colossus a tough status card.\"],[4,\"Reduce the cost to play Colossus by 1 if your identity has the [[MUTANT]] or [[X-MEN]] trait.\\nToughness.\"],[0,\"<b>Alter-Ego Action</b>: Choose one:\\nShuffle up to 2 [[technique]] upgrades from your discard pile into your deck.\\nDiscard cards from the top of your deck until you discard a [[technique]] upgrade. Put that upgrade into play, then resolve its \\\"Special\\\" ability.\"],[2,\"Play under any player's control. Max 1 per player.\\nYour hero gets +1 ATK.\"],[1,\"Max 1 per player.\\n<b>Response</b>: After an ally thwarts and defeats a side scheme, exhaust Command Center \\u2192 deal 2 damage to an enemy.\"],[2,\"Uses (3 command counters).\\n<b>Action</b>: Exhaust Command Team and remove 1 command counter from it \\u2192 ready an ally.\"],[1,\"Attach to a [[guardian]] ally. Max 1 per ally.\\nAttached ally gets +1 THW and +1 hit point.\"],[0,null],[0,null],[0,null],[3,\"<b>Hero Action</b> <i>(attack)</i>: Confuse an enemy. If you paid for this card using a [physical] resource, deal 3 damage to that enemy.\"],[1,\"<b>Alter-Ego Action</b>: Exhaust Conditioning Room \\u2192 return the bottommost [[attack]] or [[thwart]] event from your discard pile to your hand. Heal 1 damage from Gamora.\"],[0,\"Connection to the Worldmind does not count toward your hand size.\"],[2,\"<b>Hero Action</b>: Heal 3 damage from Spider-Woman and give her a tough status card.\"],[0,\"Unit Cost 1.\\n<b>Hero Action</b> <i>(attack)</i>: Discard the top 4 cards of your deck. For each different resource type discarded this way, deal 1 damage to an enemy. Draw 1 card.\"],[0,\"Attach to a minion. Max 1 per minion.\\nEach ally takes -1 consequential damage ([consequential]) when attacking attached minion.\"],[3,\"Alliance. <i>(The players can pay this card's costs as a group.)</i>\\n<b>Hero Action</b>: Choose an [[avenger]] character and a [[guardian]] character \\u2192 ready each of those characters.\"],[2,\"<b>Hero Action</b> <i>(thwart)</i>: Remove 3 threat from a scheme and discard up to 4 cards from the top of your deck \\u2192 remove 1 additional threat from that scheme for each different aspect discarded this way (Aggression, Justice, Leadership and Protection)\"],[2,\"Captain Marvel gains the [[Aerial]] trait.\\n<b>Hero Interrupt</b> (<i>defense</i>): When Captain Marvel would take damage, discard Cosmic Flight \\u2192 prevent 3 of that damage.\"],[1,\"<b>Forced Interrupt</b>: When you reveal a treachery card, cancel its \\\"<b>When Revealed</b>\\\" effects and discard it. Then, discard Cosmic Ward\"],[0,null],[2,\"<b>Interrupt</b>: When Cosmo attacks or thwarts, name a card type, then discard the top card of the deck. If that card is of the named type, Cosmo does not take consequential damage (the damage under THW or ATK) for this use.\"],[0,\"<b>Response</b> (<i>attack</i>): After your hero defends against an enemy attack, deal damage to that enemy equal to your hero's ATK.\"],[1,\"Max 1 per player.\\n<b>Hero Response</b> <i>(attack)</i>: After you take damage from an enemy attack, discard Counterattack \\u2192 deal an equal amount of damage to that enemy.\"],[2,\"Max 1 per player.\\n<b>Interrupt</b>: When any amount of threat would be placed on the main scheme, discard Counterintelligence \\u2192 prevent 3 of that threat.\"],[0,null],[0,null],[3,\"<b>Action</b> <i>(thwart)</i>: Remove 4 threat from a scheme. Confuse the villain.\"],[0,\"Unit Cost 2.\\n<b>Hero Action</b>: Draw 1 card and remove a status card from any character. If the status card type removed this way was:\\n- Tough - Deal 3 damage to an enemy.\\n- Stun - Remove 3 threat from a scheme.\\n- Confuse - Heal 3 damage from an identity.\"],[2,\"<b>Alter-Ego Action</b> <i>(thwart)</i>: Remove 3 threat from a scheme. If this removes the last threat from that scheme, confuse the villain.\"],[1,\"Play under any player's control. Max 1 per player.\\n<b>Alter-Ego Action</b>: Exhaust Crew Quarters \\u2192 heal 1 damage from an alter-ego.\"],[2,\"<b>Special</b>: Stun an enemy and deal 7 damage to it. Place this card in the [[Invocation]] deck discard pile.\"],[3,\"<b>Hero Action</b> <i>(thwart)</i>: Remove 6 threat from the main scheme. If you paid for this card using a [mental] resource, this thwart ignores the crisis icon ([crisis]).\"],[2,\"<b>Hero Action</b> (<i>thwart</i>): Remove 2 threat from a scheme. Then, if you have the [[Aerial]] trait, remove 2 threat from a different scheme.\"],[1,\"<b>Hero Interrupt</b> <i>(attack/defense/thwart)</i>: When you would take any amount of damage, prevent 3 of that damage. Deal 1 damage to an enemy. Remove 1 threat from a scheme.\"],[1,\"You can only spend [physical] resources to pay for this card.\\n<b>Hero Action</b> <i>(attack)</i>: Deal damage to an enemy equal to your ATK.\"],[1,\"While Nebula is in hero form, her attacks gain piercing and overkill.\\n<b>Special</b> <i>(thwart)</i>: Remove 3 threat from a scheme.\"],[2,\"You get +3 hit points.\\nWhile in hero form, Rocket Raccoon gets +1 ATK.\"],[0,\"<i>Optic Blast</i> - <b>Action</b> <i>(attack)</i>: Spend one resource of any type \\u2192 deal 3 damage to an enemy with an upgrade attached. (Limit once per round).\"],[3,\"<b>Response</b>: After Cyclops enters play, place 2 power counters on Phoenix Force.\\n<b>Response</b>: When Cyclops leaves play, remove 2 power counters from Phoenix Force.\"],[1,\"<b>Hero Response</b>: After Drax makes a basic attack, draw 1 card.\"],[3,\"<b>Hero Action</b>: Make the following 3 attacks in order:\\n- Deal 1 damage to an enemy.\\n- Deal 2 damage to an enemy.\\n- Deal 3 damage to an enemy.\"],[2,\"<b>Alter-Ego Response</b>: After an [[X-MEN]] ally enters play, exhaust Danger Room \\u2192 search your deck and discard pile for a [[TRAINING]] upgrade and attach it to that ally. Any player whose alter-ego has the [[MUTANT]] trait may trigger this ability.\"],[1,\"Attach to an [[X-MEN]] ally. Max 1 [[TRAINING]] upgrade per ally.\\nAttached ally gets +1 THW, +1 ATK, and +1 hit point.\"],[4,\"<b>Response</b>: After Daredevil thwarts, deal 1 damage to an enemy.\"],[2,\"<b>Response:</b> After Daredevil defends against an attack, move 1 damage from him to the attacking enemy.\"],[0,\"<b>Hero Action</b> Deal yourself 1 facedown encounter card \\u2192 ready your hero and draw 1 card.\"],[1,\"Team-Up (Gamora and Nebula). Max 1 per deck.\\n<b>Hero Action</b>: Draw 3 cards.\"],[1,\"Play under any player's control.\\nMax 1 per player.\\nWhile your hero's remaining hit points are equal to or greater than your hero's starting hit points, your hero gains retaliate 1.\"],[4,\"<b>Response</b>: After Dazzler enters play, confuse an enemy.\"],[0,\"Surge.\\n<b>When Revealed</b>: Exhaust your identity. If you cannot, place 2 threat on the main scheme.\"],[1,\"Attach to an enemy.\\n<b>Forced Interrupt</b>: When attached enemy is defeated, set this card aside, out of play. If Valkyrie defeated that enemy, ready her.\"],[2,\"<b>Hero Action</b> <i>(attack)</i>: Deal 4 damage to an enemy (7 damage instead if you have played a [[thwart]] event this turn).\"],[0,\"<b>Hero Action</b> <i>(thwart)</i>: Discard cards from the top of the encounter deck until you discard a minion. Put that minion into play engaged with you \\u2192 remove 3 threat from a scheme.\"],[1,\"<b>Hero Response</b>: After your hero uses a basic power, discard Defense Mechanism \\u2192 resolve Spider-Man's <i>\\\"Spider Camouflage\\\"</i> ability.\"],[0,\"Max 2 per deck.\\n<b>Hero Interrupt</b>: When you spend this card to play a [[Defense]] event, draw 1 card.\"],[0,null],[2,\"Max 1 per player.\\n<b>Hero Interrupt</b>: When you would take any amount of damage, discard Defensive Stance \\u2192 prevent 3 of that damage.\"],[1,\"Max 2 per deck. Uses (2 training counters).\\n<b>Alter-Ego Action</b>: Exhaust this card and remove 1 training counter from this \\u2192 choose a Protection (green) event in your discard pile and shuffle it into your deck.\"],[0,\"<b>Hero Interrupt</b> <i>(defense)</i>: When a boost card on an enemy attacking you would be turned faceup, discard it instead.\"],[2,\"<b>Hero Interrupt</b>: When an identity would take any amount of damage from an attack, prevent up to 5 of that damage. Discard cards from the top of your deck equal to the amount prevented this way.\"],[1,\"Max 1 per player.\\n<b>Hero Action</b>: Exhaust Deft Focus \\u2192 reduce the resource cost of the next [[superpower]] card you play this turn by 1.\"],[1,\"Unit Cost 3.\\n<b>Hero Action</b> <i>(attack)</i>: Deal 5 damage to an enemy and discard the top card of the encounter deck? Take 1 damage for each boost icon <i>(</i>[boost]<i>)</i> discarded this way.\"],[1,\"<b>Hero Response:</b> After you change mass form, discard this card \\u2192 add a Vision event from your discard pile to your hand.\"],[1,\"<b>Hero Interrupt</b> <i>(defense)</i>: When your hero defends against an attack, it gets +2 DEF for that attack. If you take no damage from that attack, ready your hero.\"],[0,\"Max 1 per deck.\\n<b>Hero Response</b>: After you spend this card, remove 1 threat from the main scheme.\"],[0,null],[4,\"Play only if your identity has the [[aerial]] trait.\\n<b>Hero Action</b> <i>(attack)</i>: Deal 7 damage to an enemy. Deal 1 damage to each other enemy.\"],[0,\"<i>Spell Mastery</i> \\u2014 <b>Action</b>: Exhaust Doctor Strange and pay the cost of the top card of the [[Invocation]] deck \\u2192 resolve the \\\"<b>Special</b>\\\" ability on that card.\"],[1,\"Max 1 per round.\\n<b>Action</b>: Change your form. If you paid for this card using a [physical] resource, ready your identity.\"],[2,\"<b>Hero Action</b>: Choose two of the following (you may choose the same option twice):\\n- Deal 2 damage to an enemy.\\n- Remove 2 threat from a scheme.\"],[1,\"Play under any player's control. Max 1 per player.\\nYour alter-ego gets +2 REC.\"],[1,\"Restricted.\\nValkyrie gets +1 ATK (+2 ATK instead while attacking the enemy with Death-Glow attached).\"],[0,\"(?)\"],[3,\"Play only if your identity has the [[guardian]] trait.\\nDrax cannot attack minions.\"],[1,\"Restricted (Max 2 restricted cards per player.)\\nWhile in hero form, Drax gets +1 ATK.\"],[1,\"Restricted (Max 2 restricted cards per player.)\\nWhile in hero form, Drax gains retaliate 1.\"],[3,\"<b>Hero Action</b> <i>(attack)</i>: Deal 4 damage to an enemy. If you paid for this card using only [physical] resources, stun that enemy and draw 1 card.\"],[5,\"<b>Interrupt</b>: When you use one of Dum Dum Dugan's basic powers, exhaust up to 3 [[S.H.I.E.L.D.]] cards you control. For each card exhausted this way, Dum Dum Dugan gets +1 to that power for this use.\"],[3,\"[star] <b>Interrupt</b>: When Dust attacks a minion, she attacks each minion in play. Dust takes +1 consequential damage ([consequential]) after this attack.\"],[0,\"<b>Hero Action</b>: Exhaust an [[avenger]] character you control \\u2192 ready another [[avenger]] character you control.\"],[0,\"Max 2 per deck.\\n<b>Interrupt</b>: When you spend this card to play an ally, that ally gets +1 THW and +1 ATK until the end of the phase.\"],[0,\"<b>Hero Action:</b> Discard Ejection Protocol \\u2192 exhaust each [[Interface]] upgrade you control, set your hit point dial to 6, give your identity a tough status card, and flip to alter-ego form.\"],[2,\"<b>Hero Action</b> <i>(attack)</i>: Exhaust Hawkeye's Bow \\u2192 stun an enemy and deal 3 damage to it (5 damage instead if it is already stunned).\"],[1,\"Player under any player's control.\\nMax 1 per player.\\n<b>Response</b>: After you defend against an attack, deal 1 damage to the attacking character.\"],[3,\"Restricted.\\n<b>Hero Action</b> <i>(attack)</i>: Exhaust Element Gun and spend 1 resource of any type \\u2192 deal 3 damage to an enemy. This attack gains piercing.\"],[2,\"<b>Hero Interrupt</b>: When you play an [[Attack]] event, exhaust Embiggen! \\u2192 increase the amount of damage that event deals by 2.\"],[0,\"<b>Interrupt</b> (<i>thwart</i>): When the villain schemes, reduce the amount of threat placed on the scheme by 1.\"],[0,\"Setup.\\n<b>Hero Action:</b> Discard this card and remove it from the campaign log \\u2192 search your deck and discard pile for an ally, put it into play, and give it a tough status card.\"],[1,\"Play under any player's control. Max 1 per player.\\nYou get +3 hit points.\"],[0,null],[0,\"Max 1 per deck.\"],[0,null],[2,\"Uses (3 reflection counters). <b>Interrupt:</b> When you would take any amount of damage, remove 1 reflection counter from here \\u2192 prevent 1 of that damage and deal 1 damage to an enemy.\"],[0,\"Max 1 per player.\\n<b>Action</b>: Spend X [energy] resources \\u2192 put X energy counters here.\\n<b>Hero Action</b> (<i>attack</i>): Discard Energy Channel \\u2192 deal 2 damage to an enemy (to a maximum of 10) for each energy counter here.\"],[2,\"<b>Special</b>: Choose a player. Deal 1 damage to the villain and to each enemy engaged with that player (2 damage instead if this is the final step of this sequence).\\n<i>(Play the \\\"Wakanda Forever!\\\" event to use this ability.)</i>\"],[2,\"<b>Hero Resource:</b> Exhaust Energy Duplication \\u2192 generate the printed resource on your faceup energy form upgrade.\"],[1,\"Attach to a [[guardian]] ally. Max 1 per ally.\\nAttached ally gets +2 ATK and gains piercing.\"],[2,\"<b>Hero Action</b>: Attach Touched to a character other than Rogue and deal 2 damage to that character \\u2192 heal 2 damage from Rogue and ready her. You gain each of the attached character's [[TRAITS]] until the end of the round.\"],[2,\"Uses (3 mental counters).\\n<b>Hero Resource</b>: Exhaust Enhanced Awareness and remove 1 mental counter from it \\u2192 generate a [mental] resource.\"],[2,\"Uses (3 physical counters).\\n<b>Hero Resource</b>: Exhaust Enhanced Physique and remove 1 physical counter from it \\u2192 generate a [physical] resource.\"],[2,\"Uses (3 energy counters). <b>Hero Resource:</b> Exhaust Enhanced Reflexes and remove 1 energy counter from it \\u2192 generate a [energy] resource.\"],[1,\"<b>Hero Interrupt</b>: When a treachery card is revealed from the encounter deck, cancel its \\\"<b>When Revealed</b>\\\" effects.\"],[1,\"Attach to an ally. Max 1 per ally.\\nAttached ally gets +2 ATK and takes +1 consequential damage after it attacks.\"],[1,\"<b>Hero Interrupt</b>: When Groot makes a basic thwart, remove 1 growth counter from him and exhaust Entangling Vines \\u2192 Groot gets +2 THW for that thwart.\"],[2,\"<b>Response:</b> After you play Eros from your hand, confuse a minion for each [mental] resource you used to pay for him.\"],[1,\"Play only if you control a [[Spy]] character.\\n<b>Interrupt</b>: When the surge keyword on an encounter card would be resolved, discard Espionage \\u2192 draw 2 cards.\"],[2,\"<b>Action</b>: Shuffle this card into the encounter deck (without looking)\\n<b>When Revealed</b>: Draw 1 card and remove this card from the game. This effect cannot be canceled.\"],[1,\"While in hero form, Nebula ignores the guard keyword, the patrol keyword, and the crisis icon.\\n<b>Special</b> : Choose to either sun or confuse an enemy.\"],[2,\"Requirement ([energy]).\\n<b>Hero Action</b> <i>(thwart)</i>: Remove 1[per_hero] threat from each side scheme. Deal 1 damage to the villain for each side scheme defeated this way.\"],[2,\"Play only if your identity has the [[aerial]] trait.\\n<b>Hero Action</b>: Ready your hero and remove 2 threat from the main scheme.\"],[0,\"While your identity has the [[Civilian]] trait, this card can be spent for any player and gains the text: \\\"<b>Response</b>: After you spend this card for a player, heal 1 damage from that player's identity.\\\"\"],[0,\"<b>Hero Interrupt</b> <i>(defense)</i>: When your hero defends against an attack, it gets +3 DEF for that attack.\"],[1,\"<b>Resource</b>: Exhaust Expert Marksman \\u2192 generate a [wild] resource for an [[Arrow]] event.\"],[1,\"Attach to an enemy. Max 1 per enemy.\\nTemporary.\\nIncrease the amount of damage attached enemy takes from each attack by 1.\"],[1,\"<b>Hero Action</b>: Exhaust Hawkeye's Bow and choose a player \\u2192 deal 3 damage to the villain and each minion engaged with that player.\"],[4,\"(?)\"],[0,null],[1,\"Team-Up (Colossus and Wolverine). Max 1 per deck.\\n<b>Hero Action</b> <i>(attack)</i>: Deal X damage to an enemy, where X is the total ATK of Colossus and Wolverine. This attack gains overkill and piercing.\"],[0,\"<b>Hero Action</b>: Captain America gets +1 THW until the end of the phase. Draw 1 card.\"],[0,null],[1,\"<b>Alter-Ego Action</b>: Exhaust Fertile Ground \\u2192 place 1 growth counter on Groot (to a maximum of 10) and draw 1 card.\"],[1,\"Uses (3 backup counters).\\n<b>Hero Interrupt</b>: When a [[S.H.I.E.L.D.]] ally would take any amount of consequential damage, exhaust Field Agent and remove 1 backup counter from it \\u2192 prevent 1 of that damage.\"],[1,\"You take the first turn during the player phase. <i>(When your turn is done, play proceeds in player order, starting with the first player. You do not take another turn.)</i>\\nEach Cyclops upgrade attached to a minion loses the temporary keyword.\"],[2,\"<b>Hero Action</b> <i>(attack)</i>: Deal 2 damage to the villain (5 damage instead if your hero's remaining hit points are equal to or greater than your hero's starting hit points).\"],[0,null],[0,null],[2,\"<b>Hero Resource</b>: Exhaust Finesse \\u2192 generate a [wild] resource for an aspect card.\"],[1,\"<b>Action</b>: Heal 2 damage from any character.\"],[1,\"<b>Hero Action</b> <i>(Attack)</i>: Deal 2 damage to the villain.\\n<b>Hero Interrupt</b> <i>(Attack)</i>: When a minion initiates an attack, deal 2 damage to that minion.\"],[1,\"<b>Hero Interrupt</b> <i>(defense)</i>: When the villain attacks you, the villain and each minion engaged with you get -3 ATK while attacking you this phase. If Blizzard is in play, resolve its \\\"<b>Special</b>\\\" ability.\"],[0,\"You can control 1 additional upgrade that has the restricted keyword.\\n<i>Armed and Ready</i> - <b>Setup</b>: Discard cards from the top of your deck until you discard a [[weapon]] upgrade, then add that card to your hand.\"],[2,\"<b>Response</b>: After the enemy with Death-Glow is defeated, discard Flight of the Valkyrior \\u2192 remove 5 threat from a scheme.\"],[1,\"Team-Up (Groot and Rocket Raccoon).\\nMax 1 per deck\\n<b>Hero Action</b>: Place 2 growth counters on Groot (to a maximum of 10) and ready him, or place 2 charge counters on a Rocket Raccoon upgrade and ready that upgrade.\"],[2,\"Play under any player's control. Max 1 per player.\\n<b>Response:</b> After you play a [[Defense]] card, deal 1 damage to the attacking enemy.\"],[1,\"<b>Hero Response</b>: After you play an [[Attack]] event, exhaust this card \\u2192 your hero gets +1 ATK until the end of the phase. (Max 1 per [[Attack]] event.)\"],[2,\"<b>Hero Action</b> <i>(thwart)</i>: Remove 3 threat from a scheme and place 1 progress counter on Ironheart (2 progress counters instead if this thwart removes the last threat from that scheme).\"],[3,\"<b>Hero Action</b>: Exhaust Focused Rage and take 1 damage \\u2192 draw 1 card.\"],[0,\"<b>Interrupt</b>: When a boost card is turned faceup during a scheme activation, cancel its boost icons.\"],[2,\"<b>Hero Interrupt</b>: When your hero's attack deals any amount of excess damage, increase that amount by 1.\"],[1,\"Attach to a side scheme. Max 1 per scheme.\\n<b>Response</b>: When attached scheme is defeated, deal 4 damage to an enemy.\"],[1,\"<b>Alter-Ego Action</b>: Search your deck and discard pile for a card with the [[Asgard]] trait and add it to your hand. Shuffle your deck.\"],[2,\"<b>Hero Action</b> (<i>thwart</i>): Remove 3 threat from a scheme (4 threat instead if you paid for this card using a [mental] resource).\"],[3,\"Uses (6 energy counters). Max 1 per player.\\n<b>Forced Interrupt:</b> When you would take any amount of damage, remove that many energy counters from here. For each energy counter removed this way, prevent 1 of that damage.\"],[1,\"<b>Hero Interrupt</b>: When a friendly character would take any amount of damage from an attack, prevent 3 of that damage. If you paid for this card using a [wild] resource, deal 3 damage to an enemy.\"],[2,\"<b>Response</b>: After Forge enters play, search your deck and discard pile for an [[X-MEN]] or [[X-FORCE]] support and add it to your hand. <i>(Shuffle.)</i>\"],[0,null],[2,\"<b>Hero Action</b> <i>(thwart)</i>: Remove 3 threat from a scheme (5 threat instead if you have played an [[attack]] event this turn).\"],[3,\"<b>Hero Response:</b> After you ready Quicksilver, ready this card.\\n<b>Resource:</b> Exhaust Friction Resistance \\u2192 generate a [physical] resource.\"],[0,null],[0,\"<b>Action</b>: Place 2 growth counters on Groot (to a maximum of 10).\"],[0,\"Surge.\\nHinder 3[per_hero]. <i>(When revealed, place 3[per_hero] threat here.)</i>\"],[2,\"<b>Hero Action</b> <i>(attack)</i>: Remove 4 ammo counters from War Machine and choose an enemy \\u2192 deal 8 damage to that enemy. This attack gains overkill.\"],[1,\"<b>Hero Interrupt</b>: When you use your <i>\\\"Optic Blast\\\"</i> ability, exhaust Cyclops \\u2192 this attack deals 8 additional damage and gains overkill.\"],[2,\"<b>Hero Action</b> <i>(attack)</i>: Exhaust a [[weapon]] upgrade you control \\u2192 deal 5 damage to an enemy.\"],[0,\"(?)\"],[0,\"<i>Charge de Card</i> \\u2212 <b>Action</b>: Place 1 charge counter here. (Limit once per round).\\n<i>Throw de Card</i> \\u2212 <b>Interrupt</b>: When you play an [[ATTACK]] event, remove up to 3 charge counters from here \\u2192 that event deal +1 damage for each counter removed.\"],[3,\"Gambit enters play with 3 charge counters on him.\\n[star]<b>Interrupt</b>: When Gambit attacks, remove 1 charge counter from him \\u2192 deal 1 damage to an enemy.\"],[1,\"<b>Hero Response</b>: After Gambit defends against an attack and takes no damage, exhaust Gambit's Guild Armor \\u2192 ready Gambit.\"],[1,\"<b>Hero Interrupt</b>: When an enemy attacks, exhaust Gambit's Staff \\u2192 deal 1 damage to that enemy.\"],[0,\"<b>Hero Action</b>: Choose an ally with a [[TRAINING]] upgrade attached \\u2192 ready that ally and heal 1 damage from it.\"],[0,\"Energy form. Permanent.\\nSpectrum gets +2 ATK.\\n<b>Hero Response:</b> After you change to this form, deal 1 damage to an enemy.\"],[3,\"<b>Hero Action</b> <i>(attack)</i>: Change to Gamma energy form and deal 7 damage to an enemy. If you were already in Gamma energy form, this attack gains overkill.\"],[4,\"<b>Hero Action</b> (<i>attack</i>): Deal X damage to an enemy (to a maximum of 15). X is the amount of damage you have sustained.\"],[0,\"(?)\"],[3,\"Play only if your identity has the [[guardian]] trait.\\n<b>Hero Response</b>: After Gamora attacks or thwarts, discard cards from the top of your deck until you discard an event, then add that card to your hand.\"],[3,\"<b>Response:</b> After you play Gamora, choose a [[technique]] upgrade you control, then resolve its \\\"Special\\\" ability.\"],[3,\"Restricted.\\n<b>Response</b>: After you play an [[attack]] event, deal 1 damage to an enemy.\"],[2,\"<b>Action</b>: Exhaust Ganke Lee \\u2192 draw 1 card. If you are in hero form, choose and discard 1 card from your hand.\"],[0,\"Attach to a minion.\\nAttached minion gets +2 hit points and gains patrol.\\n<b>Interrupt</b>: When attached minion is defeated, remove 4 threat from the main scheme.\"],[2,\"<b>Resource</b>: Exhaust Gauntlet Gun \\u2192 generate a [wild] resource for a War Machine event and place 1 ammo counter on War Machine.\"],[0,\"Max 1 per deck.\"],[3,\"[star] Gentle takes +1 consequential damage ([consequential]) after he attacks the villain.\"],[1,\"Events attached to George Stacy may be played as if they were in your hand.\\n<b>Action</b>: Exhaust George Stacy \\u2192 attach 1 event from your hand facedown here (to a maximum of 3).\"],[1,\"<b>Hero Interrupt</b>: When a treachery card is revealed from the encounter deck, cancel its \\\"<b>When Revealed</b>\\\" effects. The villain attacks you instead.\"],[0,\"<b>Hero Action</b> <i>(attack)</i>: Deal 1 damage to a minion. If you have the [[Aerial]] trait, engage that enemy.\"],[0,\"<b>Action</b>: Ready an ally.\"],[2,\"<b>Hero Response</b> <i>(attack)</i>: After Ghost-Spider uses a basic power, deal 6 damage to an enemy. (Max 1 per basic power use.)\"],[0,\"<i>Dizzying Reflexes</i> - <b>Response:</b> After you resolve an \\\"<b>Interrupt</b>\\\" or \\\"<b>Response</b>\\\" ability on an event, ready Ghost-Spider. (Limit once per phase.)\"],[3,\"Play only if you control a [[Web-Warrior]] card.\\n<b>Interrupt</b>: When Ghost-Spider leaves play, search your deck for an identity-specific event and add it to your hand. <i>(Shuffle.)</i>\"],[2,\"<b>Hero Action</b> <i>(thwart)</i>: Remove 3 threat from a scheme (remove a total of 4 threat divided among schemes as you choose instead if you are in [[Giant]] hero form).\"],[3,\"Play only if you are in [[Giant]] hero form.\\n<b>Hero Action</b> <i>(attack)</i>: Deal 1 damage to each minion. Deal 8 damage to an enemy.\"],[1,\"<b>Hero Response:</b> After you change to [[Giant]] hero form, you get +1 ATK until the end of this turn.\"],[5,\"Giant-Man gets +2 ATK while he has 3 or more remaining hit points.\"],[0,\"<b>Action</b>: Exhaust 1 [[S.H.I.E.L.D.]] card you control \\u2192 look at the top 4 cards of a player deck or the encounter deck. Discard any number of those, and put the others on the top and/or bottom of that deck in any order.\"],[2,\"Requirement ([energy]). <i>(While paying for this card, spend the listed resources.)</i>\\n<b>Hero Action</b> <i>(attack)</i>: Exhaust your hero \\u2192 deal damage to an enemy equal to the total of your hero's THW, ATK, and DEF values.\"],[0,\"<b>Hero Action</b>: Discard an ally your control \\u2192 deal damage to an enemy equal to that ally's printed cost.\"],[2,\"<b>Hero Resource</b>: Exhaust God of Thunder \\u2192 generate a [energy] resource.\"],[0,\"Play only if your identity has the [[asgard]] trait.\\n<b>Action</b>: Heal 2 damage from your identity. You may discard a status card from your identity.\"],[3,\"Restricted.\\n<b>Hero Interrupt</b>: When your hero makes a basic attack against a unique enemy, exhaust Godslayer \\u2192 your hero gets +2 ATK for that attack.\"],[2,\"<b>Hero Action</b> <i>(thwart)</i>: Remove 3 threat from a scheme. If Rogue has:\\n\\u2022 [[AERIAL]], remove 2 additional threat.\\n\\u2022 Retaliate, confuse an enemy.\\n\\u2022 Stalwart, draw 1 card.\"],[4,\"<b>Action</b>: Goliath gets +4 ATK until the end of the phase. At the end of the phase, discard Goliath. (Max once per phase.)\"],[2,\"<b>Hero Action</b>: Exhaust Government Liaison \\u2192 play a [[S.H.I.E.L.D.]] card from your hand, reducing its resource cost by 1.\"],[0,\"Unit Cost 7.\\n<b>Hero Action</b>: Draw up to your maximum hand size. Remove this card from the game.\"],[0,\"Unit Cost 2.\\n<b>Hero Action</b>: Deal 1 damage to an enemy and stun it. Stun your hero. Draw 1 card.\"],[2,\"<b>Hero Interrupt</b>: When you reveal a treachery, discard Grappling Hook \\u2192 cancel the effects of that treachery and discard it.\"],[2,\"<b>Hero Interrupt</b> <i>(defense)</i>: When the villain initiates an attack against you, cancel that attack. If you paid for this card using only [physical] resources, stun the villain.\"],[0,\"<b>Hero Interrupt</b>: When any amount of threat would be placed on a scheme, you take it as damage instead.\"],[0,\"(?)\"],[3,\"Play only if your identity has the [[guardian]] trait.\\n<b>Response</b>: After Groot defends against an attack, heal 2 damage from him.\"],[2,\"<b>Hero Action</b>: Deal 1 damage to each enemy.\"],[0,null],[2,\"Play under any player's control. Max 1 [[team]] card per player.\\nIf each of your characters has the [[guardian]] trait, this card gains: \\\"<b>Response</b>: After you play an upgrade on an ally, draw 1 card.\\\"\"],[0,\"(?)\"],[2,\"<b>Hero Action</b> <i>(thwart)</i>: Remove 2 threat from a scheme. Remove 2 additional threat from that scheme for each facedown encounter card in front of you.\"],[0,\"<b>Action:</b> Choose to either shuffle Ticket to the Multiverse from your discard pile into your deck or ready George Stacy. (Limit once per round.)\"],[0,null],[2,\"<b>Response:</b> After you defeat a minion, place 1 glory counter here.\\n<b>Alter-Ego Action:</b> Exhaust Hall of Heroes and remove 3 glory counters from it \\u2192 draw 3 cards.\"],[0,\"<b>Hero Action</b> <i>(thwart)</i>: Remove 1 threat from a scheme for each toon counter on Spider-Ham.\"],[3,\"<b>Hero Action</b> <i>(attack)</i>: Exhaust Mjolnir \\u2192 deal 8 damage to an enemy and return Mjolnir to your hand. This attack gains overkill.\"],[2,\"Restricted. Uses (3 charge counters).\\n<b>Hero Interrupt</b>: When your hero makes a basic attack, exhaust Hand Cannon and remove 1 charge counter from it \\u2192 your hero gets +2 ATK for that attack. That attack gains overkill.\"],[1,\"Max 1 per player.\\n<b>Response</b>: After an ally defends against an attack and is not defeated, exhaust this card \\u2192 ready that ally.\"],[3,\"<b>Hero Action</b> <i>(attack)</i>: Deal 4 damage to an enemy. If that enemy is defeated by this attack, give your hero a tough status card.\"],[1,\"<b>Hero Response</b>: After your hero defends against an attack and takes no damage, exhaust Hard to Ignore \\u2192 remove 1 threat from the main scheme.\"],[3,\"<b>Hero Action</b>(attack): Deal 7 damage to an enemy. If that enemy has Death-Glow attached, this attack gains overkill.\"],[4,\"[star] <b>Forced Interrupt</b>: When Havok attacks, discard the top card of the encounter deck. For each boost icon ([boost]) discarded this way, Havok gets +1 ATK for this attack and takes +1 consequential damage ([consequential]).\"],[0,\"\\\"Quick Draw\\\" \\u2014 <b>Action</b>: Exhaust Hawkeye \\u2192 ready Hawkeye's bow.\"],[\"(?)\",\"(?)\"],[0,\"Restricted.\\nYour hero gets +1 ATK and each of your [[Arrow]] attacks gain ranged.\"],[1,\"You may play [[Arrow]] events attached to this card as if they were in your hand.\\n<b>Hero Action</b>: Exhaust Hawkeye's Quiver \\u2192 search the top 5 cards of your deck for an [[Arrow]] event and attach it faceup to this card.\"],[2,\"<b>Hero Action</b> (<i>attack</i>): Deal 3 damage to an enemy.\"],[0,\"Surge. Patrol. <i>(While this minion is engaged with you, you cannot thwart the main scheme.)</i>\"],[0,\"Unit Cost 4.\\n<b>Hero Action</b>: Exhaust Heavy Cannon \\u2192 deal 1 damage to each enemy. If you control the Milano, deal 1 additional damage to the villain.\"],[1,\"While your identity has the [[Aerial]] trait, reduce the amount of damage you take from each enemy attack by 1.\\n<b>Forced Interrupt</b>: When your turn begins, discard this card.\"],[5,\"<b>Response:</b> After Heimdall enters play, look at the top 3 cards of the encounter deck. Discard 1 of them and put the others back in any order.\"],[3,\"Max 1 per player.\\n<b>Action</b>: Exhaust Helicarrier \\u2192 choose a player. Reduce the resource cost of the next card that player plays this phase by 1.\"],[3,\"<b>Action</b>: Return Hellcat to your hand.\"],[0,null],[6,\"Reduce the cost to play Hercules by 1 for each minion engaged with you.\"],[0,null],[2,\"Play under any player's control. Max 1 per player.\\nYour hero gets +1 THW.\"],[3,\"<b>Hero Action</b> <i>(attack)</i>: Deal 6 damage to an enemy. If you paid for this card using a [physical] resource, stun that enemy.\"],[2,\"<b>Hero Action</b>: Discard the top 3 cards of the encounter deck. For each card discarded this way that has boost icons equal to:\\n- 0, deal 2 damage to an enemy.\\n- 1, remove 2 threat from a scheme.\\n- 2, draw 1 card.\\n- 3+, place a status card on a character.\"],[3,\"<b>Hero Action</b> <i>(attack/thwart)</i>: Deal 2 damage to an enemy. Remove 2 threat from a scheme.\"],[2,\"Play only if you are in [[Tiny]] hero form.\\n<b>Hero Action</b> <i>(thwart)</i>: Remove 2 threat from a scheme. Remove 1 additional threat from that scheme for each Army of Ants support you control.\"],[0,null],[1,\"<b>Hero Action:</b> Remove 1 toon counter from Spider-Ham \\u2192 loudly read this card's flavor text. Choose to either deal 5 damage to a minion or remove 5 threat from a side scheme.\"],[0,\"<b>Action</b>: Exhaust up to 3 [[S.H.I.E.L.D.]] cards you control and choose a scheme \\u2192 remove 2 threat from that scheme for each card exhausted this way.\"],[3,\"Requirement ([mental][mental]). Max 1 per player.\\n<b>Interrupt</b>: When you play an Aggression [[Attack]] event, if you paid for that event using a [mental] resource, increase the amount of damage that event deals by its printed cost.\"],[0,\"Play only if your identity has the [[Avenger]] trait.\\nAttach to a friendly character.\\nAttached character gets +1 hit point and gains the [[Avenger]] trait.\"],[0,\"Play only if your identity has the [[guardian]] trait.\\nAttach to a friendly character. Max 1 per character.\\nAttached character gets +1 hit point and gains the [[guardian]] trait.\"],[0,\"Play only if your identity has the [[X-MEN]] trait.\\nAttach to a friendly character. Max 1 per character.\\nAttached character gets +1 hit point and gains the [[X-MEN]] trait.\"],[3,\"<b>Hero Action:</b> Exhaust Host Spider \\u2192 ready SP//dr Suit.\"],[2,\"Spider-Ham gets +1 ATK.\\n<b>Hero Interrupt:</b> When Spider-Ham makes a basic attack, exhaust Huge Wooden Hammer and remove 1 toon counter from Spider-Ham \\u2192 Spider-Ham gets +2 ATK for that attack. That attack gains overkill.\"],[0,\"\\\"Enraged\\\" \\u2014 <b>Forced Interrupt</b>: When your turn ends, discard your hand.\"],[2,\"<b>Forced Response</b>: After Hulk attacks, discard the top card of your deck. If that card's printed resource has:\\n[physical] - Deal 2 damage to an enemy.\\n[energy] - Deal 1 damage to each character.\\n[mental] - Discard Hulk.\\n[wild] - All of the above.\"],[3,\"<b>Hero Interrupt</b>: When you make a basic attack, you get +10 ATK for that attack. If you paid for this card using only [physical] resources, that attack gains overkill.\"],[0,\"Permanent.\\nEach character gains retaliate 1.\\n<b>Special</b>: Remove 2 threat from a scheme.\"],[2,\"Quicksilver gets +1 THW.\"],[1,\"Unit Cost 4.\\n<b>Hero Action</b>: Exhaust Hyper Thrusters \\u2192 remove 1 threat from each scheme. If you control the Milano, remove 1 additional threat from the main scheme.\"],[1,\"<b>Hero Response</b>: After you make a basic thwart (using your THW), ready Rocket Raccoon. Rocket Raccoon gets +1 THW while in hero form until the end of the phase.\"],[3,\"Iceman enters play with 3 freeze counters on him.\\n<b>Response</b>: After a minion enters play, remove 1 freeze counter from Iceman \\u2192 stun that minion.\"],[1,\"<b>Special</b>: Confuse the villain and remove 4 threat from a scheme. Place this card in the [[Invocation]] deck discard pile.\"],[3,\"You get +4 hit points.\\nHulk gains retaliate 1.\"],[0,null],[2,\"<b>Hero Action</b> <i>(thwart)</i>: Remove 3 threat from the main scheme. If this is the first card you have played this round, return this card to your hand.\"],[0,\"Permanent. Setup.\\nYou get +1 hit points.\\nYour hero gets +1 ATK.\\n<b>Hero Response:</b> After you defeat a minion, exhaust this card \\u2192 draw 1 card.\"],[0,\"Permanent. Setup.\\nYou get +3 hit points.\\nYour hero gets +1 DEF.\\n<b>Hero Response:</b> After you defend against an attack, exhaust this card \\u2192 draw 1 card.\"],[0,\"Permanent. Setup.\\nYou get +4 hit points.\\nYour alter-ego gets +1 REC.\\n<b>Response:</b> After you use your REC, exhaust this card \\u2192 draw 1 card.\"],[0,\"Permanent. Setup.\\nYou get +2 hit points.\\nYour hero gets +1 THW.\\n<b>Response:</b> After you defeat a side scheme, exhaust this card \\u2192 draw 1 card.\"],[0,null],[0,\"Unit Cost 1.\\n<b>Hero Interrupt</b>: When an identity would take any amount of damage from an attack, prevent 2 of that damage. Draw 1 card.\"],[1,\"Unit Cost 3.\\n<b>Hero Action</b> <i>(thwart)</i>: Take 2 damage. Remove 5 threat from a scheme.\"],[2,\"<b>Action</b>: Shuffle this card into the encounter deck (without looking)\\n<b>When Revealed</b>: Deal 2 damage to the villain and remove this card from the game. This effect cannot be canceled.\"],[1,\"<b>Hero Action</b> <i>(thwart)</i>: Remove a total of 3 threat from among schemes in play.\"],[1,\"<b>Response</b>: After your hero defends, discard indomitable \\u2192 ready your hero.\"],[2,\"Play only if your identity has the [[Genius]] trait. Max 1 per player.\\n<b>Resource</b>: Exhaust Ingenuity \\u2192 generate a [mental] resource.\"],[0,\"Max 1 per deck.\\n<b>Hero Response</b>: After you spend this card, heal 1 damage from an ally you control.\"],[1,\"Attach to an ally. Max 1 per ally.\\nAttached ally gets +1 THW and +1 ATK.\"],[1,\"Play only if your identity has the [[Avenger]] trait.\\n<b>Hero Action</b>: Heal 1 damage from an ally and ready it.\"],[0,\"Mass form. Permanent.\\nVision cannot attack or defend.\\nReduce the amount of damage Vision takes from each attack by 2.\"],[1,\"<b>Hero Response</b>: After you ignore the crisis icon ([crisis]) on a scheme, exhaust Intangible Interference \\u2192 remove 2 threat from that scheme.\"],[1,\"Max 1 per player.\\n<b>Response</b>: After you defeat a minion, exhaust Interrogation Room \\u2192 remove 1 threat from a scheme.\"],[1,\"<b>Hero Action</b> <i>(thwart)</i>: Remove X threat from a scheme, where X is equal to your ATK.\"],[3,\"<b>Hero Action</b> <i>(attack)</i>: Deal 6 damage to a minion. For each point of excess damage dealt by this attack, remove 1 threat from the main scheme.\"],[3,\"<b>Hero Action</b>: Give your hero a tough status card.\"],[4,\"Iron First enters play with 2 mystic counters on him.\\n<b>Response</b>: When Iron Fist attacks an enemy, remove 1 mystic counter from him \\u2192 stun that enemy and deal 1 damage to it.\"],[0,\"You get +1 hand size for each [[Tech]] upgrade you control (to a maximum hand size of 7).\"],[4,\"Reduce the cost to play each upgrade on Iron Man by 1.\"],[3,\"<b>Response:</b> After Iron Man enters play, search your deck and discard pile for a [[tech]] upgrade and add it to your hand. Shuffle your deck.\"],[2,\"Colossus gets +1 THW.\\n<b>Response</b>: After a tough status card is discarded from Colossus, draw 1 card.\"],[0,\"(?)\"],[2,\"<b>Response</b>: After you play Ironheart from your hand, draw 1 card.\"],[4,\"<b>Response:</b> After Jack Flag thwarts, place 1 ammo counter on him.\\n<b>Hero Action</b>: Exhaust Jack Flag and remove 1 ammo counter from him \\u2192 deal 2 damage to an enemy.\"],[0,\"<b>Action</b>: Choose a War Machine card in your discard pile and shuffle it into your deck.\\n<b>Forced Response</b>: After you change to this form, discard each ammo counter from your identity.\"],[1,\"Restricted.\\n<b>Response:</b> After your hero attacks an enemy, spend a [physical] resource \\u2192 deal 2 damage to an enemy.\"],[0,\"<b>Setup</b>: Put your Phoenix Force upgrade into play, [[RESTRAINED]] side faceup. Place 4 power counters on it.\\n[star]<b>Response</b>: After you make a basic recovery, place 1 power counter on Phoenix Force.\"],[2,\"<b>Alter-Ego Action</b>: Exhaust Jefferson Davis \\u2192 remove 1 threat from the scheme with the least threat.\"],[0,\"\\\"I Object!\\\" \\u2014 <b>Interrupt</b>: When threat would be placed on a scheme, prevent 1 of that threat. (Limit once per round.)\"],[2,\"<b>Alter-Ego Action</b>: Exhaust Jesse Alexander \\u2192 shuffle 1 copy of Connection to the Worldmind from your discard pile into your deck. Draw 1 card.\"],[0,\"Double Agent \\u2014 Choose two aspects instead of one during deck-building. You must include an equal number of cards from those aspects in your deck.\\n<b>Action:</b>: Look at the top card of any deck. (Limit once per round.)\"],[1,\"<b>Alter-Ego Action</b>: Exhaust Jessica Drew's Apartment \\u2192 search the top 5 cards of your deck for an aspect card and add it to your hand. Shuffle your deck.\"],[3,\"Jessica Jones gets +1 THW for each side scheme in play.\"],[2,\"Star-Lord gains the [[aerial]] trait.\\n<b>Hero Interrupt</b>: When Star-Lord would take any amount of damage, exhaust Jet Boots \\u2192 prevent 1 of that damage for each facedown encounter card in front of you.\"],[3,\"You may play the event attached to Jocasta as if it were in your hand.\\n<b>Response:</b> After Jocasta enters play, choose a [[Defense]] event in your discard pile and attach it to her facedown.\"],[4,\"Alliance. <i>(The players can pay this card's costs as a group.)</i>\\n<b>Hero Action:</b> As a group, the players put a total of 1 [[Avenger]] ally and 1 [[Guardian]] ally into play from their hand(s).\"],[0,null],[2,\"<b>Response</b>: After Jubilee enters play, choose an enemy. Until the end of the phase, while Wolverine or Jubilee is making a basic attack against that enemy, they get +2 ATK for that attack.\"],[2,\"Uses (3 judo counters). Max 1 per player.\\n<b>Interrupt</b>: When you defend against an enemy attack, remove 1 judo counter from here \\u2192 that enemy gets -2 ATK for that attack.\"],[1,\"<b>Hero Interrupt</b> <i>(defense)</i>: When you would take any amount of damage, prevent 2 of that damage. If you paid for this card using a [energy] resource, remove 2 threat from the main scheme.\"],[1,\"Play only if Vision is in Intangible mass form.\\n<b>Hero Action</b> <i>(thwart)</i>: Remove 3 threat from a scheme, ignoring the patrol keyword and the crisis icon ([crisis]).\"],[1,\"Play under any player's control. Max 1 per player.\\n<b>Hero Response</b>: After you thwart and remove the last threat from a scheme, discard Justice Served \\u2192 ready your hero.\"],[2,\"<b>Response</b>: After Kaluu enters play, search the top 5 cards of your deck for an event \\u2192 add that event to your hand. Shuffle your deck.\"],[0,\"Teen Spirit \\u2014 <b>Action</b>: Discard cards from the top of your deck until you discard a Ms. Marvel card, then add that card to your hand. (Limit once per round.)\"],[4,\"<b>Response</b>: After you play Karma from your hand, choose a non-[[ELITE]] minion. While Karma is in play, take control of that minion and treat it as a [[CONTROLLED]] ally with a blank text box. Its THW is equal to its printed SCH and it takes 2 consequential damage after it thwarts or attacks.\"],[2,\"<b>Hero Action</b> <i>(attack)</i>: Deal 4 damage to an enemy and discard up to 4 cards from the top of your deck \\u2192 deal 1 additional damage to that enemy for each different aspect discarded this way (Aggression, Justice, Leadership and Protection)\"],[2,\"<b>Resource</b>: Exhaust Karmic Staff \\u2192 generate a [wild] resource\"],[1,\"<b>Resource</b>: Exhaust Keen Instincts \\u2192 generate a [wild] resource for an [[attack]] or [[thwart]] event.\"],[0,\"<b>Setup</b>: Put your mass form upgrade into play, Solid side faceup.\\n<i>Phase Control</i> - <b>Action</b>: Flip your mass form upgrade. (Limit once per round.)\"],[1,\"<b>Alter-Ego Action</b>: Exhaust Kitty's Room \\u2192 if you are in:\\n\\u2022 Solid mass form, heal 2 damage from Kitty Pryde.\\n\\u2022 Phased mass form, draw 1 card.\"],[3,\"Reduce the cost to play this card by 1 for each vengeance counter on Draw.\\n<b>Hero Interrupt</b>: When you make a basic attack, you get +5 ATK for that attack. That attack gains overkill and piercing.\"],[2,\"Play only if your identity has the [[guardian]] trait.\\nIncrease your ally limit by 1.\\n<b>Response</b>: After a player plays a [[guardian]] ally, exhaust Knowhere \\u2192 that player draws 1 card.\"],[0,\"(?)\"],[0,null],[4,\"<b>Response</b>: After Lady Sif enters play, ready Thor or Odinson.\"],[4,\"<b>Response:</b> After Lady Spider thwarts and removes threat from a scheme, if you control another [[Web-Warrior]] card, remove an equal amount of threat from a different scheme.\"],[1,\"Attach to a [[guardian]] ally. Max 1 per ally.\\nAttached ally gets +1 ATK and its attacks gain overkill.\"],[0,\"Setup.\\n<b>Hero Action:</b> Discard this card and remove it from the campaign log \\u2192 deal 5 damage to the villain and each enemy engaged with you.\"],[0,null],[1,\"<b>Hero Response</b>: After Groot uses a basic power, remove 2 growth counters from him and exhaust Lashing Vines \\u2192 ready Groot.\"],[0,\"<b>Hero Interrupt</b>: When an ally you control attacks, it gets +3 ATK for that attack. After that attack resolves, discard that ally.\"],[1,\"<b>Hero Response</b> <i>(thwart)</i>: After you change form, remove 3 threat from a scheme (4 threat instead if you paid for this card using a [mental] resource).\"],[2,\"<b>Hero Action</b>: Choose a player. Each character that player controls gets +1 THW and +1 ATK until the end of the phase.\"],[3,\"Each [[guardian]] character you control gets +1 THW.\"],[1,\"Uses (3 leadership counters). Max 1 per player.\\n<b>Interrupt</b>: When an ally makes a basic thwart or basic attack action, remove 1 leadership counter from here \\u2192 that ally gets +1 THW and +1 ATK for that action.\"],[1,\"Max 2 per deck. Uses (2 training counters).\\n<b>Alter-ego Action</b>: Exhaust this card and remove 1 training counter from it \\u2192 choose a leadership (blue) event in you discard pile and shuffle it into your deck.\"],[0,\"<b>Hero Interrupt</b>: When your hero makes a basic attack, discard the top card of the encounter deck \\u2192 reduce your hero's ATK for that attack by the number of printed boost icons on that card. If that attack still deals damage, ready your hero.\"],[0,\"<b>Alter-Ego Action</b> (<i>thwart</i>): Choose and discard up to 5 cards from your hand \\u2192 remove 1 threat from a scheme for each card discarded this way.\"],[0,\"<b>Hero Action</b>: Choose up to X [[technique]] upgrades you control. Resolve each of their \\\"Special\\\" abilities (in the order of your choice).\"],[1,\"Max 1 per player.\\n<b>Hero Response</b> <i>(attack)</i>: After a minion engages you, discard Lie in Wait \\u2192 deal 3 damage to that minion.\"],[3,\"<b>Hero Action</b> <i>(attack)</i>: Deal 8 damage to an enemy. If Thunderstorm is in play, resolve its \\\"<b>Special</b>\\\" ability.\"],[1,\"<b>Hero Action</b>: Spend X [energy] resources \\u2192 deal X damages to the villain and each minion engaged with you. This attack ignores tough statuses card if you have the [[Aerial]] trait.\"],[2,\"Double the number of [wild] resources generated while paying for this card.\\n<b>Hero Action</b> <i>(thwart)</i>: Remove 3 threat from a scheme.\"],[1,\"Play only if your identity has at least 14 printed hit points.\\n<b>Hero Action:</b> Ready your hero.\"],[0,\"Spend this card only in hero form.\"],[2,\"<b>Action</b>: Shuffle this card into the encounter deck (without looking)\\n<b>When Revealed</b>: Remove 2 threat from the main scheme and remove this card from the game. This effect cannot be canceled.\"],[0,\"<b>Action</b> Search your deck for a [[weapon]] upgrade and add it to your hand. Shuffle your deck.\"],[2,\"<b>Response</b>: After Lockheed enters play, if you are in:\\n\\u2022 Solid mass form, deal 2 damage to an enemy.\\n\\u2022 Phased mass form, remove 2 threat from a scheme.\"],[4,\"You may play Lockjaw from your discard pile during your turn (paying his resource cost).\"],[0,\"<i>Snikt!</i> - <b>Setup</b>: Search your deck and discard pile for the Wolverine's Claws upgrade and put it into play.\"],[1,\"<b>Alter-Ego Action</b>: Exhaust Logan's Cabin \\u2192 shuffle 1 Wolverine card from you discard pile into your deck.\"],[4,\"Play only if your identity has the [[X-MEN]] trait.\\n[star] <b>Response</b>: After Longshot attacks a non-[[ELITE]] minion, discard the top card of the encounter deck. If that card has a star icon ([star]) in the boost area, defeat the attacked minion.\"],[0,\"<b>Hero Action</b> <i>(thwart)</i>: Discard cards from the top of the encounter deck until you discard a minion. Put that minion into play engaged with you \\u2192 remove 3 threat from the main scheme.\"],[4,\"Toughness. <i>(This character enters play with a tough status card.)</i>\"],[3,\"<b>Hero Action</b> <i>(attack)</i>: Deal 8 damage to an enemy. If you exhausted Wolverine's Claws to play this card, this attack gains overkill.\"],[2,\"<b>Interrupt:</b> When Machine Man attacks or thwarts, spend up to 3 resources of any type \\u2192 Machine Man gets +1 THW and +1 ATK for each resource spent this way.\"],[0,\"<b>Hero Interrupt</b>: When you make a basic attack, discard a tough status card from your hero \\u2192 you get +6 ATK for that attack. That attack gains overkill.\"],[1,\"Play only if your identity has the Mystic trait. Max 1 per deck.\\n<b>Hero Action</b> <i>(attack)</i>: Choose an enemy and discard up to 5 cards from the top of your deck \\u2192 deal 1 damage to that enemy for each card discarded this way.\"],[3,\"<b>Hero Action</b> <i>(attack)</i>: Deal 5 damage to an enemy and discard the top card of your deck. If that card's printed resource has:\\n[physical] - Stun that enemy.\\n[energy] - Deal 2 damage to that enemy.\\n[mental] - Confuse that enemy.\\n[wild] - All of the above.\"],[1,\"<b>Hero Interrupt:</b> When a friendly character would take any amount of damage, discard Magic Shield \\u2192 prevent 3 of that damage.\"],[1,\"Play under any player's control.\\nYour hero gets +1 THW, +1 ATK, and +1 DEF.\\n<b>Forced Interrupt</b>: When the round ends, discard Magical Enhancements.\"],[3,\"<b>Response</b>: After you play Magik from your hand, spend a [mental] resource \\u2192 choose a non-[[Elite]] minion engaged with an [[X-MEN]] hero. Shuffle that minion into the encounter deck.\"],[0,\"Victory 1.\\nThe first player controls Magneto. He does not count against your ally limit.\\n[star] <b>Response</b>: After Magneto attacks and defeats a [[SENTINEL]] minion, heal 1 damage from Magneto.\"],[0,null],[0,\"Attach to Magneto.\\nPermanent.\"],[2,\"<b>Interrupt</b>: When Major Victory is defeated, choose a friendly Guardian character \\u2192 ready that character.\"],[0,\"<b>Action</b>: Pay the printed cost of an ally in any player's discard pile \\u2192 put that ally into play under your control.\"],[1,\"<b>Hero Interrupt:</b> When your hero makes a basic thwart, it gets +2 THW for that thwart. After that thwart ends, if your hero removed all threat from a scheme that way, heal 2 damage from your hero.\"],[2,\"<b>Action:</b> Exhaust Mantis and deal 1 damage to her \\u2192 heal 3 damage from an identity.\"],[2,\"<b>Response</b>: After Maria Hill enters play, each player draws 1 card.\"],[3,\"You get +6 hit points.\"],[1,\"<b>Hero Action</b> (<i>thwart</i>): Exhaust Mark V Helmet \\u2192 remove 1 threat from a scheme (from each scheme instead if you have the [[Aerial]] trait).\"],[0,\"Attach to a minion. Max 1 per minion.\\nAttacks against attached minion gain overkill.\"],[0,\"Your hand size is reduced by 1.\\n<b>Alter-Ego Action:</b> Deal yourself an encounter card and spend a [energy] resource \\u2192 discard this card.\"],[2,\"Play under any player's control.\\nMax 1 per player.\\n<b>Resource</b>: Exhaust Martial Prowess \\u2192 generate a [physical] resource for an [[Attack]] event.\"],[3,\"Reduce the cost to play Martinex by 1 if your identity has the Guardian trait.\"],[4,\"<b>Response:</b> After Martyr takes consequential damage from performing an attack, if that attack defeated an enemy, give her a tough status card.\"],[2,\"<b>Interrupt</b>: When Marvel Boy attacks, spend a [physics] resource \\u2192 this attack gains piercing and ranged\"],[3,\"[star]<b>Interrupt</b>: When Marvel Girl attacks a minion, remove X threat from the main scheme, where X is that minion's printed SCH.\"],[3,\"<b>Hero Action</b>: Exhaust 3 allies you control that shares a Trait with your hero \\u2192 deal X damage to an enemy, where X is the total ATK of those allies and your hero.\"],[1,\"Play only if Vision is in Dense mass form.\\n<b>Hero Interrupt</b> <i>(defense)</i>: When Vision defends, prevent all damage from that attack. Stun the attacking enemy after that attack resolves.\"],[1,\"<b>Hero Action</b>: Pay the printed cost of the top card of the [[Invocation]] deck \\u2192 resolve its \\\"<b>Special</b>\\\" ability. Then, place it back on top of the [[Invocation]] deck faceup.\"],[2,\"Max 1 per phase.\\n<b>Hero Action:</b> You get +2 THW, +2 ATK, and +2 DEF until the end of the round.\"],[0,\"(?)\"],[1,\"Max 1 per player.\\n<b>Response</b>: After an ally is defeated by consequential damage, exhaust Med Lab \\u2192 place it here. (Limit 1 ally at a time.)\\n<b>Alter-Ego Action</b>: Exhaust Med Lab \\u2192 play the ally here as if it was in your hand. It enters play exhausted.\"],[3,\"Uses (3 medical counters). <i>(Enters play with 3 counters. When those are gone, discard this card.)</i>\\n<b>Action</b>: Exhaust Med Team and remove 1 medical counter from it \\u2192 heal 2 damage from a friendly character.\"],[0,\"<b>Forced Response:</b> At the end of your turn, take 1 damage if you are in hero form.\\n<b>Alter-Ego Action:</b> Discard the top 5 cards of your deck and spend a [physical] resource \\u2192 discard this card.\"],[0,\"<b>Alter-Ego Action:</b> Exhaust your alter-ego \\u2192 play a card from your hand, reducing its resource cost by 3.\"],[3,\"<b>Hero Action</b> <i>(attack)</i>: Deal 3 damage to an enemy. Deal 3 damage to another enemy.\"],[2,\"Hero form only. Attach to a non-[[ELITE]] minion.\\nAttached minion cannot activate.\\n<b>Forced Response</b>: After you flip to alter-ego form, discard this card.\"],[0,null],[0,\"Permanent.\\nThe first player controls Metro P.D.\"],[3,\"Play under any player's control. Max 1 Team per player.\\nIf each of your characters has the Avengers trait, each ally you control gets +1 THW and +1 ATK.\"],[0,\"<b>Response</b>: After you change to this form, shuffle 1 Spider-Man card from your discard pile into your deck.\"],[4,\"Attach to a non-[[ELITE]] minion.\\nTake control of attached minion and treat it as a [[CONTROLLED]] ally with a blank text box. Its THW is equal to its printed SCH and it takes 1 consequential damage after it thwarts or attacks.\"],[3,\"<b>Response</b>: After Mirage enters play, choose an enemy whose SCH is less than Mirage's THW \\u2192 stun that enemy.\"],[1,\"<b>Hero Action</b> <i>(attack)</i>: Exhaust Missile Launcher and remove 1 ammo counter from War Machine \\u2192 deal 2 damage to an enemy. This attack gains ranged.\"],[1,\"Attach to an [[X-MEN]] ally. Max 1 [[TRAINING]] upgrade per ally.\\nAttached ally gets +1 THW point and +2 hit points.\"],[1,\"Restricted. <i>(Max 2 restricted cards per player.)</i>\\nThor gets +1 ATK and gains the [[Aerial]] trait.\"],[3,\"<b>Interrupt</b>: When the villain initiates an attack against you, spend 1 resource of any type and return Mockingbird to your hand \\u2192 prevent all damage from this attack.\"],[3,\"<b>Response</b>: After Mockingbird enters play, stun an enemy.\"],[2,\"Play only if your identity has the [[MUTANT]] trait.\\n<b>Response</b>: After a [[MUTANT]] alter-ego changes into hero form, exhaust Moira MacTaggert \\u2192 that hero's controller draws 1 card.\"],[0,\"<b>Hero Interrupt</b>: When you spend this card, place 1 charge counter on Gambit.\"],[3,\"<b>Hero Action</b> <i>(attack)</i>: Deal 5 damage to an enemy and discard the top 2 cards of the encounter deck. For each boost icon discarded this way, deal 1 additional damage to that enemy.\"],[0,\"<b>Hero Response:</b> After you attack and defeat an enemy, heal 1 damage from your hero for each point of excess damage dealt to that enemy by that attack.\"],[2,\"<b>Hero Action</b> <i>(attack)</i>: Heal 2 damage from your hero \\u2192 deal 2 damage to an enemy.\"],[3,\"<b>Response</b>: After Monica Chang enters play, search your deck, hand and discard pile for a copy of Surveillance Team support and put it into play. Place 1 snoop counter on each Surveillance Team you control.\"],[0,\"<b>Setup:</b> Put all 3 energy form upgrades into play, facedown.\\n<i>Power Down</i> - <b>Forced Response:</b> After you change to this form, turn all your energy upgrades facedown.\"],[3,\"Play only if your identity has the [[champion]] or [[genius]] trait.\\n<b>Response</b>: After you play Moon Girl from your hand, draw 1 card for each [mental] resource used to pay for her.\"],[3,\"<b>Action:</b> Exhaust and discard Moondragon \\u2192 choose a minion. That minion attacks another enemy of your choice.\"],[1,\"<b>Hero Action</b>: Choose a hero. Until the end of the round, that hero gets +1 THW, +1 ATK, and +1 DEF\"],[1,\"Unit Cost 6.\\n<b>Hero Action</b>: Exhaust Mounted Laser \\u2192 deal 2 damage to an enemy (3 damage instead if you control the Milano).\"],[0,\"<b>Hero Response:</b> After you change form, your hero gets +1 THW, +1 ATK, +1 DEF until the end of the round.\"],[0,\"\\\"Morphogenetics\\\" \\u2014 <b>Response</b>: After you play an [[Attack]], [[Thwart]], or [[Defense]] event, exhaust Ms. Marvel \\u2192 return that event to your hand.\"],[3,\"<b>Hero Response</b>: After you play an event, exhaust Ms. Marvel and deal 1 damage to her \\u2192 return that event to your hand.\"],[3,\"Restricted.\\n<b>Hero Action</b>: Exhaust Multi-Gun \\u2192 choose one of the following:\\nDeal 2 damage to an enemy\\nChoose a player. Deal 1 damage to each minion engaged with that player.\\nRemove 2 threat from a scheme.\"],[4,\"<b>Response</b>: After Multiple Man enters play, search your deck and hand for a copy of Multiple Man and put it into play. Shuffle your deck if it was searched this way.\"],[1,\"<b>Hero Action</b> <i>(thwart)</i>: Remove 2 threat from a scheme. If you paid for this card using a [mental] resource, remove 2 threat from a different scheme.\"],[2,\"<b>Alter-Ego Action</b>: Exhaust Munitions Bunker \\u2192 Place 2 ammo counters here.\\n<b>Hero Action</b>: Exhaust Munitions Bunker \\u2192 move each ammo counter here to War Machine.\"],[3,\"Play only if your identity has the [[Avenger]] trait.\\n<b>Hero Action:</b> Give up to X friendly characters a tough status card (to a maximum of 3 characters), where X is equal to the villain's stage number.\"],[0,\"Play only if your identity has the [[MUTANT]] trait.\\n<b>Alter-Ego Action</b>: Choose up to 2 identity-specific cards in your discard pile and shuffle them into your deck. If X-Mansion is in play, draw 1 card.\"],[1,\"Play only if your identity has the [[X-MEN]] trait.\\n<b>Hero Action</b> <i>(thwart)</i>: Exhaust your hero and any number of [[X-MEN]] allies \\u2192 remove X threat from among schemes in play, where X is the total THW of those characters.\"],[1,\"Play only if your identity has the [[X-MEN]] trait.\\n<b>Hero Interrupt</b> <i>(defense)</i>: When an enemy attacks, put an [[X-MEN]] ally into play from your hand. Exhaust it and declare it the defender for this attack.\"],[2,\"<b>Hero Response</b>: After you resolve Adam Warlock's \\\"Battle Mage\\\" ability, draw 1 card.\"],[1,\"<b>Alter-Ego Action</b>: Search your deck and discard pile for a Doctor Strange card and add it to your hand. Shuffle your deck.\"],[0,\"G.I.R.L. \\u2014 <b>Action:</b> Shuffle up to 2 cards with a printed [mental] resource from your discard pile into your deck. (Limit once per round.)\"],[1,\"<b>Alter-Ego Action</b>: Exhaust Nakia Bahadir \\u2192 reduce the cost of the next card you play this phase by 1.\"],[0,\"Mission Prep \\u2014 <b>Response</b>: After you play a [[Preparation]] card, draw 1 card. (Limit once per phase.)\"],[0,\"<b>Hero Interrupt</b> <i>(defense)</i>: When you defend against an attack, place 1 charge counter on Gambit \\u2192 for each charge counter on Gambit, you get +1 DEF for that attack.\"],[2,\"Unit Cost 6.\\n<b>Hero Action</b>: Exhaust Navigation Column, choose and discard 1 card from your hand (discard the top card of your deck instead if you control the Milano) \\u2192 draw 1 card.\"],[2,\"<b>Response:</b> After Nebula enters play, search your deck for an [[attack] or [[thwart]] event and add it to your hand. Shuffle your deck.\"],[0,\"(?)\"],[2,\"<b>Resource</b>: Exhaust Nebula's Ship \\u2192 generate a [wild] resource.\"],[2,\"Play under any player's control.\\nMax 1 per player.\\n<b>Resource</b>: Exhaust Nerves of Steel \\u2192 generate a [energy] resource for a [[Defense]] event.\"],[1,\"<b>Hero Interrupt</b> <i>(defense)</i>: When you defend against an attack, you get +2 DEF for this attack. If you take no damage from this attack, stun the attacking enemy.\"],[3,\"<b>Hero Action</b>: Choose X different options, where X is equal to Ironheart's [[version]] number:\\n\\u2022 Search your deck for an Ironheart card and add it to your hand. <i>(Shuffle.)</i>\\n\\u2022 Give Ironheart a tough status card.\\n\\u2022 Ready Ironheart.\"],[4,\"<b>Forced Response</b>: After Nick Fury enters play, choose one: remove 2 threat from a scheme, draw 3 cards, or deal 4 damage to an enemy. At the end of the round, if Nick Fury is still in play, discard him.\"],[3,\"<b>Interrupt</b>: When an [[X-MEN]] character would take any amount of damage from an enemy attack, spend a [energy] resource and return Nightcrawler to your hand \\u2192 prevent all of that damage.\"],[2,\"Requirement ([physical]).\\n<b>Hero Action</b> <i>(attack)</i>: Deal 4 damage to an enemy. For each point of excess damage dealt to that enemy by this attack, discard the top card of your deck and add each Aggression (red) card discarded this way to your hand.\"],[0,null],[1,\"<b>Hero Interrupt</b> <i>(defense)</i>: When your hero defends against an attack, it gets +2 DEF for that attack. If you take no damage from that attack, remove 2 threat from a scheme.\"],[4,\"<b>Interrupt</b>: When an enemy initiates an attack against you, spend a [energy] resource \\u2192 deal 2 damage to that enemy.\"],[0,\"<b>Response</b>: After you use one of Nova's basic powers (THW, ATK, or DEF), ready Supernova Helmet.\"],[5,\"<b>Response:</b> After you play Nova Prime from your hand, defeat a non-[[elite]] minion.\"],[0,\"Worthy \\u2014 <b>Action</b>: Search your deck and discard pile for the Mjolnir upgrade and add it to your hand. Shuffle your deck. (Limit once per round).\"],[0,null],[0,\"Surge.\\n<b>When Revealed</b>: Choose to either take 2 damage or discard 1 card at random from your hand.\"],[0,\"Max 1 per round.\\n<b>Hero Action</b>: Search the encounter deck for a side scheme. Reveal that side scheme \\u2192 draw 3 cards (shuffle the encounter deck).\"],[1,\"<b>Hero Action</b> <i>(attack)</i>: Deal 2 damage to an enemy. If this attack defeats that enemy, deal 2 damage to an enemy.\"],[1,\"<b>Response</b>: After you make a basic attack <i>(using your ATK)</i>, ready She-Hulk.\"],[0,\"Unit Cost 5.\\n<b>Hero Interrupt</b>: When a card is revealed from the encounter deck, cancel the effects of that card and discard it.\"],[0,null],[2,\"Uses (3 operative counters). Max 1 per player.\\n<b>Interrupt</b>: When you thwart, remove 1 operative counter from here \\u2192 that thwart removes 1 additional threat.\"],[1,\"Team-Up (Quicksilver and Scarlet Witch). Max 1 per deck.\\n<b>Hero Interrupt</b>: When a treachery card is revealed from the encounter deck, cancel its \\\"<b>When Revealed</b>\\\" effects, then deal 2 damage to the villain.\"],[2,\"Uses (2 steel counters).\\n<b>Hero Response</b>: After a tough status card is discarded from Colossus, exhaust this card and remove 1 steel counter from it \\u2192 give Colossus a tough status card.\"],[2,\"Spider-Ham gets +1 THW.\\n<b>Hero Action:</b> Exhaust Organic Webbing and remove 1 toon counter from Spider-Ham \\u2192 ready Spider-Ham. He gains the [[Aerial]] trait until the end of the phase.\"],[0,\"Ororo Munroe begins the game with a [[WEATHER]] deck. (See insert.)\\n<i>\\\"I feel a storm coming...\\\"</i> \\u2014 <b>Setup</b>: Choose a support from the [[WEATHER]] deck and put it into play.\"],[1,\"<b>Alter-Ego Action</b>: Exhaust Ororo's Garden \\u2192 heal 2 damage from your identity.\"],[2,\"<b>Hero Action</b> <i>(attack)</i>: Deal 3 damage to an enemy (5 damage instead if that enemy has the guard or patrol keyword).\"],[0,\"Attach to a scheme. Max 1 per scheme.\\n<b>Hero Interrupt:</b> When any amount of threat is removed from attached scheme by a thwart, discard this card \\u2192 remove an equal amount of threat from a different scheme.\"],[2,\"<b>Special</b> (<i>attack</i>): Deal 2 damage to an enemy (4 damage instead if this is the final step of this sequence).\\n<i>(Play the \\\"Wakanda Forever!\\\" event to use this ability.)</i>\"],[0,\"<b>Alter-Ego Action</b>:\\n- If George Stacy is in play, attach 1 event from your hand or discard pile facedown to George Stacy.\\n- If George Stacy is not in play, search your deck and discard pile for him and add him to your hand. <i>(Shuffle.)</i>\"],[0,\"<b>Hero Interrupt</b> <i>(defense)</i>: When you would take any amount of damage, prevent X of that damage, where X is equal to double your ATK.\"],[3,\"Restricted. Enters play with 2 charge counters on it.\\n<b>Hero Action</b> <i>(attack)</i>: Exhaust Particle Cannon and remove 1 charge counter from it \\u2192 deal 4 damage to an enemy. This attack gains overkill and ranged.\"],[0,\"Max 2 per deck.\\n<b>Interrupt</b>: When you spend this card to play a [[THWART]] event, that event removes 1 additional threat.\"],[3,\"<b>Hero Response</b>: After Patriot enters play, choose a [[champion]] character \\u2192 that character gets +1 to each of its basic powers until the end of the round.\"],[0,\"<b>Hero Response</b> <i>(attack)</i>: After the villain attacks you, deal X damage to the villain, where X is equal to your ATK.\"],[0,\"<i>Psychogenetic Compatibility</i> \\u2014 <b>Setup:</b> Put SP//dr Suit into play, [[Inactive]] side faceup.\\n<i>Maintenance</i> \\u2014 <b>Alter-Ego Action:</b> Exhaust SP//dr Suit \\u2192 draw 2 cards.\"],[3,\"<b>Resource</b>: Exhaust Pepper Potts \\u2192 generate the resources of the top card in your discard pile.\"],[1,\"<b>Hero Response</b>: After you change form, give your hero a tough status card.\"],[0,\"Scientist \\u2014 <b>Resource</b>: Generate a [mental] resource. (Limit once per round.)\"],[0,\"<i>Cartoon Power</i> \\u2014 <b>Response:</b> After you make a basic recovery, place 1 toon counter on Peter Porker.\"],[0,\"<b>Setup:</b> Search your deck and discard pile for a copy of the Element Gun upgrade and add it to your hand.\\nSmooth Talker \\u2014 <b>Action:</b> Choose a card in your hand. Swap that card with the top card of your deck. (Limit once per round.)\"],[0,\"<b>Hero Action:</b> Stick your tongue out at the villain. The villain attacks you. Draw 3 cards.\"],[2,\"<b>Hero Response</b> <i>(thwart)</i>: After Ghost-Spider uses a basic power, remove 5 threat from a scheme. (Max 1 per basic power use.)\"],[2,\"Play only if Vision is in Intangible mass form.\\n<b>Hero Action:</b> Confuse an enemy. Choose an attachment on that enemy with the text \\\"<b>Hero Action</b>\\\" or \\\"<b>Hero Response</b>\\\" and discard that attachment.\"],[3,\"<b>Hero Action</b> <i>(attack)</i>: Deal 6 damage to an enemy. If you are in Phased mass form, you may discard an attachment with the text \\\"<b>Hero Action</b>\\\" or \\\"<b>Hero Response</b>\\\" from that enemy.\"],[0,\"Mass form. Permanent.\\nWhile Shadowcat is defending, she cannot take damage.\\n<b>Forced Response</b>: After you attack or defend in Phased mass form, flip this card.\"],[3,\"Hero form only. Attach to an enemy. Max 1 per enemy.\\n<b>Forced Interrupt</b>: When attached enemy would attack, discard this card insted. Then, confuse that enemy.\"],[2,\"<b>Hero Action</b>: Stun and confuse an enemy.\"],[3,\"<b>Response</b>: After Phoenix enters play, choose a Cyclops card in your discard pile and add it to your hand.\"],[0,\"<i>Psionic Bond</i> \\u2014 <b>Hero Resource</b>: Remove 1 power counter from Phoenix Force \\u2192 generate a [wild] resource. (Limit once per phase.)\"],[1,\"<b>Hero Action</b>: Choose:\\n\\u2022 Remove 1 power counter from Phoenix Force \\u2192 ready Phoenix.\\n\\u2022 Place 2 power counters on Phoenix Force.\"],[0,\"(?)\"],[2,\"Phoenix gains the [[AERIAL]] trait.\\nWhile you have the [[RESTRAINED]] trait, you gain steady.\\nWhile you have the [[UNLEASHED]] trait, you gain retaliate 1.\"],[0,\"Energy form. Permanent.\\nSpectrum gets +2 THW.\\n<b>Hero Response:</b> After you change to this form, remove 1 threat from a scheme.\"],[2,\"<b>Hero Action</b> <i>(attack)</i>: Deal 4 damage to an enemy and place 1 progress counter on Ironheart (2 progress counters instead if this attack defeats that enemy).\"],[2,\"You get +2 hit points.\\n<b>Hero Action</b>: Exhaust Photon Blasters \\u2192 deal damage to an enemy equal to Ironheart's [[Version]] number.\"],[2,\"<b>Hero Action</b> <i>(thwart)</i>: Change to Photon energy form and remove 4 threat from a scheme. If you were already in Photon energy form, ignore crisis icon for this thwart.\"],[3,\"<b>Hero Action</b> (<i>attack</i>): Deal 5 damage to an enemy. If you paid for this card using a [energy] resource, draw 1 card.\"],[2,\"<b>Hero Action</b> <i>(attack)</i>: Deal 3 damage to an enemy. This attack gains piercing.\"],[0,\"Superpowered Siblings \\u2014 <b>Action:</b> Discard 2 cards from your hand \\u2192 draw 2 cards (draw 3 cards instead if Wanda Maximoff is in play). (Limit once per round.)\"],[0,\"Attach to a minion. Max 1 per minion.\\nAttached minion gets -2 ATK.\"],[2,\"Play only if your identity has the [[champion]] trait.\\n<b>Hero Interrupt</b>: When a player card would be placed into a discard pile from play, exhaust Pinpoint \\u2192 shuffle that card into its owner's deck instead.\"],[3,\"<b>Hero Action</b> <i>(attack)</i>: Deal 7 damage to an enemy. If you are in [[Tiny]] hero form, this attack deals 1 additional damage to that enemy and gains overkill.\"],[0,\"<b>Setup</b>: Search your deck for a copy of Organic Steel and add it to your hand.\\n<i>Aspiring Artist</i> - <b>Response</b>: After you change to this form, shuffle a Colossus card from your discard pile into your deck.\"],[1,\"<b>Alter-Ego Action</b>: Exhaust Piotr's Studio \\u2192 discard cards from your deck until you discard a Colossus card. Add that card to your hand.\"],[2,\"Toughness.\\nWhile Pip the Troll is in your hand, he gains \\\"<b>Interrupt</b>: When a player is attacked, spend[energy][mental] resources \\u2192 put Pip the Troll into play under that player's controller.\\\"\"],[2,\"<b>Hero Interrupt</b>: When a card is revealed from the encounter deck, deal damage to the villain equal to 1 more than the boost icons <i>([boost])</i> on that card. Cancel that card's \\\"<b>When Revealed</b>\\\" effects.\"],[1,\"Play only if your identity has the [[Aerial]] trait.\\n<b>Hero Response</b> <i>(attack)</i>: After your hero attacks, deal 4 damage to an enemy.\"],[2,\"<b>Hero Action</b>: Deal 2 damage to the villain (5 damage instead if there is no threat on the main scheme).\"],[2,\"<b>Response</b>: After you play Pixie from your hand, add an [[X-MEN]] ally from your discard pile to your hand.\"],[1,\"Play under any player's control. Max 1 per player.\\n<b>Hero Action</b>: Exhaust Plan B and discard 1 random card from your hand \\u2192 deal 2 damage to an enemy.\"],[0,\"<b>Action</b>: Search the top 4 cards of your deck (top 7 cards instead if you are in alter-ego form) for an [[attack]] event and add that card to your hand. Shuffle your deck.\"],[2,\"Restricted.\\nUses (3 charge counters).\\n<b>Hero Action</b>: Exhaust Plasma Pistol and remove 1 charge counter from it \\u2192 deal 1 damage to an enemy.\"],[3,\"<b>Response</b>: After Polaris enters play, give an [[X-MEN]] character a tough status card.\"],[2,\"Double the number of [wild] resources generated while paying for this card.\\n<b>Hero Action</b> <i>(attack)</i>: Deal 4 damage to an enemy.\"],[1,\"Attach to an [[Avenger]] ally. Max 1 per ally.\\n<b>Response:</b> After attached ally attacks or thwarts, deal 1 damage to an enemy.\"],[3,\"Power Man enters play with 2 chi counters on him.\\n<b>Action</b>: Discard any number of chi counters from Power Man \\u2192 he gets +2 ATK for each chi counter discarded this way until the end of the phase.\"],[0,\"Unit Cost 7.\\n<b>Hero Action</b>: Deal 5 damage to the villain and remove 5 threat from the main scheme. Remove this card from the game.\"],[1,\"<b>Hero Response</b>: After your hero uses a basic power, discard Power Within \\u2192 resolve Spider-Man's <i>\\\"Venom Blast\\\"</i> ability.\"],[2,\"<b>Hero Action</b> (<i>attack</i>): Exhaust Powered Gauntlets \\u2192 deal 1 damage to an enemy (2 damage instead if you have the [[Aerial]] trait).\"],[2,\"<b>Hero Interrupt</b> <i>(attack/defense)</i>: When an enemy initiates an attack, deal 4 damage to that enemy.\"],[0,\"Attach to an enemy. Max 1 per enemy.\\nTemporary.\\nAttached enemy gets -1 ATK.\"],[1,\"<b>Hero Action</b> <i>(attack)</i>: Deal 2 damage to an enemy. If this attack defeats that enemy, heal 2 damage from your hero.\"],[1,\"<b>Hero Interrupt</b> <i>(defense)</i>: When a boost card is turned face up while the villain attacks, cancel all boost icons ([boost]) on that card. Then deal 1 damage to the villain for each boost icon cancelled this way.\"],[0,\"Max 1 per deck.\\n<b>Hero Response</b>: After you spend this card, heal 1 damage from your hero.\"],[1,\"<b>Hero Action</b> <i>(attack)</i>: Deal 2 damage to an enemy. If that enemy is stunned or confused, draw 1 card.\"],[0,\"Attach to an enemy. Max 1 per enemy.\\nTemporary.\\n<b>Interrupt</b>: When attached enemy is defeated, the player who defeated it draws 2 cards.\"],[4,\"Alliance.\\n<b>Hero Action</b> <i>(thwart)</i>: Exhaust an [[avenger]] character and a [[guardian]] character \\u2192 remove X threat from each scheme, where X is equal to the combined THW of those characters.\"],[3,\"<b>Forced Response</b>: After Professor X enters play, choose one: confuse the villain, stun a minion, or ready an [[X-MEN]] character. At the end of the round, if Professor X is still in play, discard him.\"],[1,\"<b>Alter-Ego Action</b>: Exhaust Project Rebirth 2.0 \\u2192 choose to either draw 1 card or heal 3 damage from Flash Thompson.\"],[0,null],[2,\"You get +2 hit points.\\n<b>Hero Action</b>: Exhaust Propulsion Jets \\u2192 remove threat from a scheme equal to Ironheart's [[Version]] number.\"],[1,\"Attach to an [[X-MEN]] ally. Max 1 [[Training]] upgrade per ally.\\nAttached ally gets +3 hit points.\"],[1,\"<b>Hero Interrupt</b>: When a treachery is revealed from the encounter deck, cancel all of its effects and discard it.\"],[4,\"<b>Interrupt:</b> When Protector would take any amount of damage, spend a [mental] resource \\u2192 reduce that amount by 1. (Limit once per round.)\"],[2,\"Play only if your identity has the [[PSIONIC]] trait.\\n<b>Hero Action</b> <i>(attack)</i>: Deal 3 damage to an enemy. Confuse that enemy.\"],[2,\"<b>Hero Action</b>: Deal 4 damage to the villain. If you have the [[UNLEASHED]] trait, deal 4 damage to each minion engaged with you.\"],[0,\"Play only if your identity has the [[PSIONIC]] trait.\\n<b>Hero Action</b>: Ready an ally. That ally gets +2 THW and +2 ATK for its next basic thwart or attack action this phase.\"],[2,\"<b>Hero Interrupt:</b> When SP//dr Suit makes a basic thwart, exhaust Psychic Link \\u2192 it gets +2 THW for that thwart.\"],[3,\"Play only if your identity has the [[PSIONIC]] trait.\\n<b>Interrupt</b> <i>(thwart)</i>: When the villain schemes, this activation removes threat instead of placing it.\"],[2,\"Play only if your identity has the [[PSIONIC]] trait.\\n<b>Hero Interrupt</b> <i>(defense)</i>: When an enemy attacks you, choose a different enemy \\u2192 damage from that attack is dealt to the chosen enemy instead of you.\"],[2,\"Team-Up (Cyclops and Phoenix). Max 1 per deck.\\n<b>Hero Action</b>: Ready Cyclops and Phoenix. Choose to either return a Cyclops card from your discard pile to your hand or place 2 power counters on Phoenix Force.\"],[4,\"Psylocke enters play with 2 psionic counters on her.\\n[star] <b>Interrupt</b>: When Psylocke attacks an enemy, remove 1 psionic counter from her \\u2192 confuse that enemy and deal 1 damage to it.\"],[0,null],[0,\"Energy form. Permanent.\\nSpectrum gets +2 DEF.\\n<b>Hero Response:</b> After you change to this form, heal 1 damage from Spectrum.\"],[1,\"<b>Hero Interrupt</b> <i>(defense)</i>: When Spectrum defends, change to Pulsar energy form and ready Spectrum. If you were already in Pulsar energy form, she gains retaliate 1 until the end of the phase.\"],[2,\"<b>Hero Action</b> <i>(attack)</i>: Discard Pulse Grenade and choose an enemy \\u2192 discard the top 2 cards of the encounter deck. Deal 1 damage to the chosen enemy for each boost icon discarded this way.\"],[3,\"Requirement ([mental]). <i>(While paying for this card, spend the listed resources.)</i>\\n<b>Hero Action</b> <i>(thwart)</i>: Exhaust your hero \\u2192 remove threat from a scheme equal to the total of your hero's THW, ATK, and DEF values.\"],[0,\"<b>Hero Response:</b> After you spend this card, heal 2 damage from your hero if you are in [[Giant]] hero form or draw 1 card if you are in [[Tiny]] hero form.\"],[0,\"<b>Hero Response</b>: After you spend this card, heal 2 damage from your hero if you are in [[Giant]] hero form or draw 1 card if you are in [[Tiny]] hero form.\"],[2,\"<b>Response</b>: After a minion schemes, exhaust Quake \\u2192 deal 2 damage to that minion.\"],[1,\"<b>Action</b>: Choose a card in your discard pile \\u2192 add that card to your hand\"],[3,\"<b>Response</b>: After Quasar enters play, remove 1 threat from each scheme in play.\"],[0,\"<b>Hero Interrupt</b> <i>(defense)</i>: When an enemy attacks, if you are in:\\n\\u2022 Solid mass form, change to Phased mass form.\\n\\u2022 Phased mass form, draw 2 cards.\"],[2,\"<b>Hero Action</b> <i>(attack)</i>: Deal damage to an enemy equal to your ATK.\"],[0,\"Super Speed \\u2014 <b>Response:</b> After you use one of Quicksilver's basic powers <em>(THW, ATK, or DEF),</em> ready him. (Limit once per phase.)\"],[4,\"<b>Action:</b> Ready Quicksilver. (Limit once per phase.)\"],[3,\"Play only if your identity has the [[Avenger]] trait.\\n<b>Resource</b>: Exhaust Quincarrier \\u2192 generate a [wild] resource.\"],[1,\"<b>Response:</b> After your turn begins, place 1 time counter on Quinjet.\\n<b>Action:</b> Put an [[Avenger]] ally from your hand into play with printed cost equal to or less than the number of time counters on Quinjet. Then, discard Quinjet.\"],[3,\"Requirement ([mental][mental]). Uses (3 research counters).\\n<b>Hero Action</b>: Exhaust R&D Facility and remove 1 research counter from it \\u2192 choose a friendly character in play. That character gets +1 THW and +1 ATK until the end of the phase.\"],[2,\"<b>Hero Action</b> <i>(thwart)</i>: Remove 3 threat from a scheme. If you paid for this card using a resource generated by SP//dr Suit's <i>\\\"Sync Ratio\\\"</i> ability, remove 3 threat from a scheme.\"],[1,\"<b>Hero Interrupt</b>: When you use one of your hero's basic powers (THW, ATK, or DEF), change to your [[Giant]] hero form and get +2 to that power for this use.\"],[2,\"Max 1 per player.\\n<b>Hero Response</b>: After an ally you control is defeated, discard Rapid Response \\u2192 put that ally into play from your discard pile and deal 1 damage to it.\"],[0,null],[1,\"Unit Cost 4.\\n<b>Hero Action</b>: Exhaust Reactor Core and discard the top 2 cards of your deck (the top card instead if you control the Milano) \\u2192 reduce the resource cost of the next event you play this turn by 1.\"],[1,\"<b>Hero Action</b>: Give an ally you control a tough status card.\"],[1,\"Play under any player's control. Max 1 per player.\\n<b>Hero Response</b>: After you change form, discard this card \\u2192 ready your hero.\"],[1,\"<b>Action:</b> Ready a friendly [[Android]] character and heal 1 damage from it.\"],[2,\"<b>Alter-Ego Action</b>: Heal damage from your alter-ego equal to your REC.\"],[3,\"<b>Interrupt</b>: When Red Dagger is defeated, spend 2 resources of different types \\u2192 deal 2 damage to an enemy and return Red Dagger to your hand.\"],[2,\"While you are in [[Giant]] hero form, you gain retaliate 1.\\nWhile you are in [[Tiny]] hero form, your basic attacks gain piercing. <i>(Discard any tough status cards from the target before dealing damage.)</i>\"],[1,\"<b>Action</b>: Choose:\\n\\u2022 Heal 4 damage from your identity.\\n\\u2022 Discard each stunned and confused status card from your identity.\"],[1,\"<b>Interrupt</b>: When an ally is defeated by an enemy attack, return it to its owner's hand instead of discarding it.\\n<b>Forced Interrupt</b>: When the round ends, discard this card.\"],[2,\"Quicksilver gets +1 ATK.\"],[1,\"Attach to an ally. Max 1 per ally.\\nAttached ally gets +2 hit points.\"],[2,\"<b>Hero Action</b> (<i>attack</i>): Deal 5 damage to a minion. If you paid for this card using a [physical] resource, this attack gains overkill. <i>(Excess damage from this attack is dealt to the villain.)</i>\"],[1,\"<b>Hero Action</b>: Ready each [[tech]] upgrade you control.\"],[0,\"<i>Thief Extraordinaire</i> \\u2212 <b>Action</b> <i>(thwart)</i>: Exhaust Remy LeBeau and look at the top 2 cards of the encounter deck. Discard 1 of those cards \\u2192 remove threat from a scheme equal to the number of boost icons ([boost]) on that card.\"],[1,\"<b>Hero Action</b> <i>(attack)</i>: Remove 1 ammo counter from War Machine \\u2192 deal 4 damage to an enemy.\"],[1,\"<b>Hero Action</b> (<i>attack</i>): Deal 1 damage to an enemy and discard the top 5 cards of your deck. For each printed [energy] resource discarded this way, deal 2 additional damage to that enemy.\"],[0,\"<b>Hero Action:</b> Discard a [[Tech]] upgrade you control \\u2192 ready your hero and choose THW, ATK, or DEF. Until the end of the round, your hero gets +X to the chosen power, where X is equal to that upgrade's printed cost.\"],[0,null],[0,null],[0,\"<b>Hero Action:</b> Change to your other hero form. Draw 1 card.\"],[1,\"<b>Resource</b>: Discard Resourceful \\u2192 generate a [wild] resource.\"],[0,null],[0,null],[0,\"<b>Hero Action</b> <i>(attack)</i>: Discard cards from the top of the encounter deck until you discard a treachery. Reveal that treachery \\u2192 deal 5 damage to the villain.\"],[2,\"<b>Hero Action</b> <i>(attack)</i>: Deal 3 damage to an enemy. Deal 3 damage to an enemy with an upgrade attached.\"],[0,\"(?)\"],[3,\"<b>Interrupt</b>: When you would be defeated, remove this card from the game \\u2192 ready your identity and restore it to its printed hit point value instead. Remove each power counter from Phoenix Force.\"],[1,\"You get +1 hit point.\\n<b>Hero Action</b>: Exhaust Rocket Boots and spend a [mental] resource \\u2192 gain the [[Aerial]] trait until the end of the phase.\"],[3,\"Restricted. Enters play with 2 charge counters on it.\\n<b>Hero Action</b>: Exhaust Rocket Launcher and remove 1 charge counter from it \\u2192 choose a player. Deal 2 damage to the villain and each minion engaged with that player.\"],[3,\"Play only if your identity has the [[guardian]] trait.\\n<b>Interrupt</b>: When Rocket Raccoon attacks a minion, he gets +3 ATK for that attack. That attack gains overkill.\"],[0,\"(?)\"],[1,\"Restricted. Enters play with 3 charge counters on it.\\n<b>Hero Action</b> <i>(attack)</i>: Exhaust Rocket's Pistol and remove 1 charge counter from it \\u2192 deal 2 damage to an enemy.\"],[4,\"Retaliate 1.\"],[4,\"Reduce the cost to play Rogue by 1 for each charge counter on your identity.\\nToughness.\"],[0,\"<i>Skin Contact</i> \\u2212 <b>Action</b>: Attach Touched to another character. You gain each of the attached character's [[TRAITS]] until the end of the round. (Limit once per round.)\\n<b>Forced Response</b>: After the player phase begins, find Touched and set it aside.\"],[1,\"While Touched is attached to a friendly character, Rogue gets +1 THW.\\nWhile Touched is attached to a enemy character, Rogue gets +1 ATK.\"],[3,\"Ronin gets +1 THW and +1 ATK while an upgrade is attached to them.\"],[1,\"<b>Alter-Ego Action</b>: Exhaust Ronnie Williams \\u2192 choose:\\n\\u2022 Heal 2 damage from Riri Williams.\\n\\u2022 Place 1 progress counter on Riri Williams.\"],[2,\"<b>Hero Action</b> <i>(attack)</i>: Deal 5 damage to an enemy. If this attack defeats that enemy, place 1 growth counter on Groot (to a maximum of 10).\"],[3,\"<b>Hero Action</b> <i>(attack)</i>: Place 1 charge counter on Gambit. Deal 0 damage to an enemy. Deal 0 damage to an enemy. Deal 0 damage to an enemy.\"],[0,null],[2,\"<b>Hero Resource</b>: Exhaust this card \\u2192 generate a [energy] resource for your <i>\\\"Optic Blast\\\"</i> ability. That attack gains piercing and ranged.\"],[3,\"<b>Hero Action</b>: Ready Venom and each [[weapon]] upgrade you control.\"],[2,\"Play only if your identity has the [[Avenger]] trait.\\n<b>Hero Action</b> <i>(thwart)</i>: Remove 2 threat from the main scheme. Remove X additional threat from the main scheme (to a maximum of 3), where X is equal to the villain's stage number.\"],[2,\"Play only if you control a [[Web-Warrior]] card.\\n<b>When Defeated:</b> Add SP//dr to your hand if she was defeated by taking excess consequential damage.\"],[0,\"Permanent. This card's printed text box cannot be treated as if it were blank.\\n<i>Suit Up!</i> \\u2014 <b>Forced Interrupt:</b> When you flip to this side, flip SP//dr Suit to its [[Active]] side. Attach this card to SP//dr Suit, moving all counters on this cards or cards attached to this card to SP//dr Suit.\"],[1,\"<b>Hero Action:</b> Exhaust SP//dr Command and an [[Interface]] upgrade \\u2192 draw 1 card.\\n<b>Hero Action:</b> Exhaust SP//dr Command, choose and discard 1 card from your hand \\u2192 ready an [[Interface]] upgrade.\"],[0,\"(?)\"],[1,\"<b>Alter-Ego Action</b>: Exhaust Safe House #29 and choose a [[Preparation]] card in your discard pile \\u2192 add that card to your hand.\"],[0,\"Unit Cost 5.\\n<b>Hero Action</b>: Give up to 2 friendly characters each a tough status card. Draw 1 card.\"],[0,\"<b>Response</b>: After you spend this card, put a [[tech]] upgrade from your discard pile on top of your deck.\"],[0,\"<b>Alter-Ego Action</b>: Spend 1 resource of any type \\u2192 search your deck and discard pile for Supernova Helmet. Add it to your hand (put it into play instead if you paid for this ability using a [wild] resource).\"],[1,\"<b>Alter-Ego Action</b>: Exhaust Sanctum Sanctorum \\u2192 shuffle a [[Spell]] card from your discard pile into your deck and draw 1 card.\"],[2,\"<b>Hero Action</b> <i>(attack)</i>: Deal 5 damage to an enemy. If you paid for this card using only [energy] resources, this attack gains overkill.\"],[1,\"<b>Hero Action</b>: Discard an ally your control \\u2192 remove threat from a scheme equal to that ally's printed cost.\"],[0,null],[1,\"<b>Hero Action:</b> <i>(attack)</i>: Deal 3 damage to a confused enemy.\"],[4,\"Play only if you control a [[Web-Warrior]] card.\\n<b>Interrupt:</b> When you would reveal an encounter card, name a card type, then look at that card. If that card is of the named type, deal 1 damage to Scarlet Spider and draw 1 card.\"],[3,\"<b>Interrupt:</b> When you use one of Scarlet Witch's basic powers, discard the top card of the encounter deck. For each boost icon discarded this way, Scarlet Witch gets +1 to that power for this use.\"],[0,\"<i>Chaos Control</i> \\u2014 <b>Interrupt:</b> When boost icons on an encounter card would be counted, discard the top card of the encounter deck and count the number of boost icons on that card instead. (Limit once per phase.)\"],[2,\"<b>Interrupt:</b> When boost icons on an encounter card are counted, exhaust Scarlet Witch's Crest \\u2192 increase or decrease the number of boost icons on that card by 1 for this count.\"],[2,\"<b>Hero Action</b>: Until the end of the turn, heal 2 damage from Rocket Raccoon each time you deal any amount of damage to an enemy.\"],[3,\"<b>Hero Action</b>: Remove 3 ammo counters from War Machine \\u2192 deal 3 damage to each enemy in play.\"],[0,\"Time to Unwind \\u2014 <b>Response:</b> After you change to this form, heal 1 damage from Scott Lang.\"],[0,\"You may include [[X-MEN]] allies from any aspect in your deck.\\n<i>Constant Training</i> - <b>Action</b>: Search your deck for a [[TACTIC]] upgrade and add it to your hand. (Limit once per round).\"],[3,\"<b>Action</b>: Heal 4 damage from an identity (5 damage instead if you paid for this card using a [mental] resource).\"],[3,\"Reduce the cost to play Sector Scan by X, where X is equal to Ironheart's [[version]] number.\\n<b>Hero Action</b>: Until the end of the round, you may look at the top card of the encounter deck at any time.\"],[0,null],[0,null],[1,\"<b>Hero Action</b>: Ready Spider-Woman. She gains [[aerial]] until the end of the round.\"],[2,\"Play under any player's control.\\nMax 1 per player.\\n<b>Resource:</b> Exhaust Sense of Justice \\u2192 generate a [mental] resource for a [[Thwart]] event.\"],[4,\"<b>Forced Response</b>: After Sentry enters play under your control, deal yourself 1 encounter card.\"],[1,\"<b>Alter-Ego Action:</b> Exhaust Serval Industries \\u2192 shuffle 2 Quicksilver cards from your discard pile into your deck.\"],[0,\"<b>Hero Action</b> <i>(thwart)</i>: Remove 1 threat from a scheme.\"],[1,\"<b>Special</b>: Give up to 3 characters each a tough status card. Place this card in the [[Invocation]] deck discard pile.\"],[2,\"Team-Up (Colossus and Shadowcat).\\nMax 1 per deck.\\n<b>Hero Interrupt</b> <i>(attack/defense)</i>: When an enemy attacks, prevent all damage from that attack and deal 4 damage to the attacking enemy.\"],[3,\"Shadowcat ignores the guard and patrol keywords, and any crisis icons ([crisis]) in play.\"],[0,\"<i>Selective Intangibility</i> - While you are in Phased mass form, Shadowcat ignores the guard and patrol keywords, and any crisis icons ([crisis]) in play.\"],[2,\"<b>Hero Action</b> <i>(attack)</i>: Deal 3 damage to an enemy. Ready your hero.\"],[1,\"<b>Hero Response</b>: After a [[guardian]] character takes any amount of damage from an attack, give that character a tough status card.\"],[0,null],[4,\"She-Hulk gets +1 ATK for each damage token here.\"],[0,\"\\\"Do You Even Lift?\\\" \\u2014 <b>Response</b>: After you change to this form, deal 2 damage to an enemy.\"],[0,\"<b>Interrupt</b> <i>(defense)</i>: When you would take any amount of damage, exhaust Captain America's Shield \\u2192 prevent all of that damage.\"],[0,\"Play only if your identity has the Mystic trait. Max 1 per deck.\\n<b>Hero Interrupt</b> <i>(defense)</i>: When you would take any amount of damage from an attack, discard that many cards from the top of your deck \\u2192 prevent all damage from this attack.\"],[0,\"<b>Hero Action</b> <i>(attack)</i>: Discard X cards from your hand, then return Captain America's Shield from play to your hand \\u2192 deal 4 damage to X enemies.\"],[1,\"<b>Hero Interrupt</b>: When the enemy with Death-Glow attached attacks, declare Valkyrie the defender without exhausting her. She gets +2 DEF for this attack.\"],[0,null],[0,null],[2,\"<b>Hero Action</b> <i>(attack)</i>: Exhaust Shoulder Cannon \\u2192 deal 1 damage to an enemy. You may remove 1 ammo from War Machine to ready shoulder cannon.\"],[2,\"<b>Hero Interrupt</b>: When you play a [[Thwart]] event, exhaust Shrink \\u2192 increase the amount of threat that event removes by 2.\"],[2,\"<b>Response</b>: After Shuri enters play, search your deck for an upgrade and add it to your hand. Shuffle your deck.\"],[0,\"Play under any player's control.\\nMax 1 per player.\\nYou can control 1 additional [[weapon]] upgrade that has the restricted keyword.\"],[1,\"<b>Hero Interrupt</b> <i>(defense)</i>: When you would take any amount of damage, prevent 3 of that damage. If you paid for this card using [energy] resource, deal 1 damage to that enemy.\"],[1,\"Attach to an ally. Max 1 per ally.\\nAttached ally gets +1 ATK and its attacks gain ranged.\"],[2,\"<b>Response</b>: After you play Silk from your hand, if you control another [[Web-Warrior]] card, search the encounter deck for a treachery and discard it. <i>(Shuffle.)</i>\"],[0,\"Play under any player's control. Max 1 per player.\\n<b>Hero Response</b>: After a side scheme is defeated, exhaust Skilled Investigator \\u2192 draw 1 card.\"],[0,\"<b>Interrupt</b>: When your hero makes a basic attack, it gets +2 ATK for that attack.\"],[1,\"Attach to an [[Avenger]] ally. Max 1 per ally.\\nAttached ally gains [[Aerial]].\\n<b>Action</b>: Exhaust Sky Cycle \\u2192 ready attached ally.\"],[3,\"<b>Response</b>: After you play a [[S.H.I.E.L.D.]] card, exhaust Sky-Destroyer \\u2192 deal 2 damage to an enemy.\"],[3,\"<b>Hero Action</b>: Make the following 2 attacks in order:\\n\\u2022 Deal 3 damage to an enemy.\\n\\u2022 Deal 3 damage to an enemy.\"],[3,\"Play only if you control an Element Gun.\\n<b>Hero Action</b> <i>(attack)</i>: Deal 5 damage to an enemy. Deal 2 additional damage to that enemy for each facedown encounter card in front of you.\"],[1,\"<b>Hero Action</b> <i>(thwart)</i>: Exhaust your hero \\u2192 remove threat from a scheme equal to your hero's ATK.\"],[0,null],[1,\"<b>Action</b>: Choose an ally in your hand that shares a [[trait]] with your identity \\u2192 put that ally into play. If that ally is still in play at the end of the phase, discard it.\"],[2,\"<b>Hero Action</b> <i>(thwart)</i>: Remove 3 threat from a scheme.\"],[0,null],[4,\"<b>Response</b>: After Snowguard enters play, place up to 3 shift counters here. While the shift counters here are equal to (X), she gets:\\n(1) +3 ATK and her attacks gain overkill.\\n(2) +3 THW and gains the [[Aerial]] trait.\\n(3) +5 hit points and gains retaliate 1.\"],[3,\"<b>Hero Action</b> <i>(attack)</i>: If Vision is in Dense mass form, deal 7 damage to an enemy.\\n<b>Hero Action</b> <i>(thwart)</i>: If Vision is in Intangible mass form, remove 5 threat from a scheme.\"],[2,\"Vision gains the [[Aerial]] trait.\\n<b>Resource:</b> Exhaust Solar Gem \\u2192 generate a [wild] resource.\"],[0,\"Mass form. Permanent.\\n<b>Hero Resource</b>: Exhaust this card \\u2192 generate a [physical] resource for an [[attack]] or [[defense]] event.\\n<b>Response</b>: After you attack or defend in Solid mass form, flip this card.\"],[2,\"<b>Hero Action</b> <i>(attack)</i>: Exhaust Hawkeye's Bow \\u2192 confuse an enemy and deal 3 damage to it (5 damage instead if it is already confused)\"],[3,\"Restricted. Uses (2 charge counters).\\n<b>Hero Action</b>: Exhaust Sonic Rifle and remove 1 charge counter from it \\u2192 confuse an enemy (deal 3 damage to that enemy instead if it is already confused).\"],[1,\"Team-Up (Phoenix and Storm). Max 1 per deck.\\n<b>Hero Action</b>: Ready Phoenix and Storm. Heal 2 damage from each of them.\"],[1,\"<b>Response</b>: After your deck runs out of cards, place 1 soul counter here.\\n<b>Alter-Ego Action</b>: Exhaust Soul World and remove 1 soul counter from it \\u2192 heal all damage from your identity.\"],[3,\"<b>Hero Action</b> <i>(attack)</i>: Deal 6 damage to an enemy. If Rogue has:\\n\\u2022 [[AERIAL]], this attack deals 2 additional damage.\\n\\u2022 Retaliate, stun that enemy.\\n\\u2022 Stalwart, draw 1 card.\"],[0,\"<i>Energy Transformation</i> - <b>Forced Response:</b> After you change to this form, choose a facedown energy form upgrade \\u2192 flip that card faceup to change to that energy form.\"],[4,\"<b>Response</b>: After Speed thwarts, ready him. (Limit once per round.)\"],[0,\"<b>Hero Action:</b> Stun X Enemies.\"],[0,\"<b>Hero Action:</b> Change energy forms and draw 1 card.\"],[1,\"<b>Hero Interrupt:</b> When SP//dr Suit defends against an attack, exhaust Speed-Metal Alloy \\u2192 it gets +2 DEF for that defense.\"],[2,\"<b>Response</b>: After you play Spider-Girl from your hand, stun and confuse a minion.\"],[3,\"Play only if you control a [[Web-Warrior]] card.\\n[star]<b>Forced Response:</b> After Spider-Ham attacks of thwarts, discard the top card of the encounter deck. For each boost icon ([boost]) discarded this way, deal 1 damage to Spider-Ham.\"],[0,\"Each toon counter on Spider-Ham can be spent as if it were a [wild] resource.\\n<i>Spider-Nonsense</i> \\u2014 <b>Response:</b> After Spider-Ham takes any amount of damage, place 1 toon counter on him.\"],[\"(?)\",\"(?)\"],[\"(?)\",\"(?)\"],[4,\"<b>Response</b>: After you play Spider-Man from your hand, stun and confuse an enemy if you control at least 3 [[Web-Warrior]] cards.\"],[0,\"Spider-Sense \\u2014 <b>Interrupt</b>: When the villain initiates an attack against you, draw 1 card.\"],[0,\"<i>Venom Blast</i> - <b>Special</b>: Deal 2 damage to an enemy. Stun that enemy.\\n<i>Spider Camouflage</i> - <b>Special</b>: Give Spider-Man a tough status card. Confuse an enemy.\"],[3,\"X is equal to the number of facedown cards attached to Spider-Man Noir.\\n<b>Response:</b> After you resolve a treachery, if you control another [[Web-Warrior]] card, attach that treachery facedown here (to a maximum of 3).\"],[2,\"<b>Hero Interrupt</b>: When the villain initiates an attack agaist you, draw 1 card.\"],[1,\"<b>Interrupt:</b> When you would reveal an encounter card, deal 1 damage to a [[Web-Warrior]] character you control \\u2192 if that card is a treachery, cancel its <b>\\\"When Revealed\\\"</b> effects and discard Spider-Tingle.\"],[1,\"Attach to a minion.\\n<b>Forced Interrupt</b>: When attached minion is defeated, remove 3 threat from a scheme.\"],[3,\"<b>Interrupt</b>: When Spider-UK defends against an attack, deal damage to the attacking enemy equal to the number of [[Web-Warrior]] cards you control.\"],[3,\"<b>Response</b>: After Spider-Woman enters play, confuse the villain.\"],[3,\"Reduce the cost to play Spider-Woman by 1 for each confused enemy in play.\"],[0,\"\\\"Superhuman Agility\\\" \\u2014 <b>Interrupt</b>: When you play an aspect card, Spider-Woman gets +1 THW, +1 ATK, and +1 DEF until the end of the round. (limit once per round for each aspect.)\"],[0,\"Play only if your identity has the [[Mystic]] trait.\\n<b>Action</b>: Draw 2 cards. Choose and discard 1 card from your hand.\"],[3,\"<b>Action</b>: Change your form <i>(flip your identity card)</i>. Then, draw up to your printed hand size.\"],[1,\"Play only if you control a [[Spy]] character.\\n<b>Interrupt</b>: When you reveal an encounter card, discard Spycraft \\u2192 cancel the effects of that card and discard it. Then, reveal another card from the encounter deck.\"],[2,\"<b>Response</b>: After Squirrel Girl enters play, deal 1 damage to each enemy.\"],[4,\"Alliance.\\n<b>Hero Interrupt</b>: When a friendly character would take any amount of damage from an attack, exhaust an [[avenger]] character and a [[guardian]] character \\u2192 prevent all of that damage. Deal that much damage to the attacking enemy.\"],[2,\"[star] Star-Lord's attacks gain ranged.\\n <b>Forced Response</b>: After Star-Lord enters play under your control, deal yourself 1 facedown encounter card.\"],[0,\"Each ally you control gains the [[guardian]] trait.\\n\\\"What could go wrong?\\\" \\u2014 <b>Interrupt:</b> When you play a card from your hand, deal yourself 1 facedown encounter card \\u2192 reduce the cost to play that card by 3. (Limit once per round.)\"],[1,\"While you are in hero form, you get +1 hand size for each facedown encounter card in front of you (to a maximum of +3 hand size)\"],[2,\"<b>Interrupt</b>: When Starhawk takes damage exactly equal to his remaining hit points, return him to your hand.\"],[2,\"<b>Alter-Ego Action</b>: Exhaust Stark Tower \\u2192 choose a player. That player returns the topmost [[Tech]] upgrade in their discard pile to their hand.\"],[3,\"<b>Hero Action</b> <i>(attack)</i>: Deal 4 damage to an enemy. If that enemy is defeated by this attack, remove 2 threat from a scheme.\"],[2,\"<b>Hero Action</b>: Deal 5 damage to an enemy. You may discard a tough status card from your hero \\u2192 stun and confuse that enemy.\"],[0,\"Stephen Strange begins the game with an [[Invocation]] deck. (See insert.)\\n<i>Natural Talent</i> \\u2014 <b>Action</b>: Discard the top card of the [[Invocation]] deck. (Limit once per phase.)\"],[0,\"Living Legend \\u2014 Reduce the cost of the first ally played each round by 1.\\n<b>Setup</b>: Search your deck and discard pile for the Captain America's Shield upgrade and add it to your hand. Shuffle your deck.\"],[1,\"<b>Alter-Ego Action</b>: Exhaust Steve's Apartment \\u2192 draw 1 card and heal 1 damage from Steve Rogers.\"],[1,\"Play only if your identity has the [[Avenger]] trait.\\nStinger does not count against your ally limit.\"],[5,\"Reduce the cost to play Storm by 1 if your identity has the [[MUTANT]] or [[X-MEN]] trait.\\n[star]<b>Interrupt</b>: When Storm thwarts a scheme, move 2 threat from that scheme to another scheme.\"],[0,\"<i>Weather Control</i> \\u2014 <b>Action</b>: Swap your [[WEATHER]] support in play with a support of your choice from the [[WEATHER]] deck. Resolve the \\\"<b>Special</b>\\\" ability on your [[WEATHER]] support in play. (Limit once per round).\"],[3,\"Storm gets +1 DEF and gains the [[AERIAL]] trait.\\n<b>Hero Response</b>: After you resolve the  \\\"<b>Special</b>\\\" ability on your [[WEATHER]] support, exhaust Storm's Cape \\u2192 ready Storm.\"],[2,\"Storm gets +1 THW.\\n<b>Hero Resource</b>: Exhaust Storm's Crown \\u2192 generate the printed resource on your [[WEATHER]] support.\"],[0,\"Max 1 per deck.\"],[0,\"<b>Action</b>: Exhaust any number of allies you control \\u2192 draw 1 card for each ally exhausted this way.\"],[0,\"<b>Response</b>: After you spend this card, place 1 progress counter on your identity and draw 1 card.\"],[3,\"<b>Hero Action</b> <i>(thwart)</i>: Remove 3 threat from a scheme (5 threat instead if you paid for this card using only [physical] resources).\"],[1,\"<b>Hero Interrupt</b>: When an enemy initiates an attack, that enemy gets -3 ATK for that attack.\"],[0,null],[2,\"Play only if your identity has the Mystic trait. Max 1 per deck.\\n<b>Hero Action</b>: Discard cards from the top of your deck until you discard an ally \\u2192 put that ally into play under your control.\"],[2,\"<b>Response</b>: After you play Sunfire from your hand, spend a [energy] resource \\u2192 choose an attachment with the text \\\"<b>Hero Action</b>\\\" or \\\"<b>Hero Response</b>\\\" and discard it.\"],[2,\"<b>Resource</b>: Exhaust Super-Soldier Serum \\u2192 generate a [physical] resource.\"],[2,\"Play only if Vision is in Dense mass form.\\n<b>Hero Action</b> <i>(attack)</i>: Deal 5 damage to an enemy. This attack gains piercing.\"],[1,\"<b>Alter-Ego Action</b> (<i>thwart</i>): Exhaust Superhuman Law Division and spend a [mental] resource \\u2192 remove 2 threat from a scheme.\"],[2,\"She-Hulk gets +2 ATK.\\n<b>Forced Response</b>: After She-Hulk attacks, discard Superhuman Strength \\u2192 stun the attacked enemy.\"],[1,\"Nova gains the [[Aerial]] trait.\\n<b>Hero Resource</b>: Exhaust Supernova Helmet \\u2192 generate a [wild] resource.\"],[0,\"<b>Hero Action</b>: If Touched is attached to a friendly character, search its owner's discard pile for an event that belong's to the same classification as that character <i>(identity-specific, aspect, or basic)</i> \\u2192 add that event to your hand.\"],[2,\"<b>Hero Action</b> (<i>attack</i>): Deal 4 damage to an enemy (8 damage instead if you have the [[Aerial]] trait).\"],[0,\"Unit Cost 5.\\n<b>Hero Action</b>: Reduce the resource cost of the next card played this phase by 3.\"],[0,null],[1,\"<b>Hero Response</b> <i>(attack)</i>: After you change form, deal 3 damage to an enemy (4 damage instead if you paid for this card using [physical] resource).\"],[0,null],[0,null],[2,\"Uses (3 snoop counters). <i>(Enters play with 3 counters. When those are gone, discard this card)</i>\\n<b>Action</b>: Exhaust Surveillance Team and remove 1 snoop counter from it \\u2192 remove 1 threat from a scheme.\"],[0,null],[0,null],[1,\"(?)\"],[1,\"<b>Hero Action</b> <i>(attack)</i>: The villain schemes. Deal 4 damage to the villain.\"],[2,\"<b>Hero Action</b> <i>(thwart)</i>: Remove 4 threat from a scheme. If you paid for this card using a [mental] resource, resolve Spider-Man's <i>\\\"Spider Camouflage\\\"</i> ability.\"],[3,\"<b>Hero Action</b> <i>(attack)</i>: Deal 8 damage to an enemy.\"],[3,\"<b>Hero Action</b> <i>(attack)</i>: Deal 6 damage to an enemy. Confuse that enemy.\"],[4,\"Max 1 per deck.\\nYour identity gets +1 to each of its basic powers, +1 hand size, and +10 hit points.\"],[3,\"Black Widow gets +1 DEF.\\n<b>Hero Response</b>: After you trigger the ability of a [[Preparation]] card you control, exhaust Synth-Suit \\u2192 ready Black Widow.\"],[0,null],[0,\"Foresight \\u2014 <b>Setup</b>: Search your deck for a [[Black Panther]] upgrade and add it to your hand. Shuffle your deck.\"],[3,\"Uses (3 attack counters). <i>(Enters play with 3 counters. When those are gone, discard this card)</i>\\n<b>Action</b>: Exhaust Tac Team and remove 1 attack counter from it \\u2192 deal 2 damage to an enemy.\"],[3,\"<b>Hero Action</b> <i>(attack)</i>: Stun an enemy. If you paid for this card using a [physical] resource, deal 3 damage to that enemy.\"],[2,\"<b>Hero Action</b> <i>(thwart)</i>: Remove 3 threat from a scheme. Choose a [[TACTIC]] card in your discard pile and add it to your hand.\"],[2,\"<b>Special</b> (<i>thwart</i>): Remove 1 threat from a scheme (2 threat instead if this is the final step of this sequence).\\n<i>(Play the \\\"Wakanda Forever!\\\" event to use this ability.)</i>\"],[0,\"Setup.\\n<b>Hero Action:</b> Discard this card and remove it from the campaign log \\u2192 draw 5 cards.\"],[0,\"Unit Cost 3.\\n<b>Hero Action</b>: Look at the top 2[per_hero] cards of the encounter deck. Discard any number of those, then place the rest on the top and/or bottom of the encounter deck in any order. Draw 1 card.\"],[1,\"Max 1 per player.\\n<b>Hero Response</b>: After a boost card is turned faceup, discard Target Acquired \\u2192 cancel that card's boost ability.\"],[0,\"<b>Interrupt</b>: When an ally with a [[weapon]] attachment upgrade makes an attack, discard Target Practice \\u2192 that ally gets +2 ATK for that attack.\"],[1,\"<b>Hero Action</b> <i>(thwart)</i>: Remove 1 ammo counter from War Machine \\u2192 remove 3 threat from a scheme.\"],[2,\"Unit Cost 6.\\n<b>Hero Action</b>: Exhaust Targeting Screen \\u2192 remove 2 threat from a scheme (3 threat instead if you control the Milano).\"],[1,\"Play only if your identity has the [[X-MEN]] trait.\\n<b>Hero Action</b> <i>(attack)</i>: Exhaust your hero and any number of [[X-MEN]] allies \\u2192 deal X damage among enemies in play, where X is the total ATK of the characters you exhausted this way.\"],[2,\"Play under any player's control. Max 1 per player.\\nEach ally you control gets +1 hit point.\"],[2,\"<b>Hero Action</b>: Exhaust Team-Building Exercise \\u2192 play a card from your hand that shares a trait with your hero, reducing its resource cost by 1.\"],[0,\"<b>Hero Interrupt</b> When you use your basic thwart power <i>(THW)</i> or basic attack power <i>(ATK)</i>, exhaust an ally you control \\u2192 add that ally's matching power to your hero's power for this use.\"],[3,\"<b>Hero Action</b> <i>(attack)</i>: Deal 7 damage to an enemy. If you have the [[UNLEASHED]] trait, this attack deals 2 additional damage and gains overkill.\"],[2,\"Attach to a friendly character.\\n<b>Forced Interrupt</b>: When attached character would take damage from an enemy attack, place that damage here instead. Then, if there is at least 5 damage here, discard Telekinetic Shield.\"],[2,\"<b>Hero Action</b> <i>(thwart)</i>: Remove 4 threat from a scheme. If you have the [[UNLEASHED]] trait, stun and confuse an enemy.\"],[2,\"<b>Hero Action</b>: Spend a [physical] resource and discard this card \\u2192 ready your hero.\"],[0,\"<b>Hero Interrupt</b> <i>(defense)</i>: When your hero defends against an attack, use its ATK instead of its DEF for this attack.\"],[1,\"Play only if your identity has the [[asgard]] trait.\\n<b>Action</b>: Exhaust The Bifrost \\u2192 search your deck for an [[asgard]] ally and play it <i>(paying its cost)</i>. Shuffle your deck.\"],[2,\"<b>Alter-Ego Action:</b> Exhaust The Daily Beagle \\u2192 place 1 toon counter on Peter Porker.\"],[2,\"<b>Hero Resource</b>: Exhaust The Eye of Agamotto \\u2192 generate a [wild] resource.\"],[2,\"<b>Action</b>: Shuffle this card into the encounter deck (without looking)\\n<b>When Revealed</b>: Heal 2 damage from your identity and remove this card from the game. This effect cannot be canceled.\"],[2,\"<b>Alter-Ego Action</b>: Exhaust The Golden City \\u2192 draw 2 cards.\"],[2,\"Play only if your identity has the [[champion]] trait.\\n<b>Hero Response</b>: After The Locust enters play, add 1 Aggression (red) event from your discard pile to your hand.\"],[1,\"Uses (3 medical counters).\\n<b>Action</b>: Exhaust The Night Nurse and remove 1 medical counter from her \\u2192 heal 1 damage from a hero and discard 1 status card from it.\"],[0,\"Max 2 per deck.\\nDouble the number of resources this card generates when paying for a Basic (gray) card.\"],[0,\"Max 2 per deck.\\nDouble the number of resources this card generates while paying for a Aggression <i>(red)</i> card.\"],[0,\"Max 2 per deck.\\nDouble the number of resources this card generates while paying for a Justice <i>(yellow)</i> card.\"],[0,\"Max 2 per deck.\\nDouble the number of resources this card generates while paying for a Leadership <i>(blue)</i> card.\"],[0,\"Max 2 per deck.\\nDouble the number of resources this card generates while paying for a Protection <i>(green)</i> card.\"],[2,\"Play only if you have the [[Mystic]] trait.\\nYou get +1 hand size while in hero form.\"],[1,\"<b>Alter-Ego Response</b>: After you resolve your <i>\\\"Thief Extraordinaire\\\"</i> ability, exhaust The Thieves Guild \\u2192 remove 1 threat from a scheme. If this removes the last threat from that scheme, draw 1 card.\"],[1,\"Increase your ally limit by 1. <i>(This allows you to control more than 3 allies.)</i>\"],[3,\"<b>Resource</b>: Exhaust The X-Jet \\u2192 generate a [wild] resource for a player whose identity has the [[X-MEN]] trait.\"],[\"(?)\",\"(?)\"],[0,\"\\\"Have at thee!\\\" \\u2014 <b>Response</b>: After you engage a minion, draw 2 cards. (Limit once per phase.)\"],[2,\"You get +5 hit points.\"],[2,\"<b>Response</b>: After Throg enters play, give him a tough status card if you are engaged with a minion.\"],[1,\"While in hero form, Rocket Raccoon gets +1 THW and gains the [[aerial]] trait.\"],[3,\"<b>Hero Action</b>: Choose up to 3 different enemies. Deal 3 damage to each of them.\"],[0,\"Permanent.\\nEach character gets +1 ATK.\\n<b>Special</b>: Deal 2 damage to an enemy.\"],[2,\"<b>Hero Action:</b> Deal 1 damage to a [[Web-Warrior]] character you control \\u2192 place a total of 2 stun status cards on up to 2 enemies.\"],[3,\"<b>Action</b>: Remove Ticket to the Multiverse from the game \\u2192 discard your hand, shuffle your discard pile into your deck, draw up to your hand size, and ready each Ghost-Spider card you control.\"],[3,\"<b>Response</b>: After Tigra attacks and defeats a minion, heal 1 damage from her.\"],[2,\"Colossus gets +1 ATK.\\n<b>Hero Resource</b>: Exhaust this card \\u2192 generate a [physical] resource for each tough status card on Colossus.\"],[2,\"<b>Hero Action</b> <i>(thwart)</i>: Remove 2 threat from a scheme.\"],[1,\"<b>Hero Action</b> <i>(attack)</i>: Choose an enemy. That enemy attacks you. Deal 5 damage to that enemy.\"],[0,\"Futurist \\u2014 <b>Action</b>: Look at the top 3 cards of your deck. Add 1 to your hand and discard the others. (Limit once per round.)\"],[2,\"<b>Action</b>: Exhaust Tony Stark A.I. \\u2192 look at the top 2 cards of your deck. Add 1 to your hand and discard the other.\"],[2,\"<b>Hero Interrupt</b>: When Drax would be defeated, instead set his hit point dial to 4, change him to alter-ego form, and remove this card from the game.\"],[2,\"<b>Hero Action</b> <i>(thwart)</i>: Remove 3 threat from among schemes in play. If Hurricane is in play, resolve its \\\"<b>Special</b>\\\" ability.\"],[0,\"If Touched is attached to a:\\nMinion \\u2212 Rogue's attacks gain overkill.\\nVillain \\u2212 Rogue gains retaliate 1.\\nAlly \\u2212 Rogue gains the [[AERIAL]] trait.\\nHero \\u2212 Rogue gains stalwart.\"],[2,\"<b>Hero Action</b> <i>(thwart)</i>: Remove 3 threat from a scheme. If this removes the last threat from that scheme, draw 2 cards.\"],[0,\"Unit Cost 7.\\n<b>Hero Action</b>: Choose a player. That player may add up to 3 cards from their discard pile to their hand. Remove this card from the game.\"],[0,\"Unit Cost 7.\\n<b>Hero Action</b>: Ready up to 3 characters. Remove this card from the game.\"],[1,\"<b>Response</b> <i>(thwart)</i>: After your hero defends against an enemy attack, remove threat from a scheme equal to your hero's THW.\"],[0,\"<b>Response</b> <i>(attack)</i>: After your hero thwarts and removes all threat from a scheme, deal 3 damage to an enemy.\"],[3,\"Team-Up (Iron Man and War Machine). Max 1 per deck.\\n<b>Hero Action</b>: Search your deck for a [[tech]] upgrade and put it into play. Shuffle your deck. Ready Iron Man and War Machine.\"],[3,\"Retaliate 1.\"],[3,\"Play under any player's control. Max 1 [[TEAM]] card per player.\\nEach of your [[X-MEN]] allies gets +1 hit point. If each of your characters has the [[X-MEN]] trait, each of your [[X-MEN]] allies costs 1 fewer resource to play.\"],[2,\"Attach to the main scheme. Max 1 per scheme.\\nIncrease the target threat value of attached scheme by 4.\"],[1,\"Play under any player's control. Max 1 per player.\\n<b>Response</b>: After you defend against an attack and take no damage, exhaust Unflappable \\u2192 draw 1 card.\"],[0,\"Play only if your identity has the [[Avenger]] trait.\\n<b>Hero Action:</b> Heal 1 damage from up to X friendly characters (to a maximum of 3 characters), where X is equal to the villain's stage number.\"],[1,\"Max 1 per round.\\n<b>Hero Action</b>: Until the end of the round, each time Nova defeats an enemy or removes the last threat from a scheme, ready Nova and draw 1 card.\"],[1,\"Play only if your identity has at least 14 printed hit points.\\nYour identity gains steady.\"],[2,\"<b>Hero Action</b>: Ready Hulk. If you paid for this card using only [physical] resources, draw 1 card.\"],[1,\"While in hero form, Nebula gets +1 THW, +1 ATK, and gains stalwart.\\n<b>Special</b> : Give Nebula a tough status card.\"],[3,\"War Machine gains the [[aerial]] trait.\\n<b>Hero Response</b>: After you change to hero form, exhaust Upgraded Chassis \\u2192 give War Machine a tough status card.\"],[3,\"<b>Hero Action</b> (<i>attack</i>): Deal 5 damage to an enemy.\"],[2,\"If each of your allies has the [[X-MEN]] trait, increase your ally limit by 1.\\n<b>Response:</b> After an [[X-MEN]] ally enters play, exhaust Utopia \\u2192 ready an [[X-MEN]] character.\"],[4,\"[star] VEN#m gets +1 THW and +1 ATK for each sym counter on her.\\n<b>Hero Response:</b> After VEN#m enters play, place 1 sym counter on her for each resource generated by SP//dr Suit's \\\"Sync Ratio\\\" ability to pay for her.\"],[2,\"<b>Response</b>: After Valkyrie attacks and defeats the enemy that has Death-Glow attached, exhaust Valhalla \\u2192 draw 1 card and heal 1 damage from Valkyrie.\"],[3,\"<b>Response:</b> After Valkyrie enters play, deal 2 damage to a minion (3 damage instead if you paid for this card using a [energy] resource).\"],[0,\"Death Perception \\u2014 <b>Hero Action</b>: Play the set-aside Death-Glow upgrade as if it were in your hand.\"],[1,\"Restricted.\\nValkyrie gets +1 DEF (+2 DEF instead while defending against the enemy with Death Glow attached).\"],[0,\"<b>Special</b>: Choose a status card in play. Replace that status card with a different status card. Place this card in the [[Invocation]] deck discard pile.\"],[4,\"<b>Response</b>: After you reveal an encounter card, deal 1 damage to Venom \\u2192 deal damage to an enemy equal to the number of icons <i>([star] and [boost])</i> in that card's boost area.\"],[4,\"While there is no threat on the main scheme, reduce all consequential damage Venom takes by 1.\"],[0,\"You can control 1 additional upgrade that has the restricted keyword.\\n<i>Symbiotic Bond</i> - <b>Resource</b>: Take 1 damage \\u2192 generate a [wild] resource. (Limit once per phase)\"],[2,\"<b>Hero Action</b> <i>(attack)</i>: Deal 5 damage to an enemy.\"],[1,\"Restricted.\\n<b>Hero Interrupt</b>: When you use one of Venom's basic powers, exhaust Venom's Pistol \\u2192 Venom gets +1 to that power for this use.\"],[0,null],[2,\"<b>Hero Action</b> <i>(attack)</i>: Exhaust Hawkeye's Bow \\u2192 deal 6 damage to an enemy. This attack gains piercing.\"],[2,\"<b>Special</b> (<i>attack</i>): Move 1 damage from your hero to an enemy (2 damage instead if this is the final step of this sequence).\\n<i>(Play the \\\"Wakanda Forever!\\\" event to use this ability.)</i>\"],[2,\"Reduce the amount of damage Victor Mancha takes from each attack by 1.\"],[1,\"Max 2 per deck. Uses (2 training counters).\\n<b>Alter-Ego Action</b>: Exhaust this card and remove 1 training counter from it \\u2192 choose a justice (yellow) event in your discard pile and shuffle it into your deck.\"],[1,\"<b>Hero Interrupt</b>: When Groot defends against an attack, remove 1 growth counter from him and exhaust Vine Shield \\u2192 Groot gets +3 DEF for that attack.\"],[1,\"<b>Hero Interrupt</b>: When Groot makes a basic attack, remove 1 growth counter from him and exhaust Vine Spikes \\u2192 Groot gets +2 ATK for that attack.\"],[4,\"<b>Action</b>: Spend a [energy] resource \\u2192 choose THW or ATK. Until the end of the phase, Vision gets +2 to the chosen power. (Limit once per round.)\"],[0,\"(?)\"],[2,\"While you are in Dense mass form, you gain retaliate 1.\\nWhile you are in Intangible mass form, you gain stalwart.\"],[0,\"<b>Alter-Ego Action</b>: Return a Valkyrie card from your discard pile to your hand.\"],[2,\"<b>Hero Response</b>: After Vivian enters play, choose an attachment, non-[[Elite]] minion, or non-permanent side scheme. Until the end of the round, treat that card's printed text box as if it were blank (except for [[Traits]]).\"],[2,\"While you are in Intangible mass form, Vivian gets +2 THW.\\nWhile you are in Dense mass form, Vivian gets +2 ATK.\"],[0,null],[1,\"<b>Hero Action</b>: Resolve the \\\"<b>Special</b>\\\" ability on each [[Black Panther]] upgrade you control in any order. <i>(Resolving each ability is a step in a sequence.)</i>\"],[0,\"<i>Superpowered Siblings</i> \\u2014 <b>Action:</b> Discard 2 cards from your hand \\u2192 draw 2 cards (draw 3 cards instead if Pietro Maximoff is in play). (Limit once per round.)\"],[0,null],[4,\"<b>Action</b>: Exhaust War Machine and deal 2 damage to him \\u2192 deal 1 damage to each enemy.\"],[4,\"Toughness.\\nWar Machine's basic attack gains ranged.\"],[0,\"<i>Locked and Loaded</i> - <b>Response</b>: After you change to this form, place 5 ammo counters on War Machine.\"],[1,\"Max 1 per player.\\n<b>Response</b>: After an ally attacks and defeats a minion, exhaust War Room \\u2192 remove 1 threat from a scheme.\"],[3,\"<b>Action:</b> Spend a [mental] resource \\u2192 heal up to 2 damage from Warlock.\"],[2,\"<b>Hero Response</b>: After you resolve Adam Warlock's \\\"Battle Mage\\\" ability, exhaust Warlock's Cape \\u2192 ready Adam Warlock's\"],[0,\"<b>Interrupt</b> <i>(defense)</i>: When a hero would take any amount of damage, reduce that amount by 1.\"],[1,\"<b>Hero Interrupt:</b> When an encounter card is revealed from the encounter deck, cancel all of its effects and discard it. Discard cards from the top of the encounter deck equal to the number of boost icons on that card.\"],[2,\"Uses (3 warrior counters). Max 1 per player.\\n<b>Interrupt</b>: When your hero attacks, remove 1 counter from here \\u2192 that attacks deals 1 additional damage.\"],[1,\"Attach to a character with \\\"Spider\\\" in its title. Max 1 per character.\\nAttached character gains the [[Web-Warrior]] trait.\\n<b>Response:</b> After a [[Web-Warrior]] ally leaves play, attached character gets +1 ATK until the end of the phase.\"],[3,\"<b>Hero Response:</b> After Wasp enters play, deal 2 damage to an enemy if you are in [[Giant]] hero form or remove 2 threat from a scheme if you are in [[Tiny]] hero form.\"],[0,\"Wasp gets +1 hit point for each pym counter on her.\\n<b>Interrupt:</b> When Wasp enters play, place 1 pym counter on her (to a maximum of 3) for each [energy] resource you overpaid for Wasp's cost.\"],[2,\"Play only if your identity has the [[champion]] trait.\\nWasp ignores the guard keyword, patrol keyword, and crisis icon ([crisis]).\"],[0,\"(?)\"],[2,\"<b>Hero Action</b> <i>(attack)</i>: If you are in [[Giant]] hero form, deal a total of 4 damage divided among enemies you choose.\\n<b>Hero Action</b> <i>(attack)</i>: If you are in [[Tiny]] hero form, deal 5 damage to an enemy.\"],[2,\"While you are in [[Giant]] hero form, you get +1 THW.\\nWhile you are in [[Tiny]] hero form, you get +1 ATK.\"],[0,null],[1,\"Play only if your identity has the [[MUTANT]] trait.\\n<b>Alter-Ego Action</b>: Exhaust Weapon X and take 1 damage \\u2192 discard cards from your deck until you discard an identity-specific card, then add that card to your hand.\"],[1,\"While in hero form, Nebula gains retaliate 1.\\n<b>Special</b> <i>(attack)</i>: Deal 4 damage to an enemy.\"],[0,\"<b>Hero Action</b>:  Swap your [[WEATHER]] support in play with a support of your choice from the [[WEATHER]] deck. Resolve the \\\"<b>Special</b>\\\" ability on your [[WEATHER]] support in play.\"],[2,\"Requirement ([mental]). <i>(While paying for this card, spend the listed resources.)</i>\\n<b>Hero Interrupt</b>: When an enemy would activate, cancel that activation. If a minion's activation was cancelled this way, deal 4 damage to that minion.\"],[3,\"Ignore this card's resource cost if your identity has the [[Web-Warrior]] trait.\\n<b>Response</b>: After a [[Web-Warrior]] ally leaves play, choose a player \\u2192 that player draws 1 card.\"],[2,\"<b>Hero Response</b>: After you resolve an \\\"<b>Interrupt</b>\\\" or \\\"<b>Response</b>\\\" ability on an event, exhaust Web-Bracelet \\u2192 draw 1 card. (Max 1 per event.)\"],[2,\"<b>Hero Interrupt:</b> When SP/dr Suit makes a basic attack, exhaust Web-Fluid Compressor \\u2192 it gets +2 ATK for that attack.\"],[1,\"Uses (3 web counters). <i>(Enters play with 3 counters. When those are gone, discard this card)</i>\\n<b>Hero Resource</b>: Exhaust Web-Shooter and remove 1 web counter from it \\u2192 generate a [wild] resource.\"],[1,\"Uses (3 web counters). <i>(Enters play with 3 counters. When those are gone, discard this card)</i>\\n<b>Hero Resource</b>: Exhaust Web-Shooter and remove 1 web counter from it \\u2192 generate a [wild] resource.\"],[2,\"<b>Hero Action</b> <i>(attack)</i>: Deal 4 damage to an enemy. If you paid for this card using a [energy] resource, resolve Spider-Man's <i>\\\"Venom Blast\\\"</i> ability.\"],[2,\"<b>Hero Action</b> <i>(attack)</i>: Deal 5 damage to an enemy. If you paid for this card using a resource generated by SP//dr Suit's <i>\\\"Sync Ratio\\\"</i> ability, stun that enemy.\"],[4,\"Hero form only. Attach to an enemy. Max 1 per enemy.\\n<b>Forced Interrupt</b>: When attached enemy would attack, discard Webbed Up instead. Then, stun that enemy.\"],[2,\"Requirement ([physical]) <i>(While paying for this card, spend the listed resources.)</i>\\n<b>Hero Action</b>: Heal 2 damage from your hero \\u2192 ready your hero.\"],[2,\"<b>Alter-Ego Action</b>: Exhaust White Hot Room \\u2192 choose:\\n\\u2022 Place 1 power counter on Phoenix Force.\\n\\u2022 Heal 2 damage from Jean Grey.\"],[3,\"<b>Response</b>: After you play White Tiger from your hand, draw X cards (to a maximum of three), where X is equal to the villain's stage number. If the villain has no stage number, draw 1 card.\"],[2,\"<b>Response:</b> After Wiccan thwarts, discard the top card of the encounter deck. For each boost icon discarded this way, deal 1 damage to an enemy.\"],[1,\"While Nebula is in hero form, reduce the amount of damage she takes from each attack by 1.\\n<b>Special</b> : Look at the top 3 cards of the encounter deck. Discard 1 and put the others back in any order.\"],[1,\"<b>Hero Response</b> <i>(attack)</i>: After a minion enters play, discard Widow's Bite \\u2192 deal 2 damage to that minion and stun it.\"],[0,\"<b>Hero Interrupt</b> <i>(defense)</i>: When you would take any amount of damage, prevent 3 of that damage. Draw 1 card.\"],[0,\"<b>Special</b>: Draw 3 cards. Place this card in the [[Invocation]] deck discard pile.\"],[0,\"Unit Cost 2.\\n<b>Hero Action</b>: Deal 1 damage to an enemy and confuse it. Confuse your hero. Draw 1 card.\"],[4,\"Reduce the cost to play Winter Soldier by 1 for each [[Preparation]] card you control.\"],[4,\"[star] Wolverine's attacks gain piercing.\\n<b>Response</b>: After your turn begins, heal 1 damage from Wolverine.\"],[0,\"<i>Healing Factor</i> - <b>Response</b>: After the player phase begins, heal 2 damage.\"],[0,\"Permanent.\\n<b>Hero Action</b>: Exhaust Wolverine's Claws, choose en [[ATTACK]] event in your hand, and take damage equal to its printed cost \\u2192 play that event, ignoring its resource cost. That attack gains piercing.\"],[2,\"[star] As an additional cost for Wonder Man to attack, you must discard 1 card from your hand.\"],[3,\"<b>Action</b>: Exhaust Wong \\u2192 choose to either heal 1 damage from your identity or discard the top card of the [[Invocation]] deck.\"],[3,\"<b>Hero Interrupt:</b> When a boost card is turned faceup, exhaust Wraith and deal 1 damage to him \\u2192 cancel that card's \\\"Boost\\\" effect.\"],[1,\"<b>Hero Action:</b> If you are in [[Giant]] hero form, exhaust Wrist Gauntlets and spend [physical][physical] resources \\u2192 stun an enemy.\\n<b>Hero Action:</b> If you are in [[Tiny]] hero form, exhaust Wrist Gauntlets and spend [energy][energy] resources \\u2192 confuse an enemy.\"],[0,null],[1,\"Play only if your identity has the [[MUTANT]] trait. Max 1 per player\\n<b>Resource</b>: Exhaust X-Gene \\u2192 generate a [wild] resource for an identity-specific event.\"],[2,\"<b>Alter-Ego Action</b>: Exhaust X-Mansion \\u2192 heal 1 damage from a [[MUTANT]] or [[X-MEN]] character. Any player whose alter-ego has the [[MUTANT]] trait may trigger this ability.\"],[0,\"Play only if your identity has the [[MUTANT]] trait.\\n<b>Alter-Ego Action</b>: Choose up to 2 [[X-MEN]] allies in your discard pile and shuffle them into your deck. If X-Mansion is in play, draw 1 card.\"],[1,\"Play only if your identity has the [[Aerial]] trait.\\n<b>Hero Response</b> <i>(thwart)</i>: After your hero thwarts, remove 3 threat from a scheme.\"],[4,\"Yondu's attacks gain ranged.\"],[1,\"Team-Up (Gwen Stacy and Miles Morales). Max 1 per deck.\\n<b>Alter-Ego Action</b>: Heal 3 damage each from Gwen Stacy and Miles Morales.\"],[0,\"<b>Alter-Ego Action</b> Exhaust your alter-ego and spend a [mental] resource \\u2192 discard this card.\"],[1,\"Play only if your identity has the Mystic trait. Max 1 per deck.\\n<b>Hero Action</b> <i>(thwart)</i>: Choose a scheme and discard up to 4 cards from the top of your deck \\u2192 remove 1 threat from that scheme for each card discarded this way.\"],[\"(?)\",\"(?)\"],[0,null],[0,\"(?)\"],[\"(?)\",\"(?)\"],[\"(?)\",\"(?)\"],[0,null],[\"(?)\",\"(?)\"],[\"(?)\",\"(?)\"],[0,\"(?)\"],[\"(?)\",\"(?)\"],[0,null],[0,null],[\"(?)\",\"(?)\"],[0,null],[\"(?)\",\"(?)\"],[\"(?)\",\"(?)\"],[0,\"(?)\"],[\"(?)\",\"(?)\"],[\"(?)\",\"(?)\"],[\"(?)\",\"(?)\"],[\"(?)\",\"(?)\"],[\"(?)\",\"(?)\"],[\"(?)\",\"(?)\"],[0,\"(?)\"],[\"(?)\",\"(?)\"],[\"(?)\",\"(?)\"],[\"(?)\",\"(?)\"],[\"(?)\",\"(?)\"],[0,null],[0,\"(?)\"],[\"(?)\",\"(?)\"],[\"(?)\",\"(?)\"],[\"(?)\",\"(?)\"],[\"(?)\",\"(?)\"],[\"(?)\",\"(?)\"],[\"(?)\",\"(?)\"],[\"(?)\",\"(?)\"],[0,null],[\"(?)\",\"(?)\"],[\"(?)\",\"(?)\"],[\"(?)\",\"(?)\"],[\"(?)\",\"(?)\"],[\"(?)\",\"(?)\"],[\"(?)\",\"(?)\"],[\"(?)\",\"(?)\"],[0,null],[0,null],[\"(?)\",\"(?)\"],[\"(?)\",\"(?)\"],[\"(?)\",\"(?)\"],[\"(?)\",\"(?)\"],[2,\"<b>Hero Action</b> <i>(attack)</i>: Deal 5 damage to an enemy.\"],[\"(?)\",\"(?)\"],[1,\"<b>Hero Action</b> <i>(thwart)</i>: Remove a total of 3 threat from among schemes in play.\"],[2,\"<b>Hero Action</b>: Stun and confuse an enemy.\"],[2,\"<b>Hero Action</b>: Heal 3 damage from Spider-Woman and give her a tough status card.\"],[\"(?)\",\"(?)\"],[\"(?)\",\"(?)\"],[\"(?)\",\"(?)\"],[\"(?)\",\"(?)\"],[\"(?)\",\"(?)\"],[\"(?)\",\"(?)\"],[\"(?)\",\"(?)\"],[\"(?)\",\"(?)\"],[\"(?)\",\"(?)\"],[\"(?)\",\"(?)\"],[0,\"(?)\"],[\"(?)\",\"(?)\"],[\"(?)\",\"(?)\"],[\"(?)\",\"(?)\"],[\"(?)\",\"(?)\"],[\"(?)\",\"(?)\"],[\"(?)\",\"(?)\"],[\"(?)\",\"(?)\"],[\"(?)\",\"(?)\"],[\"(?)\",\"(?)\"]],\"domain\":{\"x\":[0.0,1.0],\"y\":[0.0,1.0]},\"hovertemplate\":\"labels=%{label}<br>count=%{value}<br>parent=%{parent}<br>id=%{id}<br>cost=%{customdata[0]}<br>text=%{customdata[1]}<extra></extra>\",\"ids\":[\"aggression/nan/\\\"Bring It!\\\"\",\"hero/drax/\\\"Fight Me, Coward!\\\"\",\"basic/nan/\\\"Go for Champions!\\\"\",\"hero/spiderham/\\\"I Don't Think So!\\\"\",\"hero/wolverine/\\\"I Got Better\\\"\",\"hero/groot/\\\"I am Groot\\\"\",\"hero/groot/\\\"I. AM. GROOT!\\\"\",\"campaign/challenge/\\\"There is No Escape\\\"\",\"justice/nan/\\\"Think Fast!\\\"\",\"leadership/nan/\\\"To Me, My X-Men!\\\"\",\"hero/groot/\\\"We Are Groot\\\"\",\"leadership/nan/\\\"Welcome Aboard\\\"\",\"aggression/nan/\\\"You'll Pay for That!\\\"\",\"hero/vision/616 Hickory Branch Lane\",\"hero/ms_marvel/Aamir Khan\",\"hero/qsv/Accelerated Reflex\",\"hero/gam/Acrobatic Move\",\"basic/nan/Across the Spider-Verse\",\"hero/shadowcat/Acute Control\",\"leadership/nan/Adam Warlock\",\"hero/warlock/Adam Warlock\",\"hero/wolverine/Adamantium Skeleton\",\"campaign/hydra_camp/Adrenal Stims\",\"basic/nan/Adrenaline Rush\",\"hero/scw/Agatha Harkness\",\"hero/captain_america/Agent 13\",\"basic/nan/Agent 13\",\"justice/nan/Agent Coulson\",\"aggression/nan/Aggressive Energy\",\"justice/nan/Agile Flight\",\"leadership/nan/Air Supremacy\",\"hero/shadowcat/Airwalk\",\"hero/spdr/All Systems Go!\",\"leadership/nan/All for One\",\"hero/captain_marvel/Alpha Flight Station\",\"hero/qsv/Always Be Running\",\"hero/black_panther/Ancestral Knowledge\",\"basic/nan/Angel\",\"aggression/nan/Angela\",\"hero/rogue/Anna Marie\",\"hero/valk/Annabelle Riggs\",\"hero/ant/Ant-Man\",\"leadership/nan/Ant-Man\",\"hero/wsp/Ant-Man\",\"hero/ant/Ant-Man's Helmet\",\"campaign/expcamp/Anti-Hero Propaganda\",\"protection/nan/Anticipation\",\"hero/spider_man_morales/Arachnobatics\",\"hero/valk/Aragorn\",\"hero/iron_man/Arc Reactor\",\"campaign/the_market/Ardent Resolve\",\"protection/nan/Armor\",\"campaign/the_market/Armor Plating\",\"hero/colossus/Armor Up\",\"protection/nan/Armored Vest\",\"hero/ant/Army of Ants\",\"aggression/nan/As One!\",\"hero/thor/Asgard\",\"aggression/nan/Assault Training\",\"basic/nan/Assess the Situation\",\"hero/doctor_strange/Astral Projection\",\"basic/nan/Athletic Conditioning\",\"aggression/nan/Attack Training\",\"hero/black_widow/Attacrobatics\",\"aggression/nan/Audacity\",\"hero/spider_man/Aunt May\",\"hero/spdr/Aunt May & Uncle Ben\",\"leadership/nan/Avengers Assemble!\",\"basic/nan/Avengers Mansion\",\"basic/nan/Avengers Tower\",\"campaign/community_service/Back Alley Burglary\",\"hero/spider_man/Backflip\",\"hero/stld/Bad Boy\",\"campaign/challenge/Badoon Blitz\",\"campaign/badoon_headhunter/Badoon Headhunter\",\"protection/nan/Bait and Switch\",\"leadership/nan/Band Together\",\"hero/hulk/Banner's Laboratory\",\"justice/nan/Banshee\",\"campaign/hydra_camp/Basic Attack Upgrade\",\"campaign/hydra_camp/Basic Defense Upgrade\",\"campaign/hydra_camp/Basic Recovery Upgrade\",\"campaign/hydra_camp/Basic Thwart Upgrade\",\"hero/rocket/Battery Pack\",\"aggression/nan/Battle Fury\",\"leadership/nan/Beast\",\"basic/nan/Beat 'Em Up\",\"justice/nan/Beat Cop\",\"basic/nan/Beauty and the Thief\",\"justice/nan/Befuddle\",\"hero/vnm/Behind Enemy Lines\",\"hero/wolverine/Berserker Barrage\",\"hero/wolverine/Berserker Frenzy\",\"leadership/nan/Beta Ray Bill\",\"hero/ms_marvel/Big Hands\",\"hero/wsp/Bio-Synthetic Wings\",\"hero/ms_marvel/Biokinetic Polymer Suit\",\"justice/nan/Bishop\",\"hero/spider_man/Black Cat\",\"leadership/nan/Black Knight\",\"hero/black_panther/Black Panther\",\"leadership/nan/Black Panther\",\"campaign/mts_campaign/Black Swan\",\"hero/black_widow/Black Widow\",\"protection/nan/Black Widow\",\"hero/black_widow/Black Widow's Gauntlet\",\"basic/nan/Blade\",\"hero/storm/Blast of Wind\",\"leadership/nan/Blaze of Glory\",\"justice/nan/Blindfold\",\"hero/weather/Blizzard\",\"hero/spectrum/Blue Marvel\",\"campaign/defender/Bodyguard\",\"aggression/nan/Bombshell\",\"basic/nan/Booster Boots\",\"aggression/nan/Boot Camp\",\"hero/hulk/Boundless Rage\",\"justice/nan/Brains Over Brawn\",\"campaign/the_market/Brainstorm\",\"hero/ironheart/Brawn\",\"aggression/nan/Brawn\",\"campaign/brawler/Brazen Defense\",\"justice/nan/Breaking and Entering\",\"protection/nan/Brother Voodoo\",\"aggression/nan/Browbeat\",\"hero/hulk/Bruce Banner\",\"hero/valk/Brunnhilde\",\"hero/ms_marvel/Bruno Carrelli\",\"aggression/nan/Brute Force\",\"aggression/nan/Bug\",\"hero/rogue/Bulletproof Belle\",\"hero/colossus/Bulletproof Protector\",\"campaign/the_market/By Any Means\",\"basic/nan/C.I.T.T.\",\"hero/hawkeye/Cable Arrow\",\"campaign/the_market/Calculate the Odds\",\"leadership/nan/Call for Aid\",\"hero/captain_america/Captain America\",\"leadership/nan/Captain America\",\"hero/captain_america/Captain America's Helmet\",\"hero/captain_america/Captain America's Shield\",\"hero/spiderham/Captain Americat\",\"hero/captain_marvel/Captain Marvel\",\"leadership/nan/Captain Marvel\",\"hero/spider_woman/Captain Marvel\",\"hero/captain_marvel/Captain Marvel's Helmet\",\"campaign/the_market/Cargo Hold\",\"hero/captain_marvel/Carol Danvers\",\"hero/spiderham/Cartoon Physics\",\"campaign/community_service/Cat in a Tree\",\"basic/nan/Cerebro\",\"basic/nan/Champions Mobile Bunker\",\"justice/nan/Chance Encounter\",\"hero/scw/Chaos Magic\",\"hero/gambit/Charged Card\",\"protection/nan/Charlie-27\",\"aggression/nan/Chase Them Down\",\"hero/valk/Chooser of the Slain\",\"basic/nan/Civic Duty\",\"leadership/nan/Clarity of Purpose\",\"protection/nan/Clea\",\"hero/weather/Clear Skies\",\"justice/nan/Clear the Area\",\"hero/hawkeye/Clint Barton\",\"hero/doctor_strange/Cloak of Levitation\",\"aggression/nan/Clobber\",\"campaign/the_market/Close Call\",\"leadership/nan/Cloud 9\",\"hero/colossus/Colossus\",\"basic/nan/Colossus\",\"hero/nebu/Combat Ready\",\"aggression/nan/Combat Training\",\"justice/nan/Command Center\",\"leadership/nan/Command Team\",\"leadership/nan/Comms Implant\",\"campaign/shield_tech/Compact Darts\",\"campaign/commander/Compassion\",\"campaign/peacekeeper/Compassion\",\"justice/nan/Concussive Blow\",\"hero/gam/Conditioning Room\",\"hero/nova/Connection to the Worldmind\",\"protection/spider_woman/Contaminant Immunity\",\"campaign/the_market/Contingency Plan\",\"leadership/nan/Coordinated Attack\",\"basic/nan/Cosmic Alliance\",\"hero/warlock/Cosmic Awareness\",\"hero/captain_marvel/Cosmic Flight\",\"hero/warlock/Cosmic Ward\",\"campaign/mts_campaign/Cosmo\",\"basic/nan/Cosmo\",\"protection/nan/Counter-Punch\",\"aggression/nan/Counterattack\",\"justice/nan/Counterintelligence\",\"campaign/brawler/Coup de Gr\\u00e2ce\",\"campaign/commander/Coup de Gr\\u00e2ce\",\"hero/black_widow/Covert Ops\",\"campaign/the_market/Creative Solution\",\"hero/gambit/Creole Charmer\",\"basic/nan/Crew Quarters\",\"hero/invocation/Crimson Bands of Cyttorak\",\"justice/nan/Crisis Averted\",\"hero/captain_marvel/Crisis Interdiction\",\"hero/gam/Crosscounter\",\"hero/hulk/Crushing Blow\",\"hero/nebu/Cutthroat Ambition\",\"hero/rocket/Cybernetic Skeleton\",\"hero/cyclops/Cyclops\",\"hero/phoenix/Cyclops\",\"hero/drax/DWI Theet Mastery\",\"hero/black_widow/Dance of Death\",\"basic/nan/Danger Room\",\"leadership/nan/Danger Room Training\",\"justice/nan/Daredevil\",\"protection/nan/Daredevil\",\"hero/stld/Daring Escape\",\"basic/nan/Daughters of Thanos\",\"protection/nan/Dauntless\",\"justice/nan/Dazzler\",\"campaign/badoon_headhunter/Dead to Rights\",\"hero/valk/Death-Glow\",\"hero/gam/Decisive Blow\",\"hero/thor/Defender of the Nine Realms\",\"hero/spider_man_morales/Defense Mechanism\",\"protection/nan/Defensive Energy\",\"campaign/mts_campaign/Defensive Protocols\",\"protection/nan/Defensive Stance\",\"protection/nan/Defensive Training\",\"protection/nan/Defiance\",\"protection/nan/Deflection\",\"basic/nan/Deft Focus\",\"campaign/the_market/Defy Danger\",\"hero/vision/Density Control\",\"protection/nan/Desperate Defense\",\"justice/nan/Determination\",\"campaign/defender/Determined Defense\",\"aggression/nan/Dive Bomb\",\"hero/doctor_strange/Doctor Strange\",\"hero/spider_man_morales/Double Life\",\"hero/qsv/Double Time\",\"basic/nan/Down Time\",\"hero/valk/Dragonfang\",\"hero/drax/Drax\",\"basic/nan/Drax\",\"hero/drax/Drax's Knife\",\"hero/drax/Drax's Other Knife\",\"aggression/nan/Drop Kick\",\"basic/nan/Dum Dum Dugan\",\"aggression/nan/Dust\",\"basic/nan/Earth's Mightiest Heroes\",\"leadership/nan/Effective Leadership\",\"hero/spdr/Ejection Protocol\",\"hero/hawkeye/Electric Arrow\",\"protection/nan/Electrostatic Armor\",\"hero/stld/Element Gun\",\"hero/ms_marvel/Embiggen!\",\"basic/nan/Emergency\",\"campaign/hydra_camp/Emergency Teleporter\",\"basic/nan/Endurance\",\"campaign/mut_gen_campaign/Enemy of My Enemy\",\"basic/nan/Energy\",\"hero/captain_marvel/Energy Absorption\",\"protection/nan/Energy Barrier\",\"hero/captain_marvel/Energy Channel\",\"hero/black_panther/Energy Daggers\",\"hero/spectrum/Energy Duplication\",\"aggression/nan/Energy Spear\",\"hero/rogue/Energy Transfer\",\"basic/nan/Enhanced Awareness\",\"basic/nan/Enhanced Physique\",\"basic/nan/Enhanced Reflexes\",\"hero/spider_man/Enhanced Spider-Sense\",\"aggression/nan/Enraged\",\"hero/groot/Entangling Vines\",\"justice/nan/Eros\",\"basic/nan/Espionage\",\"leadership/nan/Eternity\",\"hero/nebu/Evasive Maneuvering\",\"justice/nan/Even the Odds\",\"protection/nan/Ever Vigilant\",\"basic/nan/Everyday Hero\",\"protection/nan/Expert Defense\",\"hero/hawkeye/Expert Marksman\",\"hero/cyclops/Exploit Weakness\",\"hero/hawkeye/Explosive Arrow\",\"leadership/nan/Falcon\",\"campaign/mts_campaign/Fandral\",\"basic/nan/Fastball Special\",\"hero/captain_america/Fearless Determination\",\"campaign/brawler/Ferocious Attack\",\"hero/groot/Fertile Ground\",\"justice/nan/Field Agent\",\"hero/cyclops/Field Commander\",\"protection/nan/Fighting Fit\",\"campaign/mts_campaign/Find the Norn Stones\",\"campaign/mut_gen_campaign/Find the Prisoners\",\"hero/spider_woman/Finesse\",\"basic/nan/First Aid\",\"protection/nan/First Hit\",\"hero/storm/Flash Freeze\",\"hero/vnm/Flash Thompson\",\"hero/valk/Flight of the Valkyrior\",\"basic/nan/Flora and Fauna\",\"protection/nan/Flow Like Water\",\"aggression/nan/Fluid Motion\",\"hero/ironheart/Fly Over\",\"hero/she_hulk/Focused Rage\",\"justice/nan/Foiled!\",\"aggression/nan/Follow Through\",\"justice/nan/Followed\",\"hero/thor/For Asgard!\",\"justice/nan/For Justice!\",\"protection/nan/Forcefield Generator\",\"hero/nova/Forcefield Projection\",\"basic/nan/Forge\",\"campaign/peacekeeper/Fortitude\",\"hero/gam/Forward Momentum\",\"hero/qsv/Friction Resistance\",\"campaign/mut_gen_campaign/Frightened Police\",\"hero/groot/Fruition\",\"campaign/badoon_headhunter/Fugitive Recovery\",\"hero/warm/Full Auto\",\"hero/cyclops/Full Blast\",\"aggression/nan/Fusillade\",\"campaign/challenge/Gallery of Splendor\",\"hero/gambit/Gambit\",\"hero/rogue/Gambit\",\"hero/gambit/Gambit's Guild Armor\",\"hero/gambit/Gambit's Staff\",\"basic/nan/Game Time\",\"hero/spectrum/Gamma\",\"hero/spectrum/Gamma Blast\",\"hero/she_hulk/Gamma Slam\",\"hero/gam/Gamora\",\"basic/nan/Gamora\",\"hero/nebu/Gamora\",\"hero/gam/Gamora's Sword\",\"hero/spider_man_morales/Ganke Lee\",\"aggression/nan/Gatekeeper\",\"hero/warm/Gauntlet Gun\",\"basic/nan/Genius\",\"leadership/nan/Gentle\",\"hero/ghost_spider/George Stacy\",\"protection/nan/Get Behind Me!\",\"aggression/nan/Get Over Here!\",\"leadership/nan/Get Ready\",\"hero/ghost_spider/Ghost Kick\",\"hero/ghost_spider/Ghost-Spider\",\"basic/nan/Ghost-Spider\",\"hero/wsp/Giant Help\",\"hero/ant/Giant Stomp\",\"hero/ant/Giant Strength\",\"leadership/nan/Giant-Man\",\"justice/nan/Global Logistics\",\"leadership/nan/Go All Out\",\"leadership/nan/Go Down Swinging\",\"hero/thor/God of Thunder\",\"basic/nan/Godlike Stamina\",\"aggression/nan/Godslayer\",\"hero/rogue/Goin' Rogue\",\"leadership/nan/Goliath\",\"basic/nan/Government Liaison\",\"campaign/the_market/Grand Strategy\",\"campaign/the_market/Grapple\",\"hero/black_widow/Grappling Hook\",\"hero/vnm/Grasping Tendrils\",\"justice/nan/Great Responsibility\",\"hero/groot/Groot\",\"basic/nan/Groot\",\"hero/she_hulk/Ground Stomp\",\"campaign/commander/Group Assault\",\"leadership/nan/Guardians of the Galaxy\",\"campaign/challenge/Guerrilla Tactics\",\"hero/stld/Gutsy Move\",\"hero/ghost_spider/Gwen Stacy\",\"campaign/mts_campaign/Hack Sanctuary's Computer\",\"aggression/nan/Hall of Heroes\",\"hero/spiderham/Ham It Up\",\"hero/thor/Hammer Throw\",\"aggression/nan/Hand Cannon\",\"protection/nan/Hangar Bay\",\"protection/nan/Hard Knocks\",\"protection/nan/Hard to Ignore\",\"hero/valk/Have at Thee!\",\"leadership/nan/Havok\",\"hero/hawkeye/Hawkeye\",\"leadership/nan/Hawkeye\",\"hero/hawkeye/Hawkeye's Bow\",\"hero/hawkeye/Hawkeye's Quiver\",\"basic/nan/Haymaker\",\"campaign/badoon_headhunter/Headhunter's Henchman\",\"campaign/the_market/Heavy Cannon\",\"protection/nan/Height Advantage\",\"basic/nan/Heimdall\",\"basic/nan/Helicarrier\",\"hero/she_hulk/Hellcat\",\"campaign/community_service/Henchmen Heist\",\"aggression/nan/Hercules\",\"campaign/defender/Heroic Intervention\",\"justice/nan/Heroic Intuition\",\"hero/captain_america/Heroic Strike\",\"hero/scw/Hex Bolt\",\"basic/nan/Hit and Run\",\"hero/ant/Hive Mind\",\"campaign/mts_campaign/Hogun\",\"hero/spiderham/Hogwashed\",\"justice/nan/Homeland Intervention\",\"aggression/nan/Honed Technique\",\"basic/nan/Honorary Avenger\",\"basic/nan/Honorary Guardian\",\"basic/nan/Honorary X-Men\",\"hero/spdr/Host Spider\",\"hero/spiderham/Huge Wooden Hammer\",\"hero/hulk/Hulk\",\"aggression/nan/Hulk\",\"hero/hulk/Hulk Smash\",\"hero/weather/Hurricane\",\"hero/qsv/Hyper Perception\",\"campaign/the_market/Hyper Thrusters\",\"hero/rocket/I've Got a Plan\",\"protection/nan/Iceman\",\"hero/invocation/Images of Ikonn\",\"hero/hulk/Immovable Object\",\"campaign/shield_tech/Impact-Dampening Suit\",\"justice/nan/Impede\",\"campaign/hydra_camp/Improved Attack Upgrade\",\"campaign/hydra_camp/Improved Defense Upgrade\",\"campaign/hydra_camp/Improved Recovery Upgrade\",\"campaign/hydra_camp/Improved Thwart Upgrade\",\"campaign/commander/Improvisation\",\"campaign/the_market/In Defiance\",\"campaign/the_market/In Harm's Way\",\"aggression/nan/In-Betweener\",\"justice/spider_woman/Inconspicuous\",\"protection/nan/Indomitable\",\"basic/nan/Ingenuity\",\"leadership/nan/Innovation\",\"leadership/nan/Inspired\",\"leadership/nan/Inspiring Presence\",\"hero/vision/Intangible\",\"hero/shadowcat/Intangible Interference\",\"justice/nan/Interrogation Room\",\"hero/drax/Intimidation\",\"aggression/nan/Into the Fray\",\"basic/nan/Invulnerability\",\"protection/nan/Iron Fist\",\"hero/iron_man/Iron Man\",\"leadership/nan/Iron Man\",\"hero/warm/Iron Man\",\"hero/colossus/Iron Will\",\"hero/ironheart/Ironheart\",\"basic/nan/Ironheart\",\"justice/nan/Jack Flag\",\"hero/warm/James Rhodes\",\"aggression/nan/Jarnbjorn\",\"hero/phoenix/Jean Grey\",\"hero/spider_man_morales/Jefferson Davis\",\"hero/she_hulk/Jennifer Walters\",\"hero/nova/Jesse Alexander\",\"hero/spider_woman/Jessica Drew\",\"hero/spider_woman/Jessica Drew's Apartment\",\"justice/nan/Jessica Jones\",\"hero/stld/Jet Boots\",\"protection/nan/Jocasta\",\"leadership/nan/Joining Forces\",\"campaign/mts_campaign/Jormungand\",\"hero/wolverine/Jubilee\",\"protection/nan/Judoka Skill\",\"protection/nan/Jump Flip\",\"hero/vision/Just Passing Through\",\"justice/nan/Justice Served\",\"leadership/nan/Kaluu\",\"hero/ms_marvel/Kamala Khan\",\"protection/nan/Karma\",\"hero/warlock/Karmic Blast\",\"hero/warlock/Karmic Staff\",\"hero/gam/Keen Instincts\",\"hero/shadowcat/Kitty Pride\",\"hero/shadowcat/Kitty's Room\",\"hero/drax/Knife Leap\",\"basic/nan/Knowhere\",\"campaign/challenge/Kree Supremacy\",\"campaign/mts_campaign/Lady Sif\",\"hero/thor/Lady Sif\",\"justice/nan/Lady Spider\",\"leadership/nan/Laser Blaster\",\"campaign/hydra_camp/Laser Cannon\",\"campaign/shield_tech/Laser Googles\",\"hero/groot/Lashing Vines\",\"leadership/nan/Last Stand\",\"justice/nan/Lay Down the Law\",\"leadership/nan/Lead from the Front\",\"hero/stld/Leader of the Guardians\",\"leadership/nan/Leadership Skill\",\"leadership/nan/Leadership Training\",\"protection/nan/Leading Blow\",\"hero/she_hulk/Legal Practice\",\"hero/nebu/Lethal Intent\",\"aggression/nan/Lie in Wait\",\"hero/storm/Lightning Bolt\",\"hero/thor/Lightning Strike\",\"hero/nova/Lightspeed Flight\",\"basic/nan/Limitless Stamina\",\"hero/hulk/Limitless Strength\",\"justice/nan/Living Tribunal\",\"hero/vnm/Locked and Loaded\",\"hero/shadowcat/Lockheed\",\"basic/nan/Lockjaw\",\"hero/wolverine/Logan\",\"hero/wolverine/Logan's Cabin\",\"basic/nan/Longshot\",\"aggression/nan/Looking for Trouble\",\"protection/nan/Luke Cage\",\"hero/wolverine/Lunging Strike\",\"basic/nan/Machine Man\",\"hero/colossus/Made of Rage\",\"aggression/nan/Magic Attack\",\"hero/doctor_strange/Magic Blast\",\"hero/scw/Magic Shield\",\"hero/doctor_strange/Magical Enhancements\",\"aggression/nan/Magik\",\"campaign/mut_gen_campaign/Magneto\",\"campaign/mut_gen_campaign/Magneto's Fortress\",\"campaign/mut_gen_campaign/Magneto's Power\",\"leadership/nan/Major Victory\",\"leadership/nan/Make the Call\",\"justice/nan/Making an Entrance\",\"hero/drax/Mantis\",\"leadership/nan/Maria Hill\",\"hero/iron_man/Mark V Armor\",\"hero/iron_man/Mark V Helmet\",\"aggression/nan/Marked\",\"campaign/expcamp/Martial Law\",\"aggression/nan/Martial Prowess\",\"basic/nan/Martinex\",\"protection/nan/Martyr\",\"aggression/nan/Marvel Boy\",\"justice/nan/Marvel Girl\",\"leadership/nan/Mass Attack\",\"hero/vision/Mass Increase\",\"hero/doctor_strange/Master of the Mystic Arts\",\"hero/qsv/Maximum Velocity\",\"aggression/nan/Mean Swing\",\"leadership/nan/Med Lab\",\"protection/nan/Med Team\",\"campaign/expcamp/Medical Emergency\",\"basic/nan/Meditation\",\"aggression/nan/Melee\",\"hero/phoenix/Mental Paralysis\",\"campaign/peacekeeper/Mentorship\",\"campaign/mut_gen_campaign/Metro P.D.\",\"leadership/nan/Mighty Avengers\",\"hero/spider_man_morales/Miles Morales\",\"hero/phoenix/Mind Control\",\"leadership/nan/Mirage\",\"hero/warm/Missile Launcher\",\"justice/nan/Mission Training\",\"hero/thor/Mjolnir\",\"hero/hawkeye/Mockingbird\",\"basic/nan/Mockingbird\",\"basic/nan/Moira MacTaggert\",\"hero/gambit/Molecular Acceleration\",\"hero/scw/Molecular Decay\",\"aggression/nan/Moment of Triumph\",\"protection/nan/Momentum Shift\",\"justice/nan/Monica Chang\",\"hero/spectrum/Monica Rambeau\",\"basic/nan/Moon Girl\",\"protection/nan/Moondragon\",\"leadership/nan/Morale Boost\",\"campaign/the_market/Mounted Laser\",\"leadership/nan/Moxie\",\"hero/ms_marvel/Ms. Marvel\",\"hero/nova/Ms. Marvel\",\"hero/vnm/Multi-Gun\",\"protection/nan/Multiple Man\",\"justice/nan/Multitasking\",\"hero/warm/Munitions Bunker\",\"protection/nan/Muster Courage\",\"basic/nan/Mutant Education\",\"justice/nan/Mutant Peacekeepers\",\"protection/nan/Mutant Protectors\",\"hero/warlock/Mystic Senses\",\"hero/doctor_strange/Mystical Studies\",\"hero/wsp/Nadia Van Dyne\",\"hero/ms_marvel/Nakia Bahadir\",\"hero/black_widow/Natasha Romanoff\",\"hero/gambit/Natural Agility\",\"campaign/the_market/Navigation Column\",\"hero/gam/Nebula\",\"hero/nebu/Nebula\",\"hero/nebu/Nebula's Ship\",\"protection/nan/Nerves of Steel\",\"protection/nan/Never Back Down\",\"hero/ironheart/New and Improved\",\"basic/nan/Nick Fury\",\"protection/nan/Nightcrawler\",\"aggression/nan/No Quarter\",\"campaign/mts_campaign/Norn Stone\",\"protection/nan/Not Today!\",\"protection/nan/Nova\",\"hero/nova/Nova\",\"hero/stld/Nova Prime\",\"hero/thor/Odinson\",\"campaign/community_service/Off the Rails\",\"campaign/badoon_headhunter/On the Hunt\",\"justice/nan/One Way or Another\",\"aggression/nan/One by One\",\"hero/she_hulk/One-Two Punch\",\"campaign/the_market/Onrush\",\"campaign/mts_campaign/Open the Dungeons\",\"justice/nan/Operative Skill\",\"basic/nan/Order and Chaos\",\"hero/colossus/Organic Steel\",\"hero/spiderham/Organic Webbing\",\"hero/storm/Ororo Munroe\",\"hero/storm/Ororo's Garden\",\"aggression/nan/Outta My Way!\",\"justice/nan/Overwatch\",\"hero/black_panther/Panther Claws\",\"hero/ghost_spider/Parental Guidance\",\"hero/drax/Parry\",\"hero/rocket/Particle Cannon\",\"justice/nan/Passion for Justice\",\"leadership/nan/Patriot\",\"hero/drax/Payback\",\"hero/spdr/Peni Parker\",\"hero/iron_man/Pepper Potts\",\"protection/nan/Perseverance\",\"hero/spider_man/Peter Parker\",\"hero/spiderham/Peter Porker\",\"hero/stld/Peter Quill\",\"hero/spiderham/Petulant Pig\",\"hero/ghost_spider/Phantom Flip\",\"hero/vision/Phase Disruption\",\"hero/shadowcat/Phase Strike\",\"hero/shadowcat/Phased\",\"hero/shadowcat/Phased and Confused\",\"leadership/spider_woman/Pheromones\",\"hero/cyclops/Phoenix\",\"hero/phoenix/Phoenix\",\"hero/phoenix/Phoenix Firebird\",\"hero/phoenix/Phoenix Force\",\"hero/phoenix/Phoenix Suit\",\"hero/spectrum/Photon\",\"hero/ironheart/Photon Beam\",\"hero/ironheart/Photon Blasters\",\"hero/spectrum/Photon Speed\",\"hero/captain_marvel/Photonic Blast\",\"aggression/nan/Piercing Strike\",\"hero/qsv/Pietro Maximoff\",\"protection/nan/Pinned Down\",\"protection/nan/Pinpoint\",\"hero/wsp/Pinpoint Strike\",\"hero/colossus/Piotr Rasputin\",\"hero/colossus/Piotr's Studio\",\"hero/warlock/Pip the Troll\",\"hero/ghost_spider/Pirouette and Punch\",\"aggression/nan/Pitchback\",\"justice/nan/Pivotal Moment\",\"leadership/nan/Pixie\",\"basic/nan/Plan B\",\"aggression/nan/Plan of Attack\",\"basic/nan/Plasma Pistol\",\"protection/nan/Polaris\",\"hero/nova/Pot Shot\",\"leadership/nan/Power Gloves\",\"leadership/nan/Power Man\",\"campaign/the_market/Power Unleashed\",\"hero/spider_man_morales/Power Within\",\"hero/iron_man/Powered Gauntlets\",\"protection/nan/Powerful Punch\",\"hero/cyclops/Practiced Defense\",\"aggression/nan/Precision Strike\",\"protection/nan/Preemptive Strike\",\"protection/nan/Preservation\",\"aggression/nan/Press the Advantage\",\"hero/cyclops/Priority Target\",\"justice/nan/Problem Solvers\",\"basic/nan/Professor X\",\"hero/vnm/Project Rebirth 2.0\",\"campaign/shield_tech/Propulsion Gauntlet\",\"hero/ironheart/Propulsion Jets\",\"protection/nan/Protective Training\",\"hero/doctor_strange/Protective Ward\",\"protection/nan/Protector\",\"aggression/nan/Psychic Assault\",\"hero/phoenix/Psychic Blast\",\"leadership/nan/Psychic Kicker\",\"hero/spdr/Psychic Link\",\"justice/nan/Psychic Manipulation\",\"protection/nan/Psychic Misdirection\",\"basic/nan/Psychic Rapport\",\"aggression/nan/Psylocke\",\"campaign/bad_publicity/Public Outcry\",\"hero/spectrum/Pulsar\",\"hero/spectrum/Pulsar Shield\",\"basic/nan/Pulse Grenade\",\"leadership/nan/Push Ahead\",\"hero/ant/Pym Particles\",\"hero/wsp/Pym Particles\",\"justice/nan/Quake\",\"hero/warlock/Quantum Magic\",\"justice/nan/Quasar\",\"hero/shadowcat/Quick Shift\",\"aggression/nan/Quick Strike\",\"hero/qsv/Quicksilver\",\"hero/scw/Quicksilver\",\"basic/nan/Quincarrier\",\"leadership/nan/Quinjet\",\"leadership/nan/R&D Facility\",\"hero/spdr/Rapid Deployment\",\"hero/wsp/Rapid Growth\",\"leadership/nan/Rapid Response\",\"campaign/mut_gen_campaign/Reactive Defense\",\"campaign/the_market/Reactor Core\",\"leadership/nan/Ready for Action\",\"basic/nan/Ready to Rumble\",\"basic/nan/Reboot\",\"basic/nan/Recuperation\",\"hero/ms_marvel/Red Dagger\",\"hero/wsp/Red Room Training\",\"hero/wolverine/Regenerative Healing\",\"leadership/nan/Regroup\",\"hero/qsv/Reinforced Sinew\",\"leadership/nan/Reinforced Suit\",\"aggression/nan/Relentless Assault\",\"hero/rocket/Reload\",\"hero/gambit/Remy Lebeau\",\"hero/warm/Repulsor Beam\",\"hero/iron_man/Repulsor Blast\",\"protection/nan/Repurpose\",\"campaign/mut_gen_campaign/Rescue Captives\",\"campaign/peacekeeper/Rescue Operation\",\"hero/ant/Resize\",\"basic/nan/Resourceful\",\"campaign/shield_tech/Retinal Display\",\"campaign/mts_campaign/Retrieve Odin's Armor\",\"protection/nan/Return the Favor\",\"hero/cyclops/Ricochet Beam\",\"hero/ironheart/Riri Williams\",\"hero/phoenix/Rise from the Ashes\",\"hero/iron_man/Rocket Boots\",\"hero/rocket/Rocket Launcher\",\"basic/nan/Rocket Raccoon\",\"hero/rocket/Rocket Raccoon\",\"hero/rocket/Rocket's Pistol\",\"protection/nan/Rockslide\",\"hero/gambit/Rogue\",\"hero/rogue/Rogue\",\"hero/rogue/Rogue's Jacket\",\"leadership/nan/Ronin\",\"hero/ironheart/Ronnie Williams\",\"hero/groot/Root Stomp\",\"hero/gambit/Royal Flush\",\"campaign/community_service/Rubble Rescue\",\"hero/cyclops/Ruby Quartz Visor\",\"hero/vnm/Run and Gun\",\"justice/nan/Running Interference\",\"basic/nan/SP//dr\",\"hero/spdr/SP//dr\",\"hero/spdr/SP//dr Command\",\"hero/spdr/SP//dr Suit\",\"hero/black_widow/Safe House #29\",\"campaign/the_market/Safeguard\",\"hero/rocket/Salvage\",\"hero/nova/Sam Alexander\",\"hero/doctor_strange/Sanctum Sanctorum\",\"hero/vnm/Savage Attack\",\"leadership/nan/Save the Day\",\"campaign/mts_campaign/Save the Shawarma Place\",\"justice/nan/Scare Tactic\",\"basic/nan/Scarlet Spider\",\"hero/qsv/Scarlet Witch\",\"hero/scw/Scarlet Witch\",\"hero/scw/Scarlet Witch's Crest\",\"hero/rocket/Schadenfreude\",\"hero/warm/Scorched Earth\",\"hero/ant/Scott Lang\",\"hero/cyclops/Scott Summers\",\"protection/nan/Second Wind\",\"hero/ironheart/Sector Scan\",\"campaign/mts_campaign/Secure the Landing Pad\",\"campaign/mts_campaign/Security Breach\",\"hero/spider_woman/Self-Propelled Glide\",\"justice/nan/Sense of Justice\",\"aggression/nan/Sentry\",\"hero/qsv/Serval Industries\",\"hero/gam/Set the Pace\",\"hero/invocation/Seven Rings of Raggadorr\",\"basic/nan/Shadow and Steel\",\"hero/colossus/Shadowcat\",\"hero/shadowcat/Shadowcat\",\"hero/shadowcat/Shadowcat Surprise\",\"protection/nan/Shake it Off\",\"campaign/mts_campaign/Shawarma\",\"aggression/nan/She-Hulk\",\"hero/she_hulk/She-Hulk\",\"hero/captain_america/Shield Block\",\"protection/nan/Shield Spell\",\"hero/captain_america/Shield Toss\",\"hero/valk/Shieldmaiden\",\"campaign/shield_tech/Shock Knuckles\",\"campaign/commander/Shock and Awe\",\"hero/warm/Shoulder Cannon\",\"hero/ms_marvel/Shrink\",\"hero/black_panther/Shuri\",\"basic/nan/Side Holster\",\"protection/nan/Side Step\",\"basic/nan/Sidearm\",\"protection/nan/Silk\",\"justice/nan/Skilled Investigator\",\"aggression/nan/Skilled Strike\",\"leadership/nan/Sky Cycle\",\"basic/nan/Sky-Destroyer\",\"hero/wolverine/Slice and Dice\",\"hero/stld/Sliding Shot\",\"aggression/nan/Smash the Problem\",\"campaign/bad_publicity/Smear Campaign\",\"leadership/nan/Sneak Attack\",\"hero/ms_marvel/Sneak By\",\"campaign/snitches_get_stitches/Snitches Get Stitches\",\"basic/nan/Snowguard\",\"hero/vision/Solar Beam\",\"hero/vision/Solar Gem\",\"hero/shadowcat/Solid\",\"hero/hawkeye/Sonic Arrow\",\"justice/nan/Sonic Rifle\",\"basic/nan/Soul Sisters\",\"hero/warlock/Soul World\",\"hero/rogue/Southern Cross\",\"hero/spectrum/Spectrum\",\"justice/nan/Speed\",\"hero/qsv/Speed Cyclone\",\"hero/spectrum/Speed of Light\",\"hero/spdr/Speed-Metal Alloy\",\"aggression/nan/Spider-Girl\",\"basic/nan/Spider-Ham\",\"hero/spiderham/Spider-Ham\",\"basic/nan/Spider-Man\",\"justice/nan/Spider-Man\",\"protection/nan/Spider-Man\",\"hero/spider_man/Spider-Man\",\"hero/spider_man_morales/Spider-Man\",\"protection/nan/Spider-Man Noir\",\"hero/vnm/Spider-Sense\",\"protection/nan/Spider-Tingle\",\"hero/spider_man/Spider-Tracer\",\"protection/nan/Spider-UK\",\"hero/captain_marvel/Spider-Woman\",\"justice/nan/Spider-Woman\",\"hero/spider_woman/Spider-Woman\",\"basic/nan/Spiritual Meditation\",\"hero/she_hulk/Split Personality\",\"justice/nan/Spycraft\",\"leadership/nan/Squirrel Girl\",\"protection/nan/Stand Together\",\"basic/nan/Star-Lord\",\"hero/stld/Star-Lord\",\"hero/stld/Star-Lord's Helmet\",\"protection/nan/Starhawk\",\"hero/iron_man/Stark Tower\",\"justice/nan/Stealth Strike\",\"hero/colossus/Steel Fist\",\"hero/doctor_strange/Stephen Strange\",\"hero/captain_america/Steve Rogers\",\"hero/captain_america/Steve's Apartment\",\"leadership/nan/Stinger\",\"basic/nan/Storm\",\"hero/storm/Storm\",\"hero/storm/Storm's Cape\",\"hero/storm/Storm's Crown\",\"basic/nan/Strength\",\"leadership/nan/Strength In Numbers\",\"hero/ironheart/Stroke of Genius\",\"hero/hulk/Sub-Orbital Leap\",\"protection/nan/Subdue\",\"campaign/mts_campaign/Summoned Back\",\"leadership/nan/Summoning Spell\",\"aggression/nan/Sunfire\",\"hero/captain_america/Super-Soldier Serum\",\"hero/vision/Superdense Strike\",\"hero/she_hulk/Superhuman Law Division\",\"hero/she_hulk/Superhuman Strength\",\"hero/nova/Supernova Helmet\",\"hero/rogue/Superpower Adaptation\",\"hero/iron_man/Supersonic Punch\",\"campaign/the_market/Sure Gamble\",\"campaign/mut_gen_campaign/Surprise Attack\",\"aggression/nan/Surprise Attack\",\"campaign/defender/Surprise!\",\"campaign/peacekeeper/Surprise!\",\"justice/nan/Surveillance Team\",\"campaign/brawler/Swagger\",\"campaign/defender/Swagger\",\"basic/nan/Swarm Tactics\",\"justice/nan/Swift Retribution\",\"hero/spider_man_morales/Swing In\",\"hero/spider_man/Swinging Web Kick\",\"hero/spiderham/Swinging Web Pig\",\"basic/nan/Symbiote Suit\",\"hero/black_widow/Synth-Suit\",\"campaign/mts_campaign/System Shock\",\"hero/black_panther/T'Challa\",\"aggression/nan/Tac Team\",\"protection/nan/Tackle\",\"hero/cyclops/Tactical Brilliance\",\"hero/black_panther/Tactical Genius\",\"campaign/hydra_camp/Tactical Scanner\",\"campaign/the_market/Take the Fight to Them\",\"basic/nan/Target Acquired\",\"leadership/nan/Target Practice\",\"hero/warm/Targeted Strike\",\"campaign/the_market/Targeting Screen\",\"aggression/nan/Team Strike\",\"leadership/nan/Team Training\",\"basic/nan/Team-Building Exercise\",\"leadership/nan/Teamwork\",\"hero/phoenix/Telekinetic Attack\",\"hero/phoenix/Telekinetic Shield\",\"hero/phoenix/Telepathic Trickery\",\"basic/nan/Tenacity\",\"aggression/nan/The Best Defense\\u2026\",\"basic/nan/The Bifrost\",\"hero/spiderham/The Daily Beagle\",\"hero/doctor_strange/The Eye of Agamotto\",\"protection/nan/The Gardener\",\"hero/black_panther/The Golden City\",\"aggression/nan/The Locust\",\"protection/nan/The Night Nurse\",\"basic/nan/The Power in All of Us\",\"aggression/nan/The Power of Aggression\",\"justice/nan/The Power of Justice\",\"leadership/nan/The Power of Leadership\",\"protection/nan/The Power of Protection\",\"basic/nan/The Sorcerer Supreme\",\"hero/gambit/The Thieves Guild\",\"leadership/nan/The Triskelion\",\"basic/nan/The X-Jet\",\"aggression/nan/Thor\",\"hero/thor/Thor\",\"hero/thor/Thor's Helmet\",\"aggression/nan/Throg\",\"hero/rocket/Thruster Boots\",\"hero/hulk/Thunderclap\",\"hero/weather/Thunderstorm\",\"protection/nan/Thwip! Thwip!\",\"hero/ghost_spider/Ticket to the Multiverse\",\"aggression/nan/Tigra\",\"hero/colossus/Titanium Muscles\",\"basic/nan/To the Rescue!\",\"aggression/nan/Toe to Toe\",\"hero/iron_man/Tony Stark\",\"hero/ironheart/Tony Stark A.I.\",\"hero/drax/Too Stubborn to Die\",\"hero/storm/Torrential Rain\",\"hero/rogue/Touched\",\"hero/wolverine/Track by Scent\",\"campaign/the_market/Tried and True\",\"campaign/the_market/Triple Threat\",\"protection/nan/True Grit\",\"justice/nan/Turn the Tide\",\"basic/nan/Two Against the World\",\"leadership/nan/U.S. Agent\",\"leadership/nan/Uncanny X-Men\",\"justice/nan/Under Surveillance\",\"protection/nan/Unflappable\",\"leadership/nan/United We Stand\",\"hero/nova/Unleash Nova Force\",\"basic/nan/Unshakable\",\"hero/hulk/Unstoppable Force\",\"hero/nebu/Unyielding Persistence\",\"hero/warm/Upgraded Chassis\",\"aggression/nan/Uppercut\",\"basic/nan/Utopia\",\"hero/spdr/VEN#m\",\"hero/valk/Valhalla\",\"aggression/nan/Valkyrie\",\"hero/valk/Valkyrie\",\"hero/valk/Valkyrie's Spear\",\"hero/invocation/Vapors of Valtorr\",\"basic/nan/Venom\",\"justice/nan/Venom\",\"hero/vnm/Venom\",\"aggression/spider_woman/Venom Blast\",\"hero/vnm/Venom's Pistol\",\"hero/black_panther/Vibranium\",\"hero/hawkeye/Vibranium Arrow\",\"hero/black_panther/Vibranium Suit\",\"protection/nan/Victor Mancha\",\"justice/nan/Vigilante Training\",\"hero/groot/Vine Shield\",\"hero/groot/Vine Spikes\",\"leadership/nan/Vision\",\"hero/vision/Vision\",\"hero/vision/Vision's Cape\",\"hero/valk/Visit Valhalla\",\"basic/nan/Vivian\",\"hero/vision/Vivian\",\"campaign/mts_campaign/Volstagg\",\"hero/black_panther/Wakanda Forever!\",\"hero/scw/Wanda Maximoff\",\"campaign/brawler/War Cry\",\"hero/iron_man/War Machine\",\"basic/nan/War Machine\",\"hero/warm/War Machine\",\"aggression/nan/War Room\",\"protection/nan/Warlock\",\"hero/warlock/Warlock's Cape\",\"basic/nan/Warning\",\"hero/scw/Warp Reality\",\"aggression/nan/Warrior Skill\",\"basic/nan/Warrior of the Great Web\",\"hero/ant/Wasp\",\"aggression/nan/Wasp\",\"justice/nan/Wasp\",\"hero/wsp/Wasp\",\"hero/wsp/Wasp Sting\",\"hero/wsp/Wasp's Helmet\",\"campaign/shield_tech/Wave Bracers\",\"basic/nan/Weapon X\",\"hero/nebu/Weapons Master\",\"hero/storm/Weather Goddess\",\"hero/ghost_spider/Web Binding\",\"basic/nan/Web of Life and Destiny\",\"hero/ghost_spider/Web-Bracelet\",\"hero/spdr/Web-Fluid Compressor\",\"hero/spider_man/Web-Shooter\",\"hero/spider_man_morales/Web-Shooter\",\"hero/spider_man_morales/Web-Shot\",\"hero/spdr/Web-Trap\",\"hero/spider_man/Webbed Up\",\"protection/nan/What Doesn't Kill Me\",\"hero/phoenix/White Hot Room\",\"leadership/nan/White Tiger\",\"justice/nan/Wiccan\",\"hero/nebu/Wide Stance\",\"hero/black_widow/Widow's Bite\",\"hero/ms_marvel/Wiggle Room\",\"hero/invocation/Winds of Watoomb\",\"campaign/the_market/Wing It\",\"hero/black_widow/Winter Soldier\",\"aggression/nan/Wolverine\",\"hero/wolverine/Wolverine\",\"hero/wolverine/Wolverine's Claws\",\"leadership/nan/Wonder Man\",\"hero/doctor_strange/Wong\",\"justice/nan/Wraith\",\"hero/ant/Wrist Gauntlets\",\"campaign/shield_tech/Wrist Navigators\",\"basic/nan/X-Gene\",\"basic/nan/X-Mansion\",\"basic/nan/X-Men Instruction\",\"justice/nan/Yaw and Roll\",\"leadership/nan/Yondu\",\"basic/nan/Young Love\",\"campaign/expcamp/Zola's Algorithm\",\"justice/nan/Zone of Silence\",\"hero/ant\",\"campaign/bad_publicity\",\"campaign/badoon_headhunter\",\"hero/black_panther\",\"hero/black_widow\",\"campaign/brawler\",\"hero/captain_america\",\"hero/captain_marvel\",\"campaign/challenge\",\"hero/colossus\",\"campaign/commander\",\"campaign/community_service\",\"hero/cyclops\",\"campaign/defender\",\"hero/doctor_strange\",\"hero/drax\",\"campaign/expcamp\",\"hero/gam\",\"hero/gambit\",\"hero/ghost_spider\",\"hero/groot\",\"hero/hawkeye\",\"hero/hulk\",\"campaign/hydra_camp\",\"hero/invocation\",\"hero/iron_man\",\"hero/ironheart\",\"hero/ms_marvel\",\"campaign/mts_campaign\",\"campaign/mut_gen_campaign\",\"aggression/nan\",\"basic/nan\",\"justice/nan\",\"leadership/nan\",\"protection/nan\",\"hero/nebu\",\"hero/nova\",\"campaign/peacekeeper\",\"hero/phoenix\",\"hero/qsv\",\"hero/rocket\",\"hero/rogue\",\"hero/scw\",\"hero/shadowcat\",\"hero/she_hulk\",\"campaign/shield_tech\",\"campaign/snitches_get_stitches\",\"hero/spdr\",\"hero/spectrum\",\"hero/spider_man\",\"hero/spider_man_morales\",\"aggression/spider_woman\",\"hero/spider_woman\",\"justice/spider_woman\",\"leadership/spider_woman\",\"protection/spider_woman\",\"hero/spiderham\",\"hero/stld\",\"hero/storm\",\"campaign/the_market\",\"hero/thor\",\"hero/valk\",\"hero/vision\",\"hero/vnm\",\"hero/warlock\",\"hero/warm\",\"hero/weather\",\"hero/wolverine\",\"hero/wsp\",\"aggression\",\"basic\",\"campaign\",\"hero\",\"justice\",\"leadership\",\"protection\"],\"labels\":[\"\\\"Bring It!\\\"\",\"\\\"Fight Me, Coward!\\\"\",\"\\\"Go for Champions!\\\"\",\"\\\"I Don't Think So!\\\"\",\"\\\"I Got Better\\\"\",\"\\\"I am Groot\\\"\",\"\\\"I. AM. GROOT!\\\"\",\"\\\"There is No Escape\\\"\",\"\\\"Think Fast!\\\"\",\"\\\"To Me, My X-Men!\\\"\",\"\\\"We Are Groot\\\"\",\"\\\"Welcome Aboard\\\"\",\"\\\"You'll Pay for That!\\\"\",\"616 Hickory Branch Lane\",\"Aamir Khan\",\"Accelerated Reflex\",\"Acrobatic Move\",\"Across the Spider-Verse\",\"Acute Control\",\"Adam Warlock\",\"Adam Warlock\",\"Adamantium Skeleton\",\"Adrenal Stims\",\"Adrenaline Rush\",\"Agatha Harkness\",\"Agent 13\",\"Agent 13\",\"Agent Coulson\",\"Aggressive Energy\",\"Agile Flight\",\"Air Supremacy\",\"Airwalk\",\"All Systems Go!\",\"All for One\",\"Alpha Flight Station\",\"Always Be Running\",\"Ancestral Knowledge\",\"Angel\",\"Angela\",\"Anna Marie\",\"Annabelle Riggs\",\"Ant-Man\",\"Ant-Man\",\"Ant-Man\",\"Ant-Man's Helmet\",\"Anti-Hero Propaganda\",\"Anticipation\",\"Arachnobatics\",\"Aragorn\",\"Arc Reactor\",\"Ardent Resolve\",\"Armor\",\"Armor Plating\",\"Armor Up\",\"Armored Vest\",\"Army of Ants\",\"As One!\",\"Asgard\",\"Assault Training\",\"Assess the Situation\",\"Astral Projection\",\"Athletic Conditioning\",\"Attack Training\",\"Attacrobatics\",\"Audacity\",\"Aunt May\",\"Aunt May & Uncle Ben\",\"Avengers Assemble!\",\"Avengers Mansion\",\"Avengers Tower\",\"Back Alley Burglary\",\"Backflip\",\"Bad Boy\",\"Badoon Blitz\",\"Badoon Headhunter\",\"Bait and Switch\",\"Band Together\",\"Banner's Laboratory\",\"Banshee\",\"Basic Attack Upgrade\",\"Basic Defense Upgrade\",\"Basic Recovery Upgrade\",\"Basic Thwart Upgrade\",\"Battery Pack\",\"Battle Fury\",\"Beast\",\"Beat 'Em Up\",\"Beat Cop\",\"Beauty and the Thief\",\"Befuddle\",\"Behind Enemy Lines\",\"Berserker Barrage\",\"Berserker Frenzy\",\"Beta Ray Bill\",\"Big Hands\",\"Bio-Synthetic Wings\",\"Biokinetic Polymer Suit\",\"Bishop\",\"Black Cat\",\"Black Knight\",\"Black Panther\",\"Black Panther\",\"Black Swan\",\"Black Widow\",\"Black Widow\",\"Black Widow's Gauntlet\",\"Blade\",\"Blast of Wind\",\"Blaze of Glory\",\"Blindfold\",\"Blizzard\",\"Blue Marvel\",\"Bodyguard\",\"Bombshell\",\"Booster Boots\",\"Boot Camp\",\"Boundless Rage\",\"Brains Over Brawn\",\"Brainstorm\",\"Brawn\",\"Brawn\",\"Brazen Defense\",\"Breaking and Entering\",\"Brother Voodoo\",\"Browbeat\",\"Bruce Banner\",\"Brunnhilde\",\"Bruno Carrelli\",\"Brute Force\",\"Bug\",\"Bulletproof Belle\",\"Bulletproof Protector\",\"By Any Means\",\"C.I.T.T.\",\"Cable Arrow\",\"Calculate the Odds\",\"Call for Aid\",\"Captain America\",\"Captain America\",\"Captain America's Helmet\",\"Captain America's Shield\",\"Captain Americat\",\"Captain Marvel\",\"Captain Marvel\",\"Captain Marvel\",\"Captain Marvel's Helmet\",\"Cargo Hold\",\"Carol Danvers\",\"Cartoon Physics\",\"Cat in a Tree\",\"Cerebro\",\"Champions Mobile Bunker\",\"Chance Encounter\",\"Chaos Magic\",\"Charged Card\",\"Charlie-27\",\"Chase Them Down\",\"Chooser of the Slain\",\"Civic Duty\",\"Clarity of Purpose\",\"Clea\",\"Clear Skies\",\"Clear the Area\",\"Clint Barton\",\"Cloak of Levitation\",\"Clobber\",\"Close Call\",\"Cloud 9\",\"Colossus\",\"Colossus\",\"Combat Ready\",\"Combat Training\",\"Command Center\",\"Command Team\",\"Comms Implant\",\"Compact Darts\",\"Compassion\",\"Compassion\",\"Concussive Blow\",\"Conditioning Room\",\"Connection to the Worldmind\",\"Contaminant Immunity\",\"Contingency Plan\",\"Coordinated Attack\",\"Cosmic Alliance\",\"Cosmic Awareness\",\"Cosmic Flight\",\"Cosmic Ward\",\"Cosmo\",\"Cosmo\",\"Counter-Punch\",\"Counterattack\",\"Counterintelligence\",\"Coup de Gr\\u00e2ce\",\"Coup de Gr\\u00e2ce\",\"Covert Ops\",\"Creative Solution\",\"Creole Charmer\",\"Crew Quarters\",\"Crimson Bands of Cyttorak\",\"Crisis Averted\",\"Crisis Interdiction\",\"Crosscounter\",\"Crushing Blow\",\"Cutthroat Ambition\",\"Cybernetic Skeleton\",\"Cyclops\",\"Cyclops\",\"DWI Theet Mastery\",\"Dance of Death\",\"Danger Room\",\"Danger Room Training\",\"Daredevil\",\"Daredevil\",\"Daring Escape\",\"Daughters of Thanos\",\"Dauntless\",\"Dazzler\",\"Dead to Rights\",\"Death-Glow\",\"Decisive Blow\",\"Defender of the Nine Realms\",\"Defense Mechanism\",\"Defensive Energy\",\"Defensive Protocols\",\"Defensive Stance\",\"Defensive Training\",\"Defiance\",\"Deflection\",\"Deft Focus\",\"Defy Danger\",\"Density Control\",\"Desperate Defense\",\"Determination\",\"Determined Defense\",\"Dive Bomb\",\"Doctor Strange\",\"Double Life\",\"Double Time\",\"Down Time\",\"Dragonfang\",\"Drax\",\"Drax\",\"Drax's Knife\",\"Drax's Other Knife\",\"Drop Kick\",\"Dum Dum Dugan\",\"Dust\",\"Earth's Mightiest Heroes\",\"Effective Leadership\",\"Ejection Protocol\",\"Electric Arrow\",\"Electrostatic Armor\",\"Element Gun\",\"Embiggen!\",\"Emergency\",\"Emergency Teleporter\",\"Endurance\",\"Enemy of My Enemy\",\"Energy\",\"Energy Absorption\",\"Energy Barrier\",\"Energy Channel\",\"Energy Daggers\",\"Energy Duplication\",\"Energy Spear\",\"Energy Transfer\",\"Enhanced Awareness\",\"Enhanced Physique\",\"Enhanced Reflexes\",\"Enhanced Spider-Sense\",\"Enraged\",\"Entangling Vines\",\"Eros\",\"Espionage\",\"Eternity\",\"Evasive Maneuvering\",\"Even the Odds\",\"Ever Vigilant\",\"Everyday Hero\",\"Expert Defense\",\"Expert Marksman\",\"Exploit Weakness\",\"Explosive Arrow\",\"Falcon\",\"Fandral\",\"Fastball Special\",\"Fearless Determination\",\"Ferocious Attack\",\"Fertile Ground\",\"Field Agent\",\"Field Commander\",\"Fighting Fit\",\"Find the Norn Stones\",\"Find the Prisoners\",\"Finesse\",\"First Aid\",\"First Hit\",\"Flash Freeze\",\"Flash Thompson\",\"Flight of the Valkyrior\",\"Flora and Fauna\",\"Flow Like Water\",\"Fluid Motion\",\"Fly Over\",\"Focused Rage\",\"Foiled!\",\"Follow Through\",\"Followed\",\"For Asgard!\",\"For Justice!\",\"Forcefield Generator\",\"Forcefield Projection\",\"Forge\",\"Fortitude\",\"Forward Momentum\",\"Friction Resistance\",\"Frightened Police\",\"Fruition\",\"Fugitive Recovery\",\"Full Auto\",\"Full Blast\",\"Fusillade\",\"Gallery of Splendor\",\"Gambit\",\"Gambit\",\"Gambit's Guild Armor\",\"Gambit's Staff\",\"Game Time\",\"Gamma\",\"Gamma Blast\",\"Gamma Slam\",\"Gamora\",\"Gamora\",\"Gamora\",\"Gamora's Sword\",\"Ganke Lee\",\"Gatekeeper\",\"Gauntlet Gun\",\"Genius\",\"Gentle\",\"George Stacy\",\"Get Behind Me!\",\"Get Over Here!\",\"Get Ready\",\"Ghost Kick\",\"Ghost-Spider\",\"Ghost-Spider\",\"Giant Help\",\"Giant Stomp\",\"Giant Strength\",\"Giant-Man\",\"Global Logistics\",\"Go All Out\",\"Go Down Swinging\",\"God of Thunder\",\"Godlike Stamina\",\"Godslayer\",\"Goin' Rogue\",\"Goliath\",\"Government Liaison\",\"Grand Strategy\",\"Grapple\",\"Grappling Hook\",\"Grasping Tendrils\",\"Great Responsibility\",\"Groot\",\"Groot\",\"Ground Stomp\",\"Group Assault\",\"Guardians of the Galaxy\",\"Guerrilla Tactics\",\"Gutsy Move\",\"Gwen Stacy\",\"Hack Sanctuary's Computer\",\"Hall of Heroes\",\"Ham It Up\",\"Hammer Throw\",\"Hand Cannon\",\"Hangar Bay\",\"Hard Knocks\",\"Hard to Ignore\",\"Have at Thee!\",\"Havok\",\"Hawkeye\",\"Hawkeye\",\"Hawkeye's Bow\",\"Hawkeye's Quiver\",\"Haymaker\",\"Headhunter's Henchman\",\"Heavy Cannon\",\"Height Advantage\",\"Heimdall\",\"Helicarrier\",\"Hellcat\",\"Henchmen Heist\",\"Hercules\",\"Heroic Intervention\",\"Heroic Intuition\",\"Heroic Strike\",\"Hex Bolt\",\"Hit and Run\",\"Hive Mind\",\"Hogun\",\"Hogwashed\",\"Homeland Intervention\",\"Honed Technique\",\"Honorary Avenger\",\"Honorary Guardian\",\"Honorary X-Men\",\"Host Spider\",\"Huge Wooden Hammer\",\"Hulk\",\"Hulk\",\"Hulk Smash\",\"Hurricane\",\"Hyper Perception\",\"Hyper Thrusters\",\"I've Got a Plan\",\"Iceman\",\"Images of Ikonn\",\"Immovable Object\",\"Impact-Dampening Suit\",\"Impede\",\"Improved Attack Upgrade\",\"Improved Defense Upgrade\",\"Improved Recovery Upgrade\",\"Improved Thwart Upgrade\",\"Improvisation\",\"In Defiance\",\"In Harm's Way\",\"In-Betweener\",\"Inconspicuous\",\"Indomitable\",\"Ingenuity\",\"Innovation\",\"Inspired\",\"Inspiring Presence\",\"Intangible\",\"Intangible Interference\",\"Interrogation Room\",\"Intimidation\",\"Into the Fray\",\"Invulnerability\",\"Iron Fist\",\"Iron Man\",\"Iron Man\",\"Iron Man\",\"Iron Will\",\"Ironheart\",\"Ironheart\",\"Jack Flag\",\"James Rhodes\",\"Jarnbjorn\",\"Jean Grey\",\"Jefferson Davis\",\"Jennifer Walters\",\"Jesse Alexander\",\"Jessica Drew\",\"Jessica Drew's Apartment\",\"Jessica Jones\",\"Jet Boots\",\"Jocasta\",\"Joining Forces\",\"Jormungand\",\"Jubilee\",\"Judoka Skill\",\"Jump Flip\",\"Just Passing Through\",\"Justice Served\",\"Kaluu\",\"Kamala Khan\",\"Karma\",\"Karmic Blast\",\"Karmic Staff\",\"Keen Instincts\",\"Kitty Pride\",\"Kitty's Room\",\"Knife Leap\",\"Knowhere\",\"Kree Supremacy\",\"Lady Sif\",\"Lady Sif\",\"Lady Spider\",\"Laser Blaster\",\"Laser Cannon\",\"Laser Googles\",\"Lashing Vines\",\"Last Stand\",\"Lay Down the Law\",\"Lead from the Front\",\"Leader of the Guardians\",\"Leadership Skill\",\"Leadership Training\",\"Leading Blow\",\"Legal Practice\",\"Lethal Intent\",\"Lie in Wait\",\"Lightning Bolt\",\"Lightning Strike\",\"Lightspeed Flight\",\"Limitless Stamina\",\"Limitless Strength\",\"Living Tribunal\",\"Locked and Loaded\",\"Lockheed\",\"Lockjaw\",\"Logan\",\"Logan's Cabin\",\"Longshot\",\"Looking for Trouble\",\"Luke Cage\",\"Lunging Strike\",\"Machine Man\",\"Made of Rage\",\"Magic Attack\",\"Magic Blast\",\"Magic Shield\",\"Magical Enhancements\",\"Magik\",\"Magneto\",\"Magneto's Fortress\",\"Magneto's Power\",\"Major Victory\",\"Make the Call\",\"Making an Entrance\",\"Mantis\",\"Maria Hill\",\"Mark V Armor\",\"Mark V Helmet\",\"Marked\",\"Martial Law\",\"Martial Prowess\",\"Martinex\",\"Martyr\",\"Marvel Boy\",\"Marvel Girl\",\"Mass Attack\",\"Mass Increase\",\"Master of the Mystic Arts\",\"Maximum Velocity\",\"Mean Swing\",\"Med Lab\",\"Med Team\",\"Medical Emergency\",\"Meditation\",\"Melee\",\"Mental Paralysis\",\"Mentorship\",\"Metro P.D.\",\"Mighty Avengers\",\"Miles Morales\",\"Mind Control\",\"Mirage\",\"Missile Launcher\",\"Mission Training\",\"Mjolnir\",\"Mockingbird\",\"Mockingbird\",\"Moira MacTaggert\",\"Molecular Acceleration\",\"Molecular Decay\",\"Moment of Triumph\",\"Momentum Shift\",\"Monica Chang\",\"Monica Rambeau\",\"Moon Girl\",\"Moondragon\",\"Morale Boost\",\"Mounted Laser\",\"Moxie\",\"Ms. Marvel\",\"Ms. Marvel\",\"Multi-Gun\",\"Multiple Man\",\"Multitasking\",\"Munitions Bunker\",\"Muster Courage\",\"Mutant Education\",\"Mutant Peacekeepers\",\"Mutant Protectors\",\"Mystic Senses\",\"Mystical Studies\",\"Nadia Van Dyne\",\"Nakia Bahadir\",\"Natasha Romanoff\",\"Natural Agility\",\"Navigation Column\",\"Nebula\",\"Nebula\",\"Nebula's Ship\",\"Nerves of Steel\",\"Never Back Down\",\"New and Improved\",\"Nick Fury\",\"Nightcrawler\",\"No Quarter\",\"Norn Stone\",\"Not Today!\",\"Nova\",\"Nova\",\"Nova Prime\",\"Odinson\",\"Off the Rails\",\"On the Hunt\",\"One Way or Another\",\"One by One\",\"One-Two Punch\",\"Onrush\",\"Open the Dungeons\",\"Operative Skill\",\"Order and Chaos\",\"Organic Steel\",\"Organic Webbing\",\"Ororo Munroe\",\"Ororo's Garden\",\"Outta My Way!\",\"Overwatch\",\"Panther Claws\",\"Parental Guidance\",\"Parry\",\"Particle Cannon\",\"Passion for Justice\",\"Patriot\",\"Payback\",\"Peni Parker\",\"Pepper Potts\",\"Perseverance\",\"Peter Parker\",\"Peter Porker\",\"Peter Quill\",\"Petulant Pig\",\"Phantom Flip\",\"Phase Disruption\",\"Phase Strike\",\"Phased\",\"Phased and Confused\",\"Pheromones\",\"Phoenix\",\"Phoenix\",\"Phoenix Firebird\",\"Phoenix Force\",\"Phoenix Suit\",\"Photon\",\"Photon Beam\",\"Photon Blasters\",\"Photon Speed\",\"Photonic Blast\",\"Piercing Strike\",\"Pietro Maximoff\",\"Pinned Down\",\"Pinpoint\",\"Pinpoint Strike\",\"Piotr Rasputin\",\"Piotr's Studio\",\"Pip the Troll\",\"Pirouette and Punch\",\"Pitchback\",\"Pivotal Moment\",\"Pixie\",\"Plan B\",\"Plan of Attack\",\"Plasma Pistol\",\"Polaris\",\"Pot Shot\",\"Power Gloves\",\"Power Man\",\"Power Unleashed\",\"Power Within\",\"Powered Gauntlets\",\"Powerful Punch\",\"Practiced Defense\",\"Precision Strike\",\"Preemptive Strike\",\"Preservation\",\"Press the Advantage\",\"Priority Target\",\"Problem Solvers\",\"Professor X\",\"Project Rebirth 2.0\",\"Propulsion Gauntlet\",\"Propulsion Jets\",\"Protective Training\",\"Protective Ward\",\"Protector\",\"Psychic Assault\",\"Psychic Blast\",\"Psychic Kicker\",\"Psychic Link\",\"Psychic Manipulation\",\"Psychic Misdirection\",\"Psychic Rapport\",\"Psylocke\",\"Public Outcry\",\"Pulsar\",\"Pulsar Shield\",\"Pulse Grenade\",\"Push Ahead\",\"Pym Particles\",\"Pym Particles\",\"Quake\",\"Quantum Magic\",\"Quasar\",\"Quick Shift\",\"Quick Strike\",\"Quicksilver\",\"Quicksilver\",\"Quincarrier\",\"Quinjet\",\"R&D Facility\",\"Rapid Deployment\",\"Rapid Growth\",\"Rapid Response\",\"Reactive Defense\",\"Reactor Core\",\"Ready for Action\",\"Ready to Rumble\",\"Reboot\",\"Recuperation\",\"Red Dagger\",\"Red Room Training\",\"Regenerative Healing\",\"Regroup\",\"Reinforced Sinew\",\"Reinforced Suit\",\"Relentless Assault\",\"Reload\",\"Remy Lebeau\",\"Repulsor Beam\",\"Repulsor Blast\",\"Repurpose\",\"Rescue Captives\",\"Rescue Operation\",\"Resize\",\"Resourceful\",\"Retinal Display\",\"Retrieve Odin's Armor\",\"Return the Favor\",\"Ricochet Beam\",\"Riri Williams\",\"Rise from the Ashes\",\"Rocket Boots\",\"Rocket Launcher\",\"Rocket Raccoon\",\"Rocket Raccoon\",\"Rocket's Pistol\",\"Rockslide\",\"Rogue\",\"Rogue\",\"Rogue's Jacket\",\"Ronin\",\"Ronnie Williams\",\"Root Stomp\",\"Royal Flush\",\"Rubble Rescue\",\"Ruby Quartz Visor\",\"Run and Gun\",\"Running Interference\",\"SP//dr\",\"SP//dr\",\"SP//dr Command\",\"SP//dr Suit\",\"Safe House #29\",\"Safeguard\",\"Salvage\",\"Sam Alexander\",\"Sanctum Sanctorum\",\"Savage Attack\",\"Save the Day\",\"Save the Shawarma Place\",\"Scare Tactic\",\"Scarlet Spider\",\"Scarlet Witch\",\"Scarlet Witch\",\"Scarlet Witch's Crest\",\"Schadenfreude\",\"Scorched Earth\",\"Scott Lang\",\"Scott Summers\",\"Second Wind\",\"Sector Scan\",\"Secure the Landing Pad\",\"Security Breach\",\"Self-Propelled Glide\",\"Sense of Justice\",\"Sentry\",\"Serval Industries\",\"Set the Pace\",\"Seven Rings of Raggadorr\",\"Shadow and Steel\",\"Shadowcat\",\"Shadowcat\",\"Shadowcat Surprise\",\"Shake it Off\",\"Shawarma\",\"She-Hulk\",\"She-Hulk\",\"Shield Block\",\"Shield Spell\",\"Shield Toss\",\"Shieldmaiden\",\"Shock Knuckles\",\"Shock and Awe\",\"Shoulder Cannon\",\"Shrink\",\"Shuri\",\"Side Holster\",\"Side Step\",\"Sidearm\",\"Silk\",\"Skilled Investigator\",\"Skilled Strike\",\"Sky Cycle\",\"Sky-Destroyer\",\"Slice and Dice\",\"Sliding Shot\",\"Smash the Problem\",\"Smear Campaign\",\"Sneak Attack\",\"Sneak By\",\"Snitches Get Stitches\",\"Snowguard\",\"Solar Beam\",\"Solar Gem\",\"Solid\",\"Sonic Arrow\",\"Sonic Rifle\",\"Soul Sisters\",\"Soul World\",\"Southern Cross\",\"Spectrum\",\"Speed\",\"Speed Cyclone\",\"Speed of Light\",\"Speed-Metal Alloy\",\"Spider-Girl\",\"Spider-Ham\",\"Spider-Ham\",\"Spider-Man\",\"Spider-Man\",\"Spider-Man\",\"Spider-Man\",\"Spider-Man\",\"Spider-Man Noir\",\"Spider-Sense\",\"Spider-Tingle\",\"Spider-Tracer\",\"Spider-UK\",\"Spider-Woman\",\"Spider-Woman\",\"Spider-Woman\",\"Spiritual Meditation\",\"Split Personality\",\"Spycraft\",\"Squirrel Girl\",\"Stand Together\",\"Star-Lord\",\"Star-Lord\",\"Star-Lord's Helmet\",\"Starhawk\",\"Stark Tower\",\"Stealth Strike\",\"Steel Fist\",\"Stephen Strange\",\"Steve Rogers\",\"Steve's Apartment\",\"Stinger\",\"Storm\",\"Storm\",\"Storm's Cape\",\"Storm's Crown\",\"Strength\",\"Strength In Numbers\",\"Stroke of Genius\",\"Sub-Orbital Leap\",\"Subdue\",\"Summoned Back\",\"Summoning Spell\",\"Sunfire\",\"Super-Soldier Serum\",\"Superdense Strike\",\"Superhuman Law Division\",\"Superhuman Strength\",\"Supernova Helmet\",\"Superpower Adaptation\",\"Supersonic Punch\",\"Sure Gamble\",\"Surprise Attack\",\"Surprise Attack\",\"Surprise!\",\"Surprise!\",\"Surveillance Team\",\"Swagger\",\"Swagger\",\"Swarm Tactics\",\"Swift Retribution\",\"Swing In\",\"Swinging Web Kick\",\"Swinging Web Pig\",\"Symbiote Suit\",\"Synth-Suit\",\"System Shock\",\"T'Challa\",\"Tac Team\",\"Tackle\",\"Tactical Brilliance\",\"Tactical Genius\",\"Tactical Scanner\",\"Take the Fight to Them\",\"Target Acquired\",\"Target Practice\",\"Targeted Strike\",\"Targeting Screen\",\"Team Strike\",\"Team Training\",\"Team-Building Exercise\",\"Teamwork\",\"Telekinetic Attack\",\"Telekinetic Shield\",\"Telepathic Trickery\",\"Tenacity\",\"The Best Defense\\u2026\",\"The Bifrost\",\"The Daily Beagle\",\"The Eye of Agamotto\",\"The Gardener\",\"The Golden City\",\"The Locust\",\"The Night Nurse\",\"The Power in All of Us\",\"The Power of Aggression\",\"The Power of Justice\",\"The Power of Leadership\",\"The Power of Protection\",\"The Sorcerer Supreme\",\"The Thieves Guild\",\"The Triskelion\",\"The X-Jet\",\"Thor\",\"Thor\",\"Thor's Helmet\",\"Throg\",\"Thruster Boots\",\"Thunderclap\",\"Thunderstorm\",\"Thwip! Thwip!\",\"Ticket to the Multiverse\",\"Tigra\",\"Titanium Muscles\",\"To the Rescue!\",\"Toe to Toe\",\"Tony Stark\",\"Tony Stark A.I.\",\"Too Stubborn to Die\",\"Torrential Rain\",\"Touched\",\"Track by Scent\",\"Tried and True\",\"Triple Threat\",\"True Grit\",\"Turn the Tide\",\"Two Against the World\",\"U.S. Agent\",\"Uncanny X-Men\",\"Under Surveillance\",\"Unflappable\",\"United We Stand\",\"Unleash Nova Force\",\"Unshakable\",\"Unstoppable Force\",\"Unyielding Persistence\",\"Upgraded Chassis\",\"Uppercut\",\"Utopia\",\"VEN#m\",\"Valhalla\",\"Valkyrie\",\"Valkyrie\",\"Valkyrie's Spear\",\"Vapors of Valtorr\",\"Venom\",\"Venom\",\"Venom\",\"Venom Blast\",\"Venom's Pistol\",\"Vibranium\",\"Vibranium Arrow\",\"Vibranium Suit\",\"Victor Mancha\",\"Vigilante Training\",\"Vine Shield\",\"Vine Spikes\",\"Vision\",\"Vision\",\"Vision's Cape\",\"Visit Valhalla\",\"Vivian\",\"Vivian\",\"Volstagg\",\"Wakanda Forever!\",\"Wanda Maximoff\",\"War Cry\",\"War Machine\",\"War Machine\",\"War Machine\",\"War Room\",\"Warlock\",\"Warlock's Cape\",\"Warning\",\"Warp Reality\",\"Warrior Skill\",\"Warrior of the Great Web\",\"Wasp\",\"Wasp\",\"Wasp\",\"Wasp\",\"Wasp Sting\",\"Wasp's Helmet\",\"Wave Bracers\",\"Weapon X\",\"Weapons Master\",\"Weather Goddess\",\"Web Binding\",\"Web of Life and Destiny\",\"Web-Bracelet\",\"Web-Fluid Compressor\",\"Web-Shooter\",\"Web-Shooter\",\"Web-Shot\",\"Web-Trap\",\"Webbed Up\",\"What Doesn't Kill Me\",\"White Hot Room\",\"White Tiger\",\"Wiccan\",\"Wide Stance\",\"Widow's Bite\",\"Wiggle Room\",\"Winds of Watoomb\",\"Wing It\",\"Winter Soldier\",\"Wolverine\",\"Wolverine\",\"Wolverine's Claws\",\"Wonder Man\",\"Wong\",\"Wraith\",\"Wrist Gauntlets\",\"Wrist Navigators\",\"X-Gene\",\"X-Mansion\",\"X-Men Instruction\",\"Yaw and Roll\",\"Yondu\",\"Young Love\",\"Zola's Algorithm\",\"Zone of Silence\",\"ant\",\"bad_publicity\",\"badoon_headhunter\",\"black_panther\",\"black_widow\",\"brawler\",\"captain_america\",\"captain_marvel\",\"challenge\",\"colossus\",\"commander\",\"community_service\",\"cyclops\",\"defender\",\"doctor_strange\",\"drax\",\"expcamp\",\"gam\",\"gambit\",\"ghost_spider\",\"groot\",\"hawkeye\",\"hulk\",\"hydra_camp\",\"invocation\",\"iron_man\",\"ironheart\",\"ms_marvel\",\"mts_campaign\",\"mut_gen_campaign\",\"nan\",\"nan\",\"nan\",\"nan\",\"nan\",\"nebu\",\"nova\",\"peacekeeper\",\"phoenix\",\"qsv\",\"rocket\",\"rogue\",\"scw\",\"shadowcat\",\"she_hulk\",\"shield_tech\",\"snitches_get_stitches\",\"spdr\",\"spectrum\",\"spider_man\",\"spider_man_morales\",\"spider_woman\",\"spider_woman\",\"spider_woman\",\"spider_woman\",\"spider_woman\",\"spiderham\",\"stld\",\"storm\",\"the_market\",\"thor\",\"valk\",\"vision\",\"vnm\",\"warlock\",\"warm\",\"weather\",\"wolverine\",\"wsp\",\"aggression\",\"basic\",\"campaign\",\"hero\",\"justice\",\"leadership\",\"protection\"],\"maxdepth\":3,\"name\":\"\",\"parents\":[\"aggression/nan\",\"hero/drax\",\"basic/nan\",\"hero/spiderham\",\"hero/wolverine\",\"hero/groot\",\"hero/groot\",\"campaign/challenge\",\"justice/nan\",\"leadership/nan\",\"hero/groot\",\"leadership/nan\",\"aggression/nan\",\"hero/vision\",\"hero/ms_marvel\",\"hero/qsv\",\"hero/gam\",\"basic/nan\",\"hero/shadowcat\",\"leadership/nan\",\"hero/warlock\",\"hero/wolverine\",\"campaign/hydra_camp\",\"basic/nan\",\"hero/scw\",\"hero/captain_america\",\"basic/nan\",\"justice/nan\",\"aggression/nan\",\"justice/nan\",\"leadership/nan\",\"hero/shadowcat\",\"hero/spdr\",\"leadership/nan\",\"hero/captain_marvel\",\"hero/qsv\",\"hero/black_panther\",\"basic/nan\",\"aggression/nan\",\"hero/rogue\",\"hero/valk\",\"hero/ant\",\"leadership/nan\",\"hero/wsp\",\"hero/ant\",\"campaign/expcamp\",\"protection/nan\",\"hero/spider_man_morales\",\"hero/valk\",\"hero/iron_man\",\"campaign/the_market\",\"protection/nan\",\"campaign/the_market\",\"hero/colossus\",\"protection/nan\",\"hero/ant\",\"aggression/nan\",\"hero/thor\",\"aggression/nan\",\"basic/nan\",\"hero/doctor_strange\",\"basic/nan\",\"aggression/nan\",\"hero/black_widow\",\"aggression/nan\",\"hero/spider_man\",\"hero/spdr\",\"leadership/nan\",\"basic/nan\",\"basic/nan\",\"campaign/community_service\",\"hero/spider_man\",\"hero/stld\",\"campaign/challenge\",\"campaign/badoon_headhunter\",\"protection/nan\",\"leadership/nan\",\"hero/hulk\",\"justice/nan\",\"campaign/hydra_camp\",\"campaign/hydra_camp\",\"campaign/hydra_camp\",\"campaign/hydra_camp\",\"hero/rocket\",\"aggression/nan\",\"leadership/nan\",\"basic/nan\",\"justice/nan\",\"basic/nan\",\"justice/nan\",\"hero/vnm\",\"hero/wolverine\",\"hero/wolverine\",\"leadership/nan\",\"hero/ms_marvel\",\"hero/wsp\",\"hero/ms_marvel\",\"justice/nan\",\"hero/spider_man\",\"leadership/nan\",\"hero/black_panther\",\"leadership/nan\",\"campaign/mts_campaign\",\"hero/black_widow\",\"protection/nan\",\"hero/black_widow\",\"basic/nan\",\"hero/storm\",\"leadership/nan\",\"justice/nan\",\"hero/weather\",\"hero/spectrum\",\"campaign/defender\",\"aggression/nan\",\"basic/nan\",\"aggression/nan\",\"hero/hulk\",\"justice/nan\",\"campaign/the_market\",\"hero/ironheart\",\"aggression/nan\",\"campaign/brawler\",\"justice/nan\",\"protection/nan\",\"aggression/nan\",\"hero/hulk\",\"hero/valk\",\"hero/ms_marvel\",\"aggression/nan\",\"aggression/nan\",\"hero/rogue\",\"hero/colossus\",\"campaign/the_market\",\"basic/nan\",\"hero/hawkeye\",\"campaign/the_market\",\"leadership/nan\",\"hero/captain_america\",\"leadership/nan\",\"hero/captain_america\",\"hero/captain_america\",\"hero/spiderham\",\"hero/captain_marvel\",\"leadership/nan\",\"hero/spider_woman\",\"hero/captain_marvel\",\"campaign/the_market\",\"hero/captain_marvel\",\"hero/spiderham\",\"campaign/community_service\",\"basic/nan\",\"basic/nan\",\"justice/nan\",\"hero/scw\",\"hero/gambit\",\"protection/nan\",\"aggression/nan\",\"hero/valk\",\"basic/nan\",\"leadership/nan\",\"protection/nan\",\"hero/weather\",\"justice/nan\",\"hero/hawkeye\",\"hero/doctor_strange\",\"aggression/nan\",\"campaign/the_market\",\"leadership/nan\",\"hero/colossus\",\"basic/nan\",\"hero/nebu\",\"aggression/nan\",\"justice/nan\",\"leadership/nan\",\"leadership/nan\",\"campaign/shield_tech\",\"campaign/commander\",\"campaign/peacekeeper\",\"justice/nan\",\"hero/gam\",\"hero/nova\",\"protection/spider_woman\",\"campaign/the_market\",\"leadership/nan\",\"basic/nan\",\"hero/warlock\",\"hero/captain_marvel\",\"hero/warlock\",\"campaign/mts_campaign\",\"basic/nan\",\"protection/nan\",\"aggression/nan\",\"justice/nan\",\"campaign/brawler\",\"campaign/commander\",\"hero/black_widow\",\"campaign/the_market\",\"hero/gambit\",\"basic/nan\",\"hero/invocation\",\"justice/nan\",\"hero/captain_marvel\",\"hero/gam\",\"hero/hulk\",\"hero/nebu\",\"hero/rocket\",\"hero/cyclops\",\"hero/phoenix\",\"hero/drax\",\"hero/black_widow\",\"basic/nan\",\"leadership/nan\",\"justice/nan\",\"protection/nan\",\"hero/stld\",\"basic/nan\",\"protection/nan\",\"justice/nan\",\"campaign/badoon_headhunter\",\"hero/valk\",\"hero/gam\",\"hero/thor\",\"hero/spider_man_morales\",\"protection/nan\",\"campaign/mts_campaign\",\"protection/nan\",\"protection/nan\",\"protection/nan\",\"protection/nan\",\"basic/nan\",\"campaign/the_market\",\"hero/vision\",\"protection/nan\",\"justice/nan\",\"campaign/defender\",\"aggression/nan\",\"hero/doctor_strange\",\"hero/spider_man_morales\",\"hero/qsv\",\"basic/nan\",\"hero/valk\",\"hero/drax\",\"basic/nan\",\"hero/drax\",\"hero/drax\",\"aggression/nan\",\"basic/nan\",\"aggression/nan\",\"basic/nan\",\"leadership/nan\",\"hero/spdr\",\"hero/hawkeye\",\"protection/nan\",\"hero/stld\",\"hero/ms_marvel\",\"basic/nan\",\"campaign/hydra_camp\",\"basic/nan\",\"campaign/mut_gen_campaign\",\"basic/nan\",\"hero/captain_marvel\",\"protection/nan\",\"hero/captain_marvel\",\"hero/black_panther\",\"hero/spectrum\",\"aggression/nan\",\"hero/rogue\",\"basic/nan\",\"basic/nan\",\"basic/nan\",\"hero/spider_man\",\"aggression/nan\",\"hero/groot\",\"justice/nan\",\"basic/nan\",\"leadership/nan\",\"hero/nebu\",\"justice/nan\",\"protection/nan\",\"basic/nan\",\"protection/nan\",\"hero/hawkeye\",\"hero/cyclops\",\"hero/hawkeye\",\"leadership/nan\",\"campaign/mts_campaign\",\"basic/nan\",\"hero/captain_america\",\"campaign/brawler\",\"hero/groot\",\"justice/nan\",\"hero/cyclops\",\"protection/nan\",\"campaign/mts_campaign\",\"campaign/mut_gen_campaign\",\"hero/spider_woman\",\"basic/nan\",\"protection/nan\",\"hero/storm\",\"hero/vnm\",\"hero/valk\",\"basic/nan\",\"protection/nan\",\"aggression/nan\",\"hero/ironheart\",\"hero/she_hulk\",\"justice/nan\",\"aggression/nan\",\"justice/nan\",\"hero/thor\",\"justice/nan\",\"protection/nan\",\"hero/nova\",\"basic/nan\",\"campaign/peacekeeper\",\"hero/gam\",\"hero/qsv\",\"campaign/mut_gen_campaign\",\"hero/groot\",\"campaign/badoon_headhunter\",\"hero/warm\",\"hero/cyclops\",\"aggression/nan\",\"campaign/challenge\",\"hero/gambit\",\"hero/rogue\",\"hero/gambit\",\"hero/gambit\",\"basic/nan\",\"hero/spectrum\",\"hero/spectrum\",\"hero/she_hulk\",\"hero/gam\",\"basic/nan\",\"hero/nebu\",\"hero/gam\",\"hero/spider_man_morales\",\"aggression/nan\",\"hero/warm\",\"basic/nan\",\"leadership/nan\",\"hero/ghost_spider\",\"protection/nan\",\"aggression/nan\",\"leadership/nan\",\"hero/ghost_spider\",\"hero/ghost_spider\",\"basic/nan\",\"hero/wsp\",\"hero/ant\",\"hero/ant\",\"leadership/nan\",\"justice/nan\",\"leadership/nan\",\"leadership/nan\",\"hero/thor\",\"basic/nan\",\"aggression/nan\",\"hero/rogue\",\"leadership/nan\",\"basic/nan\",\"campaign/the_market\",\"campaign/the_market\",\"hero/black_widow\",\"hero/vnm\",\"justice/nan\",\"hero/groot\",\"basic/nan\",\"hero/she_hulk\",\"campaign/commander\",\"leadership/nan\",\"campaign/challenge\",\"hero/stld\",\"hero/ghost_spider\",\"campaign/mts_campaign\",\"aggression/nan\",\"hero/spiderham\",\"hero/thor\",\"aggression/nan\",\"protection/nan\",\"protection/nan\",\"protection/nan\",\"hero/valk\",\"leadership/nan\",\"hero/hawkeye\",\"leadership/nan\",\"hero/hawkeye\",\"hero/hawkeye\",\"basic/nan\",\"campaign/badoon_headhunter\",\"campaign/the_market\",\"protection/nan\",\"basic/nan\",\"basic/nan\",\"hero/she_hulk\",\"campaign/community_service\",\"aggression/nan\",\"campaign/defender\",\"justice/nan\",\"hero/captain_america\",\"hero/scw\",\"basic/nan\",\"hero/ant\",\"campaign/mts_campaign\",\"hero/spiderham\",\"justice/nan\",\"aggression/nan\",\"basic/nan\",\"basic/nan\",\"basic/nan\",\"hero/spdr\",\"hero/spiderham\",\"hero/hulk\",\"aggression/nan\",\"hero/hulk\",\"hero/weather\",\"hero/qsv\",\"campaign/the_market\",\"hero/rocket\",\"protection/nan\",\"hero/invocation\",\"hero/hulk\",\"campaign/shield_tech\",\"justice/nan\",\"campaign/hydra_camp\",\"campaign/hydra_camp\",\"campaign/hydra_camp\",\"campaign/hydra_camp\",\"campaign/commander\",\"campaign/the_market\",\"campaign/the_market\",\"aggression/nan\",\"justice/spider_woman\",\"protection/nan\",\"basic/nan\",\"leadership/nan\",\"leadership/nan\",\"leadership/nan\",\"hero/vision\",\"hero/shadowcat\",\"justice/nan\",\"hero/drax\",\"aggression/nan\",\"basic/nan\",\"protection/nan\",\"hero/iron_man\",\"leadership/nan\",\"hero/warm\",\"hero/colossus\",\"hero/ironheart\",\"basic/nan\",\"justice/nan\",\"hero/warm\",\"aggression/nan\",\"hero/phoenix\",\"hero/spider_man_morales\",\"hero/she_hulk\",\"hero/nova\",\"hero/spider_woman\",\"hero/spider_woman\",\"justice/nan\",\"hero/stld\",\"protection/nan\",\"leadership/nan\",\"campaign/mts_campaign\",\"hero/wolverine\",\"protection/nan\",\"protection/nan\",\"hero/vision\",\"justice/nan\",\"leadership/nan\",\"hero/ms_marvel\",\"protection/nan\",\"hero/warlock\",\"hero/warlock\",\"hero/gam\",\"hero/shadowcat\",\"hero/shadowcat\",\"hero/drax\",\"basic/nan\",\"campaign/challenge\",\"campaign/mts_campaign\",\"hero/thor\",\"justice/nan\",\"leadership/nan\",\"campaign/hydra_camp\",\"campaign/shield_tech\",\"hero/groot\",\"leadership/nan\",\"justice/nan\",\"leadership/nan\",\"hero/stld\",\"leadership/nan\",\"leadership/nan\",\"protection/nan\",\"hero/she_hulk\",\"hero/nebu\",\"aggression/nan\",\"hero/storm\",\"hero/thor\",\"hero/nova\",\"basic/nan\",\"hero/hulk\",\"justice/nan\",\"hero/vnm\",\"hero/shadowcat\",\"basic/nan\",\"hero/wolverine\",\"hero/wolverine\",\"basic/nan\",\"aggression/nan\",\"protection/nan\",\"hero/wolverine\",\"basic/nan\",\"hero/colossus\",\"aggression/nan\",\"hero/doctor_strange\",\"hero/scw\",\"hero/doctor_strange\",\"aggression/nan\",\"campaign/mut_gen_campaign\",\"campaign/mut_gen_campaign\",\"campaign/mut_gen_campaign\",\"leadership/nan\",\"leadership/nan\",\"justice/nan\",\"hero/drax\",\"leadership/nan\",\"hero/iron_man\",\"hero/iron_man\",\"aggression/nan\",\"campaign/expcamp\",\"aggression/nan\",\"basic/nan\",\"protection/nan\",\"aggression/nan\",\"justice/nan\",\"leadership/nan\",\"hero/vision\",\"hero/doctor_strange\",\"hero/qsv\",\"aggression/nan\",\"leadership/nan\",\"protection/nan\",\"campaign/expcamp\",\"basic/nan\",\"aggression/nan\",\"hero/phoenix\",\"campaign/peacekeeper\",\"campaign/mut_gen_campaign\",\"leadership/nan\",\"hero/spider_man_morales\",\"hero/phoenix\",\"leadership/nan\",\"hero/warm\",\"justice/nan\",\"hero/thor\",\"hero/hawkeye\",\"basic/nan\",\"basic/nan\",\"hero/gambit\",\"hero/scw\",\"aggression/nan\",\"protection/nan\",\"justice/nan\",\"hero/spectrum\",\"basic/nan\",\"protection/nan\",\"leadership/nan\",\"campaign/the_market\",\"leadership/nan\",\"hero/ms_marvel\",\"hero/nova\",\"hero/vnm\",\"protection/nan\",\"justice/nan\",\"hero/warm\",\"protection/nan\",\"basic/nan\",\"justice/nan\",\"protection/nan\",\"hero/warlock\",\"hero/doctor_strange\",\"hero/wsp\",\"hero/ms_marvel\",\"hero/black_widow\",\"hero/gambit\",\"campaign/the_market\",\"hero/gam\",\"hero/nebu\",\"hero/nebu\",\"protection/nan\",\"protection/nan\",\"hero/ironheart\",\"basic/nan\",\"protection/nan\",\"aggression/nan\",\"campaign/mts_campaign\",\"protection/nan\",\"protection/nan\",\"hero/nova\",\"hero/stld\",\"hero/thor\",\"campaign/community_service\",\"campaign/badoon_headhunter\",\"justice/nan\",\"aggression/nan\",\"hero/she_hulk\",\"campaign/the_market\",\"campaign/mts_campaign\",\"justice/nan\",\"basic/nan\",\"hero/colossus\",\"hero/spiderham\",\"hero/storm\",\"hero/storm\",\"aggression/nan\",\"justice/nan\",\"hero/black_panther\",\"hero/ghost_spider\",\"hero/drax\",\"hero/rocket\",\"justice/nan\",\"leadership/nan\",\"hero/drax\",\"hero/spdr\",\"hero/iron_man\",\"protection/nan\",\"hero/spider_man\",\"hero/spiderham\",\"hero/stld\",\"hero/spiderham\",\"hero/ghost_spider\",\"hero/vision\",\"hero/shadowcat\",\"hero/shadowcat\",\"hero/shadowcat\",\"leadership/spider_woman\",\"hero/cyclops\",\"hero/phoenix\",\"hero/phoenix\",\"hero/phoenix\",\"hero/phoenix\",\"hero/spectrum\",\"hero/ironheart\",\"hero/ironheart\",\"hero/spectrum\",\"hero/captain_marvel\",\"aggression/nan\",\"hero/qsv\",\"protection/nan\",\"protection/nan\",\"hero/wsp\",\"hero/colossus\",\"hero/colossus\",\"hero/warlock\",\"hero/ghost_spider\",\"aggression/nan\",\"justice/nan\",\"leadership/nan\",\"basic/nan\",\"aggression/nan\",\"basic/nan\",\"protection/nan\",\"hero/nova\",\"leadership/nan\",\"leadership/nan\",\"campaign/the_market\",\"hero/spider_man_morales\",\"hero/iron_man\",\"protection/nan\",\"hero/cyclops\",\"aggression/nan\",\"protection/nan\",\"protection/nan\",\"aggression/nan\",\"hero/cyclops\",\"justice/nan\",\"basic/nan\",\"hero/vnm\",\"campaign/shield_tech\",\"hero/ironheart\",\"protection/nan\",\"hero/doctor_strange\",\"protection/nan\",\"aggression/nan\",\"hero/phoenix\",\"leadership/nan\",\"hero/spdr\",\"justice/nan\",\"protection/nan\",\"basic/nan\",\"aggression/nan\",\"campaign/bad_publicity\",\"hero/spectrum\",\"hero/spectrum\",\"basic/nan\",\"leadership/nan\",\"hero/ant\",\"hero/wsp\",\"justice/nan\",\"hero/warlock\",\"justice/nan\",\"hero/shadowcat\",\"aggression/nan\",\"hero/qsv\",\"hero/scw\",\"basic/nan\",\"leadership/nan\",\"leadership/nan\",\"hero/spdr\",\"hero/wsp\",\"leadership/nan\",\"campaign/mut_gen_campaign\",\"campaign/the_market\",\"leadership/nan\",\"basic/nan\",\"basic/nan\",\"basic/nan\",\"hero/ms_marvel\",\"hero/wsp\",\"hero/wolverine\",\"leadership/nan\",\"hero/qsv\",\"leadership/nan\",\"aggression/nan\",\"hero/rocket\",\"hero/gambit\",\"hero/warm\",\"hero/iron_man\",\"protection/nan\",\"campaign/mut_gen_campaign\",\"campaign/peacekeeper\",\"hero/ant\",\"basic/nan\",\"campaign/shield_tech\",\"campaign/mts_campaign\",\"protection/nan\",\"hero/cyclops\",\"hero/ironheart\",\"hero/phoenix\",\"hero/iron_man\",\"hero/rocket\",\"basic/nan\",\"hero/rocket\",\"hero/rocket\",\"protection/nan\",\"hero/gambit\",\"hero/rogue\",\"hero/rogue\",\"leadership/nan\",\"hero/ironheart\",\"hero/groot\",\"hero/gambit\",\"campaign/community_service\",\"hero/cyclops\",\"hero/vnm\",\"justice/nan\",\"basic/nan\",\"hero/spdr\",\"hero/spdr\",\"hero/spdr\",\"hero/black_widow\",\"campaign/the_market\",\"hero/rocket\",\"hero/nova\",\"hero/doctor_strange\",\"hero/vnm\",\"leadership/nan\",\"campaign/mts_campaign\",\"justice/nan\",\"basic/nan\",\"hero/qsv\",\"hero/scw\",\"hero/scw\",\"hero/rocket\",\"hero/warm\",\"hero/ant\",\"hero/cyclops\",\"protection/nan\",\"hero/ironheart\",\"campaign/mts_campaign\",\"campaign/mts_campaign\",\"hero/spider_woman\",\"justice/nan\",\"aggression/nan\",\"hero/qsv\",\"hero/gam\",\"hero/invocation\",\"basic/nan\",\"hero/colossus\",\"hero/shadowcat\",\"hero/shadowcat\",\"protection/nan\",\"campaign/mts_campaign\",\"aggression/nan\",\"hero/she_hulk\",\"hero/captain_america\",\"protection/nan\",\"hero/captain_america\",\"hero/valk\",\"campaign/shield_tech\",\"campaign/commander\",\"hero/warm\",\"hero/ms_marvel\",\"hero/black_panther\",\"basic/nan\",\"protection/nan\",\"basic/nan\",\"protection/nan\",\"justice/nan\",\"aggression/nan\",\"leadership/nan\",\"basic/nan\",\"hero/wolverine\",\"hero/stld\",\"aggression/nan\",\"campaign/bad_publicity\",\"leadership/nan\",\"hero/ms_marvel\",\"campaign/snitches_get_stitches\",\"basic/nan\",\"hero/vision\",\"hero/vision\",\"hero/shadowcat\",\"hero/hawkeye\",\"justice/nan\",\"basic/nan\",\"hero/warlock\",\"hero/rogue\",\"hero/spectrum\",\"justice/nan\",\"hero/qsv\",\"hero/spectrum\",\"hero/spdr\",\"aggression/nan\",\"basic/nan\",\"hero/spiderham\",\"basic/nan\",\"justice/nan\",\"protection/nan\",\"hero/spider_man\",\"hero/spider_man_morales\",\"protection/nan\",\"hero/vnm\",\"protection/nan\",\"hero/spider_man\",\"protection/nan\",\"hero/captain_marvel\",\"justice/nan\",\"hero/spider_woman\",\"basic/nan\",\"hero/she_hulk\",\"justice/nan\",\"leadership/nan\",\"protection/nan\",\"basic/nan\",\"hero/stld\",\"hero/stld\",\"protection/nan\",\"hero/iron_man\",\"justice/nan\",\"hero/colossus\",\"hero/doctor_strange\",\"hero/captain_america\",\"hero/captain_america\",\"leadership/nan\",\"basic/nan\",\"hero/storm\",\"hero/storm\",\"hero/storm\",\"basic/nan\",\"leadership/nan\",\"hero/ironheart\",\"hero/hulk\",\"protection/nan\",\"campaign/mts_campaign\",\"leadership/nan\",\"aggression/nan\",\"hero/captain_america\",\"hero/vision\",\"hero/she_hulk\",\"hero/she_hulk\",\"hero/nova\",\"hero/rogue\",\"hero/iron_man\",\"campaign/the_market\",\"campaign/mut_gen_campaign\",\"aggression/nan\",\"campaign/defender\",\"campaign/peacekeeper\",\"justice/nan\",\"campaign/brawler\",\"campaign/defender\",\"basic/nan\",\"justice/nan\",\"hero/spider_man_morales\",\"hero/spider_man\",\"hero/spiderham\",\"basic/nan\",\"hero/black_widow\",\"campaign/mts_campaign\",\"hero/black_panther\",\"aggression/nan\",\"protection/nan\",\"hero/cyclops\",\"hero/black_panther\",\"campaign/hydra_camp\",\"campaign/the_market\",\"basic/nan\",\"leadership/nan\",\"hero/warm\",\"campaign/the_market\",\"aggression/nan\",\"leadership/nan\",\"basic/nan\",\"leadership/nan\",\"hero/phoenix\",\"hero/phoenix\",\"hero/phoenix\",\"basic/nan\",\"aggression/nan\",\"basic/nan\",\"hero/spiderham\",\"hero/doctor_strange\",\"protection/nan\",\"hero/black_panther\",\"aggression/nan\",\"protection/nan\",\"basic/nan\",\"aggression/nan\",\"justice/nan\",\"leadership/nan\",\"protection/nan\",\"basic/nan\",\"hero/gambit\",\"leadership/nan\",\"basic/nan\",\"aggression/nan\",\"hero/thor\",\"hero/thor\",\"aggression/nan\",\"hero/rocket\",\"hero/hulk\",\"hero/weather\",\"protection/nan\",\"hero/ghost_spider\",\"aggression/nan\",\"hero/colossus\",\"basic/nan\",\"aggression/nan\",\"hero/iron_man\",\"hero/ironheart\",\"hero/drax\",\"hero/storm\",\"hero/rogue\",\"hero/wolverine\",\"campaign/the_market\",\"campaign/the_market\",\"protection/nan\",\"justice/nan\",\"basic/nan\",\"leadership/nan\",\"leadership/nan\",\"justice/nan\",\"protection/nan\",\"leadership/nan\",\"hero/nova\",\"basic/nan\",\"hero/hulk\",\"hero/nebu\",\"hero/warm\",\"aggression/nan\",\"basic/nan\",\"hero/spdr\",\"hero/valk\",\"aggression/nan\",\"hero/valk\",\"hero/valk\",\"hero/invocation\",\"basic/nan\",\"justice/nan\",\"hero/vnm\",\"aggression/spider_woman\",\"hero/vnm\",\"hero/black_panther\",\"hero/hawkeye\",\"hero/black_panther\",\"protection/nan\",\"justice/nan\",\"hero/groot\",\"hero/groot\",\"leadership/nan\",\"hero/vision\",\"hero/vision\",\"hero/valk\",\"basic/nan\",\"hero/vision\",\"campaign/mts_campaign\",\"hero/black_panther\",\"hero/scw\",\"campaign/brawler\",\"hero/iron_man\",\"basic/nan\",\"hero/warm\",\"aggression/nan\",\"protection/nan\",\"hero/warlock\",\"basic/nan\",\"hero/scw\",\"aggression/nan\",\"basic/nan\",\"hero/ant\",\"aggression/nan\",\"justice/nan\",\"hero/wsp\",\"hero/wsp\",\"hero/wsp\",\"campaign/shield_tech\",\"basic/nan\",\"hero/nebu\",\"hero/storm\",\"hero/ghost_spider\",\"basic/nan\",\"hero/ghost_spider\",\"hero/spdr\",\"hero/spider_man\",\"hero/spider_man_morales\",\"hero/spider_man_morales\",\"hero/spdr\",\"hero/spider_man\",\"protection/nan\",\"hero/phoenix\",\"leadership/nan\",\"justice/nan\",\"hero/nebu\",\"hero/black_widow\",\"hero/ms_marvel\",\"hero/invocation\",\"campaign/the_market\",\"hero/black_widow\",\"aggression/nan\",\"hero/wolverine\",\"hero/wolverine\",\"leadership/nan\",\"hero/doctor_strange\",\"justice/nan\",\"hero/ant\",\"campaign/shield_tech\",\"basic/nan\",\"basic/nan\",\"basic/nan\",\"justice/nan\",\"leadership/nan\",\"basic/nan\",\"campaign/expcamp\",\"justice/nan\",\"hero\",\"campaign\",\"campaign\",\"hero\",\"hero\",\"campaign\",\"hero\",\"hero\",\"campaign\",\"hero\",\"campaign\",\"campaign\",\"hero\",\"campaign\",\"hero\",\"hero\",\"campaign\",\"hero\",\"hero\",\"hero\",\"hero\",\"hero\",\"hero\",\"campaign\",\"hero\",\"hero\",\"hero\",\"hero\",\"campaign\",\"campaign\",\"aggression\",\"basic\",\"justice\",\"leadership\",\"protection\",\"hero\",\"hero\",\"campaign\",\"hero\",\"hero\",\"hero\",\"hero\",\"hero\",\"hero\",\"hero\",\"campaign\",\"campaign\",\"hero\",\"hero\",\"hero\",\"hero\",\"aggression\",\"hero\",\"justice\",\"leadership\",\"protection\",\"hero\",\"hero\",\"hero\",\"campaign\",\"hero\",\"hero\",\"hero\",\"hero\",\"hero\",\"hero\",\"hero\",\"hero\",\"hero\",\"\",\"\",\"\",\"\",\"\",\"\",\"\"],\"values\":[1,1,1,1,1,1,1,2,1,1,1,1,1,1,1,1,1,1,1,1,2,1,1,1,1,1,1,1,1,1,1,1,1,1,1,1,1,1,1,1,1,2,1,1,1,1,1,1,1,1,1,1,1,1,1,1,1,1,1,1,1,1,1,1,1,1,1,1,1,1,1,1,1,2,1,1,1,1,1,1,1,1,1,1,2,1,1,1,1,1,1,1,1,1,1,1,1,1,1,1,1,1,1,1,1,1,1,1,1,1,1,1,1,1,1,1,1,1,1,1,1,1,1,1,1,1,1,1,1,1,1,1,1,1,1,1,1,1,1,1,1,1,1,1,1,1,1,1,1,1,1,1,1,1,1,1,1,1,1,1,1,1,1,1,1,1,1,1,1,1,1,1,1,1,1,2,1,1,1,1,1,1,1,1,1,1,1,1,1,1,1,1,1,1,1,1,1,1,1,1,1,1,1,1,1,1,1,1,1,1,1,1,1,1,1,1,1,1,1,1,1,1,1,1,1,1,1,1,1,1,1,1,1,1,1,1,1,1,1,1,1,2,1,1,1,1,1,1,1,1,1,1,1,1,1,1,1,2,1,1,1,1,1,1,1,1,1,1,1,1,1,1,1,1,1,1,1,1,1,1,1,1,1,1,2,1,1,1,1,1,1,1,1,1,1,1,1,1,1,1,1,1,1,1,1,1,1,1,1,1,1,1,1,1,1,1,1,1,1,1,1,1,1,2,1,1,1,1,1,1,1,1,2,1,1,1,1,1,1,1,1,1,1,1,1,1,1,1,1,1,1,1,1,1,1,1,1,1,1,1,1,1,1,1,1,1,2,1,1,1,1,2,1,1,1,1,1,1,1,1,1,1,1,1,1,2,1,1,1,1,1,1,1,1,1,1,1,1,1,1,1,1,1,1,1,1,1,1,1,1,1,1,1,1,1,1,1,1,1,1,1,1,2,1,1,1,1,1,1,1,1,1,1,1,1,1,1,1,1,1,1,1,1,1,1,1,1,1,1,3,1,1,1,1,1,1,1,1,1,1,1,1,1,1,1,1,1,1,1,1,1,1,1,1,1,1,1,1,1,1,2,1,1,1,1,1,2,1,1,1,1,1,1,1,1,1,1,1,1,1,1,1,1,1,1,1,1,1,1,1,1,1,1,1,1,1,1,1,1,1,1,1,1,1,1,1,1,1,1,1,1,1,1,1,1,1,1,1,1,1,1,2,1,1,1,1,1,1,1,1,1,1,1,1,1,1,1,1,1,1,1,1,1,1,1,1,1,1,1,1,1,1,1,1,1,1,1,1,1,1,1,1,1,1,1,1,1,1,1,2,1,1,1,1,1,1,1,2,1,1,1,1,1,1,1,1,1,1,1,1,1,1,1,1,1,1,1,1,1,1,1,1,1,1,1,1,1,2,1,1,1,1,1,1,1,1,1,1,1,1,1,2,1,1,1,1,1,1,1,1,1,1,1,1,1,1,1,1,1,1,1,1,1,1,1,1,1,1,1,1,1,1,1,1,1,1,1,1,1,1,2,1,1,1,1,1,1,1,1,1,1,1,1,2,1,1,1,1,1,1,1,1,1,1,1,1,1,1,1,1,1,1,1,1,1,1,2,1,1,1,1,1,1,1,1,1,1,1,1,1,1,1,1,1,1,2,1,1,1,3,1,1,1,1,2,1,1,1,1,1,1,1,1,1,1,1,1,1,1,1,1,2,1,1,1,1,1,1,1,1,1,1,1,1,1,1,1,1,1,1,1,1,1,1,1,1,1,1,1,1,1,1,1,1,1,1,1,1,1,1,1,2,1,1,1,1,1,1,1,1,1,1,1,1,1,1,1,1,1,1,1,1,1,1,1,1,1,1,1,1,1,1,1,1,1,1,1,1,4,2,1,1,1,1,1,1,1,1,1,1,1,1,1,1,1,1,1,1,1,1,1,1,1,1,1,1,1,1,1,1,1,1,1,1,1,1,1,1,1,1,1,1,1,1,1,1,1,1,1,1,1,1,1,1,2,1,1,1,1,1,1,1,1,1,1,1,1,1,1,1,1,1,1,1,1,1,1,1,1,1,1,1,1,1,1,1,1,1,1,1,1,1,1,1,1,1,1,1,2,1,1,1,1,1,1,1,1,1,1,1,1,1,1,1,1,1,1,1,1,1,1,1,1,1,1,1,1,1,1,1,1,1,1,1,1,1,1,1,1,1,1,1,1,1,1,1,1,1,1,1,1,1,1,2,1,1,1,1,1,4,1,1,1,1,1,1,1,1,1,1,1,1,1,1,1,2,1,1,2,1,1,1,1,1,1,1,1,1,1,1,1,1,1,1,1,1,1,1,1,1,1,1,1,1,1,1,1,1,2,1,1,1,1,1,1,1,1,12,3,5,14,11,5,11,10,10,11,5,5,11,5,12,12,4,11,11,10,12,11,11,12,5,12,16,12,20,10,85,125,75,88,87,11,10,5,15,12,12,10,10,13,11,16,1,15,11,10,11,1,6,1,1,1,12,11,10,28,11,13,13,11,11,12,4,13,12,86,125,134,505,76,89,88],\"type\":\"sunburst\"}],                        {\"template\":{\"data\":{\"bar\":[{\"error_x\":{\"color\":\"#2a3f5f\"},\"error_y\":{\"color\":\"#2a3f5f\"},\"marker\":{\"line\":{\"color\":\"#E5ECF6\",\"width\":0.5},\"pattern\":{\"fillmode\":\"overlay\",\"size\":10,\"solidity\":0.2}},\"type\":\"bar\"}],\"barpolar\":[{\"marker\":{\"line\":{\"color\":\"#E5ECF6\",\"width\":0.5},\"pattern\":{\"fillmode\":\"overlay\",\"size\":10,\"solidity\":0.2}},\"type\":\"barpolar\"}],\"carpet\":[{\"aaxis\":{\"endlinecolor\":\"#2a3f5f\",\"gridcolor\":\"white\",\"linecolor\":\"white\",\"minorgridcolor\":\"white\",\"startlinecolor\":\"#2a3f5f\"},\"baxis\":{\"endlinecolor\":\"#2a3f5f\",\"gridcolor\":\"white\",\"linecolor\":\"white\",\"minorgridcolor\":\"white\",\"startlinecolor\":\"#2a3f5f\"},\"type\":\"carpet\"}],\"choropleth\":[{\"colorbar\":{\"outlinewidth\":0,\"ticks\":\"\"},\"type\":\"choropleth\"}],\"contour\":[{\"colorbar\":{\"outlinewidth\":0,\"ticks\":\"\"},\"colorscale\":[[0.0,\"#0d0887\"],[0.1111111111111111,\"#46039f\"],[0.2222222222222222,\"#7201a8\"],[0.3333333333333333,\"#9c179e\"],[0.4444444444444444,\"#bd3786\"],[0.5555555555555556,\"#d8576b\"],[0.6666666666666666,\"#ed7953\"],[0.7777777777777778,\"#fb9f3a\"],[0.8888888888888888,\"#fdca26\"],[1.0,\"#f0f921\"]],\"type\":\"contour\"}],\"contourcarpet\":[{\"colorbar\":{\"outlinewidth\":0,\"ticks\":\"\"},\"type\":\"contourcarpet\"}],\"heatmap\":[{\"colorbar\":{\"outlinewidth\":0,\"ticks\":\"\"},\"colorscale\":[[0.0,\"#0d0887\"],[0.1111111111111111,\"#46039f\"],[0.2222222222222222,\"#7201a8\"],[0.3333333333333333,\"#9c179e\"],[0.4444444444444444,\"#bd3786\"],[0.5555555555555556,\"#d8576b\"],[0.6666666666666666,\"#ed7953\"],[0.7777777777777778,\"#fb9f3a\"],[0.8888888888888888,\"#fdca26\"],[1.0,\"#f0f921\"]],\"type\":\"heatmap\"}],\"heatmapgl\":[{\"colorbar\":{\"outlinewidth\":0,\"ticks\":\"\"},\"colorscale\":[[0.0,\"#0d0887\"],[0.1111111111111111,\"#46039f\"],[0.2222222222222222,\"#7201a8\"],[0.3333333333333333,\"#9c179e\"],[0.4444444444444444,\"#bd3786\"],[0.5555555555555556,\"#d8576b\"],[0.6666666666666666,\"#ed7953\"],[0.7777777777777778,\"#fb9f3a\"],[0.8888888888888888,\"#fdca26\"],[1.0,\"#f0f921\"]],\"type\":\"heatmapgl\"}],\"histogram\":[{\"marker\":{\"pattern\":{\"fillmode\":\"overlay\",\"size\":10,\"solidity\":0.2}},\"type\":\"histogram\"}],\"histogram2d\":[{\"colorbar\":{\"outlinewidth\":0,\"ticks\":\"\"},\"colorscale\":[[0.0,\"#0d0887\"],[0.1111111111111111,\"#46039f\"],[0.2222222222222222,\"#7201a8\"],[0.3333333333333333,\"#9c179e\"],[0.4444444444444444,\"#bd3786\"],[0.5555555555555556,\"#d8576b\"],[0.6666666666666666,\"#ed7953\"],[0.7777777777777778,\"#fb9f3a\"],[0.8888888888888888,\"#fdca26\"],[1.0,\"#f0f921\"]],\"type\":\"histogram2d\"}],\"histogram2dcontour\":[{\"colorbar\":{\"outlinewidth\":0,\"ticks\":\"\"},\"colorscale\":[[0.0,\"#0d0887\"],[0.1111111111111111,\"#46039f\"],[0.2222222222222222,\"#7201a8\"],[0.3333333333333333,\"#9c179e\"],[0.4444444444444444,\"#bd3786\"],[0.5555555555555556,\"#d8576b\"],[0.6666666666666666,\"#ed7953\"],[0.7777777777777778,\"#fb9f3a\"],[0.8888888888888888,\"#fdca26\"],[1.0,\"#f0f921\"]],\"type\":\"histogram2dcontour\"}],\"mesh3d\":[{\"colorbar\":{\"outlinewidth\":0,\"ticks\":\"\"},\"type\":\"mesh3d\"}],\"parcoords\":[{\"line\":{\"colorbar\":{\"outlinewidth\":0,\"ticks\":\"\"}},\"type\":\"parcoords\"}],\"pie\":[{\"automargin\":true,\"type\":\"pie\"}],\"scatter\":[{\"marker\":{\"colorbar\":{\"outlinewidth\":0,\"ticks\":\"\"}},\"type\":\"scatter\"}],\"scatter3d\":[{\"line\":{\"colorbar\":{\"outlinewidth\":0,\"ticks\":\"\"}},\"marker\":{\"colorbar\":{\"outlinewidth\":0,\"ticks\":\"\"}},\"type\":\"scatter3d\"}],\"scattercarpet\":[{\"marker\":{\"colorbar\":{\"outlinewidth\":0,\"ticks\":\"\"}},\"type\":\"scattercarpet\"}],\"scattergeo\":[{\"marker\":{\"colorbar\":{\"outlinewidth\":0,\"ticks\":\"\"}},\"type\":\"scattergeo\"}],\"scattergl\":[{\"marker\":{\"colorbar\":{\"outlinewidth\":0,\"ticks\":\"\"}},\"type\":\"scattergl\"}],\"scattermapbox\":[{\"marker\":{\"colorbar\":{\"outlinewidth\":0,\"ticks\":\"\"}},\"type\":\"scattermapbox\"}],\"scatterpolar\":[{\"marker\":{\"colorbar\":{\"outlinewidth\":0,\"ticks\":\"\"}},\"type\":\"scatterpolar\"}],\"scatterpolargl\":[{\"marker\":{\"colorbar\":{\"outlinewidth\":0,\"ticks\":\"\"}},\"type\":\"scatterpolargl\"}],\"scatterternary\":[{\"marker\":{\"colorbar\":{\"outlinewidth\":0,\"ticks\":\"\"}},\"type\":\"scatterternary\"}],\"surface\":[{\"colorbar\":{\"outlinewidth\":0,\"ticks\":\"\"},\"colorscale\":[[0.0,\"#0d0887\"],[0.1111111111111111,\"#46039f\"],[0.2222222222222222,\"#7201a8\"],[0.3333333333333333,\"#9c179e\"],[0.4444444444444444,\"#bd3786\"],[0.5555555555555556,\"#d8576b\"],[0.6666666666666666,\"#ed7953\"],[0.7777777777777778,\"#fb9f3a\"],[0.8888888888888888,\"#fdca26\"],[1.0,\"#f0f921\"]],\"type\":\"surface\"}],\"table\":[{\"cells\":{\"fill\":{\"color\":\"#EBF0F8\"},\"line\":{\"color\":\"white\"}},\"header\":{\"fill\":{\"color\":\"#C8D4E3\"},\"line\":{\"color\":\"white\"}},\"type\":\"table\"}]},\"layout\":{\"annotationdefaults\":{\"arrowcolor\":\"#2a3f5f\",\"arrowhead\":0,\"arrowwidth\":1},\"autotypenumbers\":\"strict\",\"coloraxis\":{\"colorbar\":{\"outlinewidth\":0,\"ticks\":\"\"}},\"colorscale\":{\"diverging\":[[0,\"#8e0152\"],[0.1,\"#c51b7d\"],[0.2,\"#de77ae\"],[0.3,\"#f1b6da\"],[0.4,\"#fde0ef\"],[0.5,\"#f7f7f7\"],[0.6,\"#e6f5d0\"],[0.7,\"#b8e186\"],[0.8,\"#7fbc41\"],[0.9,\"#4d9221\"],[1,\"#276419\"]],\"sequential\":[[0.0,\"#0d0887\"],[0.1111111111111111,\"#46039f\"],[0.2222222222222222,\"#7201a8\"],[0.3333333333333333,\"#9c179e\"],[0.4444444444444444,\"#bd3786\"],[0.5555555555555556,\"#d8576b\"],[0.6666666666666666,\"#ed7953\"],[0.7777777777777778,\"#fb9f3a\"],[0.8888888888888888,\"#fdca26\"],[1.0,\"#f0f921\"]],\"sequentialminus\":[[0.0,\"#0d0887\"],[0.1111111111111111,\"#46039f\"],[0.2222222222222222,\"#7201a8\"],[0.3333333333333333,\"#9c179e\"],[0.4444444444444444,\"#bd3786\"],[0.5555555555555556,\"#d8576b\"],[0.6666666666666666,\"#ed7953\"],[0.7777777777777778,\"#fb9f3a\"],[0.8888888888888888,\"#fdca26\"],[1.0,\"#f0f921\"]]},\"colorway\":[\"#636efa\",\"#EF553B\",\"#00cc96\",\"#ab63fa\",\"#FFA15A\",\"#19d3f3\",\"#FF6692\",\"#B6E880\",\"#FF97FF\",\"#FECB52\"],\"font\":{\"color\":\"#2a3f5f\"},\"geo\":{\"bgcolor\":\"white\",\"lakecolor\":\"white\",\"landcolor\":\"#E5ECF6\",\"showlakes\":true,\"showland\":true,\"subunitcolor\":\"white\"},\"hoverlabel\":{\"align\":\"left\"},\"hovermode\":\"closest\",\"mapbox\":{\"style\":\"light\"},\"paper_bgcolor\":\"white\",\"plot_bgcolor\":\"#E5ECF6\",\"polar\":{\"angularaxis\":{\"gridcolor\":\"white\",\"linecolor\":\"white\",\"ticks\":\"\"},\"bgcolor\":\"#E5ECF6\",\"radialaxis\":{\"gridcolor\":\"white\",\"linecolor\":\"white\",\"ticks\":\"\"}},\"scene\":{\"xaxis\":{\"backgroundcolor\":\"#E5ECF6\",\"gridcolor\":\"white\",\"gridwidth\":2,\"linecolor\":\"white\",\"showbackground\":true,\"ticks\":\"\",\"zerolinecolor\":\"white\"},\"yaxis\":{\"backgroundcolor\":\"#E5ECF6\",\"gridcolor\":\"white\",\"gridwidth\":2,\"linecolor\":\"white\",\"showbackground\":true,\"ticks\":\"\",\"zerolinecolor\":\"white\"},\"zaxis\":{\"backgroundcolor\":\"#E5ECF6\",\"gridcolor\":\"white\",\"gridwidth\":2,\"linecolor\":\"white\",\"showbackground\":true,\"ticks\":\"\",\"zerolinecolor\":\"white\"}},\"shapedefaults\":{\"line\":{\"color\":\"#2a3f5f\"}},\"ternary\":{\"aaxis\":{\"gridcolor\":\"white\",\"linecolor\":\"white\",\"ticks\":\"\"},\"baxis\":{\"gridcolor\":\"white\",\"linecolor\":\"white\",\"ticks\":\"\"},\"bgcolor\":\"#E5ECF6\",\"caxis\":{\"gridcolor\":\"white\",\"linecolor\":\"white\",\"ticks\":\"\"}},\"title\":{\"x\":0.05},\"xaxis\":{\"automargin\":true,\"gridcolor\":\"white\",\"linecolor\":\"white\",\"ticks\":\"\",\"title\":{\"standoff\":15},\"zerolinecolor\":\"white\",\"zerolinewidth\":2},\"yaxis\":{\"automargin\":true,\"gridcolor\":\"white\",\"linecolor\":\"white\",\"ticks\":\"\",\"title\":{\"standoff\":15},\"zerolinecolor\":\"white\",\"zerolinewidth\":2}}},\"legend\":{\"tracegroupgap\":0},\"title\":{\"text\":\"Sunburst - Aspect, Set\"},\"sunburstcolorway\":[\"tan\",\"orange\",\"lightgrey\",\"lightskyblue\",\"limegreen\",\"crimson\",\"gold\"],\"height\":800,\"width\":1000},                        {\"responsive\": true}                    ).then(function(){\n",
       "                            \n",
       "var gd = document.getElementById('0e4a30d7-8c4d-4cc4-9c32-0a908c0f3ddb');\n",
       "var x = new MutationObserver(function (mutations, observer) {{\n",
       "        var display = window.getComputedStyle(gd).display;\n",
       "        if (!display || display === 'none') {{\n",
       "            console.log([gd, 'removed!']);\n",
       "            Plotly.purge(gd);\n",
       "            observer.disconnect();\n",
       "        }}\n",
       "}});\n",
       "\n",
       "// Listen for the removal of the full notebook cells\n",
       "var notebookContainer = gd.closest('#notebook-container');\n",
       "if (notebookContainer) {{\n",
       "    x.observe(notebookContainer, {childList: true});\n",
       "}}\n",
       "\n",
       "// Listen for the clearing of the current output cell\n",
       "var outputEl = gd.closest('.output');\n",
       "if (outputEl) {{\n",
       "    x.observe(outputEl, {childList: true});\n",
       "}}\n",
       "\n",
       "                        })                };                });            </script>        </div>"
      ]
     },
     "metadata": {},
     "output_type": "display_data"
    }
   ],
   "source": [
    "color_seq=['tan','orange','lightgrey','lightskyblue','limegreen','crimson','gold']\n",
    "\n",
    "fig = px.sunburst(combined_df, path=['aspect', 'set_code','name'],\n",
    "                  title = 'Sunburst - Aspect, Set',\n",
    "                  hover_data=['cost','text'],\n",
    "                  color_discrete_sequence=color_seq,\n",
    "                  maxdepth=3,\n",
    "                  width=1000,height=800)\n",
    "fig.show()"
   ]
  },
  {
   "cell_type": "code",
   "execution_count": 124,
   "id": "54180bbc-7f14-4aa8-9b34-72e50608db0e",
   "metadata": {
    "tags": []
   },
   "outputs": [
    {
     "data": {
      "text/html": [
       "<div>\n",
       "<style scoped>\n",
       "    .dataframe tbody tr th:only-of-type {\n",
       "        vertical-align: middle;\n",
       "    }\n",
       "\n",
       "    .dataframe tbody tr th {\n",
       "        vertical-align: top;\n",
       "    }\n",
       "\n",
       "    .dataframe thead th {\n",
       "        text-align: right;\n",
       "    }\n",
       "</style>\n",
       "<table border=\"1\" class=\"dataframe\">\n",
       "  <thead>\n",
       "    <tr style=\"text-align: right;\">\n",
       "      <th></th>\n",
       "      <th>name</th>\n",
       "      <th>type_code</th>\n",
       "      <th>cost</th>\n",
       "      <th>resource_combined</th>\n",
       "      <th>set_code</th>\n",
       "      <th>text</th>\n",
       "      <th>aspect</th>\n",
       "      <th>traits</th>\n",
       "      <th>health</th>\n",
       "      <th>attack</th>\n",
       "      <th>thwart</th>\n",
       "      <th>defense</th>\n",
       "      <th>recover</th>\n",
       "      <th>deck_limit</th>\n",
       "      <th>hand_size</th>\n",
       "      <th>double_sided</th>\n",
       "      <th>flavor</th>\n",
       "    </tr>\n",
       "  </thead>\n",
       "  <tbody>\n",
       "    <tr>\n",
       "      <th>4</th>\n",
       "      <td>Mockingbird</td>\n",
       "      <td>ally</td>\n",
       "      <td>3.0</td>\n",
       "      <td>1.0</td>\n",
       "      <td>hawkeye</td>\n",
       "      <td>&lt;b&gt;Interrupt&lt;/b&gt;: When the villain initiates a...</td>\n",
       "      <td>hero</td>\n",
       "      <td>Avenger. S.H.I.E.L.D.</td>\n",
       "      <td>3.0</td>\n",
       "      <td>2.0</td>\n",
       "      <td>2.0</td>\n",
       "      <td>NaN</td>\n",
       "      <td>NaN</td>\n",
       "      <td>1.0</td>\n",
       "      <td>NaN</td>\n",
       "      <td>NaN</td>\n",
       "      <td>\"Is that all you got?\"</td>\n",
       "    </tr>\n",
       "    <tr>\n",
       "      <th>11</th>\n",
       "      <td>Hawkeye</td>\n",
       "      <td>ally</td>\n",
       "      <td>2.0</td>\n",
       "      <td>1.0</td>\n",
       "      <td>NaN</td>\n",
       "      <td>&lt;b&gt;Action&lt;/b&gt;: Exhaust this ally and discard 1...</td>\n",
       "      <td>leadership</td>\n",
       "      <td>Avenger.</td>\n",
       "      <td>2.0</td>\n",
       "      <td>2.0</td>\n",
       "      <td>1.0</td>\n",
       "      <td>NaN</td>\n",
       "      <td>NaN</td>\n",
       "      <td>1.0</td>\n",
       "      <td>NaN</td>\n",
       "      <td>NaN</td>\n",
       "      <td>\"You see I', literally pointing arrows at your...</td>\n",
       "    </tr>\n",
       "    <tr>\n",
       "      <th>12</th>\n",
       "      <td>Black Knight</td>\n",
       "      <td>ally</td>\n",
       "      <td>3.0</td>\n",
       "      <td>1.0</td>\n",
       "      <td>NaN</td>\n",
       "      <td>Black Knight's basic attack gains piercing.</td>\n",
       "      <td>leadership</td>\n",
       "      <td>Avenger.</td>\n",
       "      <td>3.0</td>\n",
       "      <td>2.0</td>\n",
       "      <td>1.0</td>\n",
       "      <td>NaN</td>\n",
       "      <td>NaN</td>\n",
       "      <td>1.0</td>\n",
       "      <td>NaN</td>\n",
       "      <td>NaN</td>\n",
       "      <td>\"As long as the Black Blade blazes darkly in m...</td>\n",
       "    </tr>\n",
       "    <tr>\n",
       "      <th>13</th>\n",
       "      <td>Goliath</td>\n",
       "      <td>ally</td>\n",
       "      <td>4.0</td>\n",
       "      <td>1.0</td>\n",
       "      <td>NaN</td>\n",
       "      <td>&lt;b&gt;Action&lt;/b&gt;: Goliath gets +4 ATK until the e...</td>\n",
       "      <td>leadership</td>\n",
       "      <td>Avenger.</td>\n",
       "      <td>4.0</td>\n",
       "      <td>1.0</td>\n",
       "      <td>2.0</td>\n",
       "      <td>NaN</td>\n",
       "      <td>NaN</td>\n",
       "      <td>1.0</td>\n",
       "      <td>NaN</td>\n",
       "      <td>NaN</td>\n",
       "      <td>\"Sometimes being a gentleman means holding the...</td>\n",
       "    </tr>\n",
       "    <tr>\n",
       "      <th>14</th>\n",
       "      <td>U.S. Agent</td>\n",
       "      <td>ally</td>\n",
       "      <td>3.0</td>\n",
       "      <td>1.0</td>\n",
       "      <td>NaN</td>\n",
       "      <td>Retaliate 1.</td>\n",
       "      <td>leadership</td>\n",
       "      <td>Avenger.</td>\n",
       "      <td>5.0</td>\n",
       "      <td>1.0</td>\n",
       "      <td>1.0</td>\n",
       "      <td>NaN</td>\n",
       "      <td>NaN</td>\n",
       "      <td>1.0</td>\n",
       "      <td>NaN</td>\n",
       "      <td>NaN</td>\n",
       "      <td>\"Cap isn't the only soldier who loves his coun...</td>\n",
       "    </tr>\n",
       "    <tr>\n",
       "      <th>...</th>\n",
       "      <td>...</td>\n",
       "      <td>...</td>\n",
       "      <td>...</td>\n",
       "      <td>...</td>\n",
       "      <td>...</td>\n",
       "      <td>...</td>\n",
       "      <td>...</td>\n",
       "      <td>...</td>\n",
       "      <td>...</td>\n",
       "      <td>...</td>\n",
       "      <td>...</td>\n",
       "      <td>...</td>\n",
       "      <td>...</td>\n",
       "      <td>...</td>\n",
       "      <td>...</td>\n",
       "      <td>...</td>\n",
       "      <td>...</td>\n",
       "    </tr>\n",
       "    <tr>\n",
       "      <th>1084</th>\n",
       "      <td>Cosmo</td>\n",
       "      <td>ally</td>\n",
       "      <td>NaN</td>\n",
       "      <td>0.0</td>\n",
       "      <td>mts_campaign</td>\n",
       "      <td>NaN</td>\n",
       "      <td>campaign</td>\n",
       "      <td>Guardian.</td>\n",
       "      <td>3.0</td>\n",
       "      <td>2.0</td>\n",
       "      <td>2.0</td>\n",
       "      <td>NaN</td>\n",
       "      <td>NaN</td>\n",
       "      <td>1.0</td>\n",
       "      <td>NaN</td>\n",
       "      <td>NaN</td>\n",
       "      <td>NaN</td>\n",
       "    </tr>\n",
       "    <tr>\n",
       "      <th>1099</th>\n",
       "      <td>Lady Sif</td>\n",
       "      <td>ally</td>\n",
       "      <td>NaN</td>\n",
       "      <td>1.0</td>\n",
       "      <td>mts_campaign</td>\n",
       "      <td>NaN</td>\n",
       "      <td>campaign</td>\n",
       "      <td>Asgard. Captive.</td>\n",
       "      <td>3.0</td>\n",
       "      <td>2.0</td>\n",
       "      <td>2.0</td>\n",
       "      <td>NaN</td>\n",
       "      <td>NaN</td>\n",
       "      <td>NaN</td>\n",
       "      <td>NaN</td>\n",
       "      <td>NaN</td>\n",
       "      <td>NaN</td>\n",
       "    </tr>\n",
       "    <tr>\n",
       "      <th>1100</th>\n",
       "      <td>Fandral</td>\n",
       "      <td>ally</td>\n",
       "      <td>NaN</td>\n",
       "      <td>1.0</td>\n",
       "      <td>mts_campaign</td>\n",
       "      <td>NaN</td>\n",
       "      <td>campaign</td>\n",
       "      <td>Asgard. Captive.</td>\n",
       "      <td>3.0</td>\n",
       "      <td>1.0</td>\n",
       "      <td>3.0</td>\n",
       "      <td>NaN</td>\n",
       "      <td>NaN</td>\n",
       "      <td>NaN</td>\n",
       "      <td>NaN</td>\n",
       "      <td>NaN</td>\n",
       "      <td>NaN</td>\n",
       "    </tr>\n",
       "    <tr>\n",
       "      <th>1101</th>\n",
       "      <td>Hogun</td>\n",
       "      <td>ally</td>\n",
       "      <td>NaN</td>\n",
       "      <td>1.0</td>\n",
       "      <td>mts_campaign</td>\n",
       "      <td>NaN</td>\n",
       "      <td>campaign</td>\n",
       "      <td>Asgard. Captive.</td>\n",
       "      <td>3.0</td>\n",
       "      <td>3.0</td>\n",
       "      <td>1.0</td>\n",
       "      <td>NaN</td>\n",
       "      <td>NaN</td>\n",
       "      <td>NaN</td>\n",
       "      <td>NaN</td>\n",
       "      <td>NaN</td>\n",
       "      <td>NaN</td>\n",
       "    </tr>\n",
       "    <tr>\n",
       "      <th>1102</th>\n",
       "      <td>Volstagg</td>\n",
       "      <td>ally</td>\n",
       "      <td>NaN</td>\n",
       "      <td>1.0</td>\n",
       "      <td>mts_campaign</td>\n",
       "      <td>NaN</td>\n",
       "      <td>campaign</td>\n",
       "      <td>Asgard. Captive.</td>\n",
       "      <td>5.0</td>\n",
       "      <td>1.0</td>\n",
       "      <td>1.0</td>\n",
       "      <td>NaN</td>\n",
       "      <td>NaN</td>\n",
       "      <td>NaN</td>\n",
       "      <td>NaN</td>\n",
       "      <td>NaN</td>\n",
       "      <td>NaN</td>\n",
       "    </tr>\n",
       "  </tbody>\n",
       "</table>\n",
       "<p>181 rows × 17 columns</p>\n",
       "</div>"
      ],
      "text/plain": [
       "              name type_code cost  resource_combined      set_code  \\\n",
       "4      Mockingbird      ally  3.0                1.0       hawkeye   \n",
       "11         Hawkeye      ally  2.0                1.0           NaN   \n",
       "12    Black Knight      ally  3.0                1.0           NaN   \n",
       "13         Goliath      ally  4.0                1.0           NaN   \n",
       "14      U.S. Agent      ally  3.0                1.0           NaN   \n",
       "...            ...       ...  ...                ...           ...   \n",
       "1084         Cosmo      ally  NaN                0.0  mts_campaign   \n",
       "1099      Lady Sif      ally  NaN                1.0  mts_campaign   \n",
       "1100       Fandral      ally  NaN                1.0  mts_campaign   \n",
       "1101         Hogun      ally  NaN                1.0  mts_campaign   \n",
       "1102      Volstagg      ally  NaN                1.0  mts_campaign   \n",
       "\n",
       "                                                   text      aspect  \\\n",
       "4     <b>Interrupt</b>: When the villain initiates a...        hero   \n",
       "11    <b>Action</b>: Exhaust this ally and discard 1...  leadership   \n",
       "12          Black Knight's basic attack gains piercing.  leadership   \n",
       "13    <b>Action</b>: Goliath gets +4 ATK until the e...  leadership   \n",
       "14                                         Retaliate 1.  leadership   \n",
       "...                                                 ...         ...   \n",
       "1084                                                NaN    campaign   \n",
       "1099                                                NaN    campaign   \n",
       "1100                                                NaN    campaign   \n",
       "1101                                                NaN    campaign   \n",
       "1102                                                NaN    campaign   \n",
       "\n",
       "                     traits  health  attack  thwart  defense  recover  \\\n",
       "4     Avenger. S.H.I.E.L.D.     3.0     2.0     2.0      NaN      NaN   \n",
       "11                 Avenger.     2.0     2.0     1.0      NaN      NaN   \n",
       "12                 Avenger.     3.0     2.0     1.0      NaN      NaN   \n",
       "13                 Avenger.     4.0     1.0     2.0      NaN      NaN   \n",
       "14                 Avenger.     5.0     1.0     1.0      NaN      NaN   \n",
       "...                     ...     ...     ...     ...      ...      ...   \n",
       "1084              Guardian.     3.0     2.0     2.0      NaN      NaN   \n",
       "1099       Asgard. Captive.     3.0     2.0     2.0      NaN      NaN   \n",
       "1100       Asgard. Captive.     3.0     1.0     3.0      NaN      NaN   \n",
       "1101       Asgard. Captive.     3.0     3.0     1.0      NaN      NaN   \n",
       "1102       Asgard. Captive.     5.0     1.0     1.0      NaN      NaN   \n",
       "\n",
       "      deck_limit  hand_size  double_sided  \\\n",
       "4            1.0        NaN           NaN   \n",
       "11           1.0        NaN           NaN   \n",
       "12           1.0        NaN           NaN   \n",
       "13           1.0        NaN           NaN   \n",
       "14           1.0        NaN           NaN   \n",
       "...          ...        ...           ...   \n",
       "1084         1.0        NaN           NaN   \n",
       "1099         NaN        NaN           NaN   \n",
       "1100         NaN        NaN           NaN   \n",
       "1101         NaN        NaN           NaN   \n",
       "1102         NaN        NaN           NaN   \n",
       "\n",
       "                                                 flavor  \n",
       "4                                \"Is that all you got?\"  \n",
       "11    \"You see I', literally pointing arrows at your...  \n",
       "12    \"As long as the Black Blade blazes darkly in m...  \n",
       "13    \"Sometimes being a gentleman means holding the...  \n",
       "14    \"Cap isn't the only soldier who loves his coun...  \n",
       "...                                                 ...  \n",
       "1084                                                NaN  \n",
       "1099                                                NaN  \n",
       "1100                                                NaN  \n",
       "1101                                                NaN  \n",
       "1102                                                NaN  \n",
       "\n",
       "[181 rows x 17 columns]"
      ]
     },
     "execution_count": 124,
     "metadata": {},
     "output_type": "execute_result"
    }
   ],
   "source": [
    "#Query combined_df\n",
    "\n",
    "#query where a column name = something\n",
    "query_one = combined_df.query(\"type_code == 'hero'\")['name']\n",
    "\n",
    "#query where concatenating a column name and .notnull()\n",
    "\n",
    "#query_string = 'recover' + '.notnull()'\n",
    "query_string = \"type_code == 'ally'\"\n",
    "query_two = combined_df.query(query_string)\n",
    "\n",
    "#query_one\n",
    "query_two"
   ]
  }
 ],
 "metadata": {
  "kernelspec": {
   "display_name": "Python 3 (ipykernel)",
   "language": "python",
   "name": "python3"
  },
  "language_info": {
   "codemirror_mode": {
    "name": "ipython",
    "version": 3
   },
   "file_extension": ".py",
   "mimetype": "text/x-python",
   "name": "python",
   "nbconvert_exporter": "python",
   "pygments_lexer": "ipython3",
   "version": "3.9.12"
  }
 },
 "nbformat": 4,
 "nbformat_minor": 5
}
